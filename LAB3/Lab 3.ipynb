{
 "cells": [
  {
   "cell_type": "markdown",
   "metadata": {},
   "source": [
    "1. zadatak"
   ]
  },
  {
   "cell_type": "code",
   "execution_count": 2,
   "metadata": {},
   "outputs": [
    {
     "name": "stdout",
     "output_type": "stream",
     "text": [
      "Kreiram svoj data vocabulary\n",
      "Kreiram svoj label vocabulary\n",
      "Texts: tensor([[   2,   13,    7,  615,  656,  348,    4,   12,  792,   12,    1,    0,\n",
      "            0,    0,    0,    0,    0,    0,    0,    0,    0,    0],\n",
      "        [   2,  610,  213,    7,   23,    3,   85,   13,    9,    8,   53,   26,\n",
      "           10,   95,  468, 1361,   18,   73, 1291, 8516,  697, 8517]])\n",
      "Labels: tensor([2, 3])\n",
      "Lengths: tensor([11, 22])\n"
     ]
    }
   ],
   "source": [
    "from data_utils.NLPDataset import NLPDataset\n",
    "from torch.utils.data import DataLoader\n",
    "from data_utils.data_utils import pad_collate_fn\n",
    "\n",
    "# imas gresku u kodiranju labela u brojeve - bez obzira koja je varijabla ti vracas 1\n",
    "\n",
    "batch_size = 2 # Only for demonstrative purposes\n",
    "shuffle = False # Only for demonstrative purposes\n",
    "train_dataset = NLPDataset('data/sst_train_raw.csv')\n",
    "train_dataloader = DataLoader(dataset=train_dataset, batch_size=batch_size, \n",
    "                              shuffle=True, collate_fn=pad_collate_fn)\n",
    "texts, labels, lengths = next(iter(train_dataloader))\n",
    "print(f\"Texts: {texts}\")\n",
    "print(f\"Labels: {labels}\")\n",
    "print(f\"Lengths: {lengths}\")"
   ]
  },
  {
   "cell_type": "code",
   "execution_count": null,
   "metadata": {},
   "outputs": [],
   "source": [
    "vocab = train_dataset.data_voc\n",
    "embedding_matrix = vocab.get_embedding_matrix(\"data_utils/sst_glove_6b_300d.txt\")"
   ]
  },
  {
   "cell_type": "code",
   "execution_count": null,
   "metadata": {},
   "outputs": [],
   "source": [
    "# evo ovako se koristi embedding_matrix :O\n",
    "# vrati ti baš prave tenzore koje samo ubaciš u model\n",
    "embedding_matrix(texts).shape"
   ]
  },
  {
   "cell_type": "markdown",
   "metadata": {},
   "source": [
    "2. zadatak"
   ]
  },
  {
   "cell_type": "code",
   "execution_count": null,
   "metadata": {},
   "outputs": [],
   "source": [
    "# konstruiramo model koji koristi sažimanje usrednjavanjem (eng. mean pooling)\n",
    "# kako bi eliminirao problematičnu varijabilnu dimenziju\n",
    "# prilikom sažimanja usrednjavanjem odmah eliminiramo cijelu\n",
    "# vremensku dimenziju - okno je veličine T"
   ]
  }
 ],
 "metadata": {
  "kernelspec": {
   "display_name": "Python 3",
   "language": "python",
   "name": "python3"
  },
  "language_info": {
   "codemirror_mode": {
    "name": "ipython",
    "version": 3
   },
   "file_extension": ".py",
   "mimetype": "text/x-python",
   "name": "python",
   "nbconvert_exporter": "python",
   "pygments_lexer": "ipython3",
   "version": "3.8.5"
  }
 },
 "nbformat": 4,
 "nbformat_minor": 4
}
