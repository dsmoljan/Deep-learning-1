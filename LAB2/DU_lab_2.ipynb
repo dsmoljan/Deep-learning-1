{
 "cells": [
  {
   "cell_type": "code",
   "execution_count": 5,
   "metadata": {
    "colab": {
     "base_uri": "https://localhost:8080/"
    },
    "id": "KBwdo825PT7H",
    "outputId": "f8bfcd8c-9538-41ca-e4b6-16875d847881"
   },
   "outputs": [
    {
     "name": "stdout",
     "output_type": "stream",
     "text": [
      "running build_ext\n",
      "building 'im2col_cython' extension\n",
      "creating build\n",
      "creating build/temp.linux-x86_64-3.7\n",
      "x86_64-linux-gnu-gcc -pthread -Wno-unused-result -Wsign-compare -DNDEBUG -g -fwrapv -O2 -Wall -g -fdebug-prefix-map=/build/python3.7-dIfpci/python3.7-3.7.13=. -fstack-protector-strong -Wformat -Werror=format-security -g -fdebug-prefix-map=/build/python3.7-dIfpci/python3.7-3.7.13=. -fstack-protector-strong -Wformat -Werror=format-security -Wdate-time -D_FORTIFY_SOURCE=2 -fPIC -I/usr/local/lib/python3.7/dist-packages/numpy/core/include -I/usr/include/python3.7m -c im2col_cython.c -o build/temp.linux-x86_64-3.7/im2col_cython.o\n",
      "In file included from \u001b[01m\u001b[K/usr/local/lib/python3.7/dist-packages/numpy/core/include/numpy/ndarraytypes.h:1969:0\u001b[m\u001b[K,\n",
      "                 from \u001b[01m\u001b[K/usr/local/lib/python3.7/dist-packages/numpy/core/include/numpy/ndarrayobject.h:12\u001b[m\u001b[K,\n",
      "                 from \u001b[01m\u001b[K/usr/local/lib/python3.7/dist-packages/numpy/core/include/numpy/arrayobject.h:4\u001b[m\u001b[K,\n",
      "                 from \u001b[01m\u001b[Kim2col_cython.c:629\u001b[m\u001b[K:\n",
      "\u001b[01m\u001b[K/usr/local/lib/python3.7/dist-packages/numpy/core/include/numpy/npy_1_7_deprecated_api.h:17:2:\u001b[m\u001b[K \u001b[01;35m\u001b[Kwarning: \u001b[m\u001b[K#warning \"Using deprecated NumPy API, disable it with \" \"#define NPY_NO_DEPRECATED_API NPY_1_7_API_VERSION\" [\u001b[01;35m\u001b[K-Wcpp\u001b[m\u001b[K]\n",
      " #\u001b[01;35m\u001b[Kwarning\u001b[m\u001b[K \"Using deprecated NumPy API, disable it with \" \\\n",
      "  \u001b[01;35m\u001b[K^~~~~~~\u001b[m\u001b[K\n",
      "x86_64-linux-gnu-gcc -pthread -shared -Wl,-O1 -Wl,-Bsymbolic-functions -Wl,-Bsymbolic-functions -Wl,-z,relro -Wl,-Bsymbolic-functions -Wl,-z,relro -g -fdebug-prefix-map=/build/python3.7-dIfpci/python3.7-3.7.13=. -fstack-protector-strong -Wformat -Werror=format-security -Wdate-time -D_FORTIFY_SOURCE=2 build/temp.linux-x86_64-3.7/im2col_cython.o -o /content/im2col_cython.cpython-37m-x86_64-linux-gnu.so\n"
     ]
    }
   ],
   "source": [
    " !python setup_cython.py build_ext --inplace"
   ]
  },
  {
   "cell_type": "markdown",
   "metadata": {
    "id": "GFCbEHhAP9op"
   },
   "source": [
    "https://stackoverflow.com/questions/64547064/using-custom-cython-modules-in-colab"
   ]
  },
  {
   "cell_type": "markdown",
   "metadata": {
    "id": "3hVmCWxJRVpZ"
   },
   "source": [
    "# 1. zadatak - implementacija CNN"
   ]
  },
  {
   "cell_type": "code",
   "execution_count": 6,
   "metadata": {
    "colab": {
     "base_uri": "https://localhost:8080/"
    },
    "id": "wLTd-cIoP0ya",
    "outputId": "0895ca86-2be1-46f9-903b-e6d10fec34ef"
   },
   "outputs": [
    {
     "name": "stdout",
     "output_type": "stream",
     "text": [
      "Convolution\n",
      "Check grad wrt input\n",
      "Relative error =  5.890323936436922e-10\n",
      "Error norm =  2.469649485915211e-10\n",
      "Check grad wrt params\n",
      "Check weights:\n",
      "Relative error =  7.924572670139317e-11\n",
      "Error norm =  2.852361206877444e-10\n",
      "Check biases:\n",
      "Relative error =  1.599599875446241e-12\n",
      "Error norm =  4.12676067880976e-11\n",
      "\n",
      "MaxPooling\n",
      "Check grad wrt input\n",
      "Relative error =  3.275625296759414e-12\n",
      "Error norm =  8.953302622041795e-11\n",
      "\n",
      "ReLU\n",
      "Check grad wrt input\n",
      "Relative error =  3.275629156042987e-12\n",
      "Error norm =  6.08761578305517e-11\n",
      "\n",
      "FC\n",
      "Check grad wrt input\n",
      "Relative error =  5.348241213807376e-07\n",
      "Error norm =  7.927528648617653e-10\n",
      "Check grad wrt params\n",
      "Check weights:\n",
      "Relative error =  2.1999034664658933e-09\n",
      "Error norm =  7.710900795497878e-10\n",
      "Check biases:\n",
      "Relative error =  2.430996454843336e-10\n",
      "Error norm =  1.5047207431655348e-10\n",
      "\n",
      "SoftmaxCrossEntropyWithLogits\n",
      "Relative error =  3.3131230231104326e-07\n",
      "Error norm =  4.779345862385462e-10\n",
      "\n",
      "L2Regularizer\n",
      "Check grad wrt params\n",
      "Relative error =  3.1124905161981152e-06\n",
      "Error norm =  2.5451792626050293e-09\n"
     ]
    }
   ],
   "source": [
    "from check_grads import run_test\n",
    "\n",
    "run_test()"
   ]
  },
  {
   "cell_type": "code",
   "execution_count": 8,
   "metadata": {
    "colab": {
     "base_uri": "https://localhost:8080/"
    },
    "id": "5xq9PL_pW7fE",
    "outputId": "a6f64285-7201-41ca-ae92-824a568241f6"
   },
   "outputs": [
    {
     "name": "stderr",
     "output_type": "stream",
     "text": [
      "WARNING:root:Lossy conversion from float64 to uint8. Range [0, 1]. Convert image to uint8 prior to saving to suppress this warning.\n"
     ]
    },
    {
     "name": "stdout",
     "output_type": "stream",
     "text": [
      "epoch 1, step 0/55000, batch loss = 2.37\n",
      "epoch 1, step 250/55000, batch loss = 1.94\n",
      "epoch 1, step 500/55000, batch loss = 1.47\n",
      "epoch 1, step 750/55000, batch loss = 1.37\n",
      "epoch 1, step 1000/55000, batch loss = 0.85\n",
      "epoch 1, step 1250/55000, batch loss = 0.65\n",
      "epoch 1, step 1500/55000, batch loss = 0.56\n",
      "epoch 1, step 1750/55000, batch loss = 0.47\n",
      "epoch 1, step 2000/55000, batch loss = 0.77\n",
      "epoch 1, step 2250/55000, batch loss = 0.27\n",
      "epoch 1, step 2500/55000, batch loss = 0.25\n",
      "Train accuracy = 69.29\n",
      "epoch 1, step 2750/55000, batch loss = 0.51\n",
      "epoch 1, step 3000/55000, batch loss = 0.29\n",
      "epoch 1, step 3250/55000, batch loss = 0.23\n",
      "epoch 1, step 3500/55000, batch loss = 0.77\n",
      "epoch 1, step 3750/55000, batch loss = 0.25\n",
      "epoch 1, step 4000/55000, batch loss = 0.38\n",
      "epoch 1, step 4250/55000, batch loss = 0.42\n",
      "epoch 1, step 4500/55000, batch loss = 0.26\n",
      "epoch 1, step 4750/55000, batch loss = 0.40\n"
     ]
    },
    {
     "name": "stderr",
     "output_type": "stream",
     "text": [
      "WARNING:root:Lossy conversion from float64 to uint8. Range [0, 1]. Convert image to uint8 prior to saving to suppress this warning.\n"
     ]
    },
    {
     "name": "stdout",
     "output_type": "stream",
     "text": [
      "epoch 1, step 5000/55000, batch loss = 0.30\n",
      "Train accuracy = 79.56\n",
      "epoch 1, step 5250/55000, batch loss = 0.44\n",
      "epoch 1, step 5500/55000, batch loss = 0.36\n",
      "epoch 1, step 5750/55000, batch loss = 0.23\n",
      "epoch 1, step 6000/55000, batch loss = 0.39\n",
      "epoch 1, step 6250/55000, batch loss = 0.26\n",
      "epoch 1, step 6500/55000, batch loss = 0.27\n",
      "epoch 1, step 6750/55000, batch loss = 0.44\n",
      "epoch 1, step 7000/55000, batch loss = 0.32\n",
      "epoch 1, step 7250/55000, batch loss = 0.14\n",
      "epoch 1, step 7500/55000, batch loss = 0.18\n",
      "Train accuracy = 83.67\n",
      "epoch 1, step 7750/55000, batch loss = 0.12\n",
      "epoch 1, step 8000/55000, batch loss = 0.30\n",
      "epoch 1, step 8250/55000, batch loss = 0.07\n",
      "epoch 1, step 8500/55000, batch loss = 0.14\n",
      "epoch 1, step 8750/55000, batch loss = 0.30\n",
      "epoch 1, step 9000/55000, batch loss = 0.33\n",
      "epoch 1, step 9250/55000, batch loss = 0.16\n",
      "epoch 1, step 9500/55000, batch loss = 0.06\n",
      "epoch 1, step 9750/55000, batch loss = 0.20\n"
     ]
    },
    {
     "name": "stderr",
     "output_type": "stream",
     "text": [
      "WARNING:root:Lossy conversion from float64 to uint8. Range [0, 1]. Convert image to uint8 prior to saving to suppress this warning.\n"
     ]
    },
    {
     "name": "stdout",
     "output_type": "stream",
     "text": [
      "epoch 1, step 10000/55000, batch loss = 0.09\n",
      "Train accuracy = 86.43\n",
      "epoch 1, step 10250/55000, batch loss = 0.67\n",
      "epoch 1, step 10500/55000, batch loss = 0.12\n",
      "epoch 1, step 10750/55000, batch loss = 0.21\n",
      "epoch 1, step 11250/55000, batch loss = 0.14\n",
      "epoch 1, step 11500/55000, batch loss = 0.06\n",
      "epoch 1, step 11750/55000, batch loss = 0.14\n",
      "epoch 1, step 12000/55000, batch loss = 0.28\n",
      "epoch 1, step 12250/55000, batch loss = 0.13\n",
      "epoch 1, step 12500/55000, batch loss = 0.12\n",
      "Train accuracy = 88.12\n",
      "epoch 1, step 12750/55000, batch loss = 0.06\n",
      "epoch 1, step 13000/55000, batch loss = 0.20\n",
      "epoch 1, step 13250/55000, batch loss = 0.20\n",
      "epoch 1, step 13500/55000, batch loss = 0.10\n",
      "epoch 1, step 13750/55000, batch loss = 0.24\n",
      "epoch 1, step 14000/55000, batch loss = 0.26\n",
      "epoch 1, step 14250/55000, batch loss = 0.21\n",
      "epoch 1, step 14500/55000, batch loss = 0.14\n",
      "epoch 1, step 14750/55000, batch loss = 0.11\n"
     ]
    },
    {
     "name": "stderr",
     "output_type": "stream",
     "text": [
      "WARNING:root:Lossy conversion from float64 to uint8. Range [0, 1]. Convert image to uint8 prior to saving to suppress this warning.\n"
     ]
    },
    {
     "name": "stdout",
     "output_type": "stream",
     "text": [
      "epoch 1, step 15000/55000, batch loss = 0.12\n",
      "Train accuracy = 89.35\n",
      "epoch 1, step 15250/55000, batch loss = 0.07\n",
      "epoch 1, step 15500/55000, batch loss = 0.07\n",
      "epoch 1, step 15750/55000, batch loss = 0.11\n",
      "epoch 1, step 16000/55000, batch loss = 0.11\n",
      "epoch 1, step 16250/55000, batch loss = 0.15\n",
      "epoch 1, step 16500/55000, batch loss = 0.21\n",
      "epoch 1, step 16750/55000, batch loss = 0.39\n",
      "epoch 1, step 17000/55000, batch loss = 0.19\n",
      "epoch 1, step 17250/55000, batch loss = 0.06\n",
      "epoch 1, step 17500/55000, batch loss = 0.22\n",
      "Train accuracy = 90.18\n",
      "epoch 1, step 17750/55000, batch loss = 0.08\n",
      "epoch 1, step 18000/55000, batch loss = 0.19\n",
      "epoch 1, step 18250/55000, batch loss = 0.07\n",
      "epoch 1, step 18500/55000, batch loss = 0.09\n",
      "epoch 1, step 18750/55000, batch loss = 0.09\n",
      "epoch 1, step 19000/55000, batch loss = 0.07\n",
      "epoch 1, step 19250/55000, batch loss = 0.09\n",
      "epoch 1, step 19500/55000, batch loss = 0.08\n",
      "epoch 1, step 19750/55000, batch loss = 0.10\n"
     ]
    },
    {
     "name": "stderr",
     "output_type": "stream",
     "text": [
      "WARNING:root:Lossy conversion from float64 to uint8. Range [0, 1]. Convert image to uint8 prior to saving to suppress this warning.\n"
     ]
    },
    {
     "name": "stdout",
     "output_type": "stream",
     "text": [
      "epoch 1, step 20000/55000, batch loss = 0.07\n",
      "Train accuracy = 90.96\n",
      "epoch 1, step 20250/55000, batch loss = 0.38\n",
      "epoch 1, step 20500/55000, batch loss = 0.02\n",
      "epoch 1, step 20750/55000, batch loss = 0.09\n",
      "epoch 1, step 21000/55000, batch loss = 0.08\n",
      "epoch 1, step 21250/55000, batch loss = 0.09\n",
      "epoch 1, step 21500/55000, batch loss = 0.07\n",
      "epoch 1, step 21750/55000, batch loss = 0.14\n",
      "epoch 1, step 22000/55000, batch loss = 0.10\n",
      "epoch 1, step 22250/55000, batch loss = 0.03\n",
      "epoch 1, step 22500/55000, batch loss = 0.16\n",
      "Train accuracy = 91.58\n",
      "epoch 1, step 22750/55000, batch loss = 0.02\n",
      "epoch 1, step 23000/55000, batch loss = 0.07\n",
      "epoch 1, step 23250/55000, batch loss = 0.03\n",
      "epoch 1, step 23500/55000, batch loss = 0.02\n",
      "epoch 1, step 23750/55000, batch loss = 0.04\n",
      "epoch 1, step 24000/55000, batch loss = 0.06\n",
      "epoch 1, step 24250/55000, batch loss = 0.10\n",
      "epoch 1, step 24500/55000, batch loss = 0.14\n",
      "epoch 1, step 24750/55000, batch loss = 0.05\n"
     ]
    },
    {
     "name": "stderr",
     "output_type": "stream",
     "text": [
      "WARNING:root:Lossy conversion from float64 to uint8. Range [0, 1]. Convert image to uint8 prior to saving to suppress this warning.\n"
     ]
    },
    {
     "name": "stdout",
     "output_type": "stream",
     "text": [
      "epoch 1, step 25000/55000, batch loss = 0.07\n",
      "Train accuracy = 92.16\n",
      "epoch 1, step 25250/55000, batch loss = 0.16\n",
      "epoch 1, step 25500/55000, batch loss = 0.18\n",
      "epoch 1, step 25750/55000, batch loss = 0.10\n",
      "epoch 1, step 26000/55000, batch loss = 0.07\n",
      "epoch 1, step 26250/55000, batch loss = 0.10\n",
      "epoch 1, step 26500/55000, batch loss = 0.08\n",
      "epoch 1, step 26750/55000, batch loss = 0.16\n",
      "epoch 1, step 27000/55000, batch loss = 0.05\n",
      "epoch 1, step 27250/55000, batch loss = 0.26\n",
      "epoch 1, step 27500/55000, batch loss = 0.10\n",
      "Train accuracy = 92.61\n",
      "epoch 1, step 27750/55000, batch loss = 0.15\n",
      "epoch 1, step 28000/55000, batch loss = 0.21\n",
      "epoch 1, step 28250/55000, batch loss = 0.10\n",
      "epoch 1, step 28500/55000, batch loss = 0.06\n",
      "epoch 1, step 28750/55000, batch loss = 0.03\n",
      "epoch 1, step 29000/55000, batch loss = 0.01\n",
      "epoch 1, step 29250/55000, batch loss = 0.13\n",
      "epoch 1, step 29500/55000, batch loss = 0.12\n",
      "epoch 1, step 29750/55000, batch loss = 0.11\n"
     ]
    },
    {
     "name": "stderr",
     "output_type": "stream",
     "text": [
      "WARNING:root:Lossy conversion from float64 to uint8. Range [0, 1]. Convert image to uint8 prior to saving to suppress this warning.\n"
     ]
    },
    {
     "name": "stdout",
     "output_type": "stream",
     "text": [
      "epoch 1, step 30000/55000, batch loss = 0.03\n",
      "Train accuracy = 92.97\n",
      "epoch 1, step 30250/55000, batch loss = 0.04\n",
      "epoch 1, step 30500/55000, batch loss = 0.04\n",
      "epoch 1, step 30750/55000, batch loss = 0.11\n",
      "epoch 1, step 31000/55000, batch loss = 0.03\n",
      "epoch 1, step 31250/55000, batch loss = 0.07\n",
      "epoch 1, step 31500/55000, batch loss = 0.05\n",
      "epoch 1, step 31750/55000, batch loss = 0.04\n",
      "epoch 1, step 32000/55000, batch loss = 0.04\n",
      "epoch 1, step 32250/55000, batch loss = 0.02\n",
      "epoch 1, step 32500/55000, batch loss = 0.09\n",
      "Train accuracy = 93.34\n",
      "epoch 1, step 32750/55000, batch loss = 0.13\n",
      "epoch 1, step 33000/55000, batch loss = 0.11\n",
      "epoch 1, step 33250/55000, batch loss = 0.18\n",
      "epoch 1, step 33500/55000, batch loss = 0.02\n",
      "epoch 1, step 33750/55000, batch loss = 0.07\n",
      "epoch 1, step 34000/55000, batch loss = 0.06\n",
      "epoch 1, step 34250/55000, batch loss = 0.08\n",
      "epoch 1, step 34500/55000, batch loss = 0.04\n",
      "epoch 1, step 34750/55000, batch loss = 0.02\n"
     ]
    },
    {
     "name": "stderr",
     "output_type": "stream",
     "text": [
      "WARNING:root:Lossy conversion from float64 to uint8. Range [0, 1]. Convert image to uint8 prior to saving to suppress this warning.\n"
     ]
    },
    {
     "name": "stdout",
     "output_type": "stream",
     "text": [
      "epoch 1, step 35000/55000, batch loss = 0.02\n",
      "Train accuracy = 93.65\n",
      "epoch 1, step 35250/55000, batch loss = 0.10\n",
      "epoch 1, step 35500/55000, batch loss = 0.31\n",
      "epoch 1, step 35750/55000, batch loss = 0.06\n",
      "epoch 1, step 36000/55000, batch loss = 0.04\n",
      "epoch 1, step 36250/55000, batch loss = 0.09\n",
      "epoch 1, step 36500/55000, batch loss = 0.02\n",
      "epoch 1, step 36750/55000, batch loss = 0.24\n",
      "epoch 1, step 37000/55000, batch loss = 0.15\n",
      "epoch 1, step 37250/55000, batch loss = 0.13\n",
      "epoch 1, step 37500/55000, batch loss = 0.23\n",
      "Train accuracy = 93.87\n",
      "epoch 1, step 37750/55000, batch loss = 0.06\n",
      "epoch 1, step 38000/55000, batch loss = 0.06\n",
      "epoch 1, step 38250/55000, batch loss = 0.14\n",
      "epoch 1, step 38500/55000, batch loss = 0.06\n",
      "epoch 1, step 38750/55000, batch loss = 0.03\n",
      "epoch 1, step 39000/55000, batch loss = 0.03\n",
      "epoch 1, step 39250/55000, batch loss = 0.05\n",
      "epoch 1, step 39500/55000, batch loss = 0.04\n",
      "epoch 1, step 39750/55000, batch loss = 0.06\n"
     ]
    },
    {
     "name": "stderr",
     "output_type": "stream",
     "text": [
      "WARNING:root:Lossy conversion from float64 to uint8. Range [0, 1]. Convert image to uint8 prior to saving to suppress this warning.\n"
     ]
    },
    {
     "name": "stdout",
     "output_type": "stream",
     "text": [
      "epoch 1, step 40000/55000, batch loss = 0.09\n",
      "Train accuracy = 94.13\n",
      "epoch 1, step 40250/55000, batch loss = 0.29\n",
      "epoch 1, step 40500/55000, batch loss = 0.12\n",
      "epoch 1, step 40750/55000, batch loss = 0.06\n",
      "epoch 1, step 41000/55000, batch loss = 0.03\n",
      "epoch 1, step 41250/55000, batch loss = 0.01\n",
      "epoch 1, step 41500/55000, batch loss = 0.05\n",
      "epoch 1, step 41750/55000, batch loss = 0.20\n",
      "epoch 1, step 42000/55000, batch loss = 0.04\n",
      "epoch 1, step 42250/55000, batch loss = 0.06\n",
      "epoch 1, step 42500/55000, batch loss = 0.16\n",
      "Train accuracy = 94.31\n",
      "epoch 1, step 42750/55000, batch loss = 0.14\n",
      "epoch 1, step 43000/55000, batch loss = 0.03\n",
      "epoch 1, step 43250/55000, batch loss = 0.07\n",
      "epoch 1, step 43500/55000, batch loss = 0.03\n",
      "epoch 1, step 43750/55000, batch loss = 0.04\n",
      "epoch 1, step 44000/55000, batch loss = 0.07\n",
      "epoch 1, step 44250/55000, batch loss = 0.08\n",
      "epoch 1, step 44500/55000, batch loss = 0.05\n",
      "epoch 1, step 44750/55000, batch loss = 0.07\n"
     ]
    },
    {
     "name": "stderr",
     "output_type": "stream",
     "text": [
      "WARNING:root:Lossy conversion from float64 to uint8. Range [0, 1]. Convert image to uint8 prior to saving to suppress this warning.\n"
     ]
    },
    {
     "name": "stdout",
     "output_type": "stream",
     "text": [
      "epoch 1, step 45000/55000, batch loss = 0.10\n",
      "Train accuracy = 94.51\n",
      "epoch 1, step 45250/55000, batch loss = 0.01\n",
      "epoch 1, step 45500/55000, batch loss = 0.03\n",
      "epoch 1, step 45750/55000, batch loss = 0.03\n",
      "epoch 1, step 46000/55000, batch loss = 0.07\n",
      "epoch 1, step 46250/55000, batch loss = 0.02\n",
      "epoch 1, step 46500/55000, batch loss = 0.07\n",
      "epoch 1, step 46750/55000, batch loss = 0.05\n",
      "epoch 1, step 47000/55000, batch loss = 0.07\n",
      "epoch 1, step 47250/55000, batch loss = 0.17\n",
      "epoch 1, step 47500/55000, batch loss = 0.08\n",
      "Train accuracy = 94.68\n",
      "epoch 1, step 47750/55000, batch loss = 0.02\n",
      "epoch 1, step 48000/55000, batch loss = 0.16\n",
      "epoch 1, step 48250/55000, batch loss = 0.06\n",
      "epoch 1, step 48500/55000, batch loss = 0.05\n",
      "epoch 1, step 48750/55000, batch loss = 0.01\n",
      "epoch 1, step 49000/55000, batch loss = 0.07\n",
      "epoch 1, step 49250/55000, batch loss = 0.02\n",
      "epoch 1, step 49500/55000, batch loss = 0.28\n",
      "epoch 1, step 49750/55000, batch loss = 0.08\n"
     ]
    },
    {
     "name": "stderr",
     "output_type": "stream",
     "text": [
      "WARNING:root:Lossy conversion from float64 to uint8. Range [0, 1]. Convert image to uint8 prior to saving to suppress this warning.\n"
     ]
    },
    {
     "name": "stdout",
     "output_type": "stream",
     "text": [
      "epoch 1, step 50000/55000, batch loss = 0.01\n",
      "Train accuracy = 94.84\n",
      "epoch 1, step 50250/55000, batch loss = 0.01\n",
      "epoch 1, step 50500/55000, batch loss = 0.13\n",
      "epoch 1, step 50750/55000, batch loss = 0.07\n",
      "epoch 1, step 51000/55000, batch loss = 0.11\n",
      "epoch 1, step 51250/55000, batch loss = 0.10\n",
      "epoch 1, step 51500/55000, batch loss = 0.20\n",
      "epoch 1, step 51750/55000, batch loss = 0.08\n",
      "epoch 1, step 52000/55000, batch loss = 0.07\n",
      "epoch 1, step 52250/55000, batch loss = 0.19\n",
      "epoch 1, step 52500/55000, batch loss = 0.04\n",
      "Train accuracy = 94.95\n",
      "epoch 1, step 52750/55000, batch loss = 0.02\n",
      "epoch 1, step 53000/55000, batch loss = 0.03\n",
      "epoch 1, step 53250/55000, batch loss = 0.16\n",
      "epoch 1, step 53500/55000, batch loss = 0.04\n",
      "epoch 1, step 53750/55000, batch loss = 0.05\n",
      "epoch 1, step 54000/55000, batch loss = 0.09\n",
      "epoch 1, step 54250/55000, batch loss = 0.05\n",
      "epoch 1, step 54500/55000, batch loss = 0.06\n",
      "epoch 1, step 54750/55000, batch loss = 0.06\n",
      "Train accuracy = 95.10\n",
      "\n",
      "Running evaluation:  Validation\n",
      "Validation accuracy = 98.50\n",
      "Validation avg loss = 0.05\n",
      "\n"
     ]
    },
    {
     "name": "stderr",
     "output_type": "stream",
     "text": [
      "WARNING:root:Lossy conversion from float64 to uint8. Range [0, 1]. Convert image to uint8 prior to saving to suppress this warning.\n"
     ]
    },
    {
     "name": "stdout",
     "output_type": "stream",
     "text": [
      "epoch 2, step 0/55000, batch loss = 0.11\n",
      "epoch 2, step 250/55000, batch loss = 0.04\n",
      "epoch 2, step 500/55000, batch loss = 0.01\n",
      "epoch 2, step 750/55000, batch loss = 0.03\n",
      "epoch 2, step 1000/55000, batch loss = 0.01\n",
      "epoch 2, step 1250/55000, batch loss = 0.01\n",
      "epoch 2, step 1500/55000, batch loss = 0.07\n",
      "epoch 2, step 1750/55000, batch loss = 0.01\n",
      "epoch 2, step 2000/55000, batch loss = 0.01\n",
      "epoch 2, step 2250/55000, batch loss = 0.04\n",
      "epoch 2, step 2500/55000, batch loss = 0.01\n",
      "Train accuracy = 98.98\n",
      "epoch 2, step 2750/55000, batch loss = 0.01\n",
      "epoch 2, step 3000/55000, batch loss = 0.01\n",
      "epoch 2, step 3250/55000, batch loss = 0.01\n",
      "epoch 2, step 3500/55000, batch loss = 0.02\n",
      "epoch 2, step 3750/55000, batch loss = 0.13\n",
      "epoch 2, step 4000/55000, batch loss = 0.05\n",
      "epoch 2, step 4250/55000, batch loss = 0.01\n",
      "epoch 2, step 4500/55000, batch loss = 0.02\n",
      "epoch 2, step 4750/55000, batch loss = 0.01\n"
     ]
    },
    {
     "name": "stderr",
     "output_type": "stream",
     "text": [
      "WARNING:root:Lossy conversion from float64 to uint8. Range [0, 1]. Convert image to uint8 prior to saving to suppress this warning.\n"
     ]
    },
    {
     "name": "stdout",
     "output_type": "stream",
     "text": [
      "epoch 2, step 5000/55000, batch loss = 0.00\n",
      "Train accuracy = 98.89\n",
      "epoch 2, step 5250/55000, batch loss = 0.00\n",
      "epoch 2, step 5500/55000, batch loss = 0.03\n",
      "epoch 2, step 5750/55000, batch loss = 0.04\n",
      "epoch 2, step 6000/55000, batch loss = 0.01\n",
      "epoch 2, step 6250/55000, batch loss = 0.02\n",
      "epoch 2, step 6500/55000, batch loss = 0.01\n",
      "epoch 2, step 6750/55000, batch loss = 0.01\n",
      "epoch 2, step 7000/55000, batch loss = 0.03\n",
      "epoch 2, step 7250/55000, batch loss = 0.02\n",
      "epoch 2, step 7500/55000, batch loss = 0.11\n",
      "Train accuracy = 98.82\n",
      "epoch 2, step 7750/55000, batch loss = 0.02\n",
      "epoch 2, step 8000/55000, batch loss = 0.15\n",
      "epoch 2, step 8250/55000, batch loss = 0.03\n",
      "epoch 2, step 8500/55000, batch loss = 0.05\n",
      "epoch 2, step 8750/55000, batch loss = 0.16\n",
      "epoch 2, step 9000/55000, batch loss = 0.06\n",
      "epoch 2, step 9250/55000, batch loss = 0.02\n",
      "epoch 2, step 9500/55000, batch loss = 0.05\n",
      "epoch 2, step 9750/55000, batch loss = 0.01\n"
     ]
    },
    {
     "name": "stderr",
     "output_type": "stream",
     "text": [
      "WARNING:root:Lossy conversion from float64 to uint8. Range [0, 1]. Convert image to uint8 prior to saving to suppress this warning.\n"
     ]
    },
    {
     "name": "stdout",
     "output_type": "stream",
     "text": [
      "epoch 2, step 10000/55000, batch loss = 0.01\n",
      "Train accuracy = 98.69\n",
      "epoch 2, step 10250/55000, batch loss = 0.06\n",
      "epoch 2, step 10500/55000, batch loss = 0.02\n",
      "epoch 2, step 10750/55000, batch loss = 0.03\n",
      "epoch 2, step 11000/55000, batch loss = 0.01\n",
      "epoch 2, step 11250/55000, batch loss = 0.01\n",
      "epoch 2, step 11500/55000, batch loss = 0.00\n",
      "epoch 2, step 11750/55000, batch loss = 0.02\n",
      "epoch 2, step 12000/55000, batch loss = 0.10\n",
      "epoch 2, step 12250/55000, batch loss = 0.02\n",
      "epoch 2, step 12500/55000, batch loss = 0.03\n",
      "Train accuracy = 98.65\n",
      "epoch 2, step 12750/55000, batch loss = 0.06\n",
      "epoch 2, step 13000/55000, batch loss = 0.01\n",
      "epoch 2, step 13250/55000, batch loss = 0.00\n",
      "epoch 2, step 13500/55000, batch loss = 0.00\n",
      "epoch 2, step 13750/55000, batch loss = 0.00\n",
      "epoch 2, step 14000/55000, batch loss = 0.03\n",
      "epoch 2, step 14250/55000, batch loss = 0.09\n",
      "epoch 2, step 14500/55000, batch loss = 0.04\n",
      "epoch 2, step 14750/55000, batch loss = 0.01\n"
     ]
    },
    {
     "name": "stderr",
     "output_type": "stream",
     "text": [
      "WARNING:root:Lossy conversion from float64 to uint8. Range [0, 1]. Convert image to uint8 prior to saving to suppress this warning.\n"
     ]
    },
    {
     "name": "stdout",
     "output_type": "stream",
     "text": [
      "epoch 2, step 15000/55000, batch loss = 0.09\n",
      "Train accuracy = 98.68\n",
      "epoch 2, step 15250/55000, batch loss = 0.00\n",
      "epoch 2, step 15500/55000, batch loss = 0.01\n",
      "epoch 2, step 15750/55000, batch loss = 0.26\n",
      "epoch 2, step 16000/55000, batch loss = 0.01\n",
      "epoch 2, step 16250/55000, batch loss = 0.02\n",
      "epoch 2, step 16500/55000, batch loss = 0.01\n",
      "epoch 2, step 16750/55000, batch loss = 0.05\n",
      "epoch 2, step 17000/55000, batch loss = 0.01\n",
      "epoch 2, step 17250/55000, batch loss = 0.01\n",
      "epoch 2, step 17500/55000, batch loss = 0.10\n",
      "Train accuracy = 98.62\n",
      "epoch 2, step 17750/55000, batch loss = 0.06\n",
      "epoch 2, step 18000/55000, batch loss = 0.01\n",
      "epoch 2, step 18250/55000, batch loss = 0.02\n",
      "epoch 2, step 18500/55000, batch loss = 0.03\n",
      "epoch 2, step 18750/55000, batch loss = 0.02\n",
      "epoch 2, step 19000/55000, batch loss = 0.00\n",
      "epoch 2, step 19250/55000, batch loss = 0.23\n",
      "epoch 2, step 19500/55000, batch loss = 0.06\n",
      "epoch 2, step 19750/55000, batch loss = 0.05\n"
     ]
    },
    {
     "name": "stderr",
     "output_type": "stream",
     "text": [
      "WARNING:root:Lossy conversion from float64 to uint8. Range [0, 1]. Convert image to uint8 prior to saving to suppress this warning.\n"
     ]
    },
    {
     "name": "stdout",
     "output_type": "stream",
     "text": [
      "epoch 2, step 20000/55000, batch loss = 0.06\n",
      "Train accuracy = 98.59\n",
      "epoch 2, step 20250/55000, batch loss = 0.12\n",
      "epoch 2, step 20500/55000, batch loss = 0.03\n",
      "epoch 2, step 20750/55000, batch loss = 0.02\n",
      "epoch 2, step 21000/55000, batch loss = 0.01\n",
      "epoch 2, step 21250/55000, batch loss = 0.16\n",
      "epoch 2, step 21500/55000, batch loss = 0.02\n",
      "epoch 2, step 21750/55000, batch loss = 0.07\n",
      "epoch 2, step 22000/55000, batch loss = 0.02\n",
      "epoch 2, step 22250/55000, batch loss = 0.06\n",
      "epoch 2, step 22500/55000, batch loss = 0.27\n",
      "Train accuracy = 98.52\n",
      "epoch 2, step 22750/55000, batch loss = 0.03\n",
      "epoch 2, step 23000/55000, batch loss = 0.03\n",
      "epoch 2, step 23250/55000, batch loss = 0.01\n",
      "epoch 2, step 23500/55000, batch loss = 0.08\n",
      "epoch 2, step 23750/55000, batch loss = 0.04\n",
      "epoch 2, step 24000/55000, batch loss = 0.06\n",
      "epoch 2, step 24250/55000, batch loss = 0.01\n",
      "epoch 2, step 24500/55000, batch loss = 0.05\n",
      "epoch 2, step 24750/55000, batch loss = 0.02\n"
     ]
    },
    {
     "name": "stderr",
     "output_type": "stream",
     "text": [
      "WARNING:root:Lossy conversion from float64 to uint8. Range [0, 1]. Convert image to uint8 prior to saving to suppress this warning.\n"
     ]
    },
    {
     "name": "stdout",
     "output_type": "stream",
     "text": [
      "epoch 2, step 25000/55000, batch loss = 0.13\n",
      "Train accuracy = 98.51\n",
      "epoch 2, step 25250/55000, batch loss = 0.02\n",
      "epoch 2, step 25500/55000, batch loss = 0.05\n",
      "epoch 2, step 25750/55000, batch loss = 0.02\n",
      "epoch 2, step 26000/55000, batch loss = 0.03\n",
      "epoch 2, step 26250/55000, batch loss = 0.03\n",
      "epoch 2, step 26500/55000, batch loss = 0.06\n",
      "epoch 2, step 26750/55000, batch loss = 0.02\n",
      "epoch 2, step 27000/55000, batch loss = 0.06\n",
      "epoch 2, step 27250/55000, batch loss = 0.02\n",
      "epoch 2, step 27500/55000, batch loss = 0.00\n",
      "Train accuracy = 98.53\n",
      "epoch 2, step 27750/55000, batch loss = 0.01\n",
      "epoch 2, step 28000/55000, batch loss = 0.08\n",
      "epoch 2, step 28250/55000, batch loss = 0.15\n",
      "epoch 2, step 28500/55000, batch loss = 0.11\n",
      "epoch 2, step 28750/55000, batch loss = 0.03\n",
      "epoch 2, step 29000/55000, batch loss = 0.01\n",
      "epoch 2, step 29250/55000, batch loss = 0.01\n",
      "epoch 2, step 29500/55000, batch loss = 0.12\n",
      "epoch 2, step 29750/55000, batch loss = 0.01\n"
     ]
    },
    {
     "name": "stderr",
     "output_type": "stream",
     "text": [
      "WARNING:root:Lossy conversion from float64 to uint8. Range [0, 1]. Convert image to uint8 prior to saving to suppress this warning.\n"
     ]
    },
    {
     "name": "stdout",
     "output_type": "stream",
     "text": [
      "epoch 2, step 30000/55000, batch loss = 0.01\n",
      "Train accuracy = 98.54\n",
      "epoch 2, step 30250/55000, batch loss = 0.14\n",
      "epoch 2, step 30500/55000, batch loss = 0.00\n",
      "epoch 2, step 30750/55000, batch loss = 0.10\n",
      "epoch 2, step 31000/55000, batch loss = 0.04\n",
      "epoch 2, step 31250/55000, batch loss = 0.02\n",
      "epoch 2, step 31500/55000, batch loss = 0.03\n",
      "epoch 2, step 31750/55000, batch loss = 0.05\n",
      "epoch 2, step 32000/55000, batch loss = 0.01\n",
      "epoch 2, step 32250/55000, batch loss = 0.02\n",
      "epoch 2, step 32500/55000, batch loss = 0.01\n",
      "Train accuracy = 98.55\n",
      "epoch 2, step 32750/55000, batch loss = 0.04\n",
      "epoch 2, step 33000/55000, batch loss = 0.01\n",
      "epoch 2, step 33250/55000, batch loss = 0.01\n",
      "epoch 2, step 33500/55000, batch loss = 0.05\n",
      "epoch 2, step 33750/55000, batch loss = 0.01\n",
      "epoch 2, step 34000/55000, batch loss = 0.02\n",
      "epoch 2, step 34250/55000, batch loss = 0.06\n",
      "epoch 2, step 34500/55000, batch loss = 0.02\n",
      "epoch 2, step 34750/55000, batch loss = 0.03\n"
     ]
    },
    {
     "name": "stderr",
     "output_type": "stream",
     "text": [
      "WARNING:root:Lossy conversion from float64 to uint8. Range [0, 1]. Convert image to uint8 prior to saving to suppress this warning.\n"
     ]
    },
    {
     "name": "stdout",
     "output_type": "stream",
     "text": [
      "epoch 2, step 35000/55000, batch loss = 0.12\n",
      "Train accuracy = 98.59\n",
      "epoch 2, step 35250/55000, batch loss = 0.11\n",
      "epoch 2, step 35500/55000, batch loss = 0.08\n",
      "epoch 2, step 35750/55000, batch loss = 0.11\n",
      "epoch 2, step 36000/55000, batch loss = 0.00\n",
      "epoch 2, step 36250/55000, batch loss = 0.03\n",
      "epoch 2, step 36500/55000, batch loss = 0.11\n",
      "epoch 2, step 36750/55000, batch loss = 0.14\n",
      "epoch 2, step 37000/55000, batch loss = 0.03\n",
      "epoch 2, step 37250/55000, batch loss = 0.02\n",
      "epoch 2, step 37500/55000, batch loss = 0.12\n",
      "Train accuracy = 98.55\n",
      "epoch 2, step 37750/55000, batch loss = 0.18\n",
      "epoch 2, step 38000/55000, batch loss = 0.04\n",
      "epoch 2, step 38250/55000, batch loss = 0.06\n",
      "epoch 2, step 38500/55000, batch loss = 0.01\n",
      "epoch 2, step 38750/55000, batch loss = 0.10\n",
      "epoch 2, step 39000/55000, batch loss = 0.03\n",
      "epoch 2, step 39250/55000, batch loss = 0.21\n",
      "epoch 2, step 39500/55000, batch loss = 0.01\n",
      "epoch 2, step 39750/55000, batch loss = 0.01\n"
     ]
    },
    {
     "name": "stderr",
     "output_type": "stream",
     "text": [
      "WARNING:root:Lossy conversion from float64 to uint8. Range [0, 1]. Convert image to uint8 prior to saving to suppress this warning.\n"
     ]
    },
    {
     "name": "stdout",
     "output_type": "stream",
     "text": [
      "epoch 2, step 40000/55000, batch loss = 0.01\n",
      "Train accuracy = 98.57\n",
      "epoch 2, step 40250/55000, batch loss = 0.01\n",
      "epoch 2, step 40500/55000, batch loss = 0.01\n",
      "epoch 2, step 40750/55000, batch loss = 0.00\n",
      "epoch 2, step 41000/55000, batch loss = 0.10\n",
      "epoch 2, step 41250/55000, batch loss = 0.04\n",
      "epoch 2, step 41500/55000, batch loss = 0.05\n",
      "epoch 2, step 41750/55000, batch loss = 0.06\n",
      "epoch 2, step 42000/55000, batch loss = 0.02\n",
      "epoch 2, step 42250/55000, batch loss = 0.02\n",
      "epoch 2, step 42500/55000, batch loss = 0.01\n",
      "Train accuracy = 98.59\n",
      "epoch 2, step 42750/55000, batch loss = 0.00\n",
      "epoch 2, step 43000/55000, batch loss = 0.01\n",
      "epoch 2, step 43250/55000, batch loss = 0.13\n",
      "epoch 2, step 43500/55000, batch loss = 0.00\n",
      "epoch 2, step 43750/55000, batch loss = 0.18\n",
      "epoch 2, step 44000/55000, batch loss = 0.04\n",
      "epoch 2, step 44250/55000, batch loss = 0.03\n",
      "epoch 2, step 44500/55000, batch loss = 0.01\n",
      "epoch 2, step 44750/55000, batch loss = 0.02\n"
     ]
    },
    {
     "name": "stderr",
     "output_type": "stream",
     "text": [
      "WARNING:root:Lossy conversion from float64 to uint8. Range [0, 1]. Convert image to uint8 prior to saving to suppress this warning.\n"
     ]
    },
    {
     "name": "stdout",
     "output_type": "stream",
     "text": [
      "epoch 2, step 45000/55000, batch loss = 0.02\n",
      "Train accuracy = 98.58\n",
      "epoch 2, step 45250/55000, batch loss = 0.08\n",
      "epoch 2, step 45500/55000, batch loss = 0.05\n",
      "epoch 2, step 45750/55000, batch loss = 0.04\n",
      "epoch 2, step 46000/55000, batch loss = 0.00\n",
      "epoch 2, step 46250/55000, batch loss = 0.01\n",
      "epoch 2, step 46500/55000, batch loss = 0.18\n",
      "epoch 2, step 46750/55000, batch loss = 0.12\n",
      "epoch 2, step 47000/55000, batch loss = 0.05\n",
      "epoch 2, step 47250/55000, batch loss = 0.05\n",
      "epoch 2, step 47500/55000, batch loss = 0.00\n",
      "Train accuracy = 98.58\n",
      "epoch 2, step 47750/55000, batch loss = 0.01\n",
      "epoch 2, step 48000/55000, batch loss = 0.02\n",
      "epoch 2, step 48250/55000, batch loss = 0.03\n",
      "epoch 2, step 48500/55000, batch loss = 0.01\n",
      "epoch 2, step 48750/55000, batch loss = 0.01\n",
      "epoch 2, step 49000/55000, batch loss = 0.01\n",
      "epoch 2, step 49250/55000, batch loss = 0.09\n",
      "epoch 2, step 49500/55000, batch loss = 0.03\n",
      "epoch 2, step 49750/55000, batch loss = 0.01\n"
     ]
    },
    {
     "name": "stderr",
     "output_type": "stream",
     "text": [
      "WARNING:root:Lossy conversion from float64 to uint8. Range [0, 1]. Convert image to uint8 prior to saving to suppress this warning.\n"
     ]
    },
    {
     "name": "stdout",
     "output_type": "stream",
     "text": [
      "epoch 2, step 50000/55000, batch loss = 0.00\n",
      "Train accuracy = 98.60\n",
      "epoch 2, step 50250/55000, batch loss = 0.01\n",
      "epoch 2, step 50500/55000, batch loss = 0.14\n",
      "epoch 2, step 50750/55000, batch loss = 0.05\n",
      "epoch 2, step 51000/55000, batch loss = 0.01\n",
      "epoch 2, step 51250/55000, batch loss = 0.01\n",
      "epoch 2, step 51500/55000, batch loss = 0.01\n",
      "epoch 2, step 51750/55000, batch loss = 0.10\n",
      "epoch 2, step 52000/55000, batch loss = 0.02\n",
      "epoch 2, step 52250/55000, batch loss = 0.01\n",
      "epoch 2, step 52500/55000, batch loss = 0.10\n",
      "Train accuracy = 98.59\n",
      "epoch 2, step 52750/55000, batch loss = 0.00\n",
      "epoch 2, step 53000/55000, batch loss = 0.07\n",
      "epoch 2, step 53250/55000, batch loss = 0.05\n",
      "epoch 2, step 53500/55000, batch loss = 0.02\n",
      "epoch 2, step 53750/55000, batch loss = 0.04\n",
      "epoch 2, step 54000/55000, batch loss = 0.02\n",
      "epoch 2, step 54250/55000, batch loss = 0.02\n",
      "epoch 2, step 54500/55000, batch loss = 0.01\n",
      "epoch 2, step 54750/55000, batch loss = 0.15\n",
      "Train accuracy = 98.58\n",
      "\n",
      "Running evaluation:  Validation\n",
      "Validation accuracy = 98.70\n",
      "Validation avg loss = 0.04\n",
      "\n"
     ]
    },
    {
     "name": "stderr",
     "output_type": "stream",
     "text": [
      "WARNING:root:Lossy conversion from float64 to uint8. Range [0, 1]. Convert image to uint8 prior to saving to suppress this warning.\n"
     ]
    },
    {
     "name": "stdout",
     "output_type": "stream",
     "text": [
      "epoch 3, step 0/55000, batch loss = 0.04\n",
      "epoch 3, step 250/55000, batch loss = 0.01\n",
      "epoch 3, step 500/55000, batch loss = 0.03\n",
      "epoch 3, step 750/55000, batch loss = 0.02\n",
      "epoch 3, step 1000/55000, batch loss = 0.01\n",
      "epoch 3, step 1250/55000, batch loss = 0.01\n",
      "epoch 3, step 1500/55000, batch loss = 0.02\n",
      "epoch 3, step 1750/55000, batch loss = 0.06\n",
      "epoch 3, step 2000/55000, batch loss = 0.03\n",
      "epoch 3, step 2250/55000, batch loss = 0.01\n",
      "epoch 3, step 2500/55000, batch loss = 0.01\n",
      "Train accuracy = 99.18\n",
      "epoch 3, step 2750/55000, batch loss = 0.04\n",
      "epoch 3, step 3000/55000, batch loss = 0.02\n",
      "epoch 3, step 3250/55000, batch loss = 0.03\n",
      "epoch 3, step 3500/55000, batch loss = 0.00\n",
      "epoch 3, step 3750/55000, batch loss = 0.00\n",
      "epoch 3, step 4000/55000, batch loss = 0.03\n",
      "epoch 3, step 4250/55000, batch loss = 0.06\n",
      "epoch 3, step 4500/55000, batch loss = 0.01\n",
      "epoch 3, step 4750/55000, batch loss = 0.01\n"
     ]
    },
    {
     "name": "stderr",
     "output_type": "stream",
     "text": [
      "WARNING:root:Lossy conversion from float64 to uint8. Range [0, 1]. Convert image to uint8 prior to saving to suppress this warning.\n"
     ]
    },
    {
     "name": "stdout",
     "output_type": "stream",
     "text": [
      "epoch 3, step 5000/55000, batch loss = 0.01\n",
      "Train accuracy = 99.41\n",
      "epoch 3, step 5250/55000, batch loss = 0.01\n",
      "epoch 3, step 5500/55000, batch loss = 0.01\n",
      "epoch 3, step 5750/55000, batch loss = 0.00\n",
      "epoch 3, step 6000/55000, batch loss = 0.00\n",
      "epoch 3, step 6250/55000, batch loss = 0.11\n",
      "epoch 3, step 6500/55000, batch loss = 0.01\n",
      "epoch 3, step 6750/55000, batch loss = 0.01\n",
      "epoch 3, step 7000/55000, batch loss = 0.01\n",
      "epoch 3, step 7250/55000, batch loss = 0.04\n",
      "epoch 3, step 7500/55000, batch loss = 0.00\n",
      "Train accuracy = 99.44\n",
      "epoch 3, step 7750/55000, batch loss = 0.04\n",
      "epoch 3, step 8000/55000, batch loss = 0.00\n",
      "epoch 3, step 8250/55000, batch loss = 0.03\n",
      "epoch 3, step 8500/55000, batch loss = 0.00\n",
      "epoch 3, step 8750/55000, batch loss = 0.01\n",
      "epoch 3, step 9000/55000, batch loss = 0.00\n",
      "epoch 3, step 9250/55000, batch loss = 0.08\n",
      "epoch 3, step 9500/55000, batch loss = 0.02\n",
      "epoch 3, step 9750/55000, batch loss = 0.11\n"
     ]
    },
    {
     "name": "stderr",
     "output_type": "stream",
     "text": [
      "WARNING:root:Lossy conversion from float64 to uint8. Range [0, 1]. Convert image to uint8 prior to saving to suppress this warning.\n"
     ]
    },
    {
     "name": "stdout",
     "output_type": "stream",
     "text": [
      "epoch 3, step 10000/55000, batch loss = 0.02\n",
      "Train accuracy = 99.37\n",
      "epoch 3, step 10250/55000, batch loss = 0.00\n",
      "epoch 3, step 10500/55000, batch loss = 0.01\n",
      "epoch 3, step 10750/55000, batch loss = 0.00\n",
      "epoch 3, step 11000/55000, batch loss = 0.02\n",
      "epoch 3, step 11250/55000, batch loss = 0.01\n",
      "epoch 3, step 11500/55000, batch loss = 0.08\n",
      "epoch 3, step 11750/55000, batch loss = 0.01\n",
      "epoch 3, step 12000/55000, batch loss = 0.00\n",
      "epoch 3, step 12250/55000, batch loss = 0.03\n",
      "epoch 3, step 12500/55000, batch loss = 0.02\n",
      "Train accuracy = 99.37\n",
      "epoch 3, step 12750/55000, batch loss = 0.13\n",
      "epoch 3, step 13000/55000, batch loss = 0.00\n",
      "epoch 3, step 13250/55000, batch loss = 0.00\n",
      "epoch 3, step 13500/55000, batch loss = 0.03\n",
      "epoch 3, step 13750/55000, batch loss = 0.04\n",
      "epoch 3, step 14000/55000, batch loss = 0.00\n",
      "epoch 3, step 14250/55000, batch loss = 0.01\n",
      "epoch 3, step 14500/55000, batch loss = 0.00\n",
      "epoch 3, step 14750/55000, batch loss = 0.06\n"
     ]
    },
    {
     "name": "stderr",
     "output_type": "stream",
     "text": [
      "WARNING:root:Lossy conversion from float64 to uint8. Range [0, 1]. Convert image to uint8 prior to saving to suppress this warning.\n"
     ]
    },
    {
     "name": "stdout",
     "output_type": "stream",
     "text": [
      "epoch 3, step 15000/55000, batch loss = 0.00\n",
      "Train accuracy = 99.36\n",
      "epoch 3, step 15250/55000, batch loss = 0.03\n",
      "epoch 3, step 15500/55000, batch loss = 0.04\n",
      "epoch 3, step 15750/55000, batch loss = 0.00\n",
      "epoch 3, step 16000/55000, batch loss = 0.02\n",
      "epoch 3, step 16250/55000, batch loss = 0.03\n",
      "epoch 3, step 16500/55000, batch loss = 0.00\n",
      "epoch 3, step 16750/55000, batch loss = 0.01\n",
      "epoch 3, step 17000/55000, batch loss = 0.00\n",
      "epoch 3, step 17250/55000, batch loss = 0.00\n",
      "epoch 3, step 17500/55000, batch loss = 0.03\n",
      "Train accuracy = 99.34\n",
      "epoch 3, step 17750/55000, batch loss = 0.03\n",
      "epoch 3, step 18000/55000, batch loss = 0.06\n",
      "epoch 3, step 18250/55000, batch loss = 0.01\n",
      "epoch 3, step 18500/55000, batch loss = 0.01\n",
      "epoch 3, step 18750/55000, batch loss = 0.01\n",
      "epoch 3, step 19000/55000, batch loss = 0.01\n",
      "epoch 3, step 19250/55000, batch loss = 0.00\n",
      "epoch 3, step 19500/55000, batch loss = 0.03\n",
      "epoch 3, step 19750/55000, batch loss = 0.01\n"
     ]
    },
    {
     "name": "stderr",
     "output_type": "stream",
     "text": [
      "WARNING:root:Lossy conversion from float64 to uint8. Range [0, 1]. Convert image to uint8 prior to saving to suppress this warning.\n"
     ]
    },
    {
     "name": "stdout",
     "output_type": "stream",
     "text": [
      "epoch 3, step 20000/55000, batch loss = 0.02\n",
      "Train accuracy = 99.34\n",
      "epoch 3, step 20250/55000, batch loss = 0.00\n",
      "epoch 3, step 20500/55000, batch loss = 0.00\n",
      "epoch 3, step 20750/55000, batch loss = 0.00\n",
      "epoch 3, step 21000/55000, batch loss = 0.01\n",
      "epoch 3, step 21250/55000, batch loss = 0.01\n",
      "epoch 3, step 21500/55000, batch loss = 0.01\n",
      "epoch 3, step 21750/55000, batch loss = 0.01\n",
      "epoch 3, step 22000/55000, batch loss = 0.01\n",
      "epoch 3, step 22250/55000, batch loss = 0.01\n",
      "epoch 3, step 22500/55000, batch loss = 0.02\n",
      "Train accuracy = 99.33\n",
      "epoch 3, step 22750/55000, batch loss = 0.22\n",
      "epoch 3, step 23000/55000, batch loss = 0.01\n",
      "epoch 3, step 23250/55000, batch loss = 0.01\n",
      "epoch 3, step 23500/55000, batch loss = 0.00\n",
      "epoch 3, step 23750/55000, batch loss = 0.02\n",
      "epoch 3, step 24000/55000, batch loss = 0.01\n",
      "epoch 3, step 24250/55000, batch loss = 0.00\n",
      "epoch 3, step 24500/55000, batch loss = 0.00\n",
      "epoch 3, step 24750/55000, batch loss = 0.00\n"
     ]
    },
    {
     "name": "stderr",
     "output_type": "stream",
     "text": [
      "WARNING:root:Lossy conversion from float64 to uint8. Range [0, 1]. Convert image to uint8 prior to saving to suppress this warning.\n"
     ]
    },
    {
     "name": "stdout",
     "output_type": "stream",
     "text": [
      "epoch 3, step 25000/55000, batch loss = 0.00\n",
      "Train accuracy = 99.32\n",
      "epoch 3, step 25250/55000, batch loss = 0.00\n",
      "epoch 3, step 25500/55000, batch loss = 0.03\n",
      "epoch 3, step 25750/55000, batch loss = 0.00\n",
      "epoch 3, step 26000/55000, batch loss = 0.01\n",
      "epoch 3, step 26250/55000, batch loss = 0.00\n",
      "epoch 3, step 26500/55000, batch loss = 0.00\n",
      "epoch 3, step 26750/55000, batch loss = 0.04\n",
      "epoch 3, step 27000/55000, batch loss = 0.04\n",
      "epoch 3, step 27250/55000, batch loss = 0.02\n",
      "epoch 3, step 27500/55000, batch loss = 0.01\n",
      "Train accuracy = 99.32\n",
      "epoch 3, step 27750/55000, batch loss = 0.00\n",
      "epoch 3, step 28000/55000, batch loss = 0.00\n",
      "epoch 3, step 28250/55000, batch loss = 0.04\n",
      "epoch 3, step 28500/55000, batch loss = 0.01\n",
      "epoch 3, step 28750/55000, batch loss = 0.01\n",
      "epoch 3, step 29000/55000, batch loss = 0.01\n",
      "epoch 3, step 29250/55000, batch loss = 0.01\n",
      "epoch 3, step 29500/55000, batch loss = 0.00\n",
      "epoch 3, step 29750/55000, batch loss = 0.00\n"
     ]
    },
    {
     "name": "stderr",
     "output_type": "stream",
     "text": [
      "WARNING:root:Lossy conversion from float64 to uint8. Range [0, 1]. Convert image to uint8 prior to saving to suppress this warning.\n"
     ]
    },
    {
     "name": "stdout",
     "output_type": "stream",
     "text": [
      "epoch 3, step 30000/55000, batch loss = 0.01\n",
      "Train accuracy = 99.35\n",
      "epoch 3, step 30250/55000, batch loss = 0.01\n",
      "epoch 3, step 30500/55000, batch loss = 0.01\n",
      "epoch 3, step 30750/55000, batch loss = 0.02\n",
      "epoch 3, step 31000/55000, batch loss = 0.00\n",
      "epoch 3, step 31250/55000, batch loss = 0.00\n",
      "epoch 3, step 31500/55000, batch loss = 0.00\n",
      "epoch 3, step 31750/55000, batch loss = 0.04\n",
      "epoch 3, step 32000/55000, batch loss = 0.03\n",
      "epoch 3, step 32250/55000, batch loss = 0.00\n",
      "epoch 3, step 32500/55000, batch loss = 0.04\n",
      "Train accuracy = 99.37\n",
      "epoch 3, step 32750/55000, batch loss = 0.00\n",
      "epoch 3, step 33000/55000, batch loss = 0.01\n",
      "epoch 3, step 33250/55000, batch loss = 0.00\n",
      "epoch 3, step 33500/55000, batch loss = 0.03\n",
      "epoch 3, step 33750/55000, batch loss = 0.00\n",
      "epoch 3, step 34000/55000, batch loss = 0.00\n",
      "epoch 3, step 34250/55000, batch loss = 0.02\n",
      "epoch 3, step 34500/55000, batch loss = 0.00\n",
      "epoch 3, step 34750/55000, batch loss = 0.00\n"
     ]
    },
    {
     "name": "stderr",
     "output_type": "stream",
     "text": [
      "WARNING:root:Lossy conversion from float64 to uint8. Range [0, 1]. Convert image to uint8 prior to saving to suppress this warning.\n"
     ]
    },
    {
     "name": "stdout",
     "output_type": "stream",
     "text": [
      "epoch 3, step 35000/55000, batch loss = 0.02\n",
      "Train accuracy = 99.36\n",
      "epoch 3, step 35250/55000, batch loss = 0.01\n",
      "epoch 3, step 35500/55000, batch loss = 0.01\n",
      "epoch 3, step 35750/55000, batch loss = 0.04\n",
      "epoch 3, step 36000/55000, batch loss = 0.00\n",
      "epoch 3, step 36250/55000, batch loss = 0.02\n",
      "epoch 3, step 36500/55000, batch loss = 0.02\n",
      "epoch 3, step 36750/55000, batch loss = 0.01\n",
      "epoch 3, step 37000/55000, batch loss = 0.01\n",
      "epoch 3, step 37250/55000, batch loss = 0.03\n",
      "epoch 3, step 37500/55000, batch loss = 0.05\n",
      "Train accuracy = 99.36\n",
      "epoch 3, step 37750/55000, batch loss = 0.01\n",
      "epoch 3, step 38000/55000, batch loss = 0.14\n",
      "epoch 3, step 38250/55000, batch loss = 0.00\n",
      "epoch 3, step 38500/55000, batch loss = 0.02\n",
      "epoch 3, step 38750/55000, batch loss = 0.08\n",
      "epoch 3, step 39000/55000, batch loss = 0.10\n",
      "epoch 3, step 39250/55000, batch loss = 0.09\n",
      "epoch 3, step 39500/55000, batch loss = 0.01\n",
      "epoch 3, step 39750/55000, batch loss = 0.01\n"
     ]
    },
    {
     "name": "stderr",
     "output_type": "stream",
     "text": [
      "WARNING:root:Lossy conversion from float64 to uint8. Range [0, 1]. Convert image to uint8 prior to saving to suppress this warning.\n"
     ]
    },
    {
     "name": "stdout",
     "output_type": "stream",
     "text": [
      "epoch 3, step 40000/55000, batch loss = 0.01\n",
      "Train accuracy = 99.35\n",
      "epoch 3, step 40250/55000, batch loss = 0.01\n",
      "epoch 3, step 40500/55000, batch loss = 0.07\n",
      "epoch 3, step 40750/55000, batch loss = 0.00\n",
      "epoch 3, step 41000/55000, batch loss = 0.04\n",
      "epoch 3, step 41250/55000, batch loss = 0.03\n",
      "epoch 3, step 41500/55000, batch loss = 0.01\n",
      "epoch 3, step 41750/55000, batch loss = 0.01\n",
      "epoch 3, step 42000/55000, batch loss = 0.06\n",
      "epoch 3, step 42250/55000, batch loss = 0.01\n",
      "epoch 3, step 42500/55000, batch loss = 0.00\n",
      "Train accuracy = 99.34\n",
      "epoch 3, step 42750/55000, batch loss = 0.01\n",
      "epoch 3, step 43000/55000, batch loss = 0.01\n",
      "epoch 3, step 43250/55000, batch loss = 0.04\n",
      "epoch 3, step 43500/55000, batch loss = 0.01\n",
      "epoch 3, step 43750/55000, batch loss = 0.06\n",
      "epoch 3, step 44000/55000, batch loss = 0.00\n",
      "epoch 3, step 44250/55000, batch loss = 0.03\n",
      "epoch 3, step 44500/55000, batch loss = 0.00\n",
      "epoch 3, step 44750/55000, batch loss = 0.01\n"
     ]
    },
    {
     "name": "stderr",
     "output_type": "stream",
     "text": [
      "WARNING:root:Lossy conversion from float64 to uint8. Range [0, 1]. Convert image to uint8 prior to saving to suppress this warning.\n"
     ]
    },
    {
     "name": "stdout",
     "output_type": "stream",
     "text": [
      "epoch 3, step 45000/55000, batch loss = 0.01\n",
      "Train accuracy = 99.35\n",
      "epoch 3, step 45250/55000, batch loss = 0.01\n",
      "epoch 3, step 45500/55000, batch loss = 0.03\n",
      "epoch 3, step 45750/55000, batch loss = 0.00\n",
      "epoch 3, step 46000/55000, batch loss = 0.09\n",
      "epoch 3, step 46250/55000, batch loss = 0.04\n",
      "epoch 3, step 46500/55000, batch loss = 0.01\n",
      "epoch 3, step 46750/55000, batch loss = 0.02\n",
      "epoch 3, step 47000/55000, batch loss = 0.01\n",
      "epoch 3, step 47250/55000, batch loss = 0.00\n",
      "epoch 3, step 47500/55000, batch loss = 0.01\n",
      "Train accuracy = 99.34\n",
      "epoch 3, step 47750/55000, batch loss = 0.05\n",
      "epoch 3, step 48000/55000, batch loss = 0.01\n",
      "epoch 3, step 48250/55000, batch loss = 0.03\n",
      "epoch 3, step 48500/55000, batch loss = 0.04\n",
      "epoch 3, step 48750/55000, batch loss = 0.02\n",
      "epoch 3, step 49000/55000, batch loss = 0.00\n",
      "epoch 3, step 49250/55000, batch loss = 0.02\n",
      "epoch 3, step 49500/55000, batch loss = 0.00\n",
      "epoch 3, step 49750/55000, batch loss = 0.05\n"
     ]
    },
    {
     "name": "stderr",
     "output_type": "stream",
     "text": [
      "WARNING:root:Lossy conversion from float64 to uint8. Range [0, 1]. Convert image to uint8 prior to saving to suppress this warning.\n"
     ]
    },
    {
     "name": "stdout",
     "output_type": "stream",
     "text": [
      "epoch 3, step 50000/55000, batch loss = 0.11\n",
      "Train accuracy = 99.33\n",
      "epoch 3, step 50250/55000, batch loss = 0.02\n",
      "epoch 3, step 50500/55000, batch loss = 0.02\n",
      "epoch 3, step 50750/55000, batch loss = 0.00\n",
      "epoch 3, step 51000/55000, batch loss = 0.00\n",
      "epoch 3, step 51250/55000, batch loss = 0.01\n",
      "epoch 3, step 51500/55000, batch loss = 0.01\n",
      "epoch 3, step 51750/55000, batch loss = 0.05\n",
      "epoch 3, step 52000/55000, batch loss = 0.01\n",
      "epoch 3, step 52250/55000, batch loss = 0.01\n",
      "epoch 3, step 52500/55000, batch loss = 0.01\n",
      "Train accuracy = 99.32\n",
      "epoch 3, step 52750/55000, batch loss = 0.01\n",
      "epoch 3, step 53000/55000, batch loss = 0.00\n",
      "epoch 3, step 53250/55000, batch loss = 0.03\n",
      "epoch 3, step 53500/55000, batch loss = 0.00\n",
      "epoch 3, step 53750/55000, batch loss = 0.00\n",
      "epoch 3, step 54000/55000, batch loss = 0.01\n",
      "epoch 3, step 54250/55000, batch loss = 0.04\n",
      "epoch 3, step 54500/55000, batch loss = 0.05\n",
      "epoch 3, step 54750/55000, batch loss = 0.01\n",
      "Train accuracy = 99.32\n",
      "\n",
      "Running evaluation:  Validation\n",
      "Validation accuracy = 99.04\n",
      "Validation avg loss = 0.03\n",
      "\n"
     ]
    },
    {
     "name": "stderr",
     "output_type": "stream",
     "text": [
      "WARNING:root:Lossy conversion from float64 to uint8. Range [0, 1]. Convert image to uint8 prior to saving to suppress this warning.\n"
     ]
    },
    {
     "name": "stdout",
     "output_type": "stream",
     "text": [
      "epoch 4, step 0/55000, batch loss = 0.00\n",
      "epoch 4, step 250/55000, batch loss = 0.00\n",
      "epoch 4, step 500/55000, batch loss = 0.10\n",
      "epoch 4, step 750/55000, batch loss = 0.02\n",
      "epoch 4, step 1000/55000, batch loss = 0.00\n",
      "epoch 4, step 1250/55000, batch loss = 0.01\n",
      "epoch 4, step 1500/55000, batch loss = 0.05\n",
      "epoch 4, step 1750/55000, batch loss = 0.01\n",
      "epoch 4, step 2000/55000, batch loss = 0.02\n",
      "epoch 4, step 2250/55000, batch loss = 0.01\n",
      "epoch 4, step 2500/55000, batch loss = 0.01\n",
      "Train accuracy = 99.49\n",
      "epoch 4, step 2750/55000, batch loss = 0.01\n",
      "epoch 4, step 3000/55000, batch loss = 0.02\n",
      "epoch 4, step 3250/55000, batch loss = 0.02\n",
      "epoch 4, step 3500/55000, batch loss = 0.01\n",
      "epoch 4, step 3750/55000, batch loss = 0.02\n",
      "epoch 4, step 4000/55000, batch loss = 0.09\n",
      "epoch 4, step 4250/55000, batch loss = 0.06\n",
      "epoch 4, step 4500/55000, batch loss = 0.01\n",
      "epoch 4, step 4750/55000, batch loss = 0.02\n"
     ]
    },
    {
     "name": "stderr",
     "output_type": "stream",
     "text": [
      "WARNING:root:Lossy conversion from float64 to uint8. Range [0, 1]. Convert image to uint8 prior to saving to suppress this warning.\n"
     ]
    },
    {
     "name": "stdout",
     "output_type": "stream",
     "text": [
      "epoch 4, step 5000/55000, batch loss = 0.00\n",
      "Train accuracy = 99.50\n",
      "epoch 4, step 5250/55000, batch loss = 0.00\n",
      "epoch 4, step 5500/55000, batch loss = 0.00\n",
      "epoch 4, step 5750/55000, batch loss = 0.08\n",
      "epoch 4, step 6000/55000, batch loss = 0.00\n",
      "epoch 4, step 6250/55000, batch loss = 0.01\n",
      "epoch 4, step 6500/55000, batch loss = 0.12\n",
      "epoch 4, step 6750/55000, batch loss = 0.01\n",
      "epoch 4, step 7000/55000, batch loss = 0.02\n",
      "epoch 4, step 7250/55000, batch loss = 0.00\n",
      "epoch 4, step 7500/55000, batch loss = 0.03\n",
      "Train accuracy = 99.47\n",
      "epoch 4, step 7750/55000, batch loss = 0.00\n",
      "epoch 4, step 8000/55000, batch loss = 0.02\n",
      "epoch 4, step 8250/55000, batch loss = 0.01\n",
      "epoch 4, step 8500/55000, batch loss = 0.00\n",
      "epoch 4, step 8750/55000, batch loss = 0.02\n",
      "epoch 4, step 9000/55000, batch loss = 0.04\n",
      "epoch 4, step 9250/55000, batch loss = 0.06\n",
      "epoch 4, step 9500/55000, batch loss = 0.00\n",
      "epoch 4, step 9750/55000, batch loss = 0.01\n"
     ]
    },
    {
     "name": "stderr",
     "output_type": "stream",
     "text": [
      "WARNING:root:Lossy conversion from float64 to uint8. Range [0, 1]. Convert image to uint8 prior to saving to suppress this warning.\n"
     ]
    },
    {
     "name": "stdout",
     "output_type": "stream",
     "text": [
      "epoch 4, step 10000/55000, batch loss = 0.01\n",
      "Train accuracy = 99.43\n",
      "epoch 4, step 10250/55000, batch loss = 0.03\n",
      "epoch 4, step 10500/55000, batch loss = 0.02\n",
      "epoch 4, step 10750/55000, batch loss = 0.02\n",
      "epoch 4, step 11000/55000, batch loss = 0.10\n",
      "epoch 4, step 11250/55000, batch loss = 0.01\n",
      "epoch 4, step 11500/55000, batch loss = 0.07\n",
      "epoch 4, step 11750/55000, batch loss = 0.00\n",
      "epoch 4, step 12000/55000, batch loss = 0.01\n",
      "epoch 4, step 12250/55000, batch loss = 0.06\n",
      "epoch 4, step 12500/55000, batch loss = 0.00\n",
      "Train accuracy = 99.43\n",
      "epoch 4, step 12750/55000, batch loss = 0.00\n",
      "epoch 4, step 13000/55000, batch loss = 0.02\n",
      "epoch 4, step 13250/55000, batch loss = 0.00\n",
      "epoch 4, step 13500/55000, batch loss = 0.01\n",
      "epoch 4, step 13750/55000, batch loss = 0.02\n",
      "epoch 4, step 14000/55000, batch loss = 0.01\n",
      "epoch 4, step 14250/55000, batch loss = 0.01\n",
      "epoch 4, step 14500/55000, batch loss = 0.04\n",
      "epoch 4, step 14750/55000, batch loss = 0.01\n"
     ]
    },
    {
     "name": "stderr",
     "output_type": "stream",
     "text": [
      "WARNING:root:Lossy conversion from float64 to uint8. Range [0, 1]. Convert image to uint8 prior to saving to suppress this warning.\n"
     ]
    },
    {
     "name": "stdout",
     "output_type": "stream",
     "text": [
      "epoch 4, step 15000/55000, batch loss = 0.03\n",
      "Train accuracy = 99.43\n",
      "epoch 4, step 15250/55000, batch loss = 0.00\n",
      "epoch 4, step 15500/55000, batch loss = 0.01\n",
      "epoch 4, step 15750/55000, batch loss = 0.00\n",
      "epoch 4, step 16000/55000, batch loss = 0.00\n",
      "epoch 4, step 16250/55000, batch loss = 0.01\n",
      "epoch 4, step 16500/55000, batch loss = 0.00\n",
      "epoch 4, step 16750/55000, batch loss = 0.00\n",
      "epoch 4, step 17000/55000, batch loss = 0.01\n",
      "epoch 4, step 17250/55000, batch loss = 0.00\n",
      "epoch 4, step 17500/55000, batch loss = 0.01\n",
      "Train accuracy = 99.45\n",
      "epoch 4, step 17750/55000, batch loss = 0.02\n",
      "epoch 4, step 18000/55000, batch loss = 0.00\n",
      "epoch 4, step 18250/55000, batch loss = 0.01\n",
      "epoch 4, step 18500/55000, batch loss = 0.01\n",
      "epoch 4, step 18750/55000, batch loss = 0.02\n",
      "epoch 4, step 19000/55000, batch loss = 0.00\n",
      "epoch 4, step 19250/55000, batch loss = 0.02\n",
      "epoch 4, step 19500/55000, batch loss = 0.02\n",
      "epoch 4, step 19750/55000, batch loss = 0.01\n"
     ]
    },
    {
     "name": "stderr",
     "output_type": "stream",
     "text": [
      "WARNING:root:Lossy conversion from float64 to uint8. Range [0, 1]. Convert image to uint8 prior to saving to suppress this warning.\n"
     ]
    },
    {
     "name": "stdout",
     "output_type": "stream",
     "text": [
      "epoch 4, step 20000/55000, batch loss = 0.00\n",
      "Train accuracy = 99.48\n",
      "epoch 4, step 20250/55000, batch loss = 0.02\n",
      "epoch 4, step 20500/55000, batch loss = 0.00\n",
      "epoch 4, step 20750/55000, batch loss = 0.15\n",
      "epoch 4, step 21000/55000, batch loss = 0.00\n",
      "epoch 4, step 21250/55000, batch loss = 0.00\n",
      "epoch 4, step 21500/55000, batch loss = 0.01\n",
      "epoch 4, step 21750/55000, batch loss = 0.00\n",
      "epoch 4, step 22000/55000, batch loss = 0.00\n",
      "epoch 4, step 22250/55000, batch loss = 0.00\n",
      "epoch 4, step 22500/55000, batch loss = 0.04\n",
      "Train accuracy = 99.45\n",
      "epoch 4, step 22750/55000, batch loss = 0.00\n",
      "epoch 4, step 23000/55000, batch loss = 0.06\n",
      "epoch 4, step 23250/55000, batch loss = 0.02\n",
      "epoch 4, step 23500/55000, batch loss = 0.01\n",
      "epoch 4, step 23750/55000, batch loss = 0.01\n",
      "epoch 4, step 24000/55000, batch loss = 0.08\n",
      "epoch 4, step 24250/55000, batch loss = 0.01\n",
      "epoch 4, step 24500/55000, batch loss = 0.00\n",
      "epoch 4, step 24750/55000, batch loss = 0.00\n"
     ]
    },
    {
     "name": "stderr",
     "output_type": "stream",
     "text": [
      "WARNING:root:Lossy conversion from float64 to uint8. Range [0, 1]. Convert image to uint8 prior to saving to suppress this warning.\n"
     ]
    },
    {
     "name": "stdout",
     "output_type": "stream",
     "text": [
      "epoch 4, step 25000/55000, batch loss = 0.06\n",
      "Train accuracy = 99.44\n",
      "epoch 4, step 25250/55000, batch loss = 0.01\n",
      "epoch 4, step 25500/55000, batch loss = 0.01\n",
      "epoch 4, step 25750/55000, batch loss = 0.03\n",
      "epoch 4, step 26000/55000, batch loss = 0.00\n",
      "epoch 4, step 26250/55000, batch loss = 0.01\n",
      "epoch 4, step 26500/55000, batch loss = 0.00\n",
      "epoch 4, step 26750/55000, batch loss = 0.01\n",
      "epoch 4, step 27000/55000, batch loss = 0.05\n",
      "epoch 4, step 27250/55000, batch loss = 0.00\n",
      "epoch 4, step 27500/55000, batch loss = 0.00\n",
      "Train accuracy = 99.45\n",
      "epoch 4, step 27750/55000, batch loss = 0.05\n",
      "epoch 4, step 28000/55000, batch loss = 0.00\n",
      "epoch 4, step 28250/55000, batch loss = 0.06\n",
      "epoch 4, step 28500/55000, batch loss = 0.01\n",
      "epoch 4, step 28750/55000, batch loss = 0.00\n",
      "epoch 4, step 29000/55000, batch loss = 0.05\n",
      "epoch 4, step 29250/55000, batch loss = 0.02\n",
      "epoch 4, step 29500/55000, batch loss = 0.01\n",
      "epoch 4, step 29750/55000, batch loss = 0.03\n"
     ]
    },
    {
     "name": "stderr",
     "output_type": "stream",
     "text": [
      "WARNING:root:Lossy conversion from float64 to uint8. Range [0, 1]. Convert image to uint8 prior to saving to suppress this warning.\n"
     ]
    },
    {
     "name": "stdout",
     "output_type": "stream",
     "text": [
      "epoch 4, step 30000/55000, batch loss = 0.05\n",
      "Train accuracy = 99.44\n",
      "epoch 4, step 30250/55000, batch loss = 0.09\n",
      "epoch 4, step 30500/55000, batch loss = 0.06\n",
      "epoch 4, step 30750/55000, batch loss = 0.00\n",
      "epoch 4, step 31000/55000, batch loss = 0.01\n",
      "epoch 4, step 31250/55000, batch loss = 0.01\n",
      "epoch 4, step 31500/55000, batch loss = 0.01\n",
      "epoch 4, step 31750/55000, batch loss = 0.01\n",
      "epoch 4, step 32000/55000, batch loss = 0.01\n",
      "epoch 4, step 32250/55000, batch loss = 0.01\n",
      "epoch 4, step 32500/55000, batch loss = 0.01\n",
      "Train accuracy = 99.45\n",
      "epoch 4, step 32750/55000, batch loss = 0.01\n",
      "epoch 4, step 33000/55000, batch loss = 0.05\n",
      "epoch 4, step 33250/55000, batch loss = 0.09\n",
      "epoch 4, step 33500/55000, batch loss = 0.03\n",
      "epoch 4, step 33750/55000, batch loss = 0.00\n",
      "epoch 4, step 34000/55000, batch loss = 0.01\n",
      "epoch 4, step 34250/55000, batch loss = 0.02\n",
      "epoch 4, step 34500/55000, batch loss = 0.00\n",
      "epoch 4, step 34750/55000, batch loss = 0.05\n"
     ]
    },
    {
     "name": "stderr",
     "output_type": "stream",
     "text": [
      "WARNING:root:Lossy conversion from float64 to uint8. Range [0, 1]. Convert image to uint8 prior to saving to suppress this warning.\n"
     ]
    },
    {
     "name": "stdout",
     "output_type": "stream",
     "text": [
      "epoch 4, step 35000/55000, batch loss = 0.04\n",
      "Train accuracy = 99.43\n",
      "epoch 4, step 35250/55000, batch loss = 0.02\n",
      "epoch 4, step 35500/55000, batch loss = 0.00\n",
      "epoch 4, step 35750/55000, batch loss = 0.08\n",
      "epoch 4, step 36000/55000, batch loss = 0.02\n",
      "epoch 4, step 36250/55000, batch loss = 0.07\n",
      "epoch 4, step 36500/55000, batch loss = 0.00\n",
      "epoch 4, step 36750/55000, batch loss = 0.03\n",
      "epoch 4, step 37000/55000, batch loss = 0.07\n",
      "epoch 4, step 37250/55000, batch loss = 0.00\n",
      "epoch 4, step 37500/55000, batch loss = 0.00\n",
      "Train accuracy = 99.43\n",
      "epoch 4, step 37750/55000, batch loss = 0.00\n",
      "epoch 4, step 38000/55000, batch loss = 0.00\n",
      "epoch 4, step 38250/55000, batch loss = 0.03\n",
      "epoch 4, step 38500/55000, batch loss = 0.01\n",
      "epoch 4, step 38750/55000, batch loss = 0.02\n",
      "epoch 4, step 39000/55000, batch loss = 0.02\n",
      "epoch 4, step 39250/55000, batch loss = 0.01\n",
      "epoch 4, step 39500/55000, batch loss = 0.05\n",
      "epoch 4, step 39750/55000, batch loss = 0.08\n"
     ]
    },
    {
     "name": "stderr",
     "output_type": "stream",
     "text": [
      "WARNING:root:Lossy conversion from float64 to uint8. Range [0, 1]. Convert image to uint8 prior to saving to suppress this warning.\n"
     ]
    },
    {
     "name": "stdout",
     "output_type": "stream",
     "text": [
      "epoch 4, step 40000/55000, batch loss = 0.01\n",
      "Train accuracy = 99.43\n",
      "epoch 4, step 40250/55000, batch loss = 0.04\n",
      "epoch 4, step 40500/55000, batch loss = 0.01\n",
      "epoch 4, step 40750/55000, batch loss = 0.00\n",
      "epoch 4, step 41000/55000, batch loss = 0.01\n",
      "epoch 4, step 41250/55000, batch loss = 0.04\n",
      "epoch 4, step 41500/55000, batch loss = 0.00\n",
      "epoch 4, step 41750/55000, batch loss = 0.00\n",
      "epoch 4, step 42000/55000, batch loss = 0.04\n",
      "epoch 4, step 42250/55000, batch loss = 0.01\n",
      "epoch 4, step 42500/55000, batch loss = 0.00\n",
      "Train accuracy = 99.43\n",
      "epoch 4, step 42750/55000, batch loss = 0.01\n",
      "epoch 4, step 43000/55000, batch loss = 0.03\n",
      "epoch 4, step 43250/55000, batch loss = 0.00\n",
      "epoch 4, step 43500/55000, batch loss = 0.00\n",
      "epoch 4, step 43750/55000, batch loss = 0.12\n",
      "epoch 4, step 44000/55000, batch loss = 0.02\n",
      "epoch 4, step 44250/55000, batch loss = 0.01\n",
      "epoch 4, step 44500/55000, batch loss = 0.01\n",
      "epoch 4, step 44750/55000, batch loss = 0.02\n"
     ]
    },
    {
     "name": "stderr",
     "output_type": "stream",
     "text": [
      "WARNING:root:Lossy conversion from float64 to uint8. Range [0, 1]. Convert image to uint8 prior to saving to suppress this warning.\n"
     ]
    },
    {
     "name": "stdout",
     "output_type": "stream",
     "text": [
      "epoch 4, step 45000/55000, batch loss = 0.02\n",
      "Train accuracy = 99.42\n",
      "epoch 4, step 45250/55000, batch loss = 0.01\n",
      "epoch 4, step 45500/55000, batch loss = 0.01\n",
      "epoch 4, step 45750/55000, batch loss = 0.01\n",
      "epoch 4, step 46000/55000, batch loss = 0.00\n",
      "epoch 4, step 46250/55000, batch loss = 0.01\n",
      "epoch 4, step 46500/55000, batch loss = 0.01\n",
      "epoch 4, step 46750/55000, batch loss = 0.00\n",
      "epoch 4, step 47000/55000, batch loss = 0.03\n",
      "epoch 4, step 47250/55000, batch loss = 0.02\n",
      "epoch 4, step 47500/55000, batch loss = 0.01\n",
      "Train accuracy = 99.42\n",
      "epoch 4, step 47750/55000, batch loss = 0.00\n",
      "epoch 4, step 48000/55000, batch loss = 0.01\n",
      "epoch 4, step 48250/55000, batch loss = 0.01\n",
      "epoch 4, step 48500/55000, batch loss = 0.01\n",
      "epoch 4, step 48750/55000, batch loss = 0.00\n",
      "epoch 4, step 49000/55000, batch loss = 0.09\n",
      "epoch 4, step 49250/55000, batch loss = 0.01\n",
      "epoch 4, step 49500/55000, batch loss = 0.11\n",
      "epoch 4, step 49750/55000, batch loss = 0.00\n"
     ]
    },
    {
     "name": "stderr",
     "output_type": "stream",
     "text": [
      "WARNING:root:Lossy conversion from float64 to uint8. Range [0, 1]. Convert image to uint8 prior to saving to suppress this warning.\n"
     ]
    },
    {
     "name": "stdout",
     "output_type": "stream",
     "text": [
      "epoch 4, step 50000/55000, batch loss = 0.03\n",
      "Train accuracy = 99.41\n",
      "epoch 4, step 50250/55000, batch loss = 0.00\n",
      "epoch 4, step 50500/55000, batch loss = 0.08\n",
      "epoch 4, step 50750/55000, batch loss = 0.01\n",
      "epoch 4, step 51000/55000, batch loss = 0.01\n",
      "epoch 4, step 51250/55000, batch loss = 0.01\n",
      "epoch 4, step 51500/55000, batch loss = 0.00\n",
      "epoch 4, step 51750/55000, batch loss = 0.01\n",
      "epoch 4, step 52000/55000, batch loss = 0.03\n",
      "epoch 4, step 52250/55000, batch loss = 0.04\n",
      "epoch 4, step 52500/55000, batch loss = 0.01\n",
      "Train accuracy = 99.40\n",
      "epoch 4, step 52750/55000, batch loss = 0.03\n",
      "epoch 4, step 53000/55000, batch loss = 0.01\n",
      "epoch 4, step 53250/55000, batch loss = 0.02\n",
      "epoch 4, step 53500/55000, batch loss = 0.01\n",
      "epoch 4, step 53750/55000, batch loss = 0.00\n",
      "epoch 4, step 54000/55000, batch loss = 0.01\n",
      "epoch 4, step 54250/55000, batch loss = 0.08\n",
      "epoch 4, step 54500/55000, batch loss = 0.01\n",
      "epoch 4, step 54750/55000, batch loss = 0.00\n",
      "Train accuracy = 99.41\n",
      "\n",
      "Running evaluation:  Validation\n",
      "Validation accuracy = 99.06\n",
      "Validation avg loss = 0.03\n",
      "\n"
     ]
    },
    {
     "name": "stderr",
     "output_type": "stream",
     "text": [
      "WARNING:root:Lossy conversion from float64 to uint8. Range [0, 1]. Convert image to uint8 prior to saving to suppress this warning.\n"
     ]
    },
    {
     "name": "stdout",
     "output_type": "stream",
     "text": [
      "epoch 5, step 0/55000, batch loss = 0.06\n",
      "epoch 5, step 250/55000, batch loss = 0.00\n",
      "epoch 5, step 500/55000, batch loss = 0.01\n",
      "epoch 5, step 750/55000, batch loss = 0.01\n",
      "epoch 5, step 1000/55000, batch loss = 0.02\n",
      "epoch 5, step 1250/55000, batch loss = 0.05\n",
      "epoch 5, step 1500/55000, batch loss = 0.03\n",
      "epoch 5, step 1750/55000, batch loss = 0.00\n",
      "epoch 5, step 2000/55000, batch loss = 0.01\n",
      "epoch 5, step 2250/55000, batch loss = 0.00\n",
      "epoch 5, step 2500/55000, batch loss = 0.02\n",
      "Train accuracy = 99.18\n",
      "epoch 5, step 2750/55000, batch loss = 0.02\n",
      "epoch 5, step 3000/55000, batch loss = 0.03\n",
      "epoch 5, step 3250/55000, batch loss = 0.00\n",
      "epoch 5, step 3500/55000, batch loss = 0.07\n",
      "epoch 5, step 3750/55000, batch loss = 0.04\n",
      "epoch 5, step 4000/55000, batch loss = 0.00\n",
      "epoch 5, step 4250/55000, batch loss = 0.09\n",
      "epoch 5, step 4500/55000, batch loss = 0.01\n",
      "epoch 5, step 4750/55000, batch loss = 0.01\n"
     ]
    },
    {
     "name": "stderr",
     "output_type": "stream",
     "text": [
      "WARNING:root:Lossy conversion from float64 to uint8. Range [0, 1]. Convert image to uint8 prior to saving to suppress this warning.\n"
     ]
    },
    {
     "name": "stdout",
     "output_type": "stream",
     "text": [
      "epoch 5, step 5000/55000, batch loss = 0.01\n",
      "Train accuracy = 99.23\n",
      "epoch 5, step 5250/55000, batch loss = 0.01\n",
      "epoch 5, step 5500/55000, batch loss = 0.01\n",
      "epoch 5, step 5750/55000, batch loss = 0.02\n",
      "epoch 5, step 6000/55000, batch loss = 0.03\n",
      "epoch 5, step 6250/55000, batch loss = 0.00\n",
      "epoch 5, step 6500/55000, batch loss = 0.01\n",
      "epoch 5, step 6750/55000, batch loss = 0.02\n",
      "epoch 5, step 7000/55000, batch loss = 0.00\n",
      "epoch 5, step 7250/55000, batch loss = 0.02\n",
      "epoch 5, step 7500/55000, batch loss = 0.01\n",
      "Train accuracy = 99.36\n",
      "epoch 5, step 7750/55000, batch loss = 0.03\n",
      "epoch 5, step 8000/55000, batch loss = 0.00\n",
      "epoch 5, step 8250/55000, batch loss = 0.01\n",
      "epoch 5, step 8500/55000, batch loss = 0.01\n",
      "epoch 5, step 8750/55000, batch loss = 0.03\n",
      "epoch 5, step 9000/55000, batch loss = 0.07\n",
      "epoch 5, step 9250/55000, batch loss = 0.01\n",
      "epoch 5, step 9500/55000, batch loss = 0.01\n",
      "epoch 5, step 9750/55000, batch loss = 0.00\n"
     ]
    },
    {
     "name": "stderr",
     "output_type": "stream",
     "text": [
      "WARNING:root:Lossy conversion from float64 to uint8. Range [0, 1]. Convert image to uint8 prior to saving to suppress this warning.\n"
     ]
    },
    {
     "name": "stdout",
     "output_type": "stream",
     "text": [
      "epoch 5, step 10000/55000, batch loss = 0.01\n",
      "Train accuracy = 99.39\n",
      "epoch 5, step 10250/55000, batch loss = 0.00\n",
      "epoch 5, step 10500/55000, batch loss = 0.00\n",
      "epoch 5, step 10750/55000, batch loss = 0.01\n",
      "epoch 5, step 11000/55000, batch loss = 0.00\n",
      "epoch 5, step 11250/55000, batch loss = 0.01\n",
      "epoch 5, step 11500/55000, batch loss = 0.00\n",
      "epoch 5, step 11750/55000, batch loss = 0.00\n",
      "epoch 5, step 12000/55000, batch loss = 0.00\n",
      "epoch 5, step 12250/55000, batch loss = 0.03\n",
      "epoch 5, step 12500/55000, batch loss = 0.00\n",
      "Train accuracy = 99.41\n",
      "epoch 5, step 12750/55000, batch loss = 0.01\n",
      "epoch 5, step 13000/55000, batch loss = 0.01\n",
      "epoch 5, step 13250/55000, batch loss = 0.03\n",
      "epoch 5, step 13500/55000, batch loss = 0.04\n",
      "epoch 5, step 13750/55000, batch loss = 0.01\n",
      "epoch 5, step 14000/55000, batch loss = 0.00\n",
      "epoch 5, step 14250/55000, batch loss = 0.00\n",
      "epoch 5, step 14500/55000, batch loss = 0.01\n",
      "epoch 5, step 14750/55000, batch loss = 0.02\n"
     ]
    },
    {
     "name": "stderr",
     "output_type": "stream",
     "text": [
      "WARNING:root:Lossy conversion from float64 to uint8. Range [0, 1]. Convert image to uint8 prior to saving to suppress this warning.\n"
     ]
    },
    {
     "name": "stdout",
     "output_type": "stream",
     "text": [
      "epoch 5, step 15000/55000, batch loss = 0.00\n",
      "Train accuracy = 99.45\n",
      "epoch 5, step 15250/55000, batch loss = 0.01\n",
      "epoch 5, step 15500/55000, batch loss = 0.00\n",
      "epoch 5, step 15750/55000, batch loss = 0.03\n",
      "epoch 5, step 16000/55000, batch loss = 0.01\n",
      "epoch 5, step 16250/55000, batch loss = 0.03\n",
      "epoch 5, step 16500/55000, batch loss = 0.03\n",
      "epoch 5, step 16750/55000, batch loss = 0.01\n",
      "epoch 5, step 17000/55000, batch loss = 0.01\n",
      "epoch 5, step 17250/55000, batch loss = 0.02\n",
      "epoch 5, step 17500/55000, batch loss = 0.06\n",
      "Train accuracy = 99.41\n",
      "epoch 5, step 17750/55000, batch loss = 0.00\n",
      "epoch 5, step 18000/55000, batch loss = 0.02\n",
      "epoch 5, step 18250/55000, batch loss = 0.02\n",
      "epoch 5, step 18500/55000, batch loss = 0.00\n",
      "epoch 5, step 18750/55000, batch loss = 0.00\n",
      "epoch 5, step 19000/55000, batch loss = 0.00\n",
      "epoch 5, step 19250/55000, batch loss = 0.06\n",
      "epoch 5, step 19500/55000, batch loss = 0.00\n",
      "epoch 5, step 19750/55000, batch loss = 0.00\n"
     ]
    },
    {
     "name": "stderr",
     "output_type": "stream",
     "text": [
      "WARNING:root:Lossy conversion from float64 to uint8. Range [0, 1]. Convert image to uint8 prior to saving to suppress this warning.\n"
     ]
    },
    {
     "name": "stdout",
     "output_type": "stream",
     "text": [
      "epoch 5, step 20000/55000, batch loss = 0.00\n",
      "Train accuracy = 99.39\n",
      "epoch 5, step 20250/55000, batch loss = 0.02\n",
      "epoch 5, step 20500/55000, batch loss = 0.02\n",
      "epoch 5, step 20750/55000, batch loss = 0.02\n",
      "epoch 5, step 21000/55000, batch loss = 0.03\n",
      "epoch 5, step 21250/55000, batch loss = 0.01\n",
      "epoch 5, step 21500/55000, batch loss = 0.00\n",
      "epoch 5, step 21750/55000, batch loss = 0.00\n",
      "epoch 5, step 22000/55000, batch loss = 0.00\n",
      "epoch 5, step 22250/55000, batch loss = 0.03\n",
      "epoch 5, step 22500/55000, batch loss = 0.00\n",
      "Train accuracy = 99.41\n",
      "epoch 5, step 22750/55000, batch loss = 0.01\n",
      "epoch 5, step 23000/55000, batch loss = 0.00\n",
      "epoch 5, step 23250/55000, batch loss = 0.07\n",
      "epoch 5, step 23500/55000, batch loss = 0.01\n",
      "epoch 5, step 23750/55000, batch loss = 0.00\n",
      "epoch 5, step 24000/55000, batch loss = 0.00\n",
      "epoch 5, step 24250/55000, batch loss = 0.00\n",
      "epoch 5, step 24500/55000, batch loss = 0.00\n",
      "epoch 5, step 24750/55000, batch loss = 0.01\n"
     ]
    },
    {
     "name": "stderr",
     "output_type": "stream",
     "text": [
      "WARNING:root:Lossy conversion from float64 to uint8. Range [0, 1]. Convert image to uint8 prior to saving to suppress this warning.\n"
     ]
    },
    {
     "name": "stdout",
     "output_type": "stream",
     "text": [
      "epoch 5, step 25000/55000, batch loss = 0.01\n",
      "Train accuracy = 99.44\n",
      "epoch 5, step 25250/55000, batch loss = 0.00\n",
      "epoch 5, step 25500/55000, batch loss = 0.01\n",
      "epoch 5, step 25750/55000, batch loss = 0.00\n",
      "epoch 5, step 26000/55000, batch loss = 0.01\n",
      "epoch 5, step 26250/55000, batch loss = 0.02\n",
      "epoch 5, step 26500/55000, batch loss = 0.01\n",
      "epoch 5, step 26750/55000, batch loss = 0.00\n",
      "epoch 5, step 27000/55000, batch loss = 0.01\n",
      "epoch 5, step 27250/55000, batch loss = 0.00\n",
      "epoch 5, step 27500/55000, batch loss = 0.24\n",
      "Train accuracy = 99.45\n",
      "epoch 5, step 27750/55000, batch loss = 0.03\n",
      "epoch 5, step 28000/55000, batch loss = 0.01\n",
      "epoch 5, step 28250/55000, batch loss = 0.05\n",
      "epoch 5, step 28500/55000, batch loss = 0.02\n",
      "epoch 5, step 28750/55000, batch loss = 0.01\n",
      "epoch 5, step 29000/55000, batch loss = 0.02\n",
      "epoch 5, step 29250/55000, batch loss = 0.01\n",
      "epoch 5, step 29500/55000, batch loss = 0.00\n",
      "epoch 5, step 29750/55000, batch loss = 0.00\n"
     ]
    },
    {
     "name": "stderr",
     "output_type": "stream",
     "text": [
      "WARNING:root:Lossy conversion from float64 to uint8. Range [0, 1]. Convert image to uint8 prior to saving to suppress this warning.\n"
     ]
    },
    {
     "name": "stdout",
     "output_type": "stream",
     "text": [
      "epoch 5, step 30000/55000, batch loss = 0.05\n",
      "Train accuracy = 99.45\n",
      "epoch 5, step 30250/55000, batch loss = 0.00\n",
      "epoch 5, step 30500/55000, batch loss = 0.00\n",
      "epoch 5, step 30750/55000, batch loss = 0.00\n",
      "epoch 5, step 31000/55000, batch loss = 0.02\n",
      "epoch 5, step 31250/55000, batch loss = 0.00\n",
      "epoch 5, step 31500/55000, batch loss = 0.00\n",
      "epoch 5, step 31750/55000, batch loss = 0.01\n",
      "epoch 5, step 32000/55000, batch loss = 0.01\n",
      "epoch 5, step 32250/55000, batch loss = 0.01\n",
      "epoch 5, step 32500/55000, batch loss = 0.04\n",
      "Train accuracy = 99.46\n",
      "epoch 5, step 32750/55000, batch loss = 0.00\n",
      "epoch 5, step 33000/55000, batch loss = 0.03\n",
      "epoch 5, step 33250/55000, batch loss = 0.00\n",
      "epoch 5, step 33500/55000, batch loss = 0.00\n",
      "epoch 5, step 33750/55000, batch loss = 0.01\n",
      "epoch 5, step 34000/55000, batch loss = 0.01\n",
      "epoch 5, step 34250/55000, batch loss = 0.01\n",
      "epoch 5, step 34500/55000, batch loss = 0.12\n",
      "epoch 5, step 34750/55000, batch loss = 0.01\n"
     ]
    },
    {
     "name": "stderr",
     "output_type": "stream",
     "text": [
      "WARNING:root:Lossy conversion from float64 to uint8. Range [0, 1]. Convert image to uint8 prior to saving to suppress this warning.\n"
     ]
    },
    {
     "name": "stdout",
     "output_type": "stream",
     "text": [
      "epoch 5, step 35000/55000, batch loss = 0.03\n",
      "Train accuracy = 99.47\n",
      "epoch 5, step 35250/55000, batch loss = 0.03\n",
      "epoch 5, step 35500/55000, batch loss = 0.01\n",
      "epoch 5, step 35750/55000, batch loss = 0.01\n",
      "epoch 5, step 36000/55000, batch loss = 0.02\n",
      "epoch 5, step 36250/55000, batch loss = 0.01\n",
      "epoch 5, step 36500/55000, batch loss = 0.01\n",
      "epoch 5, step 36750/55000, batch loss = 0.01\n",
      "epoch 5, step 37000/55000, batch loss = 0.01\n",
      "epoch 5, step 37250/55000, batch loss = 0.04\n",
      "epoch 5, step 37500/55000, batch loss = 0.02\n",
      "Train accuracy = 99.46\n",
      "epoch 5, step 37750/55000, batch loss = 0.00\n",
      "epoch 5, step 38000/55000, batch loss = 0.01\n",
      "epoch 5, step 38250/55000, batch loss = 0.00\n",
      "epoch 5, step 38500/55000, batch loss = 0.00\n",
      "epoch 5, step 38750/55000, batch loss = 0.00\n",
      "epoch 5, step 39000/55000, batch loss = 0.01\n",
      "epoch 5, step 39250/55000, batch loss = 0.00\n",
      "epoch 5, step 39500/55000, batch loss = 0.03\n",
      "epoch 5, step 39750/55000, batch loss = 0.01\n"
     ]
    },
    {
     "name": "stderr",
     "output_type": "stream",
     "text": [
      "WARNING:root:Lossy conversion from float64 to uint8. Range [0, 1]. Convert image to uint8 prior to saving to suppress this warning.\n"
     ]
    },
    {
     "name": "stdout",
     "output_type": "stream",
     "text": [
      "epoch 5, step 40000/55000, batch loss = 0.01\n",
      "Train accuracy = 99.47\n",
      "epoch 5, step 40250/55000, batch loss = 0.03\n",
      "epoch 5, step 40500/55000, batch loss = 0.00\n",
      "epoch 5, step 40750/55000, batch loss = 0.00\n",
      "epoch 5, step 41000/55000, batch loss = 0.00\n",
      "epoch 5, step 41250/55000, batch loss = 0.02\n",
      "epoch 5, step 41500/55000, batch loss = 0.00\n",
      "epoch 5, step 41750/55000, batch loss = 0.03\n",
      "epoch 5, step 42000/55000, batch loss = 0.00\n",
      "epoch 5, step 42250/55000, batch loss = 0.00\n",
      "epoch 5, step 42500/55000, batch loss = 0.01\n",
      "Train accuracy = 99.47\n",
      "epoch 5, step 42750/55000, batch loss = 0.01\n",
      "epoch 5, step 43000/55000, batch loss = 0.10\n",
      "epoch 5, step 43250/55000, batch loss = 0.01\n",
      "epoch 5, step 43500/55000, batch loss = 0.00\n",
      "epoch 5, step 43750/55000, batch loss = 0.00\n",
      "epoch 5, step 44000/55000, batch loss = 0.02\n",
      "epoch 5, step 44250/55000, batch loss = 0.00\n",
      "epoch 5, step 44500/55000, batch loss = 0.00\n",
      "epoch 5, step 44750/55000, batch loss = 0.01\n"
     ]
    },
    {
     "name": "stderr",
     "output_type": "stream",
     "text": [
      "WARNING:root:Lossy conversion from float64 to uint8. Range [0, 1]. Convert image to uint8 prior to saving to suppress this warning.\n"
     ]
    },
    {
     "name": "stdout",
     "output_type": "stream",
     "text": [
      "epoch 5, step 45000/55000, batch loss = 0.00\n",
      "Train accuracy = 99.48\n",
      "epoch 5, step 45250/55000, batch loss = 0.01\n",
      "epoch 5, step 45500/55000, batch loss = 0.01\n",
      "epoch 5, step 45750/55000, batch loss = 0.00\n",
      "epoch 5, step 46000/55000, batch loss = 0.03\n",
      "epoch 5, step 46250/55000, batch loss = 0.00\n",
      "epoch 5, step 46500/55000, batch loss = 0.00\n",
      "epoch 5, step 46750/55000, batch loss = 0.02\n",
      "epoch 5, step 47000/55000, batch loss = 0.01\n",
      "epoch 5, step 47250/55000, batch loss = 0.06\n",
      "epoch 5, step 47500/55000, batch loss = 0.02\n",
      "Train accuracy = 99.49\n",
      "epoch 5, step 47750/55000, batch loss = 0.05\n",
      "epoch 5, step 48000/55000, batch loss = 0.01\n",
      "epoch 5, step 48250/55000, batch loss = 0.00\n",
      "epoch 5, step 48500/55000, batch loss = 0.04\n",
      "epoch 5, step 48750/55000, batch loss = 0.00\n",
      "epoch 5, step 49000/55000, batch loss = 0.01\n",
      "epoch 5, step 49250/55000, batch loss = 0.01\n",
      "epoch 5, step 49500/55000, batch loss = 0.01\n",
      "epoch 5, step 49750/55000, batch loss = 0.00\n"
     ]
    },
    {
     "name": "stderr",
     "output_type": "stream",
     "text": [
      "WARNING:root:Lossy conversion from float64 to uint8. Range [0, 1]. Convert image to uint8 prior to saving to suppress this warning.\n"
     ]
    },
    {
     "name": "stdout",
     "output_type": "stream",
     "text": [
      "epoch 5, step 50000/55000, batch loss = 0.00\n",
      "Train accuracy = 99.48\n",
      "epoch 5, step 50250/55000, batch loss = 0.01\n",
      "epoch 5, step 50500/55000, batch loss = 0.00\n",
      "epoch 5, step 50750/55000, batch loss = 0.01\n",
      "epoch 5, step 51000/55000, batch loss = 0.01\n",
      "epoch 5, step 51250/55000, batch loss = 0.00\n",
      "epoch 5, step 51500/55000, batch loss = 0.00\n",
      "epoch 5, step 51750/55000, batch loss = 0.04\n",
      "epoch 5, step 52000/55000, batch loss = 0.00\n",
      "epoch 5, step 52250/55000, batch loss = 0.01\n",
      "epoch 5, step 52500/55000, batch loss = 0.00\n",
      "Train accuracy = 99.48\n",
      "epoch 5, step 52750/55000, batch loss = 0.03\n",
      "epoch 5, step 53000/55000, batch loss = 0.02\n",
      "epoch 5, step 53250/55000, batch loss = 0.07\n",
      "epoch 5, step 53500/55000, batch loss = 0.00\n",
      "epoch 5, step 53750/55000, batch loss = 0.00\n",
      "epoch 5, step 54000/55000, batch loss = 0.00\n",
      "epoch 5, step 54250/55000, batch loss = 0.00\n",
      "epoch 5, step 54500/55000, batch loss = 0.04\n",
      "epoch 5, step 54750/55000, batch loss = 0.01\n",
      "Train accuracy = 99.49\n",
      "\n",
      "Running evaluation:  Validation\n",
      "Validation accuracy = 99.10\n",
      "Validation avg loss = 0.03\n",
      "\n"
     ]
    },
    {
     "name": "stderr",
     "output_type": "stream",
     "text": [
      "WARNING:root:Lossy conversion from float64 to uint8. Range [0, 1]. Convert image to uint8 prior to saving to suppress this warning.\n"
     ]
    },
    {
     "name": "stdout",
     "output_type": "stream",
     "text": [
      "epoch 6, step 0/55000, batch loss = 0.00\n",
      "epoch 6, step 250/55000, batch loss = 0.01\n",
      "epoch 6, step 500/55000, batch loss = 0.01\n",
      "epoch 6, step 750/55000, batch loss = 0.01\n",
      "epoch 6, step 1000/55000, batch loss = 0.09\n",
      "epoch 6, step 1250/55000, batch loss = 0.00\n",
      "epoch 6, step 1500/55000, batch loss = 0.00\n",
      "epoch 6, step 1750/55000, batch loss = 0.02\n",
      "epoch 6, step 2000/55000, batch loss = 0.01\n",
      "epoch 6, step 2250/55000, batch loss = 0.01\n",
      "epoch 6, step 2500/55000, batch loss = 0.02\n",
      "Train accuracy = 99.45\n",
      "epoch 6, step 2750/55000, batch loss = 0.00\n",
      "epoch 6, step 3000/55000, batch loss = 0.00\n",
      "epoch 6, step 3250/55000, batch loss = 0.00\n",
      "epoch 6, step 3500/55000, batch loss = 0.01\n",
      "epoch 6, step 3750/55000, batch loss = 0.00\n",
      "epoch 6, step 4000/55000, batch loss = 0.02\n",
      "epoch 6, step 4250/55000, batch loss = 0.01\n",
      "epoch 6, step 4500/55000, batch loss = 0.01\n",
      "epoch 6, step 4750/55000, batch loss = 0.01\n"
     ]
    },
    {
     "name": "stderr",
     "output_type": "stream",
     "text": [
      "WARNING:root:Lossy conversion from float64 to uint8. Range [0, 1]. Convert image to uint8 prior to saving to suppress this warning.\n"
     ]
    },
    {
     "name": "stdout",
     "output_type": "stream",
     "text": [
      "epoch 6, step 5000/55000, batch loss = 0.02\n",
      "Train accuracy = 99.45\n",
      "epoch 6, step 5250/55000, batch loss = 0.00\n",
      "epoch 6, step 5500/55000, batch loss = 0.00\n",
      "epoch 6, step 5750/55000, batch loss = 0.09\n",
      "epoch 6, step 6000/55000, batch loss = 0.06\n",
      "epoch 6, step 6250/55000, batch loss = 0.02\n",
      "epoch 6, step 6500/55000, batch loss = 0.03\n",
      "epoch 6, step 6750/55000, batch loss = 0.01\n",
      "epoch 6, step 7000/55000, batch loss = 0.01\n",
      "epoch 6, step 7250/55000, batch loss = 0.00\n",
      "epoch 6, step 7500/55000, batch loss = 0.00\n",
      "Train accuracy = 99.44\n",
      "epoch 6, step 7750/55000, batch loss = 0.00\n",
      "epoch 6, step 8000/55000, batch loss = 0.00\n",
      "epoch 6, step 8250/55000, batch loss = 0.01\n",
      "epoch 6, step 8500/55000, batch loss = 0.01\n",
      "epoch 6, step 8750/55000, batch loss = 0.01\n",
      "epoch 6, step 9000/55000, batch loss = 0.00\n",
      "epoch 6, step 9250/55000, batch loss = 0.01\n",
      "epoch 6, step 9500/55000, batch loss = 0.01\n",
      "epoch 6, step 9750/55000, batch loss = 0.01\n"
     ]
    },
    {
     "name": "stderr",
     "output_type": "stream",
     "text": [
      "WARNING:root:Lossy conversion from float64 to uint8. Range [0, 1]. Convert image to uint8 prior to saving to suppress this warning.\n"
     ]
    },
    {
     "name": "stdout",
     "output_type": "stream",
     "text": [
      "epoch 6, step 10000/55000, batch loss = 0.01\n",
      "Train accuracy = 99.47\n",
      "epoch 6, step 10250/55000, batch loss = 0.00\n",
      "epoch 6, step 10500/55000, batch loss = 0.01\n",
      "epoch 6, step 10750/55000, batch loss = 0.02\n",
      "epoch 6, step 11000/55000, batch loss = 0.04\n",
      "epoch 6, step 11250/55000, batch loss = 0.00\n",
      "epoch 6, step 11500/55000, batch loss = 0.02\n",
      "epoch 6, step 11750/55000, batch loss = 0.00\n",
      "epoch 6, step 12000/55000, batch loss = 0.00\n",
      "epoch 6, step 12250/55000, batch loss = 0.01\n",
      "epoch 6, step 12500/55000, batch loss = 0.04\n",
      "Train accuracy = 99.52\n",
      "epoch 6, step 12750/55000, batch loss = 0.01\n",
      "epoch 6, step 13000/55000, batch loss = 0.03\n",
      "epoch 6, step 13250/55000, batch loss = 0.00\n",
      "epoch 6, step 13500/55000, batch loss = 0.00\n",
      "epoch 6, step 13750/55000, batch loss = 0.00\n",
      "epoch 6, step 14000/55000, batch loss = 0.00\n",
      "epoch 6, step 14250/55000, batch loss = 0.06\n",
      "epoch 6, step 14500/55000, batch loss = 0.00\n",
      "epoch 6, step 14750/55000, batch loss = 0.01\n"
     ]
    },
    {
     "name": "stderr",
     "output_type": "stream",
     "text": [
      "WARNING:root:Lossy conversion from float64 to uint8. Range [0, 1]. Convert image to uint8 prior to saving to suppress this warning.\n"
     ]
    },
    {
     "name": "stdout",
     "output_type": "stream",
     "text": [
      "epoch 6, step 15000/55000, batch loss = 0.02\n",
      "Train accuracy = 99.53\n",
      "epoch 6, step 15250/55000, batch loss = 0.00\n",
      "epoch 6, step 15500/55000, batch loss = 0.00\n",
      "epoch 6, step 15750/55000, batch loss = 0.01\n",
      "epoch 6, step 16000/55000, batch loss = 0.08\n",
      "epoch 6, step 16250/55000, batch loss = 0.00\n",
      "epoch 6, step 16500/55000, batch loss = 0.03\n",
      "epoch 6, step 16750/55000, batch loss = 0.00\n",
      "epoch 6, step 17000/55000, batch loss = 0.04\n",
      "epoch 6, step 17250/55000, batch loss = 0.00\n",
      "epoch 6, step 17500/55000, batch loss = 0.00\n",
      "Train accuracy = 99.53\n",
      "epoch 6, step 17750/55000, batch loss = 0.00\n",
      "epoch 6, step 18000/55000, batch loss = 0.01\n",
      "epoch 6, step 18250/55000, batch loss = 0.01\n",
      "epoch 6, step 18500/55000, batch loss = 0.00\n",
      "epoch 6, step 18750/55000, batch loss = 0.00\n",
      "epoch 6, step 19000/55000, batch loss = 0.00\n",
      "epoch 6, step 19250/55000, batch loss = 0.00\n",
      "epoch 6, step 19500/55000, batch loss = 0.00\n",
      "epoch 6, step 19750/55000, batch loss = 0.00\n"
     ]
    },
    {
     "name": "stderr",
     "output_type": "stream",
     "text": [
      "WARNING:root:Lossy conversion from float64 to uint8. Range [0, 1]. Convert image to uint8 prior to saving to suppress this warning.\n"
     ]
    },
    {
     "name": "stdout",
     "output_type": "stream",
     "text": [
      "epoch 6, step 20000/55000, batch loss = 0.07\n",
      "Train accuracy = 99.56\n",
      "epoch 6, step 20250/55000, batch loss = 0.00\n",
      "epoch 6, step 20500/55000, batch loss = 0.01\n",
      "epoch 6, step 20750/55000, batch loss = 0.02\n",
      "epoch 6, step 21000/55000, batch loss = 0.02\n",
      "epoch 6, step 21250/55000, batch loss = 0.00\n",
      "epoch 6, step 21500/55000, batch loss = 0.01\n",
      "epoch 6, step 21750/55000, batch loss = 0.00\n",
      "epoch 6, step 22000/55000, batch loss = 0.01\n",
      "epoch 6, step 22250/55000, batch loss = 0.01\n",
      "epoch 6, step 22500/55000, batch loss = 0.00\n",
      "Train accuracy = 99.55\n",
      "epoch 6, step 22750/55000, batch loss = 0.00\n",
      "epoch 6, step 23000/55000, batch loss = 0.00\n",
      "epoch 6, step 23250/55000, batch loss = 0.02\n",
      "epoch 6, step 23500/55000, batch loss = 0.01\n",
      "epoch 6, step 23750/55000, batch loss = 0.01\n",
      "epoch 6, step 24000/55000, batch loss = 0.01\n",
      "epoch 6, step 24250/55000, batch loss = 0.02\n",
      "epoch 6, step 24500/55000, batch loss = 0.02\n",
      "epoch 6, step 24750/55000, batch loss = 0.01\n"
     ]
    },
    {
     "name": "stderr",
     "output_type": "stream",
     "text": [
      "WARNING:root:Lossy conversion from float64 to uint8. Range [0, 1]. Convert image to uint8 prior to saving to suppress this warning.\n"
     ]
    },
    {
     "name": "stdout",
     "output_type": "stream",
     "text": [
      "epoch 6, step 25000/55000, batch loss = 0.00\n",
      "Train accuracy = 99.53\n",
      "epoch 6, step 25250/55000, batch loss = 0.00\n",
      "epoch 6, step 25500/55000, batch loss = 0.01\n",
      "epoch 6, step 25750/55000, batch loss = 0.04\n",
      "epoch 6, step 26000/55000, batch loss = 0.01\n",
      "epoch 6, step 26250/55000, batch loss = 0.01\n",
      "epoch 6, step 26500/55000, batch loss = 0.02\n",
      "epoch 6, step 26750/55000, batch loss = 0.00\n",
      "epoch 6, step 27000/55000, batch loss = 0.01\n",
      "epoch 6, step 27250/55000, batch loss = 0.04\n",
      "epoch 6, step 27500/55000, batch loss = 0.02\n",
      "Train accuracy = 99.54\n",
      "epoch 6, step 27750/55000, batch loss = 0.01\n",
      "epoch 6, step 28000/55000, batch loss = 0.00\n",
      "epoch 6, step 28250/55000, batch loss = 0.11\n",
      "epoch 6, step 28500/55000, batch loss = 0.01\n",
      "epoch 6, step 28750/55000, batch loss = 0.06\n",
      "epoch 6, step 29000/55000, batch loss = 0.01\n",
      "epoch 6, step 29250/55000, batch loss = 0.03\n",
      "epoch 6, step 29500/55000, batch loss = 0.00\n",
      "epoch 6, step 29750/55000, batch loss = 0.00\n"
     ]
    },
    {
     "name": "stderr",
     "output_type": "stream",
     "text": [
      "WARNING:root:Lossy conversion from float64 to uint8. Range [0, 1]. Convert image to uint8 prior to saving to suppress this warning.\n"
     ]
    },
    {
     "name": "stdout",
     "output_type": "stream",
     "text": [
      "epoch 6, step 30000/55000, batch loss = 0.01\n",
      "Train accuracy = 99.51\n",
      "epoch 6, step 30250/55000, batch loss = 0.01\n",
      "epoch 6, step 30500/55000, batch loss = 0.01\n",
      "epoch 6, step 30750/55000, batch loss = 0.02\n",
      "epoch 6, step 31000/55000, batch loss = 0.02\n",
      "epoch 6, step 31250/55000, batch loss = 0.00\n",
      "epoch 6, step 31500/55000, batch loss = 0.00\n",
      "epoch 6, step 31750/55000, batch loss = 0.01\n",
      "epoch 6, step 32000/55000, batch loss = 0.00\n",
      "epoch 6, step 32250/55000, batch loss = 0.00\n",
      "epoch 6, step 32500/55000, batch loss = 0.00\n",
      "Train accuracy = 99.50\n",
      "epoch 6, step 32750/55000, batch loss = 0.08\n",
      "epoch 6, step 33000/55000, batch loss = 0.00\n",
      "epoch 6, step 33250/55000, batch loss = 0.00\n",
      "epoch 6, step 33500/55000, batch loss = 0.01\n",
      "epoch 6, step 33750/55000, batch loss = 0.01\n",
      "epoch 6, step 34000/55000, batch loss = 0.00\n",
      "epoch 6, step 34250/55000, batch loss = 0.01\n",
      "epoch 6, step 34500/55000, batch loss = 0.02\n",
      "epoch 6, step 34750/55000, batch loss = 0.01\n"
     ]
    },
    {
     "name": "stderr",
     "output_type": "stream",
     "text": [
      "WARNING:root:Lossy conversion from float64 to uint8. Range [0, 1]. Convert image to uint8 prior to saving to suppress this warning.\n"
     ]
    },
    {
     "name": "stdout",
     "output_type": "stream",
     "text": [
      "epoch 6, step 35000/55000, batch loss = 0.00\n",
      "Train accuracy = 99.50\n",
      "epoch 6, step 35250/55000, batch loss = 0.01\n",
      "epoch 6, step 35500/55000, batch loss = 0.00\n",
      "epoch 6, step 35750/55000, batch loss = 0.00\n",
      "epoch 6, step 36000/55000, batch loss = 0.01\n",
      "epoch 6, step 36250/55000, batch loss = 0.02\n",
      "epoch 6, step 36500/55000, batch loss = 0.00\n",
      "epoch 6, step 36750/55000, batch loss = 0.00\n",
      "epoch 6, step 37000/55000, batch loss = 0.06\n",
      "epoch 6, step 37250/55000, batch loss = 0.01\n",
      "epoch 6, step 37500/55000, batch loss = 0.10\n",
      "Train accuracy = 99.51\n",
      "epoch 6, step 37750/55000, batch loss = 0.00\n",
      "epoch 6, step 38000/55000, batch loss = 0.02\n",
      "epoch 6, step 38250/55000, batch loss = 0.06\n",
      "epoch 6, step 38500/55000, batch loss = 0.03\n",
      "epoch 6, step 38750/55000, batch loss = 0.00\n",
      "epoch 6, step 39000/55000, batch loss = 0.01\n",
      "epoch 6, step 39250/55000, batch loss = 0.00\n",
      "epoch 6, step 39500/55000, batch loss = 0.00\n",
      "epoch 6, step 39750/55000, batch loss = 0.00\n"
     ]
    },
    {
     "name": "stderr",
     "output_type": "stream",
     "text": [
      "WARNING:root:Lossy conversion from float64 to uint8. Range [0, 1]. Convert image to uint8 prior to saving to suppress this warning.\n"
     ]
    },
    {
     "name": "stdout",
     "output_type": "stream",
     "text": [
      "epoch 6, step 40000/55000, batch loss = 0.01\n",
      "Train accuracy = 99.50\n",
      "epoch 6, step 40250/55000, batch loss = 0.01\n",
      "epoch 6, step 40500/55000, batch loss = 0.00\n",
      "epoch 6, step 40750/55000, batch loss = 0.02\n",
      "epoch 6, step 41000/55000, batch loss = 0.03\n",
      "epoch 6, step 41250/55000, batch loss = 0.01\n",
      "epoch 6, step 41500/55000, batch loss = 0.00\n",
      "epoch 6, step 41750/55000, batch loss = 0.00\n",
      "epoch 6, step 42000/55000, batch loss = 0.00\n",
      "epoch 6, step 42250/55000, batch loss = 0.00\n",
      "epoch 6, step 42500/55000, batch loss = 0.00\n",
      "Train accuracy = 99.51\n",
      "epoch 6, step 42750/55000, batch loss = 0.02\n",
      "epoch 6, step 43000/55000, batch loss = 0.05\n",
      "epoch 6, step 43250/55000, batch loss = 0.00\n",
      "epoch 6, step 43500/55000, batch loss = 0.11\n",
      "epoch 6, step 43750/55000, batch loss = 0.00\n",
      "epoch 6, step 44000/55000, batch loss = 0.00\n",
      "epoch 6, step 44250/55000, batch loss = 0.00\n",
      "epoch 6, step 44500/55000, batch loss = 0.01\n",
      "epoch 6, step 44750/55000, batch loss = 0.01\n"
     ]
    },
    {
     "name": "stderr",
     "output_type": "stream",
     "text": [
      "WARNING:root:Lossy conversion from float64 to uint8. Range [0, 1]. Convert image to uint8 prior to saving to suppress this warning.\n"
     ]
    },
    {
     "name": "stdout",
     "output_type": "stream",
     "text": [
      "epoch 6, step 45000/55000, batch loss = 0.11\n",
      "Train accuracy = 99.50\n",
      "epoch 6, step 45250/55000, batch loss = 0.00\n",
      "epoch 6, step 45500/55000, batch loss = 0.01\n",
      "epoch 6, step 45750/55000, batch loss = 0.01\n",
      "epoch 6, step 46000/55000, batch loss = 0.03\n",
      "epoch 6, step 46250/55000, batch loss = 0.00\n",
      "epoch 6, step 46500/55000, batch loss = 0.06\n",
      "epoch 6, step 46750/55000, batch loss = 0.02\n",
      "epoch 6, step 47000/55000, batch loss = 0.01\n",
      "epoch 6, step 47250/55000, batch loss = 0.01\n",
      "epoch 6, step 47500/55000, batch loss = 0.01\n",
      "Train accuracy = 99.50\n",
      "epoch 6, step 47750/55000, batch loss = 0.00\n",
      "epoch 6, step 48000/55000, batch loss = 0.01\n",
      "epoch 6, step 48250/55000, batch loss = 0.01\n",
      "epoch 6, step 48500/55000, batch loss = 0.01\n",
      "epoch 6, step 48750/55000, batch loss = 0.01\n",
      "epoch 6, step 49000/55000, batch loss = 0.00\n",
      "epoch 6, step 49250/55000, batch loss = 0.03\n",
      "epoch 6, step 49500/55000, batch loss = 0.01\n",
      "epoch 6, step 49750/55000, batch loss = 0.01\n"
     ]
    },
    {
     "name": "stderr",
     "output_type": "stream",
     "text": [
      "WARNING:root:Lossy conversion from float64 to uint8. Range [0, 1]. Convert image to uint8 prior to saving to suppress this warning.\n"
     ]
    },
    {
     "name": "stdout",
     "output_type": "stream",
     "text": [
      "epoch 6, step 50000/55000, batch loss = 0.00\n",
      "Train accuracy = 99.50\n",
      "epoch 6, step 50250/55000, batch loss = 0.01\n",
      "epoch 6, step 50500/55000, batch loss = 0.09\n",
      "epoch 6, step 50750/55000, batch loss = 0.12\n",
      "epoch 6, step 51000/55000, batch loss = 0.03\n",
      "epoch 6, step 51250/55000, batch loss = 0.01\n",
      "epoch 6, step 51500/55000, batch loss = 0.00\n",
      "epoch 6, step 51750/55000, batch loss = 0.00\n",
      "epoch 6, step 52000/55000, batch loss = 0.00\n",
      "epoch 6, step 52250/55000, batch loss = 0.04\n",
      "epoch 6, step 52500/55000, batch loss = 0.00\n",
      "Train accuracy = 99.50\n",
      "epoch 6, step 52750/55000, batch loss = 0.02\n",
      "epoch 6, step 53000/55000, batch loss = 0.01\n",
      "epoch 6, step 53250/55000, batch loss = 0.02\n",
      "epoch 6, step 53500/55000, batch loss = 0.00\n",
      "epoch 6, step 53750/55000, batch loss = 0.00\n",
      "epoch 6, step 54000/55000, batch loss = 0.02\n",
      "epoch 6, step 54250/55000, batch loss = 0.10\n",
      "epoch 6, step 54500/55000, batch loss = 0.02\n",
      "epoch 6, step 54750/55000, batch loss = 0.01\n",
      "Train accuracy = 99.49\n",
      "\n",
      "Running evaluation:  Validation\n",
      "Validation accuracy = 99.10\n",
      "Validation avg loss = 0.03\n",
      "\n"
     ]
    },
    {
     "name": "stderr",
     "output_type": "stream",
     "text": [
      "WARNING:root:Lossy conversion from float64 to uint8. Range [0, 1]. Convert image to uint8 prior to saving to suppress this warning.\n"
     ]
    },
    {
     "name": "stdout",
     "output_type": "stream",
     "text": [
      "epoch 7, step 0/55000, batch loss = 0.01\n",
      "epoch 7, step 250/55000, batch loss = 0.00\n",
      "epoch 7, step 500/55000, batch loss = 0.02\n",
      "epoch 7, step 750/55000, batch loss = 0.00\n",
      "epoch 7, step 1000/55000, batch loss = 0.05\n",
      "epoch 7, step 1250/55000, batch loss = 0.07\n",
      "epoch 7, step 1500/55000, batch loss = 0.00\n",
      "epoch 7, step 1750/55000, batch loss = 0.02\n",
      "epoch 7, step 2000/55000, batch loss = 0.05\n",
      "epoch 7, step 2250/55000, batch loss = 0.00\n",
      "epoch 7, step 2500/55000, batch loss = 0.06\n",
      "Train accuracy = 99.41\n",
      "epoch 7, step 2750/55000, batch loss = 0.00\n",
      "epoch 7, step 3000/55000, batch loss = 0.00\n",
      "epoch 7, step 3250/55000, batch loss = 0.01\n",
      "epoch 7, step 3500/55000, batch loss = 0.03\n",
      "epoch 7, step 3750/55000, batch loss = 0.03\n",
      "epoch 7, step 4000/55000, batch loss = 0.00\n",
      "epoch 7, step 4250/55000, batch loss = 0.00\n",
      "epoch 7, step 4500/55000, batch loss = 0.01\n",
      "epoch 7, step 4750/55000, batch loss = 0.03\n"
     ]
    },
    {
     "name": "stderr",
     "output_type": "stream",
     "text": [
      "WARNING:root:Lossy conversion from float64 to uint8. Range [0, 1]. Convert image to uint8 prior to saving to suppress this warning.\n"
     ]
    },
    {
     "name": "stdout",
     "output_type": "stream",
     "text": [
      "epoch 7, step 5000/55000, batch loss = 0.00\n",
      "Train accuracy = 99.50\n",
      "epoch 7, step 5250/55000, batch loss = 0.00\n",
      "epoch 7, step 5500/55000, batch loss = 0.04\n",
      "epoch 7, step 5750/55000, batch loss = 0.00\n",
      "epoch 7, step 6000/55000, batch loss = 0.00\n",
      "epoch 7, step 6250/55000, batch loss = 0.02\n",
      "epoch 7, step 6500/55000, batch loss = 0.01\n",
      "epoch 7, step 6750/55000, batch loss = 0.00\n",
      "epoch 7, step 7000/55000, batch loss = 0.01\n",
      "epoch 7, step 7250/55000, batch loss = 0.01\n",
      "epoch 7, step 7500/55000, batch loss = 0.00\n",
      "Train accuracy = 99.44\n",
      "epoch 7, step 7750/55000, batch loss = 0.03\n",
      "epoch 7, step 8000/55000, batch loss = 0.03\n",
      "epoch 7, step 8250/55000, batch loss = 0.00\n",
      "epoch 7, step 8500/55000, batch loss = 0.05\n",
      "epoch 7, step 8750/55000, batch loss = 0.00\n",
      "epoch 7, step 9000/55000, batch loss = 0.01\n",
      "epoch 7, step 9250/55000, batch loss = 0.01\n",
      "epoch 7, step 9500/55000, batch loss = 0.01\n",
      "epoch 7, step 9750/55000, batch loss = 0.00\n"
     ]
    },
    {
     "name": "stderr",
     "output_type": "stream",
     "text": [
      "WARNING:root:Lossy conversion from float64 to uint8. Range [0, 1]. Convert image to uint8 prior to saving to suppress this warning.\n"
     ]
    },
    {
     "name": "stdout",
     "output_type": "stream",
     "text": [
      "epoch 7, step 10000/55000, batch loss = 0.00\n",
      "Train accuracy = 99.43\n",
      "epoch 7, step 10250/55000, batch loss = 0.00\n",
      "epoch 7, step 10500/55000, batch loss = 0.04\n",
      "epoch 7, step 10750/55000, batch loss = 0.01\n",
      "epoch 7, step 11000/55000, batch loss = 0.01\n",
      "epoch 7, step 11250/55000, batch loss = 0.01\n",
      "epoch 7, step 11500/55000, batch loss = 0.05\n",
      "epoch 7, step 11750/55000, batch loss = 0.01\n",
      "epoch 7, step 12000/55000, batch loss = 0.02\n",
      "epoch 7, step 12250/55000, batch loss = 0.00\n",
      "epoch 7, step 12500/55000, batch loss = 0.01\n",
      "Train accuracy = 99.46\n",
      "epoch 7, step 12750/55000, batch loss = 0.06\n",
      "epoch 7, step 13000/55000, batch loss = 0.05\n",
      "epoch 7, step 13250/55000, batch loss = 0.01\n",
      "epoch 7, step 13500/55000, batch loss = 0.01\n",
      "epoch 7, step 13750/55000, batch loss = 0.00\n",
      "epoch 7, step 14000/55000, batch loss = 0.01\n",
      "epoch 7, step 14250/55000, batch loss = 0.02\n",
      "epoch 7, step 14500/55000, batch loss = 0.00\n",
      "epoch 7, step 14750/55000, batch loss = 0.03\n"
     ]
    },
    {
     "name": "stderr",
     "output_type": "stream",
     "text": [
      "WARNING:root:Lossy conversion from float64 to uint8. Range [0, 1]. Convert image to uint8 prior to saving to suppress this warning.\n"
     ]
    },
    {
     "name": "stdout",
     "output_type": "stream",
     "text": [
      "epoch 7, step 15000/55000, batch loss = 0.05\n",
      "Train accuracy = 99.48\n",
      "epoch 7, step 15250/55000, batch loss = 0.02\n",
      "epoch 7, step 15500/55000, batch loss = 0.01\n",
      "epoch 7, step 15750/55000, batch loss = 0.01\n",
      "epoch 7, step 16000/55000, batch loss = 0.01\n",
      "epoch 7, step 16250/55000, batch loss = 0.00\n",
      "epoch 7, step 16500/55000, batch loss = 0.05\n",
      "epoch 7, step 16750/55000, batch loss = 0.01\n",
      "epoch 7, step 17000/55000, batch loss = 0.01\n",
      "epoch 7, step 17250/55000, batch loss = 0.00\n",
      "epoch 7, step 17500/55000, batch loss = 0.00\n",
      "Train accuracy = 99.49\n",
      "epoch 7, step 17750/55000, batch loss = 0.02\n",
      "epoch 7, step 18000/55000, batch loss = 0.07\n",
      "epoch 7, step 18250/55000, batch loss = 0.00\n",
      "epoch 7, step 18500/55000, batch loss = 0.01\n",
      "epoch 7, step 18750/55000, batch loss = 0.01\n",
      "epoch 7, step 19000/55000, batch loss = 0.02\n",
      "epoch 7, step 19250/55000, batch loss = 0.03\n",
      "epoch 7, step 19500/55000, batch loss = 0.06\n",
      "epoch 7, step 19750/55000, batch loss = 0.02\n"
     ]
    },
    {
     "name": "stderr",
     "output_type": "stream",
     "text": [
      "WARNING:root:Lossy conversion from float64 to uint8. Range [0, 1]. Convert image to uint8 prior to saving to suppress this warning.\n"
     ]
    },
    {
     "name": "stdout",
     "output_type": "stream",
     "text": [
      "epoch 7, step 20000/55000, batch loss = 0.01\n",
      "Train accuracy = 99.49\n",
      "epoch 7, step 20250/55000, batch loss = 0.00\n",
      "epoch 7, step 20500/55000, batch loss = 0.02\n",
      "epoch 7, step 20750/55000, batch loss = 0.01\n",
      "epoch 7, step 21000/55000, batch loss = 0.03\n",
      "epoch 7, step 21250/55000, batch loss = 0.01\n",
      "epoch 7, step 21500/55000, batch loss = 0.00\n",
      "epoch 7, step 21750/55000, batch loss = 0.01\n",
      "epoch 7, step 22000/55000, batch loss = 0.04\n",
      "epoch 7, step 22250/55000, batch loss = 0.00\n",
      "epoch 7, step 22500/55000, batch loss = 0.01\n",
      "Train accuracy = 99.49\n",
      "epoch 7, step 22750/55000, batch loss = 0.00\n",
      "epoch 7, step 23000/55000, batch loss = 0.01\n",
      "epoch 7, step 23250/55000, batch loss = 0.09\n",
      "epoch 7, step 23500/55000, batch loss = 0.01\n",
      "epoch 7, step 23750/55000, batch loss = 0.00\n",
      "epoch 7, step 24000/55000, batch loss = 0.02\n",
      "epoch 7, step 24250/55000, batch loss = 0.00\n",
      "epoch 7, step 24500/55000, batch loss = 0.01\n",
      "epoch 7, step 24750/55000, batch loss = 0.01\n"
     ]
    },
    {
     "name": "stderr",
     "output_type": "stream",
     "text": [
      "WARNING:root:Lossy conversion from float64 to uint8. Range [0, 1]. Convert image to uint8 prior to saving to suppress this warning.\n"
     ]
    },
    {
     "name": "stdout",
     "output_type": "stream",
     "text": [
      "epoch 7, step 25000/55000, batch loss = 0.01\n",
      "Train accuracy = 99.49\n",
      "epoch 7, step 25250/55000, batch loss = 0.01\n",
      "epoch 7, step 25500/55000, batch loss = 0.01\n",
      "epoch 7, step 25750/55000, batch loss = 0.03\n",
      "epoch 7, step 26000/55000, batch loss = 0.02\n",
      "epoch 7, step 26250/55000, batch loss = 0.02\n",
      "epoch 7, step 26500/55000, batch loss = 0.00\n",
      "epoch 7, step 26750/55000, batch loss = 0.01\n",
      "epoch 7, step 27000/55000, batch loss = 0.01\n",
      "epoch 7, step 27250/55000, batch loss = 0.03\n",
      "epoch 7, step 27500/55000, batch loss = 0.02\n",
      "Train accuracy = 99.48\n",
      "epoch 7, step 27750/55000, batch loss = 0.00\n",
      "epoch 7, step 28000/55000, batch loss = 0.00\n",
      "epoch 7, step 28250/55000, batch loss = 0.01\n",
      "epoch 7, step 28500/55000, batch loss = 0.04\n",
      "epoch 7, step 28750/55000, batch loss = 0.00\n",
      "epoch 7, step 29000/55000, batch loss = 0.00\n",
      "epoch 7, step 29250/55000, batch loss = 0.01\n",
      "epoch 7, step 29500/55000, batch loss = 0.00\n",
      "epoch 7, step 29750/55000, batch loss = 0.00\n"
     ]
    },
    {
     "name": "stderr",
     "output_type": "stream",
     "text": [
      "WARNING:root:Lossy conversion from float64 to uint8. Range [0, 1]. Convert image to uint8 prior to saving to suppress this warning.\n"
     ]
    },
    {
     "name": "stdout",
     "output_type": "stream",
     "text": [
      "epoch 7, step 30000/55000, batch loss = 0.03\n",
      "Train accuracy = 99.49\n",
      "epoch 7, step 30250/55000, batch loss = 0.02\n",
      "epoch 7, step 30500/55000, batch loss = 0.01\n",
      "epoch 7, step 30750/55000, batch loss = 0.02\n",
      "epoch 7, step 31000/55000, batch loss = 0.02\n",
      "epoch 7, step 31250/55000, batch loss = 0.02\n",
      "epoch 7, step 31500/55000, batch loss = 0.00\n",
      "epoch 7, step 31750/55000, batch loss = 0.00\n",
      "epoch 7, step 32000/55000, batch loss = 0.02\n",
      "epoch 7, step 32250/55000, batch loss = 0.00\n",
      "epoch 7, step 32500/55000, batch loss = 0.07\n",
      "Train accuracy = 99.48\n",
      "epoch 7, step 32750/55000, batch loss = 0.00\n",
      "epoch 7, step 33000/55000, batch loss = 0.01\n",
      "epoch 7, step 33250/55000, batch loss = 0.01\n",
      "epoch 7, step 33500/55000, batch loss = 0.04\n",
      "epoch 7, step 33750/55000, batch loss = 0.03\n",
      "epoch 7, step 34000/55000, batch loss = 0.01\n",
      "epoch 7, step 34250/55000, batch loss = 0.08\n",
      "epoch 7, step 34500/55000, batch loss = 0.01\n",
      "epoch 7, step 34750/55000, batch loss = 0.01\n"
     ]
    },
    {
     "name": "stderr",
     "output_type": "stream",
     "text": [
      "WARNING:root:Lossy conversion from float64 to uint8. Range [0, 1]. Convert image to uint8 prior to saving to suppress this warning.\n"
     ]
    },
    {
     "name": "stdout",
     "output_type": "stream",
     "text": [
      "epoch 7, step 35000/55000, batch loss = 0.00\n",
      "Train accuracy = 99.48\n",
      "epoch 7, step 35250/55000, batch loss = 0.05\n",
      "epoch 7, step 35500/55000, batch loss = 0.00\n",
      "epoch 7, step 35750/55000, batch loss = 0.00\n",
      "epoch 7, step 36000/55000, batch loss = 0.00\n",
      "epoch 7, step 36250/55000, batch loss = 0.03\n",
      "epoch 7, step 36500/55000, batch loss = 0.04\n",
      "epoch 7, step 36750/55000, batch loss = 0.00\n",
      "epoch 7, step 37000/55000, batch loss = 0.00\n",
      "epoch 7, step 37250/55000, batch loss = 0.02\n",
      "epoch 7, step 37500/55000, batch loss = 0.02\n",
      "Train accuracy = 99.49\n",
      "epoch 7, step 37750/55000, batch loss = 0.03\n",
      "epoch 7, step 38000/55000, batch loss = 0.01\n",
      "epoch 7, step 38250/55000, batch loss = 0.00\n",
      "epoch 7, step 38500/55000, batch loss = 0.00\n",
      "epoch 7, step 38750/55000, batch loss = 0.09\n",
      "epoch 7, step 39000/55000, batch loss = 0.01\n",
      "epoch 7, step 39250/55000, batch loss = 0.01\n",
      "epoch 7, step 39500/55000, batch loss = 0.01\n",
      "epoch 7, step 39750/55000, batch loss = 0.01\n"
     ]
    },
    {
     "name": "stderr",
     "output_type": "stream",
     "text": [
      "WARNING:root:Lossy conversion from float64 to uint8. Range [0, 1]. Convert image to uint8 prior to saving to suppress this warning.\n"
     ]
    },
    {
     "name": "stdout",
     "output_type": "stream",
     "text": [
      "epoch 7, step 40000/55000, batch loss = 0.00\n",
      "Train accuracy = 99.50\n",
      "epoch 7, step 40250/55000, batch loss = 0.12\n",
      "epoch 7, step 40500/55000, batch loss = 0.01\n",
      "epoch 7, step 40750/55000, batch loss = 0.00\n",
      "epoch 7, step 41000/55000, batch loss = 0.00\n",
      "epoch 7, step 41250/55000, batch loss = 0.00\n",
      "epoch 7, step 41500/55000, batch loss = 0.01\n",
      "epoch 7, step 41750/55000, batch loss = 0.01\n",
      "epoch 7, step 42000/55000, batch loss = 0.07\n",
      "epoch 7, step 42250/55000, batch loss = 0.00\n",
      "epoch 7, step 42500/55000, batch loss = 0.01\n",
      "Train accuracy = 99.51\n",
      "epoch 7, step 42750/55000, batch loss = 0.06\n",
      "epoch 7, step 43000/55000, batch loss = 0.01\n",
      "epoch 7, step 43250/55000, batch loss = 0.04\n",
      "epoch 7, step 43500/55000, batch loss = 0.02\n",
      "epoch 7, step 43750/55000, batch loss = 0.02\n",
      "epoch 7, step 44000/55000, batch loss = 0.03\n",
      "epoch 7, step 44250/55000, batch loss = 0.01\n",
      "epoch 7, step 44500/55000, batch loss = 0.00\n",
      "epoch 7, step 44750/55000, batch loss = 0.04\n"
     ]
    },
    {
     "name": "stderr",
     "output_type": "stream",
     "text": [
      "WARNING:root:Lossy conversion from float64 to uint8. Range [0, 1]. Convert image to uint8 prior to saving to suppress this warning.\n"
     ]
    },
    {
     "name": "stdout",
     "output_type": "stream",
     "text": [
      "epoch 7, step 45000/55000, batch loss = 0.03\n",
      "Train accuracy = 99.50\n",
      "epoch 7, step 45250/55000, batch loss = 0.01\n",
      "epoch 7, step 45500/55000, batch loss = 0.06\n",
      "epoch 7, step 45750/55000, batch loss = 0.00\n",
      "epoch 7, step 46000/55000, batch loss = 0.00\n",
      "epoch 7, step 46250/55000, batch loss = 0.00\n",
      "epoch 7, step 46500/55000, batch loss = 0.00\n",
      "epoch 7, step 46750/55000, batch loss = 0.02\n",
      "epoch 7, step 47000/55000, batch loss = 0.01\n",
      "epoch 7, step 47250/55000, batch loss = 0.03\n",
      "epoch 7, step 47500/55000, batch loss = 0.01\n",
      "Train accuracy = 99.50\n",
      "epoch 7, step 47750/55000, batch loss = 0.00\n",
      "epoch 7, step 48000/55000, batch loss = 0.00\n",
      "epoch 7, step 48250/55000, batch loss = 0.01\n",
      "epoch 7, step 48500/55000, batch loss = 0.01\n",
      "epoch 7, step 48750/55000, batch loss = 0.00\n",
      "epoch 7, step 49000/55000, batch loss = 0.06\n",
      "epoch 7, step 49250/55000, batch loss = 0.00\n",
      "epoch 7, step 49500/55000, batch loss = 0.03\n",
      "epoch 7, step 49750/55000, batch loss = 0.01\n"
     ]
    },
    {
     "name": "stderr",
     "output_type": "stream",
     "text": [
      "WARNING:root:Lossy conversion from float64 to uint8. Range [0, 1]. Convert image to uint8 prior to saving to suppress this warning.\n"
     ]
    },
    {
     "name": "stdout",
     "output_type": "stream",
     "text": [
      "epoch 7, step 50000/55000, batch loss = 0.01\n",
      "Train accuracy = 99.50\n",
      "epoch 7, step 50250/55000, batch loss = 0.03\n",
      "epoch 7, step 50500/55000, batch loss = 0.00\n",
      "epoch 7, step 50750/55000, batch loss = 0.01\n",
      "epoch 7, step 51000/55000, batch loss = 0.04\n",
      "epoch 7, step 51250/55000, batch loss = 0.03\n",
      "epoch 7, step 51500/55000, batch loss = 0.05\n",
      "epoch 7, step 51750/55000, batch loss = 0.01\n",
      "epoch 7, step 52000/55000, batch loss = 0.01\n",
      "epoch 7, step 52250/55000, batch loss = 0.00\n",
      "epoch 7, step 52500/55000, batch loss = 0.01\n",
      "Train accuracy = 99.50\n",
      "epoch 7, step 52750/55000, batch loss = 0.00\n",
      "epoch 7, step 53000/55000, batch loss = 0.00\n",
      "epoch 7, step 53250/55000, batch loss = 0.03\n",
      "epoch 7, step 53500/55000, batch loss = 0.08\n",
      "epoch 7, step 53750/55000, batch loss = 0.00\n",
      "epoch 7, step 54000/55000, batch loss = 0.01\n",
      "epoch 7, step 54250/55000, batch loss = 0.04\n",
      "epoch 7, step 54500/55000, batch loss = 0.01\n",
      "epoch 7, step 54750/55000, batch loss = 0.09\n",
      "Train accuracy = 99.50\n",
      "\n",
      "Running evaluation:  Validation\n",
      "Validation accuracy = 99.10\n",
      "Validation avg loss = 0.03\n",
      "\n"
     ]
    },
    {
     "name": "stderr",
     "output_type": "stream",
     "text": [
      "WARNING:root:Lossy conversion from float64 to uint8. Range [0, 1]. Convert image to uint8 prior to saving to suppress this warning.\n"
     ]
    },
    {
     "name": "stdout",
     "output_type": "stream",
     "text": [
      "epoch 8, step 0/55000, batch loss = 0.01\n",
      "epoch 8, step 250/55000, batch loss = 0.00\n",
      "epoch 8, step 500/55000, batch loss = 0.00\n",
      "epoch 8, step 750/55000, batch loss = 0.02\n",
      "epoch 8, step 1000/55000, batch loss = 0.13\n",
      "epoch 8, step 1250/55000, batch loss = 0.00\n",
      "epoch 8, step 1500/55000, batch loss = 0.01\n",
      "epoch 8, step 1750/55000, batch loss = 0.01\n",
      "epoch 8, step 2000/55000, batch loss = 0.03\n",
      "epoch 8, step 2250/55000, batch loss = 0.01\n",
      "epoch 8, step 2500/55000, batch loss = 0.02\n",
      "Train accuracy = 99.69\n",
      "epoch 8, step 2750/55000, batch loss = 0.07\n",
      "epoch 8, step 3000/55000, batch loss = 0.12\n",
      "epoch 8, step 3250/55000, batch loss = 0.01\n",
      "epoch 8, step 3500/55000, batch loss = 0.01\n",
      "epoch 8, step 3750/55000, batch loss = 0.00\n",
      "epoch 8, step 4000/55000, batch loss = 0.01\n",
      "epoch 8, step 4250/55000, batch loss = 0.01\n",
      "epoch 8, step 4500/55000, batch loss = 0.01\n",
      "epoch 8, step 4750/55000, batch loss = 0.11\n"
     ]
    },
    {
     "name": "stderr",
     "output_type": "stream",
     "text": [
      "WARNING:root:Lossy conversion from float64 to uint8. Range [0, 1]. Convert image to uint8 prior to saving to suppress this warning.\n"
     ]
    },
    {
     "name": "stdout",
     "output_type": "stream",
     "text": [
      "epoch 8, step 5000/55000, batch loss = 0.01\n",
      "Train accuracy = 99.56\n",
      "epoch 8, step 5250/55000, batch loss = 0.08\n",
      "epoch 8, step 5500/55000, batch loss = 0.00\n",
      "epoch 8, step 5750/55000, batch loss = 0.01\n",
      "epoch 8, step 6000/55000, batch loss = 0.00\n",
      "epoch 8, step 6250/55000, batch loss = 0.03\n",
      "epoch 8, step 6500/55000, batch loss = 0.00\n",
      "epoch 8, step 6750/55000, batch loss = 0.01\n",
      "epoch 8, step 7000/55000, batch loss = 0.01\n",
      "epoch 8, step 7250/55000, batch loss = 0.04\n",
      "epoch 8, step 7500/55000, batch loss = 0.00\n",
      "Train accuracy = 99.56\n",
      "epoch 8, step 7750/55000, batch loss = 0.00\n",
      "epoch 8, step 8000/55000, batch loss = 0.00\n",
      "epoch 8, step 8250/55000, batch loss = 0.15\n",
      "epoch 8, step 8500/55000, batch loss = 0.00\n",
      "epoch 8, step 8750/55000, batch loss = 0.03\n",
      "epoch 8, step 9000/55000, batch loss = 0.05\n",
      "epoch 8, step 9250/55000, batch loss = 0.01\n",
      "epoch 8, step 9500/55000, batch loss = 0.00\n",
      "epoch 8, step 9750/55000, batch loss = 0.03\n"
     ]
    },
    {
     "name": "stderr",
     "output_type": "stream",
     "text": [
      "WARNING:root:Lossy conversion from float64 to uint8. Range [0, 1]. Convert image to uint8 prior to saving to suppress this warning.\n"
     ]
    },
    {
     "name": "stdout",
     "output_type": "stream",
     "text": [
      "epoch 8, step 10000/55000, batch loss = 0.03\n",
      "Train accuracy = 99.54\n",
      "epoch 8, step 10250/55000, batch loss = 0.03\n",
      "epoch 8, step 10500/55000, batch loss = 0.00\n",
      "epoch 8, step 10750/55000, batch loss = 0.02\n",
      "epoch 8, step 11000/55000, batch loss = 0.00\n",
      "epoch 8, step 11250/55000, batch loss = 0.01\n",
      "epoch 8, step 11500/55000, batch loss = 0.09\n",
      "epoch 8, step 11750/55000, batch loss = 0.02\n",
      "epoch 8, step 12000/55000, batch loss = 0.03\n",
      "epoch 8, step 12250/55000, batch loss = 0.00\n",
      "epoch 8, step 12500/55000, batch loss = 0.00\n",
      "Train accuracy = 99.53\n",
      "epoch 8, step 12750/55000, batch loss = 0.01\n",
      "epoch 8, step 13000/55000, batch loss = 0.00\n",
      "epoch 8, step 13250/55000, batch loss = 0.01\n",
      "epoch 8, step 13500/55000, batch loss = 0.00\n",
      "epoch 8, step 13750/55000, batch loss = 0.00\n",
      "epoch 8, step 14000/55000, batch loss = 0.00\n",
      "epoch 8, step 14250/55000, batch loss = 0.03\n",
      "epoch 8, step 14500/55000, batch loss = 0.00\n",
      "epoch 8, step 14750/55000, batch loss = 0.01\n"
     ]
    },
    {
     "name": "stderr",
     "output_type": "stream",
     "text": [
      "WARNING:root:Lossy conversion from float64 to uint8. Range [0, 1]. Convert image to uint8 prior to saving to suppress this warning.\n"
     ]
    },
    {
     "name": "stdout",
     "output_type": "stream",
     "text": [
      "epoch 8, step 15000/55000, batch loss = 0.00\n",
      "Train accuracy = 99.52\n",
      "epoch 8, step 15250/55000, batch loss = 0.01\n",
      "epoch 8, step 15500/55000, batch loss = 0.04\n",
      "epoch 8, step 15750/55000, batch loss = 0.01\n",
      "epoch 8, step 16000/55000, batch loss = 0.05\n",
      "epoch 8, step 16250/55000, batch loss = 0.00\n",
      "epoch 8, step 16500/55000, batch loss = 0.00\n",
      "epoch 8, step 16750/55000, batch loss = 0.01\n",
      "epoch 8, step 17000/55000, batch loss = 0.01\n",
      "epoch 8, step 17250/55000, batch loss = 0.01\n",
      "epoch 8, step 17500/55000, batch loss = 0.01\n",
      "Train accuracy = 99.53\n",
      "epoch 8, step 17750/55000, batch loss = 0.08\n",
      "epoch 8, step 18000/55000, batch loss = 0.02\n",
      "epoch 8, step 18250/55000, batch loss = 0.05\n",
      "epoch 8, step 18500/55000, batch loss = 0.00\n",
      "epoch 8, step 18750/55000, batch loss = 0.00\n",
      "epoch 8, step 19000/55000, batch loss = 0.01\n",
      "epoch 8, step 19250/55000, batch loss = 0.00\n",
      "epoch 8, step 19500/55000, batch loss = 0.01\n",
      "epoch 8, step 19750/55000, batch loss = 0.01\n"
     ]
    },
    {
     "name": "stderr",
     "output_type": "stream",
     "text": [
      "WARNING:root:Lossy conversion from float64 to uint8. Range [0, 1]. Convert image to uint8 prior to saving to suppress this warning.\n"
     ]
    },
    {
     "name": "stdout",
     "output_type": "stream",
     "text": [
      "epoch 8, step 20000/55000, batch loss = 0.00\n",
      "Train accuracy = 99.53\n",
      "epoch 8, step 20250/55000, batch loss = 0.00\n",
      "epoch 8, step 20500/55000, batch loss = 0.01\n",
      "epoch 8, step 20750/55000, batch loss = 0.00\n",
      "epoch 8, step 21000/55000, batch loss = 0.03\n",
      "epoch 8, step 21250/55000, batch loss = 0.03\n",
      "epoch 8, step 21500/55000, batch loss = 0.00\n",
      "epoch 8, step 21750/55000, batch loss = 0.05\n",
      "epoch 8, step 22000/55000, batch loss = 0.01\n",
      "epoch 8, step 22250/55000, batch loss = 0.02\n",
      "epoch 8, step 22500/55000, batch loss = 0.04\n",
      "Train accuracy = 99.53\n",
      "epoch 8, step 22750/55000, batch loss = 0.01\n",
      "epoch 8, step 23000/55000, batch loss = 0.03\n",
      "epoch 8, step 23250/55000, batch loss = 0.01\n",
      "epoch 8, step 23500/55000, batch loss = 0.01\n",
      "epoch 8, step 23750/55000, batch loss = 0.00\n",
      "epoch 8, step 24000/55000, batch loss = 0.00\n",
      "epoch 8, step 24250/55000, batch loss = 0.00\n",
      "epoch 8, step 24500/55000, batch loss = 0.02\n",
      "epoch 8, step 24750/55000, batch loss = 0.00\n"
     ]
    },
    {
     "name": "stderr",
     "output_type": "stream",
     "text": [
      "WARNING:root:Lossy conversion from float64 to uint8. Range [0, 1]. Convert image to uint8 prior to saving to suppress this warning.\n"
     ]
    },
    {
     "name": "stdout",
     "output_type": "stream",
     "text": [
      "epoch 8, step 25000/55000, batch loss = 0.01\n",
      "Train accuracy = 99.53\n",
      "epoch 8, step 25250/55000, batch loss = 0.01\n",
      "epoch 8, step 25500/55000, batch loss = 0.01\n",
      "epoch 8, step 25750/55000, batch loss = 0.08\n",
      "epoch 8, step 26000/55000, batch loss = 0.03\n",
      "epoch 8, step 26250/55000, batch loss = 0.01\n",
      "epoch 8, step 26500/55000, batch loss = 0.01\n",
      "epoch 8, step 26750/55000, batch loss = 0.17\n",
      "epoch 8, step 27000/55000, batch loss = 0.00\n",
      "epoch 8, step 27250/55000, batch loss = 0.00\n",
      "epoch 8, step 27500/55000, batch loss = 0.02\n",
      "Train accuracy = 99.52\n",
      "epoch 8, step 27750/55000, batch loss = 0.00\n",
      "epoch 8, step 28000/55000, batch loss = 0.01\n",
      "epoch 8, step 28250/55000, batch loss = 0.03\n",
      "epoch 8, step 28500/55000, batch loss = 0.01\n",
      "epoch 8, step 28750/55000, batch loss = 0.01\n",
      "epoch 8, step 29000/55000, batch loss = 0.00\n",
      "epoch 8, step 29250/55000, batch loss = 0.01\n",
      "epoch 8, step 29500/55000, batch loss = 0.00\n",
      "epoch 8, step 29750/55000, batch loss = 0.00\n"
     ]
    },
    {
     "name": "stderr",
     "output_type": "stream",
     "text": [
      "WARNING:root:Lossy conversion from float64 to uint8. Range [0, 1]. Convert image to uint8 prior to saving to suppress this warning.\n"
     ]
    },
    {
     "name": "stdout",
     "output_type": "stream",
     "text": [
      "epoch 8, step 30000/55000, batch loss = 0.01\n",
      "Train accuracy = 99.51\n",
      "epoch 8, step 30250/55000, batch loss = 0.00\n",
      "epoch 8, step 30500/55000, batch loss = 0.02\n",
      "epoch 8, step 30750/55000, batch loss = 0.00\n",
      "epoch 8, step 31000/55000, batch loss = 0.01\n",
      "epoch 8, step 31250/55000, batch loss = 0.02\n",
      "epoch 8, step 31500/55000, batch loss = 0.00\n",
      "epoch 8, step 31750/55000, batch loss = 0.01\n",
      "epoch 8, step 32000/55000, batch loss = 0.00\n",
      "epoch 8, step 32250/55000, batch loss = 0.00\n",
      "epoch 8, step 32500/55000, batch loss = 0.00\n",
      "Train accuracy = 99.52\n",
      "epoch 8, step 32750/55000, batch loss = 0.02\n",
      "epoch 8, step 33000/55000, batch loss = 0.01\n",
      "epoch 8, step 33250/55000, batch loss = 0.11\n",
      "epoch 8, step 33500/55000, batch loss = 0.05\n",
      "epoch 8, step 33750/55000, batch loss = 0.00\n",
      "epoch 8, step 34000/55000, batch loss = 0.01\n",
      "epoch 8, step 34250/55000, batch loss = 0.00\n",
      "epoch 8, step 34500/55000, batch loss = 0.05\n",
      "epoch 8, step 34750/55000, batch loss = 0.00\n"
     ]
    },
    {
     "name": "stderr",
     "output_type": "stream",
     "text": [
      "WARNING:root:Lossy conversion from float64 to uint8. Range [0, 1]. Convert image to uint8 prior to saving to suppress this warning.\n"
     ]
    },
    {
     "name": "stdout",
     "output_type": "stream",
     "text": [
      "epoch 8, step 35000/55000, batch loss = 0.00\n",
      "Train accuracy = 99.51\n",
      "epoch 8, step 35250/55000, batch loss = 0.00\n",
      "epoch 8, step 35500/55000, batch loss = 0.01\n",
      "epoch 8, step 35750/55000, batch loss = 0.00\n",
      "epoch 8, step 36000/55000, batch loss = 0.01\n",
      "epoch 8, step 36250/55000, batch loss = 0.00\n",
      "epoch 8, step 36500/55000, batch loss = 0.00\n",
      "epoch 8, step 36750/55000, batch loss = 0.00\n",
      "epoch 8, step 37000/55000, batch loss = 0.00\n",
      "epoch 8, step 37250/55000, batch loss = 0.01\n",
      "epoch 8, step 37500/55000, batch loss = 0.01\n",
      "Train accuracy = 99.51\n",
      "epoch 8, step 37750/55000, batch loss = 0.00\n",
      "epoch 8, step 38000/55000, batch loss = 0.00\n",
      "epoch 8, step 38250/55000, batch loss = 0.02\n",
      "epoch 8, step 38500/55000, batch loss = 0.02\n",
      "epoch 8, step 38750/55000, batch loss = 0.01\n",
      "epoch 8, step 39000/55000, batch loss = 0.01\n",
      "epoch 8, step 39250/55000, batch loss = 0.01\n",
      "epoch 8, step 39500/55000, batch loss = 0.01\n",
      "epoch 8, step 39750/55000, batch loss = 0.00\n"
     ]
    },
    {
     "name": "stderr",
     "output_type": "stream",
     "text": [
      "WARNING:root:Lossy conversion from float64 to uint8. Range [0, 1]. Convert image to uint8 prior to saving to suppress this warning.\n"
     ]
    },
    {
     "name": "stdout",
     "output_type": "stream",
     "text": [
      "epoch 8, step 40000/55000, batch loss = 0.03\n",
      "Train accuracy = 99.52\n",
      "epoch 8, step 40250/55000, batch loss = 0.00\n",
      "epoch 8, step 40500/55000, batch loss = 0.00\n",
      "epoch 8, step 40750/55000, batch loss = 0.01\n",
      "epoch 8, step 41000/55000, batch loss = 0.00\n",
      "epoch 8, step 41250/55000, batch loss = 0.00\n",
      "epoch 8, step 41500/55000, batch loss = 0.02\n",
      "epoch 8, step 41750/55000, batch loss = 0.00\n",
      "epoch 8, step 42000/55000, batch loss = 0.00\n",
      "epoch 8, step 42250/55000, batch loss = 0.01\n",
      "epoch 8, step 42500/55000, batch loss = 0.01\n",
      "Train accuracy = 99.52\n",
      "epoch 8, step 42750/55000, batch loss = 0.01\n",
      "epoch 8, step 43000/55000, batch loss = 0.01\n",
      "epoch 8, step 43250/55000, batch loss = 0.07\n",
      "epoch 8, step 43500/55000, batch loss = 0.00\n",
      "epoch 8, step 43750/55000, batch loss = 0.02\n",
      "epoch 8, step 44000/55000, batch loss = 0.00\n",
      "epoch 8, step 44250/55000, batch loss = 0.00\n",
      "epoch 8, step 44500/55000, batch loss = 0.04\n",
      "epoch 8, step 44750/55000, batch loss = 0.02\n"
     ]
    },
    {
     "name": "stderr",
     "output_type": "stream",
     "text": [
      "WARNING:root:Lossy conversion from float64 to uint8. Range [0, 1]. Convert image to uint8 prior to saving to suppress this warning.\n"
     ]
    },
    {
     "name": "stdout",
     "output_type": "stream",
     "text": [
      "epoch 8, step 45000/55000, batch loss = 0.00\n",
      "Train accuracy = 99.50\n",
      "epoch 8, step 45250/55000, batch loss = 0.03\n",
      "epoch 8, step 45500/55000, batch loss = 0.00\n",
      "epoch 8, step 45750/55000, batch loss = 0.05\n",
      "epoch 8, step 46000/55000, batch loss = 0.01\n",
      "epoch 8, step 46250/55000, batch loss = 0.00\n",
      "epoch 8, step 46500/55000, batch loss = 0.01\n",
      "epoch 8, step 46750/55000, batch loss = 0.00\n",
      "epoch 8, step 47000/55000, batch loss = 0.01\n",
      "epoch 8, step 47250/55000, batch loss = 0.04\n",
      "epoch 8, step 47500/55000, batch loss = 0.03\n",
      "Train accuracy = 99.50\n",
      "epoch 8, step 47750/55000, batch loss = 0.02\n",
      "epoch 8, step 48000/55000, batch loss = 0.01\n",
      "epoch 8, step 48250/55000, batch loss = 0.07\n",
      "epoch 8, step 48500/55000, batch loss = 0.01\n",
      "epoch 8, step 48750/55000, batch loss = 0.01\n",
      "epoch 8, step 49000/55000, batch loss = 0.02\n",
      "epoch 8, step 49250/55000, batch loss = 0.01\n",
      "epoch 8, step 49500/55000, batch loss = 0.03\n",
      "epoch 8, step 49750/55000, batch loss = 0.17\n"
     ]
    },
    {
     "name": "stderr",
     "output_type": "stream",
     "text": [
      "WARNING:root:Lossy conversion from float64 to uint8. Range [0, 1]. Convert image to uint8 prior to saving to suppress this warning.\n"
     ]
    },
    {
     "name": "stdout",
     "output_type": "stream",
     "text": [
      "epoch 8, step 50000/55000, batch loss = 0.00\n",
      "Train accuracy = 99.50\n",
      "epoch 8, step 50250/55000, batch loss = 0.01\n",
      "epoch 8, step 50500/55000, batch loss = 0.00\n",
      "epoch 8, step 50750/55000, batch loss = 0.00\n",
      "epoch 8, step 51000/55000, batch loss = 0.01\n",
      "epoch 8, step 51250/55000, batch loss = 0.00\n",
      "epoch 8, step 51500/55000, batch loss = 0.00\n",
      "epoch 8, step 51750/55000, batch loss = 0.01\n",
      "epoch 8, step 52000/55000, batch loss = 0.06\n",
      "epoch 8, step 52250/55000, batch loss = 0.01\n",
      "epoch 8, step 52500/55000, batch loss = 0.00\n",
      "Train accuracy = 99.50\n",
      "epoch 8, step 52750/55000, batch loss = 0.00\n",
      "epoch 8, step 53000/55000, batch loss = 0.01\n",
      "epoch 8, step 53250/55000, batch loss = 0.02\n",
      "epoch 8, step 53500/55000, batch loss = 0.01\n",
      "epoch 8, step 53750/55000, batch loss = 0.00\n",
      "epoch 8, step 54000/55000, batch loss = 0.01\n",
      "epoch 8, step 54250/55000, batch loss = 0.01\n",
      "epoch 8, step 54500/55000, batch loss = 0.01\n",
      "epoch 8, step 54750/55000, batch loss = 0.00\n",
      "Train accuracy = 99.50\n",
      "\n",
      "Running evaluation:  Validation\n",
      "Validation accuracy = 99.10\n",
      "Validation avg loss = 0.03\n",
      "\n",
      "\n",
      "Running evaluation:  Test\n",
      "Test accuracy = 99.18\n",
      "Test avg loss = 0.02\n",
      "\n"
     ]
    }
   ],
   "source": [
    "from train import train\n",
    "\n",
    "train()\n"
   ]
  },
  {
   "cell_type": "code",
   "execution_count": 9,
   "metadata": {
    "colab": {
     "base_uri": "https://localhost:8080/",
     "height": 772
    },
    "id": "Ws_Bvqiwnr7V",
    "outputId": "c987f15a-5ab2-4c88-cb37-33d1b3c1317a"
   },
   "outputs": [
    {
     "data": {
      "image/png": "[encoded data removed]",
      "text/plain": [
       "<Figure size 2400x1200 with 12 Axes>"
      ]
     },
     "metadata": {
      "needs_background": "light"
     },
     "output_type": "display_data"
    }
   ],
   "source": [
    "import matplotlib.pyplot as plt\n",
    "import matplotlib.image as mpimg\n",
    "from matplotlib.pyplot import figure\n",
    "\n",
    "\n",
    "epochs = [\"01\",\"03\",\"05\",\"07\"]\n",
    "steps = [\"010000\", \"030000\", \"050000\"]\n",
    "\n",
    "figure(figsize=(20, 10), dpi=120)\n",
    "\n",
    "i = 1\n",
    "\n",
    "for epoch in epochs:\n",
    "  for step in steps:\n",
    "    plt.subplot(4,3,i)\n",
    "    plt.title(\"Epoch: \" + epoch + \", steps: \" + step)\n",
    "    img = mpimg.imread('./out/conv1_epoch_' + epoch + '_step_' + step + '_input_000.png')\n",
    "    imgplot = plt.imshow(img)\n",
    "    i += 1\n",
    "\n"
   ]
  },
  {
   "cell_type": "code",
   "execution_count": 1,
   "metadata": {
    "colab": {
     "base_uri": "https://localhost:8080/",
     "height": 953
    },
    "id": "Zea1QvbVL_nP",
    "outputId": "2d22e94c-8722-49e8-f4e9-4612c153cb6b"
   },
   "outputs": [
    {
     "data": {
      "image/svg+xml": [
       "<svg xmlns=\"http://www.w3.org/2000/svg\" width=\"1920\" height=\"912\" style=\"cursor: move;\"><g transform=\"translate(574.6790893110391,35.77937185421564) scale(0.8705505632961245)\"><rect class=\"rect\" id=\"0_0\" width=\"28\" height=\"28\" x=\"54.90332008121925\" y=\"442\" style=\"fill: rgb(160, 160, 160); stroke: black; stroke-width: 1; opacity: 0.8;\"/><rect class=\"rect\" id=\"1_0\" width=\"28\" height=\"28\" x=\"122.90332008121925\" y=\"382\" style=\"fill: rgb(160, 160, 160); stroke: black; stroke-width: 1; opacity: 0.8;\"/><rect class=\"rect\" id=\"1_1\" width=\"28\" height=\"28\" x=\"130.90332008121925\" y=\"390\" style=\"fill: rgb(224, 224, 224); stroke: black; stroke-width: 1; opacity: 0.8;\"/><rect class=\"rect\" id=\"1_2\" width=\"28\" height=\"28\" x=\"138.90332008121925\" y=\"398\" style=\"fill: rgb(160, 160, 160); stroke: black; stroke-width: 1; opacity: 0.8;\"/><rect class=\"rect\" id=\"1_3\" width=\"28\" height=\"28\" x=\"146.90332008121925\" y=\"406\" style=\"fill: rgb(224, 224, 224); stroke: black; stroke-width: 1; opacity: 0.8;\"/><rect class=\"rect\" id=\"1_4\" width=\"28\" height=\"28\" x=\"154.90332008121925\" y=\"414\" style=\"fill: rgb(160, 160, 160); stroke: black; stroke-width: 1; opacity: 0.8;\"/><rect class=\"rect\" id=\"1_5\" width=\"28\" height=\"28\" x=\"162.90332008121925\" y=\"422\" style=\"fill: rgb(224, 224, 224); stroke: black; stroke-width: 1; opacity: 0.8;\"/><rect class=\"rect\" id=\"1_6\" width=\"28\" height=\"28\" x=\"170.90332008121925\" y=\"430\" style=\"fill: rgb(160, 160, 160); stroke: black; stroke-width: 1; opacity: 0.8;\"/><rect class=\"rect\" id=\"1_7\" width=\"28\" height=\"28\" x=\"178.90332008121925\" y=\"438\" style=\"fill: rgb(224, 224, 224); stroke: black; stroke-width: 1; opacity: 0.8;\"/><rect class=\"rect\" id=\"1_8\" width=\"28\" height=\"28\" x=\"186.90332008121925\" y=\"446\" style=\"fill: rgb(160, 160, 160); stroke: black; stroke-width: 1; opacity: 0.8;\"/><rect class=\"rect\" id=\"1_9\" width=\"28\" height=\"28\" x=\"194.90332008121925\" y=\"454\" style=\"fill: rgb(224, 224, 224); stroke: black; stroke-width: 1; opacity: 0.8;\"/><rect class=\"rect\" id=\"1_10\" width=\"28\" height=\"28\" x=\"202.90332008121925\" y=\"462\" style=\"fill: rgb(160, 160, 160); stroke: black; stroke-width: 1; opacity: 0.8;\"/><rect class=\"rect\" id=\"1_11\" width=\"28\" height=\"28\" x=\"210.90332008121925\" y=\"470\" style=\"fill: rgb(224, 224, 224); stroke: black; stroke-width: 1; opacity: 0.8;\"/><rect class=\"rect\" id=\"1_12\" width=\"28\" height=\"28\" x=\"218.90332008121925\" y=\"478\" style=\"fill: rgb(160, 160, 160); stroke: black; stroke-width: 1; opacity: 0.8;\"/><rect class=\"rect\" id=\"1_13\" width=\"28\" height=\"28\" x=\"226.90332008121925\" y=\"486\" style=\"fill: rgb(224, 224, 224); stroke: black; stroke-width: 1; opacity: 0.8;\"/><rect class=\"rect\" id=\"1_14\" width=\"28\" height=\"28\" x=\"234.90332008121925\" y=\"494\" style=\"fill: rgb(160, 160, 160); stroke: black; stroke-width: 1; opacity: 0.8;\"/><rect class=\"rect\" id=\"1_15\" width=\"28\" height=\"28\" x=\"242.90332008121925\" y=\"502\" style=\"fill: rgb(224, 224, 224); stroke: black; stroke-width: 1; opacity: 0.8;\"/><rect class=\"rect\" id=\"2_0\" width=\"14\" height=\"14\" x=\"280.90332008121925\" y=\"389\" style=\"fill: rgb(160, 160, 160); stroke: black; stroke-width: 1; opacity: 0.8;\"/><rect class=\"rect\" id=\"2_1\" width=\"14\" height=\"14\" x=\"288.90332008121925\" y=\"397\" style=\"fill: rgb(224, 224, 224); stroke: black; stroke-width: 1; opacity: 0.8;\"/><rect class=\"rect\" id=\"2_2\" width=\"14\" height=\"14\" x=\"296.90332008121925\" y=\"405\" style=\"fill: rgb(160, 160, 160); stroke: black; stroke-width: 1; opacity: 0.8;\"/><rect class=\"rect\" id=\"2_3\" width=\"14\" height=\"14\" x=\"304.90332008121925\" y=\"413\" style=\"fill: rgb(224, 224, 224); stroke: black; stroke-width: 1; opacity: 0.8;\"/><rect class=\"rect\" id=\"2_4\" width=\"14\" height=\"14\" x=\"312.90332008121925\" y=\"421\" style=\"fill: rgb(160, 160, 160); stroke: black; stroke-width: 1; opacity: 0.8;\"/><rect class=\"rect\" id=\"2_5\" width=\"14\" height=\"14\" x=\"320.90332008121925\" y=\"429\" style=\"fill: rgb(224, 224, 224); stroke: black; stroke-width: 1; opacity: 0.8;\"/><rect class=\"rect\" id=\"2_6\" width=\"14\" height=\"14\" x=\"328.90332008121925\" y=\"437\" style=\"fill: rgb(160, 160, 160); stroke: black; stroke-width: 1; opacity: 0.8;\"/><rect class=\"rect\" id=\"2_7\" width=\"14\" height=\"14\" x=\"336.90332008121925\" y=\"445\" style=\"fill: rgb(224, 224, 224); stroke: black; stroke-width: 1; opacity: 0.8;\"/><rect class=\"rect\" id=\"2_8\" width=\"14\" height=\"14\" x=\"344.90332008121925\" y=\"453\" style=\"fill: rgb(160, 160, 160); stroke: black; stroke-width: 1; opacity: 0.8;\"/><rect class=\"rect\" id=\"2_9\" width=\"14\" height=\"14\" x=\"352.90332008121925\" y=\"461\" style=\"fill: rgb(224, 224, 224); stroke: black; stroke-width: 1; opacity: 0.8;\"/><rect class=\"rect\" id=\"2_10\" width=\"14\" height=\"14\" x=\"360.90332008121925\" y=\"469\" style=\"fill: rgb(160, 160, 160); stroke: black; stroke-width: 1; opacity: 0.8;\"/><rect class=\"rect\" id=\"2_11\" width=\"14\" height=\"14\" x=\"368.90332008121925\" y=\"477\" style=\"fill: rgb(224, 224, 224); stroke: black; stroke-width: 1; opacity: 0.8;\"/><rect class=\"rect\" id=\"2_12\" width=\"14\" height=\"14\" x=\"376.90332008121925\" y=\"485\" style=\"fill: rgb(160, 160, 160); stroke: black; stroke-width: 1; opacity: 0.8;\"/><rect class=\"rect\" id=\"2_13\" width=\"14\" height=\"14\" x=\"384.90332008121925\" y=\"493\" style=\"fill: rgb(224, 224, 224); stroke: black; stroke-width: 1; opacity: 0.8;\"/><rect class=\"rect\" id=\"2_14\" width=\"14\" height=\"14\" x=\"392.90332008121925\" y=\"501\" style=\"fill: rgb(160, 160, 160); stroke: black; stroke-width: 1; opacity: 0.8;\"/><rect class=\"rect\" id=\"2_15\" width=\"14\" height=\"14\" x=\"400.90332008121925\" y=\"509\" style=\"fill: rgb(224, 224, 224); stroke: black; stroke-width: 1; opacity: 0.8;\"/><rect class=\"rect\" id=\"3_0\" width=\"14\" height=\"14\" x=\"394.90332008121925\" y=\"325\" style=\"fill: rgb(160, 160, 160); stroke: black; stroke-width: 1; opacity: 0.8;\"/><rect class=\"rect\" id=\"3_1\" width=\"14\" height=\"14\" x=\"402.90332008121925\" y=\"333\" style=\"fill: rgb(224, 224, 224); stroke: black; stroke-width: 1; opacity: 0.8;\"/><rect class=\"rect\" id=\"3_2\" width=\"14\" height=\"14\" x=\"410.90332008121925\" y=\"341\" style=\"fill: rgb(160, 160, 160); stroke: black; stroke-width: 1; opacity: 0.8;\"/><rect class=\"rect\" id=\"3_3\" width=\"14\" height=\"14\" x=\"418.90332008121925\" y=\"349\" style=\"fill: rgb(224, 224, 224); stroke: black; stroke-width: 1; opacity: 0.8;\"/><rect class=\"rect\" id=\"3_4\" width=\"14\" height=\"14\" x=\"426.90332008121925\" y=\"357\" style=\"fill: rgb(160, 160, 160); stroke: black; stroke-width: 1; opacity: 0.8;\"/><rect class=\"rect\" id=\"3_5\" width=\"14\" height=\"14\" x=\"434.90332008121925\" y=\"365\" style=\"fill: rgb(224, 224, 224); stroke: black; stroke-width: 1; opacity: 0.8;\"/><rect class=\"rect\" id=\"3_6\" width=\"14\" height=\"14\" x=\"442.90332008121925\" y=\"373\" style=\"fill: rgb(160, 160, 160); stroke: black; stroke-width: 1; opacity: 0.8;\"/><rect class=\"rect\" id=\"3_7\" width=\"14\" height=\"14\" x=\"450.90332008121925\" y=\"381\" style=\"fill: rgb(224, 224, 224); stroke: black; stroke-width: 1; opacity: 0.8;\"/><rect class=\"rect\" id=\"3_8\" width=\"14\" height=\"14\" x=\"458.90332008121925\" y=\"389\" style=\"fill: rgb(160, 160, 160); stroke: black; stroke-width: 1; opacity: 0.8;\"/><rect class=\"rect\" id=\"3_9\" width=\"14\" height=\"14\" x=\"466.90332008121925\" y=\"397\" style=\"fill: rgb(224, 224, 224); stroke: black; stroke-width: 1; opacity: 0.8;\"/><rect class=\"rect\" id=\"3_10\" width=\"14\" height=\"14\" x=\"474.90332008121925\" y=\"405\" style=\"fill: rgb(160, 160, 160); stroke: black; stroke-width: 1; opacity: 0.8;\"/><rect class=\"rect\" id=\"3_11\" width=\"14\" height=\"14\" x=\"482.90332008121925\" y=\"413\" style=\"fill: rgb(224, 224, 224); stroke: black; stroke-width: 1; opacity: 0.8;\"/><rect class=\"rect\" id=\"3_12\" width=\"14\" height=\"14\" x=\"490.90332008121925\" y=\"421\" style=\"fill: rgb(160, 160, 160); stroke: black; stroke-width: 1; opacity: 0.8;\"/><rect class=\"rect\" id=\"3_13\" width=\"14\" height=\"14\" x=\"498.90332008121925\" y=\"429\" style=\"fill: rgb(224, 224, 224); stroke: black; stroke-width: 1; opacity: 0.8;\"/><rect class=\"rect\" id=\"3_14\" width=\"14\" height=\"14\" x=\"506.90332008121925\" y=\"437\" style=\"fill: rgb(160, 160, 160); stroke: black; stroke-width: 1; opacity: 0.8;\"/><rect class=\"rect\" id=\"3_15\" width=\"14\" height=\"14\" x=\"514.9033200812192\" y=\"445\" style=\"fill: rgb(224, 224, 224); stroke: black; stroke-width: 1; opacity: 0.8;\"/><rect class=\"rect\" id=\"3_16\" width=\"14\" height=\"14\" x=\"522.9033200812192\" y=\"453\" style=\"fill: rgb(160, 160, 160); stroke: black; stroke-width: 1; opacity: 0.8;\"/><rect class=\"rect\" id=\"3_17\" width=\"14\" height=\"14\" x=\"530.9033200812192\" y=\"461\" style=\"fill: rgb(224, 224, 224); stroke: black; stroke-width: 1; opacity: 0.8;\"/><rect class=\"rect\" id=\"3_18\" width=\"14\" height=\"14\" x=\"538.9033200812192\" y=\"469\" style=\"fill: rgb(160, 160, 160); stroke: black; stroke-width: 1; opacity: 0.8;\"/><rect class=\"rect\" id=\"3_19\" width=\"14\" height=\"14\" x=\"546.9033200812192\" y=\"477\" style=\"fill: rgb(224, 224, 224); stroke: black; stroke-width: 1; opacity: 0.8;\"/><rect class=\"rect\" id=\"3_20\" width=\"14\" height=\"14\" x=\"554.9033200812192\" y=\"485\" style=\"fill: rgb(160, 160, 160); stroke: black; stroke-width: 1; opacity: 0.8;\"/><rect class=\"rect\" id=\"3_21\" width=\"14\" height=\"14\" x=\"562.9033200812192\" y=\"493\" style=\"fill: rgb(224, 224, 224); stroke: black; stroke-width: 1; opacity: 0.8;\"/><rect class=\"rect\" id=\"3_22\" width=\"14\" height=\"14\" x=\"570.9033200812192\" y=\"501\" style=\"fill: rgb(160, 160, 160); stroke: black; stroke-width: 1; opacity: 0.8;\"/><rect class=\"rect\" id=\"3_23\" width=\"14\" height=\"14\" x=\"578.9033200812192\" y=\"509\" style=\"fill: rgb(224, 224, 224); stroke: black; stroke-width: 1; opacity: 0.8;\"/><rect class=\"rect\" id=\"3_24\" width=\"14\" height=\"14\" x=\"586.9033200812192\" y=\"517\" style=\"fill: rgb(160, 160, 160); stroke: black; stroke-width: 1; opacity: 0.8;\"/><rect class=\"rect\" id=\"3_25\" width=\"14\" height=\"14\" x=\"594.9033200812192\" y=\"525\" style=\"fill: rgb(224, 224, 224); stroke: black; stroke-width: 1; opacity: 0.8;\"/><rect class=\"rect\" id=\"3_26\" width=\"14\" height=\"14\" x=\"602.9033200812192\" y=\"533\" style=\"fill: rgb(160, 160, 160); stroke: black; stroke-width: 1; opacity: 0.8;\"/><rect class=\"rect\" id=\"3_27\" width=\"14\" height=\"14\" x=\"610.9033200812192\" y=\"541\" style=\"fill: rgb(224, 224, 224); stroke: black; stroke-width: 1; opacity: 0.8;\"/><rect class=\"rect\" id=\"3_28\" width=\"14\" height=\"14\" x=\"618.9033200812192\" y=\"549\" style=\"fill: rgb(160, 160, 160); stroke: black; stroke-width: 1; opacity: 0.8;\"/><rect class=\"rect\" id=\"3_29\" width=\"14\" height=\"14\" x=\"626.9033200812192\" y=\"557\" style=\"fill: rgb(224, 224, 224); stroke: black; stroke-width: 1; opacity: 0.8;\"/><rect class=\"rect\" id=\"3_30\" width=\"14\" height=\"14\" x=\"634.9033200812192\" y=\"565\" style=\"fill: rgb(160, 160, 160); stroke: black; stroke-width: 1; opacity: 0.8;\"/><rect class=\"rect\" id=\"3_31\" width=\"14\" height=\"14\" x=\"642.9033200812192\" y=\"573\" style=\"fill: rgb(224, 224, 224); stroke: black; stroke-width: 1; opacity: 0.8;\"/><rect class=\"rect\" id=\"4_0\" width=\"7\" height=\"7\" x=\"636.9033200812192\" y=\"328.5\" style=\"fill: rgb(160, 160, 160); stroke: black; stroke-width: 1; opacity: 0.8;\"/><rect class=\"rect\" id=\"4_1\" width=\"7\" height=\"7\" x=\"644.9033200812192\" y=\"336.5\" style=\"fill: rgb(224, 224, 224); stroke: black; stroke-width: 1; opacity: 0.8;\"/><rect class=\"rect\" id=\"4_2\" width=\"7\" height=\"7\" x=\"652.9033200812192\" y=\"344.5\" style=\"fill: rgb(160, 160, 160); stroke: black; stroke-width: 1; opacity: 0.8;\"/><rect class=\"rect\" id=\"4_3\" width=\"7\" height=\"7\" x=\"660.9033200812192\" y=\"352.5\" style=\"fill: rgb(224, 224, 224); stroke: black; stroke-width: 1; opacity: 0.8;\"/><rect class=\"rect\" id=\"4_4\" width=\"7\" height=\"7\" x=\"668.9033200812192\" y=\"360.5\" style=\"fill: rgb(160, 160, 160); stroke: black; stroke-width: 1; opacity: 0.8;\"/><rect class=\"rect\" id=\"4_5\" width=\"7\" height=\"7\" x=\"676.9033200812192\" y=\"368.5\" style=\"fill: rgb(224, 224, 224); stroke: black; stroke-width: 1; opacity: 0.8;\"/><rect class=\"rect\" id=\"4_6\" width=\"7\" height=\"7\" x=\"684.9033200812192\" y=\"376.5\" style=\"fill: rgb(160, 160, 160); stroke: black; stroke-width: 1; opacity: 0.8;\"/><rect class=\"rect\" id=\"4_7\" width=\"7\" height=\"7\" x=\"692.9033200812192\" y=\"384.5\" style=\"fill: rgb(224, 224, 224); stroke: black; stroke-width: 1; opacity: 0.8;\"/><rect class=\"rect\" id=\"4_8\" width=\"7\" height=\"7\" x=\"700.9033200812192\" y=\"392.5\" style=\"fill: rgb(160, 160, 160); stroke: black; stroke-width: 1; opacity: 0.8;\"/><rect class=\"rect\" id=\"4_9\" width=\"7\" height=\"7\" x=\"708.9033200812192\" y=\"400.5\" style=\"fill: rgb(224, 224, 224); stroke: black; stroke-width: 1; opacity: 0.8;\"/><rect class=\"rect\" id=\"4_10\" width=\"7\" height=\"7\" x=\"716.9033200812192\" y=\"408.5\" style=\"fill: rgb(160, 160, 160); stroke: black; stroke-width: 1; opacity: 0.8;\"/><rect class=\"rect\" id=\"4_11\" width=\"7\" height=\"7\" x=\"724.9033200812192\" y=\"416.5\" style=\"fill: rgb(224, 224, 224); stroke: black; stroke-width: 1; opacity: 0.8;\"/><rect class=\"rect\" id=\"4_12\" width=\"7\" height=\"7\" x=\"732.9033200812192\" y=\"424.5\" style=\"fill: rgb(160, 160, 160); stroke: black; stroke-width: 1; opacity: 0.8;\"/><rect class=\"rect\" id=\"4_13\" width=\"7\" height=\"7\" x=\"740.9033200812192\" y=\"432.5\" style=\"fill: rgb(224, 224, 224); stroke: black; stroke-width: 1; opacity: 0.8;\"/><rect class=\"rect\" id=\"4_14\" width=\"7\" height=\"7\" x=\"748.9033200812192\" y=\"440.5\" style=\"fill: rgb(160, 160, 160); stroke: black; stroke-width: 1; opacity: 0.8;\"/><rect class=\"rect\" id=\"4_15\" width=\"7\" height=\"7\" x=\"756.9033200812192\" y=\"448.5\" style=\"fill: rgb(224, 224, 224); stroke: black; stroke-width: 1; opacity: 0.8;\"/><rect class=\"rect\" id=\"4_16\" width=\"7\" height=\"7\" x=\"764.9033200812192\" y=\"456.5\" style=\"fill: rgb(160, 160, 160); stroke: black; stroke-width: 1; opacity: 0.8;\"/><rect class=\"rect\" id=\"4_17\" width=\"7\" height=\"7\" x=\"772.9033200812192\" y=\"464.5\" style=\"fill: rgb(224, 224, 224); stroke: black; stroke-width: 1; opacity: 0.8;\"/><rect class=\"rect\" id=\"4_18\" width=\"7\" height=\"7\" x=\"780.9033200812192\" y=\"472.5\" style=\"fill: rgb(160, 160, 160); stroke: black; stroke-width: 1; opacity: 0.8;\"/><rect class=\"rect\" id=\"4_19\" width=\"7\" height=\"7\" x=\"788.9033200812192\" y=\"480.5\" style=\"fill: rgb(224, 224, 224); stroke: black; stroke-width: 1; opacity: 0.8;\"/><rect class=\"rect\" id=\"4_20\" width=\"7\" height=\"7\" x=\"796.9033200812192\" y=\"488.5\" style=\"fill: rgb(160, 160, 160); stroke: black; stroke-width: 1; opacity: 0.8;\"/><rect class=\"rect\" id=\"4_21\" width=\"7\" height=\"7\" x=\"804.9033200812192\" y=\"496.5\" style=\"fill: rgb(224, 224, 224); stroke: black; stroke-width: 1; opacity: 0.8;\"/><rect class=\"rect\" id=\"4_22\" width=\"7\" height=\"7\" x=\"812.9033200812192\" y=\"504.5\" style=\"fill: rgb(160, 160, 160); stroke: black; stroke-width: 1; opacity: 0.8;\"/><rect class=\"rect\" id=\"4_23\" width=\"7\" height=\"7\" x=\"820.9033200812192\" y=\"512.5\" style=\"fill: rgb(224, 224, 224); stroke: black; stroke-width: 1; opacity: 0.8;\"/><rect class=\"rect\" id=\"4_24\" width=\"7\" height=\"7\" x=\"828.9033200812192\" y=\"520.5\" style=\"fill: rgb(160, 160, 160); stroke: black; stroke-width: 1; opacity: 0.8;\"/><rect class=\"rect\" id=\"4_25\" width=\"7\" height=\"7\" x=\"836.9033200812192\" y=\"528.5\" style=\"fill: rgb(224, 224, 224); stroke: black; stroke-width: 1; opacity: 0.8;\"/><rect class=\"rect\" id=\"4_26\" width=\"7\" height=\"7\" x=\"844.9033200812192\" y=\"536.5\" style=\"fill: rgb(160, 160, 160); stroke: black; stroke-width: 1; opacity: 0.8;\"/><rect class=\"rect\" id=\"4_27\" width=\"7\" height=\"7\" x=\"852.9033200812192\" y=\"544.5\" style=\"fill: rgb(224, 224, 224); stroke: black; stroke-width: 1; opacity: 0.8;\"/><rect class=\"rect\" id=\"4_28\" width=\"7\" height=\"7\" x=\"860.9033200812192\" y=\"552.5\" style=\"fill: rgb(160, 160, 160); stroke: black; stroke-width: 1; opacity: 0.8;\"/><rect class=\"rect\" id=\"4_29\" width=\"7\" height=\"7\" x=\"868.9033200812192\" y=\"560.5\" style=\"fill: rgb(224, 224, 224); stroke: black; stroke-width: 1; opacity: 0.8;\"/><rect class=\"rect\" id=\"4_30\" width=\"7\" height=\"7\" x=\"876.9033200812192\" y=\"568.5\" style=\"fill: rgb(160, 160, 160); stroke: black; stroke-width: 1; opacity: 0.8;\"/><rect class=\"rect\" id=\"4_31\" width=\"7\" height=\"7\" x=\"884.9033200812192\" y=\"576.5\" style=\"fill: rgb(224, 224, 224); stroke: black; stroke-width: 1; opacity: 0.8;\"/><rect class=\"conv\" id=\"conv_0\" width=\"5\" height=\"5\" x=\"65.98996010448911\" y=\"461.5888340543404\" style=\"fill-opacity: 0; stroke: black; stroke-width: 1; stroke-opacity: 0.8;\"/><rect class=\"conv\" id=\"conv_1\" width=\"5\" height=\"5\" x=\"255.14156328767208\" y=\"517.3556322703816\" style=\"fill-opacity: 0; stroke: black; stroke-width: 1; stroke-opacity: 0.8;\"/><rect class=\"conv\" id=\"conv_2\" width=\"5\" height=\"5\" x=\"405.92503048628333\" y=\"516.6894321951121\" style=\"fill-opacity: 0; stroke: black; stroke-width: 1; stroke-opacity: 0.8;\"/><rect class=\"conv\" id=\"conv_3\" width=\"5\" height=\"5\" x=\"645.7016993255922\" y=\"578.7513437336864\" style=\"fill-opacity: 0; stroke: black; stroke-width: 1; stroke-opacity: 0.8;\"/><line class=\"link\" id=\"conv_0\" x1=\"70.98996010448911\" y1=\"466.5888340543404\" x2=\"256.4000992399826\" y2=\"525.8472762400665\" style=\"stroke: black; stroke-width: 0.5; stroke-opacity: 0.8;\"/><line class=\"link\" id=\"conv_0\" x1=\"70.98996010448911\" y1=\"461.5888340543404\" x2=\"256.4000992399826\" y2=\"525.8472762400665\" style=\"stroke: black; stroke-width: 0.5; stroke-opacity: 0.8;\"/><line class=\"link\" id=\"conv_1\" x1=\"260.14156328767206\" y1=\"522.3556322703816\" x2=\"408.35268551123403\" y2=\"518.3469065993627\" style=\"stroke: black; stroke-width: 0.5; stroke-opacity: 0.8;\"/><line class=\"link\" id=\"conv_1\" x1=\"260.14156328767206\" y1=\"517.3556322703816\" x2=\"408.35268551123403\" y2=\"518.3469065993627\" style=\"stroke: black; stroke-width: 0.5; stroke-opacity: 0.8;\"/><line class=\"link\" id=\"conv_2\" x1=\"410.92503048628333\" y1=\"521.6894321951121\" x2=\"650.7148696002079\" y2=\"584.9613389701743\" style=\"stroke: black; stroke-width: 0.5; stroke-opacity: 0.8;\"/><line class=\"link\" id=\"conv_2\" x1=\"410.92503048628333\" y1=\"516.6894321951121\" x2=\"650.7148696002079\" y2=\"584.9613389701743\" style=\"stroke: black; stroke-width: 0.5; stroke-opacity: 0.8;\"/><line class=\"link\" id=\"conv_3\" x1=\"650.7016993255922\" y1=\"583.7513437336864\" x2=\"887.0798372712871\" y2=\"580.9732673484227\" style=\"stroke: black; stroke-width: 0.5; stroke-opacity: 0.8;\"/><line class=\"link\" id=\"conv_3\" x1=\"650.7016993255922\" y1=\"578.7513437336864\" x2=\"887.0798372712871\" y2=\"580.9732673484227\" style=\"stroke: black; stroke-width: 0.5; stroke-opacity: 0.8;\"/><polygon class=\"poly\" id=\"fc_0\" points=\"903.9033200812192,274.98066401624385 913.9033200812192,274.98066401624385 1275.9419920487317,637.0193359837562 1265.9419920487317,637.0193359837562\" style=\"fill: rgb(224, 224, 224); stroke: black; stroke-width: 1; opacity: 0.8;\"/><polygon class=\"poly\" id=\"fc_1\" points=\"1277.9419920487317,452.46446609406723 1287.9419920487317,452.46446609406723 1295.0130598605972,459.5355339059327 1285.0130598605972,459.5355339059327\" style=\"fill: rgb(224, 224, 224); stroke: black; stroke-width: 1; opacity: 0.8;\"/><line class=\"line\" id=\"fc_0\" x1=\"891.9033200812192\" y1=\"583.5\" x2=\"1265.9419920487317\" y2=\"637.0193359837562\" style=\"stroke: black; stroke-width: 0.5; stroke-opacity: 0.8; opacity: 1;\"/><line class=\"line\" id=\"fc_0\" x1=\"643.9033200812192\" y1=\"328.5\" x2=\"903.9033200812192\" y2=\"274.98066401624385\" style=\"stroke: black; stroke-width: 0.5; stroke-opacity: 0.8; opacity: 1;\"/><line class=\"line\" id=\"fc_1\" x1=\"1275.9419920487317\" y1=\"637.0193359837562\" x2=\"1285.013059860597\" y2=\"459.53553390593277\" style=\"stroke: black; stroke-width: 0.5; stroke-opacity: 0.8; opacity: 1;\"/><line class=\"line\" id=\"fc_1\" x1=\"913.9033200812192\" y1=\"274.98066401624385\" x2=\"1277.9419920487317\" y2=\"452.46446609406723\" style=\"stroke: black; stroke-width: 0.5; stroke-opacity: 0.8; opacity: 1;\"/><text class=\"text\" dy=\".35em\" font-family=\"sans-serif\" x=\"124.90332008121925\" y=\"804.0386719675123\" style=\"font-size: 16px; opacity: 1;\">Convolution 1</text><text class=\"text\" dy=\".35em\" font-family=\"sans-serif\" x=\"294.40332008121925\" y=\"804.0386719675123\" style=\"font-size: 16px; opacity: 1;\">Max-Pool 1</text><text class=\"text\" dy=\".35em\" font-family=\"sans-serif\" x=\"455.40332008121925\" y=\"804.0386719675123\" style=\"font-size: 16px; opacity: 1;\">Convolution 2</text><text class=\"text\" dy=\".35em\" font-family=\"sans-serif\" x=\"695.6533200812192\" y=\"804.0386719675123\" style=\"font-size: 16px; opacity: 1;\">Max-Pool 2</text><text class=\"text\" dy=\".35em\" font-family=\"sans-serif\" x=\"973.4129880730974\" y=\"804.0386719675123\" style=\"font-size: 16px; opacity: 1;\">Flatten</text><text class=\"info\" dy=\"-0.3em\" font-family=\"sans-serif\" x=\"54.90332008121925\" y=\"427\" style=\"font-size: 16px;\">1@28x28</text><text class=\"info\" dy=\"-0.3em\" font-family=\"sans-serif\" x=\"122.90332008121925\" y=\"367\" style=\"font-size: 16px;\">16@28x28</text><text class=\"info\" dy=\"-0.3em\" font-family=\"sans-serif\" x=\"280.90332008121925\" y=\"374\" style=\"font-size: 16px;\">16@14x14</text><text class=\"info\" dy=\"-0.3em\" font-family=\"sans-serif\" x=\"394.90332008121925\" y=\"310\" style=\"font-size: 16px;\">32@14x14</text><text class=\"info\" dy=\"-0.3em\" font-family=\"sans-serif\" x=\"636.9033200812192\" y=\"313.5\" style=\"font-size: 16px;\">32@7x7</text><text class=\"info\" dy=\"-0.3em\" font-family=\"sans-serif\" x=\"903.9033200812192\" y=\"259.98066401624385\" style=\"font-size: 16px;\">1x512</text><text class=\"info\" dy=\"-0.3em\" font-family=\"sans-serif\" x=\"1277.9419920487317\" y=\"437.46446609406723\" style=\"font-size: 16px;\">1x10</text></g></svg>"
      ],
      "text/plain": [
       "<IPython.core.display.SVG object>"
      ]
     },
     "execution_count": 1,
     "metadata": {},
     "output_type": "execute_result"
    }
   ],
   "source": [
    "from IPython.core.display import SVG\n",
    "SVG(filename=\"./task_1_network.svg\")"
   ]
  },
  {
   "cell_type": "markdown",
   "metadata": {
    "id": "VFA0qwsxMS3A"
   },
   "source": [
    "# Određivanje veličina tenzora po slojevima, te broja parametara u svakom sloju\n",
    "\n",
    "\n",
    "Conv 1\n",
    "\n",
    "*   Ulaz: [N,1,28,28]\n",
    "*   Izlaz: [N,16,28,28]\n",
    "*   Broj filtera: 16, dimenzije filtera: 5x5, broj ulaznih kanala : 1\n",
    "*   Broj parametara: 16 * 5 * 5 * 1 = 400 + 16 (po jedan bias za svaki filter) = 416 parametara\n",
    "\n",
    "Max Pool 1\n",
    "*   Ulaz: [N, 16, 28, 28]\n",
    "*   Izlaz: [N, 16, 14, 14]\n",
    "*   bez parametara\n",
    "\n",
    "Conv 2\n",
    "\n",
    "*   Ulaz: [N, 16, 14, 14]\n",
    "*   Izlaz: [N, 32, 14, 14]\n",
    "*   Broj filtera: 32, broj ulaznih kanala: 16, dimenzije filtera: 5x5\n",
    "*   Broj parametara: 32 * 5 * 5 * 16 + 32 (bias) = 12832 parametra\n",
    "\n",
    "Max Pool 2\n",
    "\n",
    "*   Ulaz: [N, 32, 14, 14]\n",
    "*   Izlaz: [N, 32, 7, 7]\n",
    "*   bez parametara\n",
    "\n",
    "Fully connected layer 1\n",
    "\n",
    "*   Ulaz: [N,32*7*7] = [N,1568] (spljošteni tenzor prijašnjeg sloja)\n",
    "*   Izlaz: N x 512\n",
    "*   Broj parametara: 512 * 1568 + 512 (bias) = 803 328 parametara\n",
    "*   Primijećujemo koliko FC slojevi imaju drastično veći broj parametara od konvolucijskih slojeva\n",
    "\n",
    "Fully connected layer 2 (logits)\n",
    "\n",
    "*   Ulaz: [N, 512]\n",
    "*   Izlaz: [N, 10]\n",
    "*   Broj parametara: 10 * 512 + 10 (bias) = 5130 parametara\n",
    "\n",
    "Ukupan broj parametara = 416 + 12832 + 803328 + 5130 = 821,706 -> ovo je za slučaj kad nam je batch size 1\n",
    "\n",
    "U slučaju npr. batch size = 50 (kako je u gornjem primjeru), broj parametara\n",
    "\n",
    "Konkretan broj parametara (gradijenata) koje u tom slučaju moramo pamtiti je 50 * 821,706 = 41,085,300\n",
    "\n",
    "Ukoliko nam za 1 parametar treba 4 bajta memorije, ukupna memorija potrebna je 41,085,300 * 4 = 164,341,200 bajta, odnosno 156.73 MB. Ukoliko bi htjeli trenirati sa slikama većih dimenzija, potrebna memorija bi se značajno povećala (primjerice, za slike dimenzija 200x400 i batch size veličine 3, za treniranje state-of-the-art modela, npr. DeepLabV2 potrebno je cca. 3GB memorije. Za treniranje određenih složenijih modela, npr. CycleGAN, potrebno je oko 10-11 GB memorije za batch size = 2!)\n",
    "\n",
    "# Određivanje veličine receptivnog polja značajki sloja conv2\n",
    "\n",
    "\n",
    "Legenda\n",
    "*   rf = veličina receptivnog polja\n",
    "*   f = faktor\n",
    "*   k = širina kernela (jezgre ili sloja sažimanja)\n",
    "*   s = stride (pomak)\n",
    "\n",
    "Algoritam:\n",
    "Ako je sloj\n",
    "*   aktivacija: rf ostaje nepromijenjen\n",
    "*   konvolucija/pooling layer:\n",
    "        - rf_novo = rf + (k-1) * f\n",
    "        - f_novo = f * s\n",
    "*   rf = input.shape\n",
    "\n",
    "0) Početno receptivno polje, rf = 1, početni faktor, f = 1\n",
    "1) conv1 \n",
    "*   rf_novo = 1 + (5-1) * 1 = 5\n",
    "*   f_novo = 1 * 1 = 1\n",
    "\n",
    "2) pool1\n",
    "*   rf_novo = 5 + (2-1) * 1 = 6\n",
    "*   f_novo = 1 * 2 = 2\n",
    "\n",
    "3) conv2\n",
    "*   rf_novo = 6 + (5-1) * 2 = 6 + 8 = 14\n",
    "*   f_novo = 2 * 1 = 2\n",
    "\n",
    "4) pool2\n",
    "*   rf_novo = 14 + (2-1) * 2 = 14 + 2 = 16\n",
    "*   f_novo = 2 * 2 = 4\n",
    "\n",
    "\n",
    "\n",
    "\n",
    "\n",
    "\n",
    "\n",
    "\n",
    "\n",
    "\n"
   ]
  },
  {
   "cell_type": "markdown",
   "metadata": {
    "id": "DTt9tKZFSts5"
   },
   "source": [
    "\n"
   ]
  },
  {
   "cell_type": "code",
   "execution_count": null,
   "metadata": {
    "id": "Z_hnLMvRMYf9"
   },
   "outputs": [],
   "source": []
  },
  {
   "cell_type": "code",
   "execution_count": null,
   "metadata": {
    "id": "6WTpNCBqgSaL"
   },
   "outputs": [],
   "source": [
    "!zip -r /content/filters_task_1.zip /content/out"
   ]
  },
  {
   "cell_type": "markdown",
   "metadata": {
    "id": "INycVuZERTfp"
   },
   "source": [
    "# 2. zadatak - L2 regularizacija"
   ]
  },
  {
   "cell_type": "code",
   "execution_count": null,
   "metadata": {
    "colab": {
     "base_uri": "https://localhost:8080/"
    },
    "id": "PoO-rIHUkTwt",
    "outputId": "9bda3909-ac93-4114-fa14-99522c9f8fa3"
   },
   "outputs": [
    {
     "name": "stdout",
     "output_type": "stream",
     "text": [
      "Treniram model sa lambda = 1e-3\n"
     ]
    },
    {
     "name": "stderr",
     "output_type": "stream",
     "text": [
      "WARNING:root:Lossy conversion from float64 to uint8. Range [0, 1]. Convert image to uint8 prior to saving to suppress this warning.\n"
     ]
    },
    {
     "name": "stdout",
     "output_type": "stream",
     "text": [
      "epoch 1, step 0/55000, batch loss = 2.76\n",
      "epoch 1, step 250/55000, batch loss = 2.20\n",
      "epoch 1, step 500/55000, batch loss = 2.19\n",
      "epoch 1, step 750/55000, batch loss = 1.43\n",
      "epoch 1, step 1000/55000, batch loss = 1.30\n",
      "epoch 1, step 1250/55000, batch loss = 1.08\n",
      "epoch 1, step 1500/55000, batch loss = 1.30\n",
      "epoch 1, step 1750/55000, batch loss = 0.88\n",
      "epoch 1, step 2000/55000, batch loss = 0.96\n",
      "epoch 1, step 2250/55000, batch loss = 0.74\n",
      "epoch 1, step 2500/55000, batch loss = 0.91\n",
      "Train accuracy = 70.75\n",
      "epoch 1, step 2750/55000, batch loss = 0.92\n",
      "epoch 1, step 3000/55000, batch loss = 1.11\n",
      "epoch 1, step 3250/55000, batch loss = 0.74\n",
      "epoch 1, step 3500/55000, batch loss = 0.86\n",
      "epoch 1, step 3750/55000, batch loss = 0.67\n",
      "epoch 1, step 4000/55000, batch loss = 0.65\n",
      "epoch 1, step 4250/55000, batch loss = 0.73\n",
      "epoch 1, step 4500/55000, batch loss = 0.63\n",
      "epoch 1, step 4750/55000, batch loss = 0.51\n"
     ]
    },
    {
     "name": "stderr",
     "output_type": "stream",
     "text": [
      "WARNING:root:Lossy conversion from float64 to uint8. Range [0, 1]. Convert image to uint8 prior to saving to suppress this warning.\n"
     ]
    },
    {
     "name": "stdout",
     "output_type": "stream",
     "text": [
      "epoch 1, step 5000/55000, batch loss = 0.76\n",
      "Train accuracy = 80.30\n",
      "epoch 1, step 5250/55000, batch loss = 0.61\n",
      "epoch 1, step 5500/55000, batch loss = 0.66\n",
      "epoch 1, step 5750/55000, batch loss = 0.58\n",
      "epoch 1, step 6000/55000, batch loss = 0.77\n",
      "epoch 1, step 6250/55000, batch loss = 0.69\n",
      "epoch 1, step 6500/55000, batch loss = 0.62\n",
      "epoch 1, step 6750/55000, batch loss = 0.65\n",
      "epoch 1, step 7000/55000, batch loss = 0.64\n",
      "epoch 1, step 7250/55000, batch loss = 0.64\n",
      "epoch 1, step 7500/55000, batch loss = 0.63\n",
      "Train accuracy = 84.86\n",
      "epoch 1, step 7750/55000, batch loss = 0.54\n",
      "epoch 1, step 8000/55000, batch loss = 0.51\n",
      "epoch 1, step 8250/55000, batch loss = 0.60\n",
      "epoch 1, step 8500/55000, batch loss = 0.63\n",
      "epoch 1, step 8750/55000, batch loss = 0.53\n",
      "epoch 1, step 9000/55000, batch loss = 0.70\n",
      "epoch 1, step 9250/55000, batch loss = 0.50\n",
      "epoch 1, step 9500/55000, batch loss = 0.53\n",
      "epoch 1, step 9750/55000, batch loss = 0.54\n"
     ]
    },
    {
     "name": "stderr",
     "output_type": "stream",
     "text": [
      "WARNING:root:Lossy conversion from float64 to uint8. Range [0, 1]. Convert image to uint8 prior to saving to suppress this warning.\n"
     ]
    },
    {
     "name": "stdout",
     "output_type": "stream",
     "text": [
      "epoch 1, step 10000/55000, batch loss = 0.55\n",
      "Train accuracy = 87.35\n",
      "epoch 1, step 10250/55000, batch loss = 0.50\n",
      "epoch 1, step 10500/55000, batch loss = 0.49\n",
      "epoch 1, step 10750/55000, batch loss = 0.69\n",
      "epoch 1, step 11000/55000, batch loss = 0.45\n",
      "epoch 1, step 11250/55000, batch loss = 0.64\n",
      "epoch 1, step 11500/55000, batch loss = 0.53\n",
      "epoch 1, step 11750/55000, batch loss = 0.53\n",
      "epoch 1, step 12000/55000, batch loss = 0.58\n",
      "epoch 1, step 12250/55000, batch loss = 0.51\n",
      "epoch 1, step 12500/55000, batch loss = 0.52\n",
      "Train accuracy = 89.11\n",
      "epoch 1, step 12750/55000, batch loss = 0.58\n",
      "epoch 1, step 13000/55000, batch loss = 0.62\n",
      "epoch 1, step 13250/55000, batch loss = 0.74\n",
      "epoch 1, step 13500/55000, batch loss = 0.57\n",
      "epoch 1, step 13750/55000, batch loss = 0.56\n",
      "epoch 1, step 14000/55000, batch loss = 0.49\n",
      "epoch 1, step 14250/55000, batch loss = 0.51\n",
      "epoch 1, step 14500/55000, batch loss = 0.60\n",
      "epoch 1, step 14750/55000, batch loss = 0.44\n"
     ]
    },
    {
     "name": "stderr",
     "output_type": "stream",
     "text": [
      "WARNING:root:Lossy conversion from float64 to uint8. Range [0, 1]. Convert image to uint8 prior to saving to suppress this warning.\n"
     ]
    },
    {
     "name": "stdout",
     "output_type": "stream",
     "text": [
      "epoch 1, step 15000/55000, batch loss = 0.51\n",
      "Train accuracy = 90.33\n",
      "epoch 1, step 15250/55000, batch loss = 0.56\n",
      "epoch 1, step 15500/55000, batch loss = 0.53\n",
      "epoch 1, step 15750/55000, batch loss = 0.69\n",
      "epoch 1, step 16000/55000, batch loss = 0.49\n",
      "epoch 1, step 16250/55000, batch loss = 0.84\n",
      "epoch 1, step 16500/55000, batch loss = 0.68\n",
      "epoch 1, step 16750/55000, batch loss = 0.48\n",
      "epoch 1, step 17000/55000, batch loss = 0.51\n",
      "epoch 1, step 17250/55000, batch loss = 0.45\n",
      "epoch 1, step 17500/55000, batch loss = 0.58\n",
      "Train accuracy = 91.13\n",
      "epoch 1, step 17750/55000, batch loss = 0.49\n",
      "epoch 1, step 18000/55000, batch loss = 0.48\n",
      "epoch 1, step 18250/55000, batch loss = 0.47\n",
      "epoch 1, step 18500/55000, batch loss = 0.49\n",
      "epoch 1, step 18750/55000, batch loss = 0.51\n",
      "epoch 1, step 19000/55000, batch loss = 0.54\n",
      "epoch 1, step 19250/55000, batch loss = 0.52\n",
      "epoch 1, step 19500/55000, batch loss = 0.51\n",
      "epoch 1, step 19750/55000, batch loss = 0.72\n"
     ]
    },
    {
     "name": "stderr",
     "output_type": "stream",
     "text": [
      "WARNING:root:Lossy conversion from float64 to uint8. Range [0, 1]. Convert image to uint8 prior to saving to suppress this warning.\n"
     ]
    },
    {
     "name": "stdout",
     "output_type": "stream",
     "text": [
      "epoch 1, step 20000/55000, batch loss = 0.57\n",
      "Train accuracy = 91.87\n",
      "epoch 1, step 20250/55000, batch loss = 0.43\n",
      "epoch 1, step 20500/55000, batch loss = 0.94\n",
      "epoch 1, step 20750/55000, batch loss = 0.50\n",
      "epoch 1, step 21000/55000, batch loss = 0.58\n",
      "epoch 1, step 21250/55000, batch loss = 0.45\n",
      "epoch 1, step 21500/55000, batch loss = 0.41\n",
      "epoch 1, step 21750/55000, batch loss = 0.45\n",
      "epoch 1, step 22000/55000, batch loss = 0.51\n",
      "epoch 1, step 22250/55000, batch loss = 0.52\n",
      "epoch 1, step 22500/55000, batch loss = 0.44\n",
      "Train accuracy = 92.34\n",
      "epoch 1, step 22750/55000, batch loss = 0.44\n",
      "epoch 1, step 23000/55000, batch loss = 0.63\n",
      "epoch 1, step 23250/55000, batch loss = 0.45\n",
      "epoch 1, step 23500/55000, batch loss = 0.46\n",
      "epoch 1, step 23750/55000, batch loss = 0.56\n",
      "epoch 1, step 24000/55000, batch loss = 0.46\n",
      "epoch 1, step 24250/55000, batch loss = 0.72\n",
      "epoch 1, step 24500/55000, batch loss = 0.52\n",
      "epoch 1, step 24750/55000, batch loss = 0.42\n"
     ]
    },
    {
     "name": "stderr",
     "output_type": "stream",
     "text": [
      "WARNING:root:Lossy conversion from float64 to uint8. Range [0, 1]. Convert image to uint8 prior to saving to suppress this warning.\n"
     ]
    },
    {
     "name": "stdout",
     "output_type": "stream",
     "text": [
      "epoch 1, step 25000/55000, batch loss = 0.50\n",
      "Train accuracy = 92.77\n",
      "epoch 1, step 25250/55000, batch loss = 0.58\n",
      "epoch 1, step 25500/55000, batch loss = 0.86\n",
      "epoch 1, step 25750/55000, batch loss = 0.58\n",
      "epoch 1, step 26000/55000, batch loss = 0.66\n",
      "epoch 1, step 26250/55000, batch loss = 0.50\n",
      "epoch 1, step 26500/55000, batch loss = 0.44\n",
      "epoch 1, step 26750/55000, batch loss = 0.48\n",
      "epoch 1, step 27000/55000, batch loss = 0.43\n",
      "epoch 1, step 27250/55000, batch loss = 0.45\n",
      "epoch 1, step 27500/55000, batch loss = 0.54\n",
      "Train accuracy = 93.12\n",
      "epoch 1, step 27750/55000, batch loss = 0.53\n",
      "epoch 1, step 28000/55000, batch loss = 0.51\n",
      "epoch 1, step 28250/55000, batch loss = 0.51\n",
      "epoch 1, step 28500/55000, batch loss = 0.48\n",
      "epoch 1, step 28750/55000, batch loss = 0.49\n",
      "epoch 1, step 29000/55000, batch loss = 0.62\n",
      "epoch 1, step 29250/55000, batch loss = 0.45\n",
      "epoch 1, step 29500/55000, batch loss = 0.48\n",
      "epoch 1, step 29750/55000, batch loss = 0.44\n"
     ]
    },
    {
     "name": "stderr",
     "output_type": "stream",
     "text": [
      "WARNING:root:Lossy conversion from float64 to uint8. Range [0, 1]. Convert image to uint8 prior to saving to suppress this warning.\n"
     ]
    },
    {
     "name": "stdout",
     "output_type": "stream",
     "text": [
      "epoch 1, step 30000/55000, batch loss = 0.51\n",
      "Train accuracy = 93.46\n",
      "epoch 1, step 30250/55000, batch loss = 0.50\n",
      "epoch 1, step 30500/55000, batch loss = 0.44\n",
      "epoch 1, step 30750/55000, batch loss = 0.45\n",
      "epoch 1, step 31000/55000, batch loss = 0.43\n",
      "epoch 1, step 31250/55000, batch loss = 0.53\n",
      "epoch 1, step 31500/55000, batch loss = 0.45\n",
      "epoch 1, step 31750/55000, batch loss = 0.44\n",
      "epoch 1, step 32000/55000, batch loss = 0.43\n",
      "epoch 1, step 32250/55000, batch loss = 0.47\n",
      "epoch 1, step 32500/55000, batch loss = 0.41\n",
      "Train accuracy = 93.76\n",
      "epoch 1, step 32750/55000, batch loss = 0.57\n",
      "epoch 1, step 33000/55000, batch loss = 0.47\n",
      "epoch 1, step 33250/55000, batch loss = 0.46\n",
      "epoch 1, step 33500/55000, batch loss = 0.48\n",
      "epoch 1, step 33750/55000, batch loss = 0.55\n",
      "epoch 1, step 34000/55000, batch loss = 0.45\n",
      "epoch 1, step 34250/55000, batch loss = 0.47\n",
      "epoch 1, step 34500/55000, batch loss = 0.41\n",
      "epoch 1, step 34750/55000, batch loss = 0.47\n"
     ]
    },
    {
     "name": "stderr",
     "output_type": "stream",
     "text": [
      "WARNING:root:Lossy conversion from float64 to uint8. Range [0, 1]. Convert image to uint8 prior to saving to suppress this warning.\n"
     ]
    },
    {
     "name": "stdout",
     "output_type": "stream",
     "text": [
      "epoch 1, step 35000/55000, batch loss = 0.51\n",
      "Train accuracy = 94.00\n",
      "epoch 1, step 35250/55000, batch loss = 0.43\n",
      "epoch 1, step 35500/55000, batch loss = 0.41\n",
      "epoch 1, step 35750/55000, batch loss = 0.52\n",
      "epoch 1, step 36000/55000, batch loss = 0.52\n",
      "epoch 1, step 36250/55000, batch loss = 0.57\n",
      "epoch 1, step 36500/55000, batch loss = 0.53\n",
      "epoch 1, step 36750/55000, batch loss = 0.59\n",
      "epoch 1, step 37000/55000, batch loss = 0.57\n",
      "epoch 1, step 37250/55000, batch loss = 0.60\n",
      "epoch 1, step 37500/55000, batch loss = 0.41\n",
      "Train accuracy = 94.25\n",
      "epoch 1, step 37750/55000, batch loss = 0.39\n",
      "epoch 1, step 38000/55000, batch loss = 0.44\n",
      "epoch 1, step 38250/55000, batch loss = 0.52\n",
      "epoch 1, step 38500/55000, batch loss = 0.49\n",
      "epoch 1, step 38750/55000, batch loss = 0.39\n",
      "epoch 1, step 39000/55000, batch loss = 0.42\n",
      "epoch 1, step 39250/55000, batch loss = 0.42\n",
      "epoch 1, step 39500/55000, batch loss = 0.45\n",
      "epoch 1, step 39750/55000, batch loss = 0.44\n"
     ]
    },
    {
     "name": "stderr",
     "output_type": "stream",
     "text": [
      "WARNING:root:Lossy conversion from float64 to uint8. Range [0, 1]. Convert image to uint8 prior to saving to suppress this warning.\n"
     ]
    },
    {
     "name": "stdout",
     "output_type": "stream",
     "text": [
      "epoch 1, step 40000/55000, batch loss = 0.42\n",
      "Train accuracy = 94.47\n",
      "epoch 1, step 40250/55000, batch loss = 0.40\n",
      "epoch 1, step 40500/55000, batch loss = 0.43\n",
      "epoch 1, step 40750/55000, batch loss = 0.41\n",
      "epoch 1, step 41000/55000, batch loss = 0.44\n",
      "epoch 1, step 41250/55000, batch loss = 0.43\n",
      "epoch 1, step 41500/55000, batch loss = 0.39\n",
      "epoch 1, step 41750/55000, batch loss = 0.44\n",
      "epoch 1, step 42000/55000, batch loss = 0.47\n",
      "epoch 1, step 42250/55000, batch loss = 0.42\n",
      "epoch 1, step 42500/55000, batch loss = 0.49\n",
      "Train accuracy = 94.68\n",
      "epoch 1, step 42750/55000, batch loss = 0.47\n",
      "epoch 1, step 43000/55000, batch loss = 0.44\n",
      "epoch 1, step 43250/55000, batch loss = 0.44\n",
      "epoch 1, step 43500/55000, batch loss = 0.45\n",
      "epoch 1, step 43750/55000, batch loss = 0.40\n",
      "epoch 1, step 44000/55000, batch loss = 0.47\n",
      "epoch 1, step 44250/55000, batch loss = 0.48\n",
      "epoch 1, step 44500/55000, batch loss = 0.38\n",
      "epoch 1, step 44750/55000, batch loss = 0.41\n"
     ]
    },
    {
     "name": "stderr",
     "output_type": "stream",
     "text": [
      "WARNING:root:Lossy conversion from float64 to uint8. Range [0, 1]. Convert image to uint8 prior to saving to suppress this warning.\n"
     ]
    },
    {
     "name": "stdout",
     "output_type": "stream",
     "text": [
      "epoch 1, step 45000/55000, batch loss = 0.46\n",
      "Train accuracy = 94.88\n",
      "epoch 1, step 45250/55000, batch loss = 0.63\n",
      "epoch 1, step 45500/55000, batch loss = 0.41\n",
      "epoch 1, step 45750/55000, batch loss = 0.47\n",
      "epoch 1, step 46000/55000, batch loss = 0.51\n",
      "epoch 1, step 46250/55000, batch loss = 0.50\n",
      "epoch 1, step 46500/55000, batch loss = 0.52\n",
      "epoch 1, step 46750/55000, batch loss = 0.39\n",
      "epoch 1, step 47000/55000, batch loss = 0.46\n",
      "epoch 1, step 47250/55000, batch loss = 0.40\n",
      "epoch 1, step 47500/55000, batch loss = 0.40\n",
      "Train accuracy = 94.98\n",
      "epoch 1, step 47750/55000, batch loss = 0.39\n",
      "epoch 1, step 48000/55000, batch loss = 0.51\n",
      "epoch 1, step 48250/55000, batch loss = 0.46\n",
      "epoch 1, step 48500/55000, batch loss = 0.44\n",
      "epoch 1, step 48750/55000, batch loss = 0.40\n",
      "epoch 1, step 49000/55000, batch loss = 0.38\n",
      "epoch 1, step 49250/55000, batch loss = 0.38\n",
      "epoch 1, step 49500/55000, batch loss = 0.51\n",
      "epoch 1, step 49750/55000, batch loss = 0.43\n"
     ]
    },
    {
     "name": "stderr",
     "output_type": "stream",
     "text": [
      "WARNING:root:Lossy conversion from float64 to uint8. Range [0, 1]. Convert image to uint8 prior to saving to suppress this warning.\n"
     ]
    },
    {
     "name": "stdout",
     "output_type": "stream",
     "text": [
      "epoch 1, step 50000/55000, batch loss = 0.40\n",
      "Train accuracy = 95.14\n",
      "epoch 1, step 50250/55000, batch loss = 0.39\n",
      "epoch 1, step 50500/55000, batch loss = 0.41\n",
      "epoch 1, step 50750/55000, batch loss = 0.51\n",
      "epoch 1, step 51000/55000, batch loss = 0.45\n",
      "epoch 1, step 51250/55000, batch loss = 0.42\n",
      "epoch 1, step 51500/55000, batch loss = 0.49\n",
      "epoch 1, step 51750/55000, batch loss = 0.51\n",
      "epoch 1, step 52000/55000, batch loss = 0.43\n",
      "epoch 1, step 52250/55000, batch loss = 0.46\n",
      "epoch 1, step 52500/55000, batch loss = 0.42\n",
      "Train accuracy = 95.29\n",
      "epoch 1, step 52750/55000, batch loss = 0.37\n",
      "epoch 1, step 53000/55000, batch loss = 0.40\n",
      "epoch 1, step 53250/55000, batch loss = 0.41\n",
      "epoch 1, step 53500/55000, batch loss = 0.39\n",
      "epoch 1, step 53750/55000, batch loss = 0.37\n",
      "epoch 1, step 54000/55000, batch loss = 0.44\n",
      "epoch 1, step 54250/55000, batch loss = 0.41\n",
      "epoch 1, step 54500/55000, batch loss = 0.38\n",
      "epoch 1, step 54750/55000, batch loss = 0.38\n",
      "Train accuracy = 95.42\n",
      "\n",
      "Running evaluation:  Validation\n",
      "Validation accuracy = 98.44\n",
      "Validation avg loss = 0.42\n",
      "\n"
     ]
    },
    {
     "name": "stderr",
     "output_type": "stream",
     "text": [
      "WARNING:root:Lossy conversion from float64 to uint8. Range [0, 1]. Convert image to uint8 prior to saving to suppress this warning.\n"
     ]
    },
    {
     "name": "stdout",
     "output_type": "stream",
     "text": [
      "epoch 2, step 0/55000, batch loss = 0.39\n",
      "epoch 2, step 250/55000, batch loss = 0.47\n",
      "epoch 2, step 500/55000, batch loss = 0.40\n",
      "epoch 2, step 750/55000, batch loss = 0.37\n",
      "epoch 2, step 1000/55000, batch loss = 0.41\n",
      "epoch 2, step 1250/55000, batch loss = 0.41\n",
      "epoch 2, step 1500/55000, batch loss = 0.38\n",
      "epoch 2, step 1750/55000, batch loss = 0.49\n",
      "epoch 2, step 2000/55000, batch loss = 0.39\n",
      "epoch 2, step 2250/55000, batch loss = 0.51\n",
      "epoch 2, step 2500/55000, batch loss = 0.38\n",
      "Train accuracy = 98.16\n",
      "epoch 2, step 2750/55000, batch loss = 0.37\n",
      "epoch 2, step 3000/55000, batch loss = 0.38\n",
      "epoch 2, step 3250/55000, batch loss = 0.37\n",
      "epoch 2, step 3500/55000, batch loss = 0.38\n",
      "epoch 2, step 3750/55000, batch loss = 0.37\n",
      "epoch 2, step 4000/55000, batch loss = 0.47\n",
      "epoch 2, step 4250/55000, batch loss = 0.40\n",
      "epoch 2, step 4500/55000, batch loss = 0.37\n",
      "epoch 2, step 4750/55000, batch loss = 0.36\n"
     ]
    },
    {
     "name": "stderr",
     "output_type": "stream",
     "text": [
      "WARNING:root:Lossy conversion from float64 to uint8. Range [0, 1]. Convert image to uint8 prior to saving to suppress this warning.\n"
     ]
    },
    {
     "name": "stdout",
     "output_type": "stream",
     "text": [
      "epoch 2, step 5000/55000, batch loss = 0.37\n",
      "Train accuracy = 98.32\n",
      "epoch 2, step 5250/55000, batch loss = 0.38\n",
      "epoch 2, step 5500/55000, batch loss = 0.51\n",
      "epoch 2, step 5750/55000, batch loss = 0.42\n",
      "epoch 2, step 6000/55000, batch loss = 0.40\n",
      "epoch 2, step 6250/55000, batch loss = 0.45\n",
      "epoch 2, step 6500/55000, batch loss = 0.37\n",
      "epoch 2, step 6750/55000, batch loss = 0.46\n",
      "epoch 2, step 7000/55000, batch loss = 0.37\n",
      "epoch 2, step 7250/55000, batch loss = 0.42\n",
      "epoch 2, step 7500/55000, batch loss = 0.48\n",
      "Train accuracy = 98.25\n",
      "epoch 2, step 7750/55000, batch loss = 0.42\n",
      "epoch 2, step 8000/55000, batch loss = 0.38\n",
      "epoch 2, step 8250/55000, batch loss = 0.41\n",
      "epoch 2, step 8500/55000, batch loss = 0.42\n",
      "epoch 2, step 8750/55000, batch loss = 0.42\n",
      "epoch 2, step 9000/55000, batch loss = 0.37\n",
      "epoch 2, step 9250/55000, batch loss = 0.37\n",
      "epoch 2, step 9500/55000, batch loss = 0.41\n",
      "epoch 2, step 9750/55000, batch loss = 0.39\n"
     ]
    },
    {
     "name": "stderr",
     "output_type": "stream",
     "text": [
      "WARNING:root:Lossy conversion from float64 to uint8. Range [0, 1]. Convert image to uint8 prior to saving to suppress this warning.\n"
     ]
    },
    {
     "name": "stdout",
     "output_type": "stream",
     "text": [
      "epoch 2, step 10000/55000, batch loss = 0.39\n",
      "Train accuracy = 98.35\n",
      "epoch 2, step 10250/55000, batch loss = 0.44\n",
      "epoch 2, step 10500/55000, batch loss = 0.38\n",
      "epoch 2, step 10750/55000, batch loss = 0.46\n",
      "epoch 2, step 11000/55000, batch loss = 0.39\n",
      "epoch 2, step 11250/55000, batch loss = 0.42\n",
      "epoch 2, step 11500/55000, batch loss = 0.57\n",
      "epoch 2, step 11750/55000, batch loss = 0.40\n",
      "epoch 2, step 12000/55000, batch loss = 0.43\n",
      "epoch 2, step 12250/55000, batch loss = 0.42\n",
      "epoch 2, step 12500/55000, batch loss = 0.41\n",
      "Train accuracy = 98.33\n",
      "epoch 2, step 12750/55000, batch loss = 0.39\n",
      "epoch 2, step 13000/55000, batch loss = 0.35\n",
      "epoch 2, step 13250/55000, batch loss = 0.48\n",
      "epoch 2, step 13500/55000, batch loss = 0.36\n",
      "epoch 2, step 13750/55000, batch loss = 0.40\n",
      "epoch 2, step 14000/55000, batch loss = 0.42\n",
      "epoch 2, step 14250/55000, batch loss = 0.39\n",
      "epoch 2, step 14500/55000, batch loss = 0.36\n",
      "epoch 2, step 14750/55000, batch loss = 0.38\n"
     ]
    },
    {
     "name": "stderr",
     "output_type": "stream",
     "text": [
      "WARNING:root:Lossy conversion from float64 to uint8. Range [0, 1]. Convert image to uint8 prior to saving to suppress this warning.\n"
     ]
    },
    {
     "name": "stdout",
     "output_type": "stream",
     "text": [
      "epoch 2, step 15000/55000, batch loss = 0.42\n",
      "Train accuracy = 98.33\n",
      "epoch 2, step 15250/55000, batch loss = 0.36\n",
      "epoch 2, step 15500/55000, batch loss = 0.37\n",
      "epoch 2, step 15750/55000, batch loss = 0.40\n",
      "epoch 2, step 16000/55000, batch loss = 0.38\n",
      "epoch 2, step 16250/55000, batch loss = 0.35\n",
      "epoch 2, step 16500/55000, batch loss = 0.40\n",
      "epoch 2, step 16750/55000, batch loss = 0.37\n",
      "epoch 2, step 17000/55000, batch loss = 0.35\n",
      "epoch 2, step 17250/55000, batch loss = 0.36\n",
      "epoch 2, step 17500/55000, batch loss = 0.35\n",
      "Train accuracy = 98.35\n",
      "epoch 2, step 17750/55000, batch loss = 0.53\n",
      "epoch 2, step 18000/55000, batch loss = 0.37\n",
      "epoch 2, step 18250/55000, batch loss = 0.35\n",
      "epoch 2, step 18500/55000, batch loss = 0.35\n",
      "epoch 2, step 18750/55000, batch loss = 0.35\n",
      "epoch 2, step 19000/55000, batch loss = 0.37\n",
      "epoch 2, step 19250/55000, batch loss = 0.44\n",
      "epoch 2, step 19500/55000, batch loss = 0.38\n",
      "epoch 2, step 19750/55000, batch loss = 0.38\n"
     ]
    },
    {
     "name": "stderr",
     "output_type": "stream",
     "text": [
      "WARNING:root:Lossy conversion from float64 to uint8. Range [0, 1]. Convert image to uint8 prior to saving to suppress this warning.\n"
     ]
    },
    {
     "name": "stdout",
     "output_type": "stream",
     "text": [
      "epoch 2, step 20000/55000, batch loss = 0.37\n",
      "Train accuracy = 98.38\n",
      "epoch 2, step 20250/55000, batch loss = 0.35\n",
      "epoch 2, step 20500/55000, batch loss = 0.40\n",
      "epoch 2, step 20750/55000, batch loss = 0.35\n",
      "epoch 2, step 21000/55000, batch loss = 0.39\n",
      "epoch 2, step 21250/55000, batch loss = 0.35\n",
      "epoch 2, step 21500/55000, batch loss = 0.35\n",
      "epoch 2, step 21750/55000, batch loss = 0.35\n",
      "epoch 2, step 22000/55000, batch loss = 0.45\n",
      "epoch 2, step 22250/55000, batch loss = 0.36\n",
      "epoch 2, step 22500/55000, batch loss = 0.36\n",
      "Train accuracy = 98.41\n",
      "epoch 2, step 22750/55000, batch loss = 0.63\n",
      "epoch 2, step 23000/55000, batch loss = 0.36\n",
      "epoch 2, step 23250/55000, batch loss = 0.47\n",
      "epoch 2, step 23500/55000, batch loss = 0.37\n",
      "epoch 2, step 23750/55000, batch loss = 0.38\n",
      "epoch 2, step 24000/55000, batch loss = 0.40\n",
      "epoch 2, step 24250/55000, batch loss = 0.35\n",
      "epoch 2, step 24500/55000, batch loss = 0.35\n",
      "epoch 2, step 24750/55000, batch loss = 0.37\n"
     ]
    },
    {
     "name": "stderr",
     "output_type": "stream",
     "text": [
      "WARNING:root:Lossy conversion from float64 to uint8. Range [0, 1]. Convert image to uint8 prior to saving to suppress this warning.\n"
     ]
    },
    {
     "name": "stdout",
     "output_type": "stream",
     "text": [
      "epoch 2, step 25000/55000, batch loss = 0.34\n",
      "Train accuracy = 98.42\n",
      "epoch 2, step 25250/55000, batch loss = 0.41\n",
      "epoch 2, step 25500/55000, batch loss = 0.36\n",
      "epoch 2, step 25750/55000, batch loss = 0.34\n",
      "epoch 2, step 26000/55000, batch loss = 0.38\n",
      "epoch 2, step 26250/55000, batch loss = 0.43\n",
      "epoch 2, step 26500/55000, batch loss = 0.38\n",
      "epoch 2, step 26750/55000, batch loss = 0.34\n",
      "epoch 2, step 27000/55000, batch loss = 0.42\n",
      "epoch 2, step 27250/55000, batch loss = 0.40\n",
      "epoch 2, step 27500/55000, batch loss = 0.55\n",
      "Train accuracy = 98.44\n",
      "epoch 2, step 27750/55000, batch loss = 0.41\n",
      "epoch 2, step 28000/55000, batch loss = 0.53\n",
      "epoch 2, step 28250/55000, batch loss = 0.36\n",
      "epoch 2, step 28500/55000, batch loss = 0.35\n",
      "epoch 2, step 28750/55000, batch loss = 0.35\n",
      "epoch 2, step 29000/55000, batch loss = 0.34\n",
      "epoch 2, step 29250/55000, batch loss = 0.38\n",
      "epoch 2, step 29500/55000, batch loss = 0.36\n",
      "epoch 2, step 29750/55000, batch loss = 0.35\n"
     ]
    },
    {
     "name": "stderr",
     "output_type": "stream",
     "text": [
      "WARNING:root:Lossy conversion from float64 to uint8. Range [0, 1]. Convert image to uint8 prior to saving to suppress this warning.\n"
     ]
    },
    {
     "name": "stdout",
     "output_type": "stream",
     "text": [
      "epoch 2, step 30000/55000, batch loss = 0.34\n",
      "Train accuracy = 98.44\n",
      "epoch 2, step 30250/55000, batch loss = 0.39\n",
      "epoch 2, step 30500/55000, batch loss = 0.43\n",
      "epoch 2, step 30750/55000, batch loss = 0.40\n",
      "epoch 2, step 31000/55000, batch loss = 0.42\n",
      "epoch 2, step 31250/55000, batch loss = 0.33\n",
      "epoch 2, step 31500/55000, batch loss = 0.39\n",
      "epoch 2, step 31750/55000, batch loss = 0.45\n",
      "epoch 2, step 32000/55000, batch loss = 0.48\n",
      "epoch 2, step 32250/55000, batch loss = 0.33\n",
      "epoch 2, step 32500/55000, batch loss = 0.39\n",
      "Train accuracy = 98.41\n",
      "epoch 2, step 32750/55000, batch loss = 0.37\n",
      "epoch 2, step 33000/55000, batch loss = 0.38\n",
      "epoch 2, step 33250/55000, batch loss = 0.36\n",
      "epoch 2, step 33500/55000, batch loss = 0.36\n",
      "epoch 2, step 33750/55000, batch loss = 0.33\n",
      "epoch 2, step 34000/55000, batch loss = 0.39\n",
      "epoch 2, step 34250/55000, batch loss = 0.36\n",
      "epoch 2, step 34500/55000, batch loss = 0.33\n",
      "epoch 2, step 34750/55000, batch loss = 0.51\n"
     ]
    },
    {
     "name": "stderr",
     "output_type": "stream",
     "text": [
      "WARNING:root:Lossy conversion from float64 to uint8. Range [0, 1]. Convert image to uint8 prior to saving to suppress this warning.\n"
     ]
    },
    {
     "name": "stdout",
     "output_type": "stream",
     "text": [
      "epoch 2, step 35000/55000, batch loss = 0.37\n",
      "Train accuracy = 98.43\n",
      "epoch 2, step 35250/55000, batch loss = 0.34\n",
      "epoch 2, step 35500/55000, batch loss = 0.34\n",
      "epoch 2, step 35750/55000, batch loss = 0.49\n",
      "epoch 2, step 36000/55000, batch loss = 0.36\n",
      "epoch 2, step 36250/55000, batch loss = 0.41\n",
      "epoch 2, step 36500/55000, batch loss = 0.35\n",
      "epoch 2, step 36750/55000, batch loss = 0.39\n",
      "epoch 2, step 37000/55000, batch loss = 0.35\n",
      "epoch 2, step 37250/55000, batch loss = 0.32\n",
      "epoch 2, step 37500/55000, batch loss = 0.33\n",
      "Train accuracy = 98.41\n",
      "epoch 2, step 37750/55000, batch loss = 0.47\n",
      "epoch 2, step 38000/55000, batch loss = 0.56\n",
      "epoch 2, step 38250/55000, batch loss = 0.36\n",
      "epoch 2, step 38500/55000, batch loss = 0.35\n",
      "epoch 2, step 38750/55000, batch loss = 0.34\n",
      "epoch 2, step 39000/55000, batch loss = 0.43\n",
      "epoch 2, step 39250/55000, batch loss = 0.33\n",
      "epoch 2, step 39500/55000, batch loss = 0.37\n",
      "epoch 2, step 39750/55000, batch loss = 0.32\n"
     ]
    },
    {
     "name": "stderr",
     "output_type": "stream",
     "text": [
      "WARNING:root:Lossy conversion from float64 to uint8. Range [0, 1]. Convert image to uint8 prior to saving to suppress this warning.\n"
     ]
    },
    {
     "name": "stdout",
     "output_type": "stream",
     "text": [
      "epoch 2, step 40000/55000, batch loss = 0.33\n",
      "Train accuracy = 98.38\n",
      "epoch 2, step 40250/55000, batch loss = 0.33\n",
      "epoch 2, step 40500/55000, batch loss = 0.33\n",
      "epoch 2, step 40750/55000, batch loss = 0.37\n",
      "epoch 2, step 41000/55000, batch loss = 0.33\n",
      "epoch 2, step 41250/55000, batch loss = 0.38\n",
      "epoch 2, step 41500/55000, batch loss = 0.33\n",
      "epoch 2, step 41750/55000, batch loss = 0.32\n",
      "epoch 2, step 42000/55000, batch loss = 0.33\n",
      "epoch 2, step 42250/55000, batch loss = 0.32\n",
      "epoch 2, step 42500/55000, batch loss = 0.33\n",
      "Train accuracy = 98.41\n",
      "epoch 2, step 42750/55000, batch loss = 0.33\n",
      "epoch 2, step 43000/55000, batch loss = 0.32\n",
      "epoch 2, step 43250/55000, batch loss = 0.32\n",
      "epoch 2, step 43500/55000, batch loss = 0.32\n",
      "epoch 2, step 43750/55000, batch loss = 0.36\n",
      "epoch 2, step 44000/55000, batch loss = 0.31\n",
      "epoch 2, step 44250/55000, batch loss = 0.34\n",
      "epoch 2, step 44500/55000, batch loss = 0.41\n",
      "epoch 2, step 44750/55000, batch loss = 0.37\n"
     ]
    },
    {
     "name": "stderr",
     "output_type": "stream",
     "text": [
      "WARNING:root:Lossy conversion from float64 to uint8. Range [0, 1]. Convert image to uint8 prior to saving to suppress this warning.\n"
     ]
    },
    {
     "name": "stdout",
     "output_type": "stream",
     "text": [
      "epoch 2, step 45000/55000, batch loss = 0.38\n",
      "Train accuracy = 98.43\n",
      "epoch 2, step 45250/55000, batch loss = 0.32\n",
      "epoch 2, step 45500/55000, batch loss = 0.38\n",
      "epoch 2, step 45750/55000, batch loss = 0.39\n",
      "epoch 2, step 46000/55000, batch loss = 0.41\n",
      "epoch 2, step 46250/55000, batch loss = 0.49\n",
      "epoch 2, step 46500/55000, batch loss = 0.31\n",
      "epoch 2, step 46750/55000, batch loss = 0.33\n",
      "epoch 2, step 47000/55000, batch loss = 0.34\n",
      "epoch 2, step 47250/55000, batch loss = 0.31\n",
      "epoch 2, step 47500/55000, batch loss = 0.37\n",
      "Train accuracy = 98.43\n",
      "epoch 2, step 47750/55000, batch loss = 0.32\n",
      "epoch 2, step 48000/55000, batch loss = 0.41\n",
      "epoch 2, step 48250/55000, batch loss = 0.36\n",
      "epoch 2, step 48500/55000, batch loss = 0.32\n",
      "epoch 2, step 48750/55000, batch loss = 0.31\n",
      "epoch 2, step 49000/55000, batch loss = 0.33\n",
      "epoch 2, step 49250/55000, batch loss = 0.38\n",
      "epoch 2, step 49500/55000, batch loss = 0.36\n",
      "epoch 2, step 49750/55000, batch loss = 0.32\n"
     ]
    },
    {
     "name": "stderr",
     "output_type": "stream",
     "text": [
      "WARNING:root:Lossy conversion from float64 to uint8. Range [0, 1]. Convert image to uint8 prior to saving to suppress this warning.\n"
     ]
    },
    {
     "name": "stdout",
     "output_type": "stream",
     "text": [
      "epoch 2, step 50000/55000, batch loss = 0.34\n",
      "Train accuracy = 98.44\n",
      "epoch 2, step 50250/55000, batch loss = 0.32\n",
      "epoch 2, step 50500/55000, batch loss = 0.32\n",
      "epoch 2, step 50750/55000, batch loss = 0.36\n",
      "epoch 2, step 51000/55000, batch loss = 0.33\n",
      "epoch 2, step 51250/55000, batch loss = 0.31\n",
      "epoch 2, step 51500/55000, batch loss = 0.33\n",
      "epoch 2, step 51750/55000, batch loss = 0.32\n",
      "epoch 2, step 52000/55000, batch loss = 0.32\n",
      "epoch 2, step 52250/55000, batch loss = 0.37\n",
      "epoch 2, step 52500/55000, batch loss = 0.36\n",
      "Train accuracy = 98.45\n",
      "epoch 2, step 52750/55000, batch loss = 0.32\n",
      "epoch 2, step 53000/55000, batch loss = 0.34\n",
      "epoch 2, step 53250/55000, batch loss = 0.30\n",
      "epoch 2, step 53500/55000, batch loss = 0.32\n",
      "epoch 2, step 53750/55000, batch loss = 0.37\n",
      "epoch 2, step 54000/55000, batch loss = 0.31\n",
      "epoch 2, step 54250/55000, batch loss = 0.30\n",
      "epoch 2, step 54500/55000, batch loss = 0.35\n",
      "epoch 2, step 54750/55000, batch loss = 0.54\n",
      "Train accuracy = 98.47\n",
      "\n",
      "Running evaluation:  Validation\n",
      "Validation accuracy = 98.60\n",
      "Validation avg loss = 0.35\n",
      "\n"
     ]
    },
    {
     "name": "stderr",
     "output_type": "stream",
     "text": [
      "WARNING:root:Lossy conversion from float64 to uint8. Range [0, 1]. Convert image to uint8 prior to saving to suppress this warning.\n"
     ]
    },
    {
     "name": "stdout",
     "output_type": "stream",
     "text": [
      "epoch 3, step 0/55000, batch loss = 0.33\n",
      "epoch 3, step 250/55000, batch loss = 0.31\n",
      "epoch 3, step 500/55000, batch loss = 0.33\n",
      "epoch 3, step 750/55000, batch loss = 0.30\n",
      "epoch 3, step 1000/55000, batch loss = 0.32\n",
      "epoch 3, step 1250/55000, batch loss = 0.31\n",
      "epoch 3, step 1500/55000, batch loss = 0.31\n",
      "epoch 3, step 1750/55000, batch loss = 0.33\n",
      "epoch 3, step 2000/55000, batch loss = 0.31\n",
      "epoch 3, step 2250/55000, batch loss = 0.30\n",
      "epoch 3, step 2500/55000, batch loss = 0.37\n",
      "Train accuracy = 98.71\n",
      "epoch 3, step 2750/55000, batch loss = 0.30\n",
      "epoch 3, step 3000/55000, batch loss = 0.31\n",
      "epoch 3, step 3250/55000, batch loss = 0.32\n",
      "epoch 3, step 3500/55000, batch loss = 0.35\n",
      "epoch 3, step 3750/55000, batch loss = 0.31\n",
      "epoch 3, step 4000/55000, batch loss = 0.32\n",
      "epoch 3, step 4250/55000, batch loss = 0.30\n",
      "epoch 3, step 4500/55000, batch loss = 0.30\n",
      "epoch 3, step 4750/55000, batch loss = 0.34\n"
     ]
    },
    {
     "name": "stderr",
     "output_type": "stream",
     "text": [
      "WARNING:root:Lossy conversion from float64 to uint8. Range [0, 1]. Convert image to uint8 prior to saving to suppress this warning.\n"
     ]
    },
    {
     "name": "stdout",
     "output_type": "stream",
     "text": [
      "epoch 3, step 5000/55000, batch loss = 0.30\n",
      "Train accuracy = 98.91\n",
      "epoch 3, step 5250/55000, batch loss = 0.33\n",
      "epoch 3, step 5500/55000, batch loss = 0.35\n",
      "epoch 3, step 5750/55000, batch loss = 0.30\n",
      "epoch 3, step 6000/55000, batch loss = 0.31\n",
      "epoch 3, step 6250/55000, batch loss = 0.30\n",
      "epoch 3, step 6500/55000, batch loss = 0.31\n",
      "epoch 3, step 6750/55000, batch loss = 0.33\n",
      "epoch 3, step 7000/55000, batch loss = 0.30\n",
      "epoch 3, step 7250/55000, batch loss = 0.30\n",
      "epoch 3, step 7500/55000, batch loss = 0.32\n",
      "Train accuracy = 99.06\n",
      "epoch 3, step 7750/55000, batch loss = 0.31\n",
      "epoch 3, step 8000/55000, batch loss = 0.31\n",
      "epoch 3, step 8250/55000, batch loss = 0.33\n",
      "epoch 3, step 8500/55000, batch loss = 0.33\n",
      "epoch 3, step 8750/55000, batch loss = 0.40\n",
      "epoch 3, step 9000/55000, batch loss = 0.31\n",
      "epoch 3, step 9250/55000, batch loss = 0.37\n",
      "epoch 3, step 9500/55000, batch loss = 0.31\n",
      "epoch 3, step 9750/55000, batch loss = 0.35\n"
     ]
    },
    {
     "name": "stderr",
     "output_type": "stream",
     "text": [
      "WARNING:root:Lossy conversion from float64 to uint8. Range [0, 1]. Convert image to uint8 prior to saving to suppress this warning.\n"
     ]
    },
    {
     "name": "stdout",
     "output_type": "stream",
     "text": [
      "epoch 3, step 10000/55000, batch loss = 0.36\n",
      "Train accuracy = 99.04\n",
      "epoch 3, step 10250/55000, batch loss = 0.31\n",
      "epoch 3, step 10500/55000, batch loss = 0.32\n",
      "epoch 3, step 10750/55000, batch loss = 0.32\n",
      "epoch 3, step 11000/55000, batch loss = 0.30\n",
      "epoch 3, step 11250/55000, batch loss = 0.32\n",
      "epoch 3, step 11500/55000, batch loss = 0.31\n",
      "epoch 3, step 11750/55000, batch loss = 0.30\n",
      "epoch 3, step 12000/55000, batch loss = 0.30\n",
      "epoch 3, step 12250/55000, batch loss = 0.30\n",
      "epoch 3, step 12500/55000, batch loss = 0.33\n",
      "Train accuracy = 99.08\n",
      "epoch 3, step 12750/55000, batch loss = 0.31\n",
      "epoch 3, step 13000/55000, batch loss = 0.31\n",
      "epoch 3, step 13250/55000, batch loss = 0.32\n",
      "epoch 3, step 13500/55000, batch loss = 0.31\n",
      "epoch 3, step 13750/55000, batch loss = 0.31\n",
      "epoch 3, step 14000/55000, batch loss = 0.31\n",
      "epoch 3, step 14250/55000, batch loss = 0.30\n",
      "epoch 3, step 14500/55000, batch loss = 0.30\n",
      "epoch 3, step 14750/55000, batch loss = 0.31\n"
     ]
    },
    {
     "name": "stderr",
     "output_type": "stream",
     "text": [
      "WARNING:root:Lossy conversion from float64 to uint8. Range [0, 1]. Convert image to uint8 prior to saving to suppress this warning.\n"
     ]
    },
    {
     "name": "stdout",
     "output_type": "stream",
     "text": [
      "epoch 3, step 15000/55000, batch loss = 0.31\n",
      "Train accuracy = 99.15\n",
      "epoch 3, step 15250/55000, batch loss = 0.31\n",
      "epoch 3, step 15500/55000, batch loss = 0.33\n",
      "epoch 3, step 15750/55000, batch loss = 0.55\n",
      "epoch 3, step 16000/55000, batch loss = 0.34\n",
      "epoch 3, step 16250/55000, batch loss = 0.30\n",
      "epoch 3, step 16500/55000, batch loss = 0.32\n",
      "epoch 3, step 16750/55000, batch loss = 0.30\n",
      "epoch 3, step 17000/55000, batch loss = 0.33\n",
      "epoch 3, step 17250/55000, batch loss = 0.32\n",
      "epoch 3, step 17500/55000, batch loss = 0.31\n",
      "Train accuracy = 99.16\n",
      "epoch 3, step 17750/55000, batch loss = 0.30\n",
      "epoch 3, step 18000/55000, batch loss = 0.33\n",
      "epoch 3, step 18250/55000, batch loss = 0.32\n",
      "epoch 3, step 18500/55000, batch loss = 0.31\n",
      "epoch 3, step 18750/55000, batch loss = 0.38\n",
      "epoch 3, step 19000/55000, batch loss = 0.34\n",
      "epoch 3, step 19250/55000, batch loss = 0.34\n",
      "epoch 3, step 19500/55000, batch loss = 0.30\n",
      "epoch 3, step 19750/55000, batch loss = 0.31\n"
     ]
    },
    {
     "name": "stderr",
     "output_type": "stream",
     "text": [
      "WARNING:root:Lossy conversion from float64 to uint8. Range [0, 1]. Convert image to uint8 prior to saving to suppress this warning.\n"
     ]
    },
    {
     "name": "stdout",
     "output_type": "stream",
     "text": [
      "epoch 3, step 20000/55000, batch loss = 0.32\n",
      "Train accuracy = 99.18\n",
      "epoch 3, step 20250/55000, batch loss = 0.32\n",
      "epoch 3, step 20500/55000, batch loss = 0.30\n",
      "epoch 3, step 20750/55000, batch loss = 0.31\n",
      "epoch 3, step 21000/55000, batch loss = 0.30\n",
      "epoch 3, step 21250/55000, batch loss = 0.30\n",
      "epoch 3, step 21500/55000, batch loss = 0.30\n",
      "epoch 3, step 21750/55000, batch loss = 0.30\n",
      "epoch 3, step 22000/55000, batch loss = 0.31\n",
      "epoch 3, step 22250/55000, batch loss = 0.30\n",
      "epoch 3, step 22500/55000, batch loss = 0.33\n",
      "Train accuracy = 99.23\n",
      "epoch 3, step 22750/55000, batch loss = 0.30\n",
      "epoch 3, step 23000/55000, batch loss = 0.33\n",
      "epoch 3, step 23250/55000, batch loss = 0.31\n",
      "epoch 3, step 23500/55000, batch loss = 0.31\n",
      "epoch 3, step 23750/55000, batch loss = 0.30\n",
      "epoch 3, step 24000/55000, batch loss = 0.31\n",
      "epoch 3, step 24250/55000, batch loss = 0.33\n",
      "epoch 3, step 24500/55000, batch loss = 0.30\n",
      "epoch 3, step 24750/55000, batch loss = 0.40\n"
     ]
    },
    {
     "name": "stderr",
     "output_type": "stream",
     "text": [
      "WARNING:root:Lossy conversion from float64 to uint8. Range [0, 1]. Convert image to uint8 prior to saving to suppress this warning.\n"
     ]
    },
    {
     "name": "stdout",
     "output_type": "stream",
     "text": [
      "epoch 3, step 25000/55000, batch loss = 0.32\n",
      "Train accuracy = 99.27\n",
      "epoch 3, step 25250/55000, batch loss = 0.34\n",
      "epoch 3, step 25500/55000, batch loss = 0.32\n",
      "epoch 3, step 25750/55000, batch loss = 0.30\n",
      "epoch 3, step 26000/55000, batch loss = 0.32\n",
      "epoch 3, step 26250/55000, batch loss = 0.31\n",
      "epoch 3, step 26500/55000, batch loss = 0.31\n",
      "epoch 3, step 26750/55000, batch loss = 0.31\n",
      "epoch 3, step 27000/55000, batch loss = 0.43\n",
      "epoch 3, step 27250/55000, batch loss = 0.31\n",
      "epoch 3, step 27500/55000, batch loss = 0.36\n",
      "Train accuracy = 99.28\n",
      "epoch 3, step 27750/55000, batch loss = 0.30\n",
      "epoch 3, step 28000/55000, batch loss = 0.30\n",
      "epoch 3, step 28250/55000, batch loss = 0.30\n",
      "epoch 3, step 28500/55000, batch loss = 0.43\n",
      "epoch 3, step 28750/55000, batch loss = 0.30\n",
      "epoch 3, step 29000/55000, batch loss = 0.30\n",
      "epoch 3, step 29250/55000, batch loss = 0.30\n",
      "epoch 3, step 29500/55000, batch loss = 0.31\n",
      "epoch 3, step 29750/55000, batch loss = 0.41\n"
     ]
    },
    {
     "name": "stderr",
     "output_type": "stream",
     "text": [
      "WARNING:root:Lossy conversion from float64 to uint8. Range [0, 1]. Convert image to uint8 prior to saving to suppress this warning.\n"
     ]
    },
    {
     "name": "stdout",
     "output_type": "stream",
     "text": [
      "epoch 3, step 30000/55000, batch loss = 0.31\n",
      "Train accuracy = 99.26\n",
      "epoch 3, step 30250/55000, batch loss = 0.31\n",
      "epoch 3, step 30500/55000, batch loss = 0.30\n",
      "epoch 3, step 30750/55000, batch loss = 0.30\n",
      "epoch 3, step 31000/55000, batch loss = 0.30\n",
      "epoch 3, step 31250/55000, batch loss = 0.32\n",
      "epoch 3, step 31500/55000, batch loss = 0.37\n",
      "epoch 3, step 31750/55000, batch loss = 0.32\n",
      "epoch 3, step 32000/55000, batch loss = 0.32\n",
      "epoch 3, step 32250/55000, batch loss = 0.30\n",
      "epoch 3, step 32500/55000, batch loss = 0.30\n",
      "Train accuracy = 99.27\n",
      "epoch 3, step 32750/55000, batch loss = 0.30\n",
      "epoch 3, step 33000/55000, batch loss = 0.32\n",
      "epoch 3, step 33250/55000, batch loss = 0.31\n",
      "epoch 3, step 33500/55000, batch loss = 0.30\n",
      "epoch 3, step 33750/55000, batch loss = 0.31\n",
      "epoch 3, step 34000/55000, batch loss = 0.30\n",
      "epoch 3, step 34250/55000, batch loss = 0.30\n",
      "epoch 3, step 34500/55000, batch loss = 0.30\n",
      "epoch 3, step 34750/55000, batch loss = 0.31\n"
     ]
    },
    {
     "name": "stderr",
     "output_type": "stream",
     "text": [
      "WARNING:root:Lossy conversion from float64 to uint8. Range [0, 1]. Convert image to uint8 prior to saving to suppress this warning.\n"
     ]
    },
    {
     "name": "stdout",
     "output_type": "stream",
     "text": [
      "epoch 3, step 35000/55000, batch loss = 0.30\n",
      "Train accuracy = 99.26\n",
      "epoch 3, step 35250/55000, batch loss = 0.31\n",
      "epoch 3, step 35500/55000, batch loss = 0.33\n",
      "epoch 3, step 35750/55000, batch loss = 0.34\n",
      "epoch 3, step 36000/55000, batch loss = 0.31\n",
      "epoch 3, step 36250/55000, batch loss = 0.30\n",
      "epoch 3, step 36500/55000, batch loss = 0.30\n",
      "epoch 3, step 36750/55000, batch loss = 0.30\n",
      "epoch 3, step 37000/55000, batch loss = 0.32\n",
      "epoch 3, step 37250/55000, batch loss = 0.35\n",
      "epoch 3, step 37500/55000, batch loss = 0.30\n",
      "Train accuracy = 99.25\n",
      "epoch 3, step 37750/55000, batch loss = 0.32\n",
      "epoch 3, step 38000/55000, batch loss = 0.31\n",
      "epoch 3, step 38250/55000, batch loss = 0.30\n",
      "epoch 3, step 38500/55000, batch loss = 0.32\n",
      "epoch 3, step 38750/55000, batch loss = 0.31\n",
      "epoch 3, step 39000/55000, batch loss = 0.30\n",
      "epoch 3, step 39250/55000, batch loss = 0.31\n",
      "epoch 3, step 39500/55000, batch loss = 0.30\n",
      "epoch 3, step 39750/55000, batch loss = 0.30\n"
     ]
    },
    {
     "name": "stderr",
     "output_type": "stream",
     "text": [
      "WARNING:root:Lossy conversion from float64 to uint8. Range [0, 1]. Convert image to uint8 prior to saving to suppress this warning.\n"
     ]
    },
    {
     "name": "stdout",
     "output_type": "stream",
     "text": [
      "epoch 3, step 40000/55000, batch loss = 0.31\n",
      "Train accuracy = 99.26\n",
      "epoch 3, step 40250/55000, batch loss = 0.34\n",
      "epoch 3, step 40500/55000, batch loss = 0.30\n",
      "epoch 3, step 40750/55000, batch loss = 0.46\n",
      "epoch 3, step 41000/55000, batch loss = 0.30\n",
      "epoch 3, step 41250/55000, batch loss = 0.31\n",
      "epoch 3, step 41500/55000, batch loss = 0.30\n",
      "epoch 3, step 41750/55000, batch loss = 0.34\n",
      "epoch 3, step 42000/55000, batch loss = 0.31\n",
      "epoch 3, step 42250/55000, batch loss = 0.35\n",
      "epoch 3, step 42500/55000, batch loss = 0.30\n",
      "Train accuracy = 99.25\n",
      "epoch 3, step 42750/55000, batch loss = 0.30\n",
      "epoch 3, step 43000/55000, batch loss = 0.36\n",
      "epoch 3, step 43250/55000, batch loss = 0.30\n",
      "epoch 3, step 43500/55000, batch loss = 0.30\n",
      "epoch 3, step 43750/55000, batch loss = 0.31\n",
      "epoch 3, step 44000/55000, batch loss = 0.30\n",
      "epoch 3, step 44250/55000, batch loss = 0.34\n",
      "epoch 3, step 44500/55000, batch loss = 0.30\n",
      "epoch 3, step 44750/55000, batch loss = 0.30\n"
     ]
    },
    {
     "name": "stderr",
     "output_type": "stream",
     "text": [
      "WARNING:root:Lossy conversion from float64 to uint8. Range [0, 1]. Convert image to uint8 prior to saving to suppress this warning.\n"
     ]
    },
    {
     "name": "stdout",
     "output_type": "stream",
     "text": [
      "epoch 3, step 45000/55000, batch loss = 0.35\n",
      "Train accuracy = 99.23\n",
      "epoch 3, step 45250/55000, batch loss = 0.30\n",
      "epoch 3, step 45500/55000, batch loss = 0.33\n",
      "epoch 3, step 45750/55000, batch loss = 0.30\n",
      "epoch 3, step 46000/55000, batch loss = 0.30\n",
      "epoch 3, step 46250/55000, batch loss = 0.31\n",
      "epoch 3, step 46500/55000, batch loss = 0.31\n",
      "epoch 3, step 46750/55000, batch loss = 0.34\n",
      "epoch 3, step 47000/55000, batch loss = 0.30\n",
      "epoch 3, step 47250/55000, batch loss = 0.30\n",
      "epoch 3, step 47500/55000, batch loss = 0.36\n",
      "Train accuracy = 99.23\n",
      "epoch 3, step 47750/55000, batch loss = 0.32\n",
      "epoch 3, step 48000/55000, batch loss = 0.31\n",
      "epoch 3, step 48250/55000, batch loss = 0.31\n",
      "epoch 3, step 48500/55000, batch loss = 0.30\n",
      "epoch 3, step 48750/55000, batch loss = 0.37\n",
      "epoch 3, step 49000/55000, batch loss = 0.30\n",
      "epoch 3, step 49250/55000, batch loss = 0.32\n",
      "epoch 3, step 49500/55000, batch loss = 0.31\n",
      "epoch 3, step 49750/55000, batch loss = 0.30\n"
     ]
    },
    {
     "name": "stderr",
     "output_type": "stream",
     "text": [
      "WARNING:root:Lossy conversion from float64 to uint8. Range [0, 1]. Convert image to uint8 prior to saving to suppress this warning.\n"
     ]
    },
    {
     "name": "stdout",
     "output_type": "stream",
     "text": [
      "epoch 3, step 50000/55000, batch loss = 0.44\n",
      "Train accuracy = 99.24\n",
      "epoch 3, step 50250/55000, batch loss = 0.31\n",
      "epoch 3, step 50500/55000, batch loss = 0.30\n",
      "epoch 3, step 50750/55000, batch loss = 0.29\n",
      "epoch 3, step 51000/55000, batch loss = 0.31\n",
      "epoch 3, step 51250/55000, batch loss = 0.30\n",
      "epoch 3, step 51500/55000, batch loss = 0.31\n",
      "epoch 3, step 51750/55000, batch loss = 0.33\n",
      "epoch 3, step 52000/55000, batch loss = 0.31\n",
      "epoch 3, step 52250/55000, batch loss = 0.32\n",
      "epoch 3, step 52500/55000, batch loss = 0.34\n",
      "Train accuracy = 99.25\n",
      "epoch 3, step 52750/55000, batch loss = 0.31\n",
      "epoch 3, step 53000/55000, batch loss = 0.30\n",
      "epoch 3, step 53250/55000, batch loss = 0.31\n",
      "epoch 3, step 53500/55000, batch loss = 0.32\n",
      "epoch 3, step 53750/55000, batch loss = 0.30\n",
      "epoch 3, step 54000/55000, batch loss = 0.30\n",
      "epoch 3, step 54250/55000, batch loss = 0.29\n",
      "epoch 3, step 54500/55000, batch loss = 0.29\n",
      "epoch 3, step 54750/55000, batch loss = 0.30\n",
      "Train accuracy = 99.25\n",
      "\n",
      "Running evaluation:  Validation\n",
      "Validation accuracy = 99.08\n",
      "Validation avg loss = 0.33\n",
      "\n"
     ]
    },
    {
     "name": "stderr",
     "output_type": "stream",
     "text": [
      "WARNING:root:Lossy conversion from float64 to uint8. Range [0, 1]. Convert image to uint8 prior to saving to suppress this warning.\n"
     ]
    },
    {
     "name": "stdout",
     "output_type": "stream",
     "text": [
      "epoch 4, step 0/55000, batch loss = 0.31\n",
      "epoch 4, step 250/55000, batch loss = 0.30\n",
      "epoch 4, step 500/55000, batch loss = 0.30\n",
      "epoch 4, step 750/55000, batch loss = 0.30\n",
      "epoch 4, step 1000/55000, batch loss = 0.40\n",
      "epoch 4, step 1250/55000, batch loss = 0.35\n",
      "epoch 4, step 1500/55000, batch loss = 0.36\n",
      "epoch 4, step 1750/55000, batch loss = 0.30\n",
      "epoch 4, step 2000/55000, batch loss = 0.31\n",
      "epoch 4, step 2250/55000, batch loss = 0.30\n",
      "epoch 4, step 2500/55000, batch loss = 0.31\n",
      "Train accuracy = 99.22\n",
      "epoch 4, step 2750/55000, batch loss = 0.31\n",
      "epoch 4, step 3000/55000, batch loss = 0.31\n",
      "epoch 4, step 3250/55000, batch loss = 0.30\n",
      "epoch 4, step 3500/55000, batch loss = 0.30\n",
      "epoch 4, step 3750/55000, batch loss = 0.30\n",
      "epoch 4, step 4000/55000, batch loss = 0.30\n",
      "epoch 4, step 4250/55000, batch loss = 0.30\n",
      "epoch 4, step 4500/55000, batch loss = 0.30\n",
      "epoch 4, step 4750/55000, batch loss = 0.33\n"
     ]
    },
    {
     "name": "stderr",
     "output_type": "stream",
     "text": [
      "WARNING:root:Lossy conversion from float64 to uint8. Range [0, 1]. Convert image to uint8 prior to saving to suppress this warning.\n"
     ]
    },
    {
     "name": "stdout",
     "output_type": "stream",
     "text": [
      "epoch 4, step 5000/55000, batch loss = 0.31\n",
      "Train accuracy = 99.35\n",
      "epoch 4, step 5250/55000, batch loss = 0.29\n",
      "epoch 4, step 5500/55000, batch loss = 0.30\n",
      "epoch 4, step 5750/55000, batch loss = 0.31\n",
      "epoch 4, step 6000/55000, batch loss = 0.30\n",
      "epoch 4, step 6250/55000, batch loss = 0.32\n",
      "epoch 4, step 6500/55000, batch loss = 0.31\n",
      "epoch 4, step 6750/55000, batch loss = 0.33\n",
      "epoch 4, step 7000/55000, batch loss = 0.30\n",
      "epoch 4, step 7250/55000, batch loss = 0.30\n",
      "epoch 4, step 7500/55000, batch loss = 0.36\n",
      "Train accuracy = 99.32\n",
      "epoch 4, step 7750/55000, batch loss = 0.30\n",
      "epoch 4, step 8000/55000, batch loss = 0.31\n",
      "epoch 4, step 8250/55000, batch loss = 0.30\n",
      "epoch 4, step 8500/55000, batch loss = 0.30\n",
      "epoch 4, step 8750/55000, batch loss = 0.32\n",
      "epoch 4, step 9000/55000, batch loss = 0.30\n",
      "epoch 4, step 9250/55000, batch loss = 0.31\n",
      "epoch 4, step 9500/55000, batch loss = 0.33\n",
      "epoch 4, step 9750/55000, batch loss = 0.30\n"
     ]
    },
    {
     "name": "stderr",
     "output_type": "stream",
     "text": [
      "WARNING:root:Lossy conversion from float64 to uint8. Range [0, 1]. Convert image to uint8 prior to saving to suppress this warning.\n"
     ]
    },
    {
     "name": "stdout",
     "output_type": "stream",
     "text": [
      "epoch 4, step 10000/55000, batch loss = 0.30\n",
      "Train accuracy = 99.39\n",
      "epoch 4, step 10250/55000, batch loss = 0.32\n",
      "epoch 4, step 10500/55000, batch loss = 0.29\n",
      "epoch 4, step 10750/55000, batch loss = 0.30\n",
      "epoch 4, step 11000/55000, batch loss = 0.31\n",
      "epoch 4, step 11250/55000, batch loss = 0.30\n",
      "epoch 4, step 11500/55000, batch loss = 0.30\n",
      "epoch 4, step 11750/55000, batch loss = 0.33\n",
      "epoch 4, step 12000/55000, batch loss = 0.30\n",
      "epoch 4, step 12250/55000, batch loss = 0.30\n",
      "epoch 4, step 12500/55000, batch loss = 0.32\n",
      "Train accuracy = 99.42\n",
      "epoch 4, step 12750/55000, batch loss = 0.29\n",
      "epoch 4, step 13000/55000, batch loss = 0.30\n",
      "epoch 4, step 13250/55000, batch loss = 0.30\n",
      "epoch 4, step 13500/55000, batch loss = 0.30\n",
      "epoch 4, step 13750/55000, batch loss = 0.29\n",
      "epoch 4, step 14000/55000, batch loss = 0.33\n",
      "epoch 4, step 14250/55000, batch loss = 0.29\n",
      "epoch 4, step 14500/55000, batch loss = 0.29\n",
      "epoch 4, step 14750/55000, batch loss = 0.29\n"
     ]
    },
    {
     "name": "stderr",
     "output_type": "stream",
     "text": [
      "WARNING:root:Lossy conversion from float64 to uint8. Range [0, 1]. Convert image to uint8 prior to saving to suppress this warning.\n"
     ]
    },
    {
     "name": "stdout",
     "output_type": "stream",
     "text": [
      "epoch 4, step 15000/55000, batch loss = 0.33\n",
      "Train accuracy = 99.41\n",
      "epoch 4, step 15250/55000, batch loss = 0.31\n",
      "epoch 4, step 15500/55000, batch loss = 0.29\n",
      "epoch 4, step 15750/55000, batch loss = 0.30\n",
      "epoch 4, step 16000/55000, batch loss = 0.30\n",
      "epoch 4, step 16250/55000, batch loss = 0.30\n",
      "epoch 4, step 16500/55000, batch loss = 0.29\n",
      "epoch 4, step 16750/55000, batch loss = 0.33\n",
      "epoch 4, step 17000/55000, batch loss = 0.30\n",
      "epoch 4, step 17250/55000, batch loss = 0.30\n",
      "epoch 4, step 17500/55000, batch loss = 0.31\n",
      "Train accuracy = 99.41\n",
      "epoch 4, step 17750/55000, batch loss = 0.34\n",
      "epoch 4, step 18000/55000, batch loss = 0.29\n",
      "epoch 4, step 18250/55000, batch loss = 0.35\n",
      "epoch 4, step 18500/55000, batch loss = 0.30\n",
      "epoch 4, step 18750/55000, batch loss = 0.30\n",
      "epoch 4, step 19000/55000, batch loss = 0.30\n",
      "epoch 4, step 19250/55000, batch loss = 0.31\n",
      "epoch 4, step 19500/55000, batch loss = 0.30\n",
      "epoch 4, step 19750/55000, batch loss = 0.31\n"
     ]
    },
    {
     "name": "stderr",
     "output_type": "stream",
     "text": [
      "WARNING:root:Lossy conversion from float64 to uint8. Range [0, 1]. Convert image to uint8 prior to saving to suppress this warning.\n"
     ]
    },
    {
     "name": "stdout",
     "output_type": "stream",
     "text": [
      "epoch 4, step 20000/55000, batch loss = 0.30\n",
      "Train accuracy = 99.44\n",
      "epoch 4, step 20250/55000, batch loss = 0.30\n",
      "epoch 4, step 20500/55000, batch loss = 0.29\n",
      "epoch 4, step 20750/55000, batch loss = 0.31\n",
      "epoch 4, step 21000/55000, batch loss = 0.30\n",
      "epoch 4, step 21250/55000, batch loss = 0.30\n",
      "epoch 4, step 21500/55000, batch loss = 0.31\n",
      "epoch 4, step 21750/55000, batch loss = 0.32\n",
      "epoch 4, step 22000/55000, batch loss = 0.30\n",
      "epoch 4, step 22250/55000, batch loss = 0.32\n",
      "epoch 4, step 22500/55000, batch loss = 0.29\n",
      "Train accuracy = 99.43\n",
      "epoch 4, step 22750/55000, batch loss = 0.30\n",
      "epoch 4, step 23000/55000, batch loss = 0.30\n",
      "epoch 4, step 23250/55000, batch loss = 0.32\n",
      "epoch 4, step 23500/55000, batch loss = 0.34\n",
      "epoch 4, step 23750/55000, batch loss = 0.30\n",
      "epoch 4, step 24000/55000, batch loss = 0.30\n",
      "epoch 4, step 24250/55000, batch loss = 0.31\n",
      "epoch 4, step 24500/55000, batch loss = 0.30\n",
      "epoch 4, step 24750/55000, batch loss = 0.33\n"
     ]
    },
    {
     "name": "stderr",
     "output_type": "stream",
     "text": [
      "WARNING:root:Lossy conversion from float64 to uint8. Range [0, 1]. Convert image to uint8 prior to saving to suppress this warning.\n"
     ]
    },
    {
     "name": "stdout",
     "output_type": "stream",
     "text": [
      "epoch 4, step 25000/55000, batch loss = 0.31\n",
      "Train accuracy = 99.43\n",
      "epoch 4, step 25250/55000, batch loss = 0.32\n",
      "epoch 4, step 25500/55000, batch loss = 0.30\n",
      "epoch 4, step 25750/55000, batch loss = 0.30\n",
      "epoch 4, step 26000/55000, batch loss = 0.30\n",
      "epoch 4, step 26250/55000, batch loss = 0.30\n",
      "epoch 4, step 26500/55000, batch loss = 0.29\n",
      "epoch 4, step 26750/55000, batch loss = 0.29\n",
      "epoch 4, step 27000/55000, batch loss = 0.38\n",
      "epoch 4, step 27250/55000, batch loss = 0.33\n",
      "epoch 4, step 27500/55000, batch loss = 0.29\n",
      "Train accuracy = 99.44\n",
      "epoch 4, step 27750/55000, batch loss = 0.33\n",
      "epoch 4, step 28000/55000, batch loss = 0.30\n",
      "epoch 4, step 28250/55000, batch loss = 0.35\n",
      "epoch 4, step 28500/55000, batch loss = 0.31\n",
      "epoch 4, step 28750/55000, batch loss = 0.32\n",
      "epoch 4, step 29000/55000, batch loss = 0.35\n",
      "epoch 4, step 29250/55000, batch loss = 0.32\n",
      "epoch 4, step 29500/55000, batch loss = 0.34\n",
      "epoch 4, step 29750/55000, batch loss = 0.31\n"
     ]
    },
    {
     "name": "stderr",
     "output_type": "stream",
     "text": [
      "WARNING:root:Lossy conversion from float64 to uint8. Range [0, 1]. Convert image to uint8 prior to saving to suppress this warning.\n"
     ]
    },
    {
     "name": "stdout",
     "output_type": "stream",
     "text": [
      "epoch 4, step 30000/55000, batch loss = 0.30\n",
      "Train accuracy = 99.41\n",
      "epoch 4, step 30250/55000, batch loss = 0.35\n",
      "epoch 4, step 30500/55000, batch loss = 0.32\n",
      "epoch 4, step 30750/55000, batch loss = 0.30\n",
      "epoch 4, step 31000/55000, batch loss = 0.33\n",
      "epoch 4, step 31250/55000, batch loss = 0.30\n",
      "epoch 4, step 31500/55000, batch loss = 0.29\n",
      "epoch 4, step 31750/55000, batch loss = 0.30\n",
      "epoch 4, step 32000/55000, batch loss = 0.29\n",
      "epoch 4, step 32250/55000, batch loss = 0.32\n",
      "epoch 4, step 32500/55000, batch loss = 0.34\n",
      "Train accuracy = 99.41\n",
      "epoch 4, step 32750/55000, batch loss = 0.30\n",
      "epoch 4, step 33000/55000, batch loss = 0.29\n",
      "epoch 4, step 33250/55000, batch loss = 0.37\n",
      "epoch 4, step 33500/55000, batch loss = 0.30\n",
      "epoch 4, step 33750/55000, batch loss = 0.30\n",
      "epoch 4, step 34000/55000, batch loss = 0.33\n",
      "epoch 4, step 34250/55000, batch loss = 0.38\n",
      "epoch 4, step 34500/55000, batch loss = 0.31\n",
      "epoch 4, step 34750/55000, batch loss = 0.31\n"
     ]
    },
    {
     "name": "stderr",
     "output_type": "stream",
     "text": [
      "WARNING:root:Lossy conversion from float64 to uint8. Range [0, 1]. Convert image to uint8 prior to saving to suppress this warning.\n"
     ]
    },
    {
     "name": "stdout",
     "output_type": "stream",
     "text": [
      "epoch 4, step 35000/55000, batch loss = 0.30\n",
      "Train accuracy = 99.39\n",
      "epoch 4, step 35250/55000, batch loss = 0.30\n",
      "epoch 4, step 35500/55000, batch loss = 0.31\n",
      "epoch 4, step 35750/55000, batch loss = 0.29\n",
      "epoch 4, step 36000/55000, batch loss = 0.30\n",
      "epoch 4, step 36250/55000, batch loss = 0.35\n",
      "epoch 4, step 36500/55000, batch loss = 0.30\n",
      "epoch 4, step 36750/55000, batch loss = 0.34\n",
      "epoch 4, step 37000/55000, batch loss = 0.30\n",
      "epoch 4, step 37250/55000, batch loss = 0.29\n",
      "epoch 4, step 37500/55000, batch loss = 0.32\n",
      "Train accuracy = 99.40\n",
      "epoch 4, step 37750/55000, batch loss = 0.31\n",
      "epoch 4, step 38000/55000, batch loss = 0.30\n",
      "epoch 4, step 38250/55000, batch loss = 0.30\n",
      "epoch 4, step 38500/55000, batch loss = 0.29\n",
      "epoch 4, step 38750/55000, batch loss = 0.32\n",
      "epoch 4, step 39000/55000, batch loss = 0.33\n",
      "epoch 4, step 39250/55000, batch loss = 0.29\n",
      "epoch 4, step 39500/55000, batch loss = 0.31\n",
      "epoch 4, step 39750/55000, batch loss = 0.30\n"
     ]
    },
    {
     "name": "stderr",
     "output_type": "stream",
     "text": [
      "WARNING:root:Lossy conversion from float64 to uint8. Range [0, 1]. Convert image to uint8 prior to saving to suppress this warning.\n"
     ]
    },
    {
     "name": "stdout",
     "output_type": "stream",
     "text": [
      "epoch 4, step 40000/55000, batch loss = 0.33\n",
      "Train accuracy = 99.39\n",
      "epoch 4, step 40250/55000, batch loss = 0.30\n",
      "epoch 4, step 40500/55000, batch loss = 0.29\n",
      "epoch 4, step 40750/55000, batch loss = 0.30\n",
      "epoch 4, step 41000/55000, batch loss = 0.30\n",
      "epoch 4, step 41250/55000, batch loss = 0.31\n",
      "epoch 4, step 41500/55000, batch loss = 0.29\n",
      "epoch 4, step 41750/55000, batch loss = 0.37\n",
      "epoch 4, step 42000/55000, batch loss = 0.30\n",
      "epoch 4, step 42250/55000, batch loss = 0.32\n",
      "epoch 4, step 42500/55000, batch loss = 0.29\n",
      "Train accuracy = 99.39\n",
      "epoch 4, step 42750/55000, batch loss = 0.30\n",
      "epoch 4, step 43000/55000, batch loss = 0.38\n",
      "epoch 4, step 43250/55000, batch loss = 0.30\n",
      "epoch 4, step 43500/55000, batch loss = 0.29\n",
      "epoch 4, step 43750/55000, batch loss = 0.30\n",
      "epoch 4, step 44000/55000, batch loss = 0.29\n",
      "epoch 4, step 44250/55000, batch loss = 0.30\n",
      "epoch 4, step 44500/55000, batch loss = 0.31\n",
      "epoch 4, step 44750/55000, batch loss = 0.30\n"
     ]
    },
    {
     "name": "stderr",
     "output_type": "stream",
     "text": [
      "WARNING:root:Lossy conversion from float64 to uint8. Range [0, 1]. Convert image to uint8 prior to saving to suppress this warning.\n"
     ]
    },
    {
     "name": "stdout",
     "output_type": "stream",
     "text": [
      "epoch 4, step 45000/55000, batch loss = 0.35\n",
      "Train accuracy = 99.39\n",
      "epoch 4, step 45250/55000, batch loss = 0.31\n",
      "epoch 4, step 45500/55000, batch loss = 0.30\n",
      "epoch 4, step 45750/55000, batch loss = 0.30\n",
      "epoch 4, step 46000/55000, batch loss = 0.35\n",
      "epoch 4, step 46250/55000, batch loss = 0.32\n",
      "epoch 4, step 46500/55000, batch loss = 0.38\n",
      "epoch 4, step 46750/55000, batch loss = 0.34\n",
      "epoch 4, step 47000/55000, batch loss = 0.30\n",
      "epoch 4, step 47250/55000, batch loss = 0.32\n",
      "epoch 4, step 47500/55000, batch loss = 0.30\n",
      "Train accuracy = 99.38\n",
      "epoch 4, step 47750/55000, batch loss = 0.30\n",
      "epoch 4, step 48000/55000, batch loss = 0.34\n",
      "epoch 4, step 48250/55000, batch loss = 0.30\n",
      "epoch 4, step 48500/55000, batch loss = 0.31\n",
      "epoch 4, step 48750/55000, batch loss = 0.30\n",
      "epoch 4, step 49000/55000, batch loss = 0.31\n",
      "epoch 4, step 49250/55000, batch loss = 0.33\n",
      "epoch 4, step 49500/55000, batch loss = 0.33\n",
      "epoch 4, step 49750/55000, batch loss = 0.37\n"
     ]
    },
    {
     "name": "stderr",
     "output_type": "stream",
     "text": [
      "WARNING:root:Lossy conversion from float64 to uint8. Range [0, 1]. Convert image to uint8 prior to saving to suppress this warning.\n"
     ]
    },
    {
     "name": "stdout",
     "output_type": "stream",
     "text": [
      "epoch 4, step 50000/55000, batch loss = 0.29\n",
      "Train accuracy = 99.38\n",
      "epoch 4, step 50250/55000, batch loss = 0.33\n",
      "epoch 4, step 50500/55000, batch loss = 0.31\n",
      "epoch 4, step 50750/55000, batch loss = 0.31\n",
      "epoch 4, step 51000/55000, batch loss = 0.29\n",
      "epoch 4, step 51250/55000, batch loss = 0.37\n",
      "epoch 4, step 51500/55000, batch loss = 0.29\n",
      "epoch 4, step 51750/55000, batch loss = 0.44\n",
      "epoch 4, step 52000/55000, batch loss = 0.30\n",
      "epoch 4, step 52250/55000, batch loss = 0.29\n",
      "epoch 4, step 52500/55000, batch loss = 0.29\n",
      "Train accuracy = 99.37\n",
      "epoch 4, step 52750/55000, batch loss = 0.32\n",
      "epoch 4, step 53000/55000, batch loss = 0.41\n",
      "epoch 4, step 53250/55000, batch loss = 0.30\n",
      "epoch 4, step 53500/55000, batch loss = 0.29\n",
      "epoch 4, step 53750/55000, batch loss = 0.31\n",
      "epoch 4, step 54000/55000, batch loss = 0.29\n",
      "epoch 4, step 54250/55000, batch loss = 0.31\n",
      "epoch 4, step 54500/55000, batch loss = 0.29\n",
      "epoch 4, step 54750/55000, batch loss = 0.45\n",
      "Train accuracy = 99.37\n",
      "\n",
      "Running evaluation:  Validation\n",
      "Validation accuracy = 99.12\n",
      "Validation avg loss = 0.32\n",
      "\n",
      "\n",
      "Running evaluation:  Test\n",
      "Test accuracy = 99.14\n",
      "Test avg loss = 0.31\n",
      "\n",
      "Treniram model sa lambda = 1e-2\n"
     ]
    },
    {
     "name": "stderr",
     "output_type": "stream",
     "text": [
      "WARNING:root:Lossy conversion from float64 to uint8. Range [0, 1]. Convert image to uint8 prior to saving to suppress this warning.\n"
     ]
    },
    {
     "name": "stdout",
     "output_type": "stream",
     "text": [
      "epoch 1, step 0/55000, batch loss = 6.78\n",
      "epoch 1, step 250/55000, batch loss = 6.10\n",
      "epoch 1, step 500/55000, batch loss = 5.56\n",
      "epoch 1, step 750/55000, batch loss = 5.71\n",
      "epoch 1, step 1000/55000, batch loss = 5.24\n",
      "epoch 1, step 1250/55000, batch loss = 4.87\n",
      "epoch 1, step 1500/55000, batch loss = 4.99\n",
      "epoch 1, step 1750/55000, batch loss = 4.49\n",
      "epoch 1, step 2000/55000, batch loss = 4.63\n",
      "epoch 1, step 2250/55000, batch loss = 4.41\n",
      "epoch 1, step 2500/55000, batch loss = 4.32\n",
      "Train accuracy = 68.90\n",
      "epoch 1, step 2750/55000, batch loss = 4.56\n",
      "epoch 1, step 3000/55000, batch loss = 4.35\n",
      "epoch 1, step 3250/55000, batch loss = 4.22\n",
      "epoch 1, step 3500/55000, batch loss = 4.17\n",
      "epoch 1, step 3750/55000, batch loss = 4.05\n",
      "epoch 1, step 4000/55000, batch loss = 4.00\n",
      "epoch 1, step 4250/55000, batch loss = 3.96\n",
      "epoch 1, step 4500/55000, batch loss = 3.89\n",
      "epoch 1, step 4750/55000, batch loss = 3.80\n"
     ]
    },
    {
     "name": "stderr",
     "output_type": "stream",
     "text": [
      "WARNING:root:Lossy conversion from float64 to uint8. Range [0, 1]. Convert image to uint8 prior to saving to suppress this warning.\n"
     ]
    },
    {
     "name": "stdout",
     "output_type": "stream",
     "text": [
      "epoch 1, step 5000/55000, batch loss = 3.85\n",
      "Train accuracy = 79.25\n",
      "epoch 1, step 5250/55000, batch loss = 3.68\n",
      "epoch 1, step 5500/55000, batch loss = 3.93\n",
      "epoch 1, step 5750/55000, batch loss = 3.70\n",
      "epoch 1, step 6000/55000, batch loss = 3.61\n",
      "epoch 1, step 6250/55000, batch loss = 3.67\n",
      "epoch 1, step 6500/55000, batch loss = 3.54\n",
      "epoch 1, step 6750/55000, batch loss = 3.55\n",
      "epoch 1, step 7000/55000, batch loss = 3.51\n",
      "epoch 1, step 7250/55000, batch loss = 3.61\n",
      "epoch 1, step 7500/55000, batch loss = 3.48\n",
      "Train accuracy = 83.66\n",
      "epoch 1, step 7750/55000, batch loss = 3.44\n",
      "epoch 1, step 8000/55000, batch loss = 3.36\n",
      "epoch 1, step 8250/55000, batch loss = 3.61\n",
      "epoch 1, step 8500/55000, batch loss = 3.33\n",
      "epoch 1, step 8750/55000, batch loss = 3.31\n",
      "epoch 1, step 9000/55000, batch loss = 3.33\n",
      "epoch 1, step 9250/55000, batch loss = 3.33\n",
      "epoch 1, step 9500/55000, batch loss = 3.27\n",
      "epoch 1, step 9750/55000, batch loss = 3.21\n"
     ]
    },
    {
     "name": "stderr",
     "output_type": "stream",
     "text": [
      "WARNING:root:Lossy conversion from float64 to uint8. Range [0, 1]. Convert image to uint8 prior to saving to suppress this warning.\n"
     ]
    },
    {
     "name": "stdout",
     "output_type": "stream",
     "text": [
      "epoch 1, step 10000/55000, batch loss = 3.11\n",
      "Train accuracy = 86.03\n",
      "epoch 1, step 10250/55000, batch loss = 3.03\n",
      "epoch 1, step 10500/55000, batch loss = 3.17\n",
      "epoch 1, step 10750/55000, batch loss = 2.99\n",
      "epoch 1, step 11000/55000, batch loss = 3.12\n",
      "epoch 1, step 11250/55000, batch loss = 2.97\n",
      "epoch 1, step 11500/55000, batch loss = 2.90\n",
      "epoch 1, step 11750/55000, batch loss = 2.90\n",
      "epoch 1, step 12000/55000, batch loss = 2.91\n",
      "epoch 1, step 12250/55000, batch loss = 2.92\n",
      "epoch 1, step 12500/55000, batch loss = 2.75\n",
      "Train accuracy = 87.90\n",
      "epoch 1, step 12750/55000, batch loss = 2.73\n",
      "epoch 1, step 13000/55000, batch loss = 2.81\n",
      "epoch 1, step 13250/55000, batch loss = 2.69\n",
      "epoch 1, step 13500/55000, batch loss = 2.72\n",
      "epoch 1, step 13750/55000, batch loss = 2.67\n",
      "epoch 1, step 14000/55000, batch loss = 2.70\n",
      "epoch 1, step 14250/55000, batch loss = 2.66\n",
      "epoch 1, step 14500/55000, batch loss = 2.70\n",
      "epoch 1, step 14750/55000, batch loss = 2.62\n"
     ]
    },
    {
     "name": "stderr",
     "output_type": "stream",
     "text": [
      "WARNING:root:Lossy conversion from float64 to uint8. Range [0, 1]. Convert image to uint8 prior to saving to suppress this warning.\n"
     ]
    },
    {
     "name": "stdout",
     "output_type": "stream",
     "text": [
      "epoch 1, step 15000/55000, batch loss = 2.57\n",
      "Train accuracy = 89.00\n",
      "epoch 1, step 15250/55000, batch loss = 2.62\n",
      "epoch 1, step 15500/55000, batch loss = 2.53\n",
      "epoch 1, step 15750/55000, batch loss = 2.66\n",
      "epoch 1, step 16000/55000, batch loss = 2.45\n",
      "epoch 1, step 16250/55000, batch loss = 2.41\n",
      "epoch 1, step 16500/55000, batch loss = 2.40\n",
      "epoch 1, step 16750/55000, batch loss = 2.39\n",
      "epoch 1, step 17000/55000, batch loss = 2.47\n",
      "epoch 1, step 17250/55000, batch loss = 2.38\n",
      "epoch 1, step 17500/55000, batch loss = 2.39\n",
      "Train accuracy = 89.90\n",
      "epoch 1, step 17750/55000, batch loss = 2.29\n",
      "epoch 1, step 18000/55000, batch loss = 2.28\n",
      "epoch 1, step 18250/55000, batch loss = 2.33\n",
      "epoch 1, step 18500/55000, batch loss = 2.23\n",
      "epoch 1, step 18750/55000, batch loss = 2.23\n",
      "epoch 1, step 19000/55000, batch loss = 2.26\n",
      "epoch 1, step 19250/55000, batch loss = 2.23\n",
      "epoch 1, step 19500/55000, batch loss = 2.16\n",
      "epoch 1, step 19750/55000, batch loss = 2.18\n"
     ]
    },
    {
     "name": "stderr",
     "output_type": "stream",
     "text": [
      "WARNING:root:Lossy conversion from float64 to uint8. Range [0, 1]. Convert image to uint8 prior to saving to suppress this warning.\n"
     ]
    },
    {
     "name": "stdout",
     "output_type": "stream",
     "text": [
      "epoch 1, step 20000/55000, batch loss = 2.21\n",
      "Train accuracy = 90.60\n",
      "epoch 1, step 20250/55000, batch loss = 2.15\n",
      "epoch 1, step 20500/55000, batch loss = 2.20\n",
      "epoch 1, step 20750/55000, batch loss = 2.19\n",
      "epoch 1, step 21000/55000, batch loss = 2.02\n",
      "epoch 1, step 21250/55000, batch loss = 2.03\n",
      "epoch 1, step 21500/55000, batch loss = 2.07\n",
      "epoch 1, step 21750/55000, batch loss = 2.14\n",
      "epoch 1, step 22000/55000, batch loss = 1.95\n",
      "epoch 1, step 22250/55000, batch loss = 2.10\n",
      "epoch 1, step 22500/55000, batch loss = 1.98\n",
      "Train accuracy = 91.18\n",
      "epoch 1, step 22750/55000, batch loss = 2.16\n",
      "epoch 1, step 23000/55000, batch loss = 1.97\n",
      "epoch 1, step 23250/55000, batch loss = 1.91\n",
      "epoch 1, step 23500/55000, batch loss = 1.86\n",
      "epoch 1, step 23750/55000, batch loss = 1.94\n",
      "epoch 1, step 24000/55000, batch loss = 1.81\n",
      "epoch 1, step 24250/55000, batch loss = 1.77\n",
      "epoch 1, step 24500/55000, batch loss = 1.91\n",
      "epoch 1, step 24750/55000, batch loss = 1.75\n"
     ]
    },
    {
     "name": "stderr",
     "output_type": "stream",
     "text": [
      "WARNING:root:Lossy conversion from float64 to uint8. Range [0, 1]. Convert image to uint8 prior to saving to suppress this warning.\n"
     ]
    },
    {
     "name": "stdout",
     "output_type": "stream",
     "text": [
      "epoch 1, step 25000/55000, batch loss = 1.76\n",
      "Train accuracy = 91.73\n",
      "epoch 1, step 25250/55000, batch loss = 1.76\n",
      "epoch 1, step 25500/55000, batch loss = 1.71\n",
      "epoch 1, step 25750/55000, batch loss = 1.95\n",
      "epoch 1, step 26000/55000, batch loss = 1.66\n",
      "epoch 1, step 26250/55000, batch loss = 1.73\n",
      "epoch 1, step 26500/55000, batch loss = 1.70\n",
      "epoch 1, step 26750/55000, batch loss = 1.70\n",
      "epoch 1, step 27000/55000, batch loss = 1.59\n",
      "epoch 1, step 27250/55000, batch loss = 1.71\n",
      "epoch 1, step 27500/55000, batch loss = 1.60\n",
      "Train accuracy = 92.25\n",
      "epoch 1, step 27750/55000, batch loss = 1.62\n",
      "epoch 1, step 28000/55000, batch loss = 1.66\n",
      "epoch 1, step 28250/55000, batch loss = 1.68\n",
      "epoch 1, step 28500/55000, batch loss = 1.70\n",
      "epoch 1, step 28750/55000, batch loss = 1.61\n",
      "epoch 1, step 29000/55000, batch loss = 1.53\n",
      "epoch 1, step 29250/55000, batch loss = 1.54\n",
      "epoch 1, step 29500/55000, batch loss = 1.58\n",
      "epoch 1, step 29750/55000, batch loss = 1.44\n"
     ]
    },
    {
     "name": "stderr",
     "output_type": "stream",
     "text": [
      "WARNING:root:Lossy conversion from float64 to uint8. Range [0, 1]. Convert image to uint8 prior to saving to suppress this warning.\n"
     ]
    },
    {
     "name": "stdout",
     "output_type": "stream",
     "text": [
      "epoch 1, step 30000/55000, batch loss = 1.57\n",
      "Train accuracy = 92.58\n",
      "epoch 1, step 30250/55000, batch loss = 1.50\n",
      "epoch 1, step 30500/55000, batch loss = 1.40\n",
      "epoch 1, step 30750/55000, batch loss = 1.55\n",
      "epoch 1, step 31000/55000, batch loss = 1.50\n",
      "epoch 1, step 31250/55000, batch loss = 1.53\n",
      "epoch 1, step 31500/55000, batch loss = 1.42\n",
      "epoch 1, step 31750/55000, batch loss = 1.38\n",
      "epoch 1, step 32000/55000, batch loss = 1.36\n",
      "epoch 1, step 32250/55000, batch loss = 1.35\n",
      "epoch 1, step 32500/55000, batch loss = 1.31\n",
      "Train accuracy = 92.91\n",
      "epoch 1, step 32750/55000, batch loss = 1.37\n",
      "epoch 1, step 33000/55000, batch loss = 1.33\n",
      "epoch 1, step 33250/55000, batch loss = 1.45\n",
      "epoch 1, step 33500/55000, batch loss = 1.35\n",
      "epoch 1, step 33750/55000, batch loss = 1.26\n",
      "epoch 1, step 34000/55000, batch loss = 1.28\n",
      "epoch 1, step 34250/55000, batch loss = 1.30\n",
      "epoch 1, step 34500/55000, batch loss = 1.31\n",
      "epoch 1, step 34750/55000, batch loss = 1.22\n"
     ]
    },
    {
     "name": "stderr",
     "output_type": "stream",
     "text": [
      "WARNING:root:Lossy conversion from float64 to uint8. Range [0, 1]. Convert image to uint8 prior to saving to suppress this warning.\n"
     ]
    },
    {
     "name": "stdout",
     "output_type": "stream",
     "text": [
      "epoch 1, step 35000/55000, batch loss = 1.29\n",
      "Train accuracy = 93.21\n",
      "epoch 1, step 35250/55000, batch loss = 1.20\n",
      "epoch 1, step 35500/55000, batch loss = 1.23\n",
      "epoch 1, step 35750/55000, batch loss = 1.35\n",
      "epoch 1, step 36000/55000, batch loss = 1.34\n",
      "epoch 1, step 36250/55000, batch loss = 1.21\n",
      "epoch 1, step 36500/55000, batch loss = 1.20\n",
      "epoch 1, step 36750/55000, batch loss = 1.31\n",
      "epoch 1, step 37000/55000, batch loss = 1.29\n",
      "epoch 1, step 37250/55000, batch loss = 1.15\n",
      "epoch 1, step 37500/55000, batch loss = 1.20\n",
      "Train accuracy = 93.43\n",
      "epoch 1, step 37750/55000, batch loss = 1.21\n",
      "epoch 1, step 38000/55000, batch loss = 1.07\n",
      "epoch 1, step 38250/55000, batch loss = 1.18\n",
      "epoch 1, step 38500/55000, batch loss = 1.28\n",
      "epoch 1, step 38750/55000, batch loss = 1.08\n",
      "epoch 1, step 39000/55000, batch loss = 1.11\n",
      "epoch 1, step 39250/55000, batch loss = 1.08\n",
      "epoch 1, step 39500/55000, batch loss = 1.03\n",
      "epoch 1, step 39750/55000, batch loss = 1.04\n"
     ]
    },
    {
     "name": "stderr",
     "output_type": "stream",
     "text": [
      "WARNING:root:Lossy conversion from float64 to uint8. Range [0, 1]. Convert image to uint8 prior to saving to suppress this warning.\n"
     ]
    },
    {
     "name": "stdout",
     "output_type": "stream",
     "text": [
      "epoch 1, step 40000/55000, batch loss = 1.04\n",
      "Train accuracy = 93.65\n",
      "epoch 1, step 40250/55000, batch loss = 1.06\n",
      "epoch 1, step 40500/55000, batch loss = 1.09\n",
      "epoch 1, step 40750/55000, batch loss = 1.11\n",
      "epoch 1, step 41000/55000, batch loss = 1.06\n",
      "epoch 1, step 41250/55000, batch loss = 1.06\n",
      "epoch 1, step 41500/55000, batch loss = 0.97\n",
      "epoch 1, step 41750/55000, batch loss = 1.01\n",
      "epoch 1, step 42000/55000, batch loss = 0.99\n",
      "epoch 1, step 42250/55000, batch loss = 0.97\n",
      "epoch 1, step 42500/55000, batch loss = 1.20\n",
      "Train accuracy = 93.87\n",
      "epoch 1, step 42750/55000, batch loss = 0.93\n",
      "epoch 1, step 43000/55000, batch loss = 0.97\n",
      "epoch 1, step 43250/55000, batch loss = 1.05\n",
      "epoch 1, step 43500/55000, batch loss = 0.92\n",
      "epoch 1, step 43750/55000, batch loss = 0.92\n",
      "epoch 1, step 44000/55000, batch loss = 0.98\n",
      "epoch 1, step 44250/55000, batch loss = 0.86\n",
      "epoch 1, step 44500/55000, batch loss = 0.88\n",
      "epoch 1, step 44750/55000, batch loss = 0.92\n"
     ]
    },
    {
     "name": "stderr",
     "output_type": "stream",
     "text": [
      "WARNING:root:Lossy conversion from float64 to uint8. Range [0, 1]. Convert image to uint8 prior to saving to suppress this warning.\n"
     ]
    },
    {
     "name": "stdout",
     "output_type": "stream",
     "text": [
      "epoch 1, step 45000/55000, batch loss = 0.87\n",
      "Train accuracy = 94.05\n",
      "epoch 1, step 45250/55000, batch loss = 0.95\n",
      "epoch 1, step 45500/55000, batch loss = 0.89\n",
      "epoch 1, step 45750/55000, batch loss = 0.91\n",
      "epoch 1, step 46000/55000, batch loss = 0.88\n",
      "epoch 1, step 46250/55000, batch loss = 0.98\n",
      "epoch 1, step 46500/55000, batch loss = 0.83\n",
      "epoch 1, step 46750/55000, batch loss = 0.83\n",
      "epoch 1, step 47000/55000, batch loss = 0.80\n",
      "epoch 1, step 47250/55000, batch loss = 0.78\n",
      "epoch 1, step 47500/55000, batch loss = 0.90\n",
      "Train accuracy = 94.15\n",
      "epoch 1, step 47750/55000, batch loss = 0.86\n",
      "epoch 1, step 48000/55000, batch loss = 0.80\n",
      "epoch 1, step 48250/55000, batch loss = 0.80\n",
      "epoch 1, step 48500/55000, batch loss = 0.77\n",
      "epoch 1, step 48750/55000, batch loss = 0.82\n",
      "epoch 1, step 49000/55000, batch loss = 0.77\n",
      "epoch 1, step 49250/55000, batch loss = 0.74\n",
      "epoch 1, step 49500/55000, batch loss = 0.73\n",
      "epoch 1, step 49750/55000, batch loss = 1.09\n"
     ]
    },
    {
     "name": "stderr",
     "output_type": "stream",
     "text": [
      "WARNING:root:Lossy conversion from float64 to uint8. Range [0, 1]. Convert image to uint8 prior to saving to suppress this warning.\n"
     ]
    },
    {
     "name": "stdout",
     "output_type": "stream",
     "text": [
      "epoch 1, step 50000/55000, batch loss = 0.81\n",
      "Train accuracy = 94.32\n",
      "epoch 1, step 50250/55000, batch loss = 0.71\n",
      "epoch 1, step 50500/55000, batch loss = 0.97\n",
      "epoch 1, step 50750/55000, batch loss = 0.85\n",
      "epoch 1, step 51000/55000, batch loss = 0.89\n",
      "epoch 1, step 51250/55000, batch loss = 0.72\n",
      "epoch 1, step 51500/55000, batch loss = 0.76\n",
      "epoch 1, step 51750/55000, batch loss = 0.76\n",
      "epoch 1, step 52000/55000, batch loss = 0.74\n",
      "epoch 1, step 52250/55000, batch loss = 0.66\n",
      "epoch 1, step 52500/55000, batch loss = 0.73\n",
      "Train accuracy = 94.46\n",
      "epoch 1, step 52750/55000, batch loss = 0.79\n",
      "epoch 1, step 53000/55000, batch loss = 0.68\n",
      "epoch 1, step 53250/55000, batch loss = 0.68\n",
      "epoch 1, step 53500/55000, batch loss = 0.62\n",
      "epoch 1, step 53750/55000, batch loss = 0.71\n",
      "epoch 1, step 54000/55000, batch loss = 0.71\n",
      "epoch 1, step 54250/55000, batch loss = 0.69\n",
      "epoch 1, step 54500/55000, batch loss = 0.61\n",
      "epoch 1, step 54750/55000, batch loss = 0.65\n",
      "Train accuracy = 94.58\n",
      "\n",
      "Running evaluation:  Validation\n",
      "Validation accuracy = 98.18\n",
      "Validation avg loss = 0.65\n",
      "\n"
     ]
    },
    {
     "name": "stderr",
     "output_type": "stream",
     "text": [
      "WARNING:root:Lossy conversion from float64 to uint8. Range [0, 1]. Convert image to uint8 prior to saving to suppress this warning.\n"
     ]
    },
    {
     "name": "stdout",
     "output_type": "stream",
     "text": [
      "epoch 2, step 0/55000, batch loss = 0.62\n",
      "epoch 2, step 250/55000, batch loss = 0.62\n",
      "epoch 2, step 500/55000, batch loss = 0.81\n",
      "epoch 2, step 750/55000, batch loss = 0.68\n",
      "epoch 2, step 1000/55000, batch loss = 0.72\n",
      "epoch 2, step 1250/55000, batch loss = 0.64\n",
      "epoch 2, step 1500/55000, batch loss = 0.59\n",
      "epoch 2, step 1750/55000, batch loss = 0.61\n",
      "epoch 2, step 2000/55000, batch loss = 0.56\n",
      "epoch 2, step 2250/55000, batch loss = 0.75\n",
      "epoch 2, step 2500/55000, batch loss = 0.64\n",
      "Train accuracy = 97.14\n",
      "epoch 2, step 2750/55000, batch loss = 0.56\n",
      "epoch 2, step 3000/55000, batch loss = 0.62\n",
      "epoch 2, step 3250/55000, batch loss = 0.59\n",
      "epoch 2, step 3500/55000, batch loss = 0.57\n",
      "epoch 2, step 3750/55000, batch loss = 0.71\n",
      "epoch 2, step 4000/55000, batch loss = 0.62\n",
      "epoch 2, step 4250/55000, batch loss = 0.53\n",
      "epoch 2, step 4500/55000, batch loss = 0.53\n",
      "epoch 2, step 4750/55000, batch loss = 0.65\n"
     ]
    },
    {
     "name": "stderr",
     "output_type": "stream",
     "text": [
      "WARNING:root:Lossy conversion from float64 to uint8. Range [0, 1]. Convert image to uint8 prior to saving to suppress this warning.\n"
     ]
    },
    {
     "name": "stdout",
     "output_type": "stream",
     "text": [
      "epoch 2, step 5000/55000, batch loss = 0.53\n",
      "Train accuracy = 97.27\n",
      "epoch 2, step 5250/55000, batch loss = 0.59\n",
      "epoch 2, step 5500/55000, batch loss = 0.53\n",
      "epoch 2, step 5750/55000, batch loss = 0.60\n",
      "epoch 2, step 6000/55000, batch loss = 0.58\n",
      "epoch 2, step 6250/55000, batch loss = 0.53\n",
      "epoch 2, step 6500/55000, batch loss = 0.53\n",
      "epoch 2, step 6750/55000, batch loss = 0.58\n",
      "epoch 2, step 7000/55000, batch loss = 0.48\n",
      "epoch 2, step 7250/55000, batch loss = 0.52\n",
      "epoch 2, step 7500/55000, batch loss = 0.52\n",
      "Train accuracy = 97.46\n",
      "epoch 2, step 7750/55000, batch loss = 0.61\n",
      "epoch 2, step 8000/55000, batch loss = 0.74\n",
      "epoch 2, step 8250/55000, batch loss = 0.48\n",
      "epoch 2, step 8500/55000, batch loss = 0.50\n",
      "epoch 2, step 8750/55000, batch loss = 0.56\n",
      "epoch 2, step 9000/55000, batch loss = 0.53\n",
      "epoch 2, step 9250/55000, batch loss = 0.53\n",
      "epoch 2, step 9500/55000, batch loss = 0.54\n",
      "epoch 2, step 9750/55000, batch loss = 0.47\n"
     ]
    },
    {
     "name": "stderr",
     "output_type": "stream",
     "text": [
      "WARNING:root:Lossy conversion from float64 to uint8. Range [0, 1]. Convert image to uint8 prior to saving to suppress this warning.\n"
     ]
    },
    {
     "name": "stdout",
     "output_type": "stream",
     "text": [
      "epoch 2, step 10000/55000, batch loss = 0.67\n",
      "Train accuracy = 97.30\n",
      "epoch 2, step 10250/55000, batch loss = 0.46\n",
      "epoch 2, step 10500/55000, batch loss = 0.56\n",
      "epoch 2, step 10750/55000, batch loss = 0.55\n",
      "epoch 2, step 11000/55000, batch loss = 0.44\n",
      "epoch 2, step 11250/55000, batch loss = 0.51\n",
      "epoch 2, step 11500/55000, batch loss = 0.53\n",
      "epoch 2, step 11750/55000, batch loss = 0.65\n",
      "epoch 2, step 12000/55000, batch loss = 0.47\n",
      "epoch 2, step 12250/55000, batch loss = 0.44\n",
      "epoch 2, step 12500/55000, batch loss = 0.48\n",
      "Train accuracy = 97.28\n",
      "epoch 2, step 12750/55000, batch loss = 0.54\n",
      "epoch 2, step 13000/55000, batch loss = 0.55\n",
      "epoch 2, step 13250/55000, batch loss = 0.45\n",
      "epoch 2, step 13500/55000, batch loss = 0.52\n",
      "epoch 2, step 13750/55000, batch loss = 0.54\n",
      "epoch 2, step 14000/55000, batch loss = 0.51\n",
      "epoch 2, step 14250/55000, batch loss = 0.41\n",
      "epoch 2, step 14500/55000, batch loss = 0.45\n",
      "epoch 2, step 14750/55000, batch loss = 0.51\n"
     ]
    },
    {
     "name": "stderr",
     "output_type": "stream",
     "text": [
      "WARNING:root:Lossy conversion from float64 to uint8. Range [0, 1]. Convert image to uint8 prior to saving to suppress this warning.\n"
     ]
    },
    {
     "name": "stdout",
     "output_type": "stream",
     "text": [
      "epoch 2, step 15000/55000, batch loss = 0.50\n",
      "Train accuracy = 97.22\n",
      "epoch 2, step 15250/55000, batch loss = 0.47\n",
      "epoch 2, step 15500/55000, batch loss = 0.43\n",
      "epoch 2, step 15750/55000, batch loss = 0.50\n",
      "epoch 2, step 16000/55000, batch loss = 0.39\n",
      "epoch 2, step 16250/55000, batch loss = 0.39\n",
      "epoch 2, step 16500/55000, batch loss = 0.40\n",
      "epoch 2, step 16750/55000, batch loss = 0.48\n",
      "epoch 2, step 17000/55000, batch loss = 0.39\n",
      "epoch 2, step 17250/55000, batch loss = 0.42\n",
      "epoch 2, step 17500/55000, batch loss = 0.51\n",
      "Train accuracy = 97.27\n",
      "epoch 2, step 17750/55000, batch loss = 0.54\n",
      "epoch 2, step 18000/55000, batch loss = 0.36\n",
      "epoch 2, step 18250/55000, batch loss = 0.36\n",
      "epoch 2, step 18500/55000, batch loss = 0.50\n",
      "epoch 2, step 18750/55000, batch loss = 0.47\n",
      "epoch 2, step 19000/55000, batch loss = 0.38\n",
      "epoch 2, step 19250/55000, batch loss = 0.48\n",
      "epoch 2, step 19500/55000, batch loss = 0.36\n",
      "epoch 2, step 19750/55000, batch loss = 0.43\n"
     ]
    },
    {
     "name": "stderr",
     "output_type": "stream",
     "text": [
      "WARNING:root:Lossy conversion from float64 to uint8. Range [0, 1]. Convert image to uint8 prior to saving to suppress this warning.\n"
     ]
    },
    {
     "name": "stdout",
     "output_type": "stream",
     "text": [
      "epoch 2, step 20000/55000, batch loss = 0.39\n",
      "Train accuracy = 97.29\n",
      "epoch 2, step 20250/55000, batch loss = 0.36\n",
      "epoch 2, step 20500/55000, batch loss = 0.45\n",
      "epoch 2, step 20750/55000, batch loss = 0.43\n",
      "epoch 2, step 21000/55000, batch loss = 0.36\n",
      "epoch 2, step 21250/55000, batch loss = 0.47\n",
      "epoch 2, step 21500/55000, batch loss = 0.37\n",
      "epoch 2, step 21750/55000, batch loss = 0.34\n",
      "epoch 2, step 22000/55000, batch loss = 0.38\n",
      "epoch 2, step 22250/55000, batch loss = 0.34\n",
      "epoch 2, step 22500/55000, batch loss = 0.31\n",
      "Train accuracy = 97.30\n",
      "epoch 2, step 22750/55000, batch loss = 0.36\n",
      "epoch 2, step 23000/55000, batch loss = 0.35\n",
      "epoch 2, step 23250/55000, batch loss = 0.45\n",
      "epoch 2, step 23500/55000, batch loss = 0.31\n",
      "epoch 2, step 23750/55000, batch loss = 0.33\n",
      "epoch 2, step 24000/55000, batch loss = 0.36\n",
      "epoch 2, step 24250/55000, batch loss = 0.46\n",
      "epoch 2, step 24500/55000, batch loss = 0.41\n",
      "epoch 2, step 24750/55000, batch loss = 0.41\n"
     ]
    },
    {
     "name": "stderr",
     "output_type": "stream",
     "text": [
      "WARNING:root:Lossy conversion from float64 to uint8. Range [0, 1]. Convert image to uint8 prior to saving to suppress this warning.\n"
     ]
    },
    {
     "name": "stdout",
     "output_type": "stream",
     "text": [
      "epoch 2, step 25000/55000, batch loss = 0.37\n",
      "Train accuracy = 97.32\n",
      "epoch 2, step 25250/55000, batch loss = 0.37\n",
      "epoch 2, step 25500/55000, batch loss = 0.30\n",
      "epoch 2, step 25750/55000, batch loss = 0.35\n",
      "epoch 2, step 26000/55000, batch loss = 0.39\n",
      "epoch 2, step 26250/55000, batch loss = 0.45\n",
      "epoch 2, step 26500/55000, batch loss = 0.31\n",
      "epoch 2, step 26750/55000, batch loss = 0.36\n",
      "epoch 2, step 27000/55000, batch loss = 0.46\n",
      "epoch 2, step 27250/55000, batch loss = 0.33\n",
      "epoch 2, step 27500/55000, batch loss = 0.30\n",
      "Train accuracy = 97.37\n",
      "epoch 2, step 27750/55000, batch loss = 0.40\n",
      "epoch 2, step 28000/55000, batch loss = 0.29\n",
      "epoch 2, step 28250/55000, batch loss = 0.36\n",
      "epoch 2, step 28500/55000, batch loss = 0.47\n",
      "epoch 2, step 28750/55000, batch loss = 0.30\n",
      "epoch 2, step 29000/55000, batch loss = 0.33\n",
      "epoch 2, step 29250/55000, batch loss = 0.41\n",
      "epoch 2, step 29500/55000, batch loss = 0.27\n",
      "epoch 2, step 29750/55000, batch loss = 0.37\n"
     ]
    },
    {
     "name": "stderr",
     "output_type": "stream",
     "text": [
      "WARNING:root:Lossy conversion from float64 to uint8. Range [0, 1]. Convert image to uint8 prior to saving to suppress this warning.\n"
     ]
    },
    {
     "name": "stdout",
     "output_type": "stream",
     "text": [
      "epoch 2, step 30000/55000, batch loss = 0.34\n",
      "Train accuracy = 97.40\n",
      "epoch 2, step 30250/55000, batch loss = 0.32\n",
      "epoch 2, step 30500/55000, batch loss = 0.40\n",
      "epoch 2, step 30750/55000, batch loss = 0.27\n",
      "epoch 2, step 31000/55000, batch loss = 0.26\n",
      "epoch 2, step 31250/55000, batch loss = 0.26\n",
      "epoch 2, step 31500/55000, batch loss = 0.37\n",
      "epoch 2, step 31750/55000, batch loss = 0.31\n",
      "epoch 2, step 32000/55000, batch loss = 0.30\n",
      "epoch 2, step 32250/55000, batch loss = 0.34\n",
      "epoch 2, step 32500/55000, batch loss = 0.26\n",
      "Train accuracy = 97.40\n",
      "epoch 2, step 32750/55000, batch loss = 0.27\n",
      "epoch 2, step 33000/55000, batch loss = 0.28\n",
      "epoch 2, step 33250/55000, batch loss = 0.27\n",
      "epoch 2, step 33500/55000, batch loss = 0.28\n",
      "epoch 2, step 33750/55000, batch loss = 0.29\n",
      "epoch 2, step 34000/55000, batch loss = 0.29\n",
      "epoch 2, step 34250/55000, batch loss = 0.24\n",
      "epoch 2, step 34500/55000, batch loss = 0.32\n",
      "epoch 2, step 34750/55000, batch loss = 0.29\n"
     ]
    },
    {
     "name": "stderr",
     "output_type": "stream",
     "text": [
      "WARNING:root:Lossy conversion from float64 to uint8. Range [0, 1]. Convert image to uint8 prior to saving to suppress this warning.\n"
     ]
    },
    {
     "name": "stdout",
     "output_type": "stream",
     "text": [
      "epoch 2, step 35000/55000, batch loss = 0.26\n",
      "Train accuracy = 97.42\n",
      "epoch 2, step 35250/55000, batch loss = 0.25\n",
      "epoch 2, step 35500/55000, batch loss = 0.31\n",
      "epoch 2, step 35750/55000, batch loss = 0.36\n",
      "epoch 2, step 36000/55000, batch loss = 0.26\n",
      "epoch 2, step 36250/55000, batch loss = 0.28\n",
      "epoch 2, step 36500/55000, batch loss = 0.23\n",
      "epoch 2, step 36750/55000, batch loss = 0.37\n",
      "epoch 2, step 37000/55000, batch loss = 0.28\n",
      "epoch 2, step 37250/55000, batch loss = 0.24\n",
      "epoch 2, step 37500/55000, batch loss = 0.23\n",
      "Train accuracy = 97.44\n",
      "epoch 2, step 37750/55000, batch loss = 0.23\n",
      "epoch 2, step 38000/55000, batch loss = 0.39\n",
      "epoch 2, step 38250/55000, batch loss = 0.23\n",
      "epoch 2, step 38500/55000, batch loss = 0.30\n",
      "epoch 2, step 38750/55000, batch loss = 0.29\n",
      "epoch 2, step 39000/55000, batch loss = 0.28\n",
      "epoch 2, step 39250/55000, batch loss = 0.25\n",
      "epoch 2, step 39500/55000, batch loss = 0.29\n",
      "epoch 2, step 39750/55000, batch loss = 0.35\n"
     ]
    },
    {
     "name": "stderr",
     "output_type": "stream",
     "text": [
      "WARNING:root:Lossy conversion from float64 to uint8. Range [0, 1]. Convert image to uint8 prior to saving to suppress this warning.\n"
     ]
    },
    {
     "name": "stdout",
     "output_type": "stream",
     "text": [
      "epoch 2, step 40000/55000, batch loss = 0.27\n",
      "Train accuracy = 97.43\n",
      "epoch 2, step 40250/55000, batch loss = 0.27\n",
      "epoch 2, step 40500/55000, batch loss = 0.55\n",
      "epoch 2, step 40750/55000, batch loss = 0.32\n",
      "epoch 2, step 41000/55000, batch loss = 0.27\n",
      "epoch 2, step 41250/55000, batch loss = 0.26\n",
      "epoch 2, step 41500/55000, batch loss = 0.24\n",
      "epoch 2, step 41750/55000, batch loss = 0.32\n",
      "epoch 2, step 42000/55000, batch loss = 0.25\n",
      "epoch 2, step 42250/55000, batch loss = 0.25\n",
      "epoch 2, step 42500/55000, batch loss = 0.20\n",
      "Train accuracy = 97.42\n",
      "epoch 2, step 42750/55000, batch loss = 0.21\n",
      "epoch 2, step 43000/55000, batch loss = 0.27\n",
      "epoch 2, step 43250/55000, batch loss = 0.22\n",
      "epoch 2, step 43500/55000, batch loss = 0.22\n",
      "epoch 2, step 43750/55000, batch loss = 0.33\n",
      "epoch 2, step 44000/55000, batch loss = 0.22\n",
      "epoch 2, step 44250/55000, batch loss = 0.27\n",
      "epoch 2, step 44500/55000, batch loss = 0.41\n",
      "epoch 2, step 44750/55000, batch loss = 0.26\n"
     ]
    },
    {
     "name": "stderr",
     "output_type": "stream",
     "text": [
      "WARNING:root:Lossy conversion from float64 to uint8. Range [0, 1]. Convert image to uint8 prior to saving to suppress this warning.\n"
     ]
    },
    {
     "name": "stdout",
     "output_type": "stream",
     "text": [
      "epoch 2, step 45000/55000, batch loss = 0.27\n",
      "Train accuracy = 97.45\n",
      "epoch 2, step 45250/55000, batch loss = 0.33\n",
      "epoch 2, step 45500/55000, batch loss = 0.32\n",
      "epoch 2, step 45750/55000, batch loss = 0.26\n",
      "epoch 2, step 46000/55000, batch loss = 0.26\n",
      "epoch 2, step 46250/55000, batch loss = 0.22\n",
      "epoch 2, step 46500/55000, batch loss = 0.26\n",
      "epoch 2, step 46750/55000, batch loss = 0.38\n",
      "epoch 2, step 47000/55000, batch loss = 0.20\n",
      "epoch 2, step 47250/55000, batch loss = 0.40\n",
      "epoch 2, step 47500/55000, batch loss = 0.38\n",
      "Train accuracy = 97.42\n",
      "epoch 2, step 47750/55000, batch loss = 0.23\n",
      "epoch 2, step 48000/55000, batch loss = 0.25\n",
      "epoch 2, step 48250/55000, batch loss = 0.52\n",
      "epoch 2, step 48500/55000, batch loss = 0.75\n",
      "epoch 2, step 48750/55000, batch loss = 0.27\n",
      "epoch 2, step 49000/55000, batch loss = 0.30\n",
      "epoch 2, step 49250/55000, batch loss = 0.20\n",
      "epoch 2, step 49500/55000, batch loss = 0.24\n",
      "epoch 2, step 49750/55000, batch loss = 0.23\n"
     ]
    },
    {
     "name": "stderr",
     "output_type": "stream",
     "text": [
      "WARNING:root:Lossy conversion from float64 to uint8. Range [0, 1]. Convert image to uint8 prior to saving to suppress this warning.\n"
     ]
    },
    {
     "name": "stdout",
     "output_type": "stream",
     "text": [
      "epoch 2, step 50000/55000, batch loss = 0.21\n",
      "Train accuracy = 97.40\n",
      "epoch 2, step 50250/55000, batch loss = 0.20\n",
      "epoch 2, step 50500/55000, batch loss = 0.30\n",
      "epoch 2, step 50750/55000, batch loss = 0.20\n",
      "epoch 2, step 51000/55000, batch loss = 0.22\n",
      "epoch 2, step 51250/55000, batch loss = 0.23\n",
      "epoch 2, step 51500/55000, batch loss = 0.31\n",
      "epoch 2, step 51750/55000, batch loss = 0.23\n",
      "epoch 2, step 52000/55000, batch loss = 0.25\n",
      "epoch 2, step 52250/55000, batch loss = 0.20\n",
      "epoch 2, step 52500/55000, batch loss = 0.21\n",
      "Train accuracy = 97.40\n",
      "epoch 2, step 52750/55000, batch loss = 0.35\n",
      "epoch 2, step 53000/55000, batch loss = 0.21\n",
      "epoch 2, step 53250/55000, batch loss = 0.35\n",
      "epoch 2, step 53500/55000, batch loss = 0.20\n",
      "epoch 2, step 53750/55000, batch loss = 0.19\n",
      "epoch 2, step 54000/55000, batch loss = 0.34\n",
      "epoch 2, step 54250/55000, batch loss = 0.21\n",
      "epoch 2, step 54500/55000, batch loss = 0.18\n",
      "epoch 2, step 54750/55000, batch loss = 0.21\n",
      "Train accuracy = 97.40\n",
      "\n",
      "Running evaluation:  Validation\n",
      "Validation accuracy = 98.38\n",
      "Validation avg loss = 0.21\n",
      "\n"
     ]
    },
    {
     "name": "stderr",
     "output_type": "stream",
     "text": [
      "WARNING:root:Lossy conversion from float64 to uint8. Range [0, 1]. Convert image to uint8 prior to saving to suppress this warning.\n"
     ]
    },
    {
     "name": "stdout",
     "output_type": "stream",
     "text": [
      "epoch 3, step 0/55000, batch loss = 0.20\n",
      "epoch 3, step 250/55000, batch loss = 0.20\n",
      "epoch 3, step 500/55000, batch loss = 0.19\n",
      "epoch 3, step 750/55000, batch loss = 0.24\n",
      "epoch 3, step 1000/55000, batch loss = 0.29\n",
      "epoch 3, step 1250/55000, batch loss = 0.18\n",
      "epoch 3, step 1500/55000, batch loss = 0.25\n",
      "epoch 3, step 1750/55000, batch loss = 0.26\n",
      "epoch 3, step 2000/55000, batch loss = 0.24\n",
      "epoch 3, step 2250/55000, batch loss = 0.21\n",
      "epoch 3, step 2500/55000, batch loss = 0.24\n",
      "Train accuracy = 97.92\n",
      "epoch 3, step 2750/55000, batch loss = 0.21\n",
      "epoch 3, step 3000/55000, batch loss = 0.27\n",
      "epoch 3, step 3250/55000, batch loss = 0.18\n",
      "epoch 3, step 3500/55000, batch loss = 0.17\n",
      "epoch 3, step 3750/55000, batch loss = 0.17\n",
      "epoch 3, step 4000/55000, batch loss = 0.19\n",
      "epoch 3, step 4250/55000, batch loss = 0.24\n",
      "epoch 3, step 4500/55000, batch loss = 0.19\n",
      "epoch 3, step 4750/55000, batch loss = 0.30\n"
     ]
    },
    {
     "name": "stderr",
     "output_type": "stream",
     "text": [
      "WARNING:root:Lossy conversion from float64 to uint8. Range [0, 1]. Convert image to uint8 prior to saving to suppress this warning.\n"
     ]
    },
    {
     "name": "stdout",
     "output_type": "stream",
     "text": [
      "epoch 3, step 5000/55000, batch loss = 0.20\n",
      "Train accuracy = 98.04\n",
      "epoch 3, step 5250/55000, batch loss = 0.22\n",
      "epoch 3, step 5500/55000, batch loss = 0.28\n",
      "epoch 3, step 5750/55000, batch loss = 0.18\n",
      "epoch 3, step 6000/55000, batch loss = 0.22\n",
      "epoch 3, step 6250/55000, batch loss = 0.17\n",
      "epoch 3, step 6500/55000, batch loss = 0.22\n",
      "epoch 3, step 6750/55000, batch loss = 0.18\n",
      "epoch 3, step 7000/55000, batch loss = 0.28\n",
      "epoch 3, step 7250/55000, batch loss = 0.16\n",
      "epoch 3, step 7500/55000, batch loss = 0.33\n",
      "Train accuracy = 98.23\n",
      "epoch 3, step 7750/55000, batch loss = 0.29\n",
      "epoch 3, step 8000/55000, batch loss = 0.32\n",
      "epoch 3, step 8250/55000, batch loss = 0.25\n",
      "epoch 3, step 8500/55000, batch loss = 0.19\n",
      "epoch 3, step 8750/55000, batch loss = 0.31\n",
      "epoch 3, step 9000/55000, batch loss = 0.20\n",
      "epoch 3, step 9250/55000, batch loss = 0.17\n",
      "epoch 3, step 9500/55000, batch loss = 0.16\n",
      "epoch 3, step 9750/55000, batch loss = 0.17\n"
     ]
    },
    {
     "name": "stderr",
     "output_type": "stream",
     "text": [
      "WARNING:root:Lossy conversion from float64 to uint8. Range [0, 1]. Convert image to uint8 prior to saving to suppress this warning.\n"
     ]
    },
    {
     "name": "stdout",
     "output_type": "stream",
     "text": [
      "epoch 3, step 10000/55000, batch loss = 0.16\n",
      "Train accuracy = 98.25\n",
      "epoch 3, step 10250/55000, batch loss = 0.17\n",
      "epoch 3, step 10500/55000, batch loss = 0.20\n",
      "epoch 3, step 10750/55000, batch loss = 0.21\n",
      "epoch 3, step 11000/55000, batch loss = 0.18\n",
      "epoch 3, step 11250/55000, batch loss = 0.16\n",
      "epoch 3, step 11500/55000, batch loss = 0.17\n",
      "epoch 3, step 11750/55000, batch loss = 0.16\n",
      "epoch 3, step 12000/55000, batch loss = 0.19\n",
      "epoch 3, step 12250/55000, batch loss = 0.20\n",
      "epoch 3, step 12500/55000, batch loss = 0.18\n",
      "Train accuracy = 98.37\n",
      "epoch 3, step 12750/55000, batch loss = 0.17\n",
      "epoch 3, step 13000/55000, batch loss = 0.18\n",
      "epoch 3, step 13250/55000, batch loss = 0.19\n",
      "epoch 3, step 13500/55000, batch loss = 0.20\n",
      "epoch 3, step 13750/55000, batch loss = 0.16\n",
      "epoch 3, step 14000/55000, batch loss = 0.21\n",
      "epoch 3, step 14250/55000, batch loss = 0.24\n",
      "epoch 3, step 14500/55000, batch loss = 0.16\n",
      "epoch 3, step 14750/55000, batch loss = 0.19\n"
     ]
    },
    {
     "name": "stderr",
     "output_type": "stream",
     "text": [
      "WARNING:root:Lossy conversion from float64 to uint8. Range [0, 1]. Convert image to uint8 prior to saving to suppress this warning.\n"
     ]
    },
    {
     "name": "stdout",
     "output_type": "stream",
     "text": [
      "epoch 3, step 15000/55000, batch loss = 0.19\n",
      "Train accuracy = 98.43\n",
      "epoch 3, step 15250/55000, batch loss = 0.16\n",
      "epoch 3, step 15500/55000, batch loss = 0.21\n",
      "epoch 3, step 15750/55000, batch loss = 0.18\n",
      "epoch 3, step 16000/55000, batch loss = 0.26\n",
      "epoch 3, step 16250/55000, batch loss = 0.21\n",
      "epoch 3, step 16500/55000, batch loss = 0.21\n",
      "epoch 3, step 16750/55000, batch loss = 0.22\n",
      "epoch 3, step 17000/55000, batch loss = 0.26\n",
      "epoch 3, step 17250/55000, batch loss = 0.18\n",
      "epoch 3, step 17500/55000, batch loss = 0.16\n",
      "Train accuracy = 98.47\n",
      "epoch 3, step 17750/55000, batch loss = 0.19\n",
      "epoch 3, step 18000/55000, batch loss = 0.27\n",
      "epoch 3, step 18250/55000, batch loss = 0.37\n",
      "epoch 3, step 18500/55000, batch loss = 0.32\n",
      "epoch 3, step 18750/55000, batch loss = 0.17\n",
      "epoch 3, step 19000/55000, batch loss = 0.17\n",
      "epoch 3, step 19250/55000, batch loss = 0.17\n",
      "epoch 3, step 19500/55000, batch loss = 0.18\n",
      "epoch 3, step 19750/55000, batch loss = 0.19\n"
     ]
    },
    {
     "name": "stderr",
     "output_type": "stream",
     "text": [
      "WARNING:root:Lossy conversion from float64 to uint8. Range [0, 1]. Convert image to uint8 prior to saving to suppress this warning.\n"
     ]
    },
    {
     "name": "stdout",
     "output_type": "stream",
     "text": [
      "epoch 3, step 20000/55000, batch loss = 0.15\n",
      "Train accuracy = 98.49\n",
      "epoch 3, step 20250/55000, batch loss = 0.17\n",
      "epoch 3, step 20500/55000, batch loss = 0.16\n",
      "epoch 3, step 20750/55000, batch loss = 0.23\n",
      "epoch 3, step 21000/55000, batch loss = 0.22\n",
      "epoch 3, step 21250/55000, batch loss = 0.28\n",
      "epoch 3, step 21500/55000, batch loss = 0.20\n",
      "epoch 3, step 21750/55000, batch loss = 0.17\n",
      "epoch 3, step 22000/55000, batch loss = 0.22\n",
      "epoch 3, step 22250/55000, batch loss = 0.18\n",
      "epoch 3, step 22500/55000, batch loss = 0.18\n",
      "Train accuracy = 98.46\n",
      "epoch 3, step 22750/55000, batch loss = 0.18\n",
      "epoch 3, step 23000/55000, batch loss = 0.19\n",
      "epoch 3, step 23250/55000, batch loss = 0.18\n",
      "epoch 3, step 23500/55000, batch loss = 0.22\n",
      "epoch 3, step 23750/55000, batch loss = 0.21\n",
      "epoch 3, step 24000/55000, batch loss = 0.18\n",
      "epoch 3, step 24250/55000, batch loss = 0.18\n",
      "epoch 3, step 24500/55000, batch loss = 0.23\n",
      "epoch 3, step 24750/55000, batch loss = 0.18\n"
     ]
    },
    {
     "name": "stderr",
     "output_type": "stream",
     "text": [
      "WARNING:root:Lossy conversion from float64 to uint8. Range [0, 1]. Convert image to uint8 prior to saving to suppress this warning.\n"
     ]
    },
    {
     "name": "stdout",
     "output_type": "stream",
     "text": [
      "epoch 3, step 25000/55000, batch loss = 0.19\n",
      "Train accuracy = 98.46\n",
      "epoch 3, step 25250/55000, batch loss = 0.23\n",
      "epoch 3, step 25500/55000, batch loss = 0.18\n",
      "epoch 3, step 25750/55000, batch loss = 0.19\n",
      "epoch 3, step 26000/55000, batch loss = 0.18\n",
      "epoch 3, step 26250/55000, batch loss = 0.21\n",
      "epoch 3, step 26500/55000, batch loss = 0.18\n",
      "epoch 3, step 26750/55000, batch loss = 0.17\n",
      "epoch 3, step 27000/55000, batch loss = 0.21\n",
      "epoch 3, step 27250/55000, batch loss = 0.21\n",
      "epoch 3, step 27500/55000, batch loss = 0.15\n",
      "Train accuracy = 98.49\n",
      "epoch 3, step 27750/55000, batch loss = 0.16\n",
      "epoch 3, step 28000/55000, batch loss = 0.17\n",
      "epoch 3, step 28250/55000, batch loss = 0.17\n",
      "epoch 3, step 28500/55000, batch loss = 0.16\n",
      "epoch 3, step 28750/55000, batch loss = 0.19\n",
      "epoch 3, step 29000/55000, batch loss = 0.20\n",
      "epoch 3, step 29250/55000, batch loss = 0.17\n",
      "epoch 3, step 29500/55000, batch loss = 0.16\n",
      "epoch 3, step 29750/55000, batch loss = 0.26\n"
     ]
    },
    {
     "name": "stderr",
     "output_type": "stream",
     "text": [
      "WARNING:root:Lossy conversion from float64 to uint8. Range [0, 1]. Convert image to uint8 prior to saving to suppress this warning.\n"
     ]
    },
    {
     "name": "stdout",
     "output_type": "stream",
     "text": [
      "epoch 3, step 30000/55000, batch loss = 0.18\n",
      "Train accuracy = 98.51\n",
      "epoch 3, step 30250/55000, batch loss = 0.23\n",
      "epoch 3, step 30500/55000, batch loss = 0.17\n",
      "epoch 3, step 30750/55000, batch loss = 0.18\n",
      "epoch 3, step 31000/55000, batch loss = 0.20\n",
      "epoch 3, step 31250/55000, batch loss = 0.34\n",
      "epoch 3, step 31500/55000, batch loss = 0.22\n",
      "epoch 3, step 31750/55000, batch loss = 0.24\n",
      "epoch 3, step 32000/55000, batch loss = 0.17\n",
      "epoch 3, step 32250/55000, batch loss = 0.20\n",
      "epoch 3, step 32500/55000, batch loss = 0.17\n",
      "Train accuracy = 98.53\n",
      "epoch 3, step 32750/55000, batch loss = 0.17\n",
      "epoch 3, step 33000/55000, batch loss = 0.18\n",
      "epoch 3, step 33250/55000, batch loss = 0.36\n",
      "epoch 3, step 33500/55000, batch loss = 0.20\n",
      "epoch 3, step 33750/55000, batch loss = 0.23\n",
      "epoch 3, step 34000/55000, batch loss = 0.21\n",
      "epoch 3, step 34250/55000, batch loss = 0.15\n",
      "epoch 3, step 34500/55000, batch loss = 0.17\n",
      "epoch 3, step 34750/55000, batch loss = 0.19\n"
     ]
    },
    {
     "name": "stderr",
     "output_type": "stream",
     "text": [
      "WARNING:root:Lossy conversion from float64 to uint8. Range [0, 1]. Convert image to uint8 prior to saving to suppress this warning.\n"
     ]
    },
    {
     "name": "stdout",
     "output_type": "stream",
     "text": [
      "epoch 3, step 35000/55000, batch loss = 0.19\n",
      "Train accuracy = 98.52\n",
      "epoch 3, step 35250/55000, batch loss = 0.20\n",
      "epoch 3, step 35500/55000, batch loss = 0.19\n",
      "epoch 3, step 35750/55000, batch loss = 0.18\n",
      "epoch 3, step 36000/55000, batch loss = 0.29\n",
      "epoch 3, step 36250/55000, batch loss = 0.19\n",
      "epoch 3, step 36500/55000, batch loss = 0.20\n",
      "epoch 3, step 36750/55000, batch loss = 0.17\n",
      "epoch 3, step 37000/55000, batch loss = 0.21\n",
      "epoch 3, step 37250/55000, batch loss = 0.17\n",
      "epoch 3, step 37500/55000, batch loss = 0.22\n",
      "Train accuracy = 98.54\n",
      "epoch 3, step 37750/55000, batch loss = 0.28\n",
      "epoch 3, step 38000/55000, batch loss = 0.17\n",
      "epoch 3, step 38250/55000, batch loss = 0.20\n",
      "epoch 3, step 38500/55000, batch loss = 0.17\n",
      "epoch 3, step 38750/55000, batch loss = 0.16\n",
      "epoch 3, step 39000/55000, batch loss = 0.20\n",
      "epoch 3, step 39250/55000, batch loss = 0.26\n",
      "epoch 3, step 39500/55000, batch loss = 0.20\n",
      "epoch 3, step 39750/55000, batch loss = 0.17\n"
     ]
    },
    {
     "name": "stderr",
     "output_type": "stream",
     "text": [
      "WARNING:root:Lossy conversion from float64 to uint8. Range [0, 1]. Convert image to uint8 prior to saving to suppress this warning.\n"
     ]
    },
    {
     "name": "stdout",
     "output_type": "stream",
     "text": [
      "epoch 3, step 40000/55000, batch loss = 0.16\n",
      "Train accuracy = 98.56\n",
      "epoch 3, step 40250/55000, batch loss = 0.24\n",
      "epoch 3, step 40500/55000, batch loss = 0.19\n",
      "epoch 3, step 40750/55000, batch loss = 0.17\n",
      "epoch 3, step 41000/55000, batch loss = 0.19\n",
      "epoch 3, step 41250/55000, batch loss = 0.18\n",
      "epoch 3, step 41500/55000, batch loss = 0.17\n",
      "epoch 3, step 41750/55000, batch loss = 0.20\n",
      "epoch 3, step 42000/55000, batch loss = 0.16\n",
      "epoch 3, step 42250/55000, batch loss = 0.15\n",
      "epoch 3, step 42500/55000, batch loss = 0.17\n",
      "Train accuracy = 98.55\n",
      "epoch 3, step 42750/55000, batch loss = 0.22\n",
      "epoch 3, step 43000/55000, batch loss = 0.17\n",
      "epoch 3, step 43250/55000, batch loss = 0.18\n",
      "epoch 3, step 43500/55000, batch loss = 0.15\n",
      "epoch 3, step 43750/55000, batch loss = 0.16\n",
      "epoch 3, step 44000/55000, batch loss = 0.20\n",
      "epoch 3, step 44250/55000, batch loss = 0.17\n",
      "epoch 3, step 44500/55000, batch loss = 0.25\n",
      "epoch 3, step 44750/55000, batch loss = 0.15\n"
     ]
    },
    {
     "name": "stderr",
     "output_type": "stream",
     "text": [
      "WARNING:root:Lossy conversion from float64 to uint8. Range [0, 1]. Convert image to uint8 prior to saving to suppress this warning.\n"
     ]
    },
    {
     "name": "stdout",
     "output_type": "stream",
     "text": [
      "epoch 3, step 45000/55000, batch loss = 0.18\n",
      "Train accuracy = 98.57\n",
      "epoch 3, step 45250/55000, batch loss = 0.20\n",
      "epoch 3, step 45500/55000, batch loss = 0.15\n",
      "epoch 3, step 45750/55000, batch loss = 0.17\n",
      "epoch 3, step 46000/55000, batch loss = 0.17\n",
      "epoch 3, step 46250/55000, batch loss = 0.21\n",
      "epoch 3, step 46500/55000, batch loss = 0.16\n",
      "epoch 3, step 46750/55000, batch loss = 0.17\n",
      "epoch 3, step 47000/55000, batch loss = 0.33\n",
      "epoch 3, step 47250/55000, batch loss = 0.15\n",
      "epoch 3, step 47500/55000, batch loss = 0.16\n",
      "Train accuracy = 98.60\n",
      "epoch 3, step 47750/55000, batch loss = 0.18\n",
      "epoch 3, step 48000/55000, batch loss = 0.23\n",
      "epoch 3, step 48250/55000, batch loss = 0.19\n",
      "epoch 3, step 48500/55000, batch loss = 0.15\n",
      "epoch 3, step 48750/55000, batch loss = 0.16\n",
      "epoch 3, step 49000/55000, batch loss = 0.25\n",
      "epoch 3, step 49250/55000, batch loss = 0.21\n",
      "epoch 3, step 49500/55000, batch loss = 0.20\n",
      "epoch 3, step 49750/55000, batch loss = 0.21\n"
     ]
    },
    {
     "name": "stderr",
     "output_type": "stream",
     "text": [
      "WARNING:root:Lossy conversion from float64 to uint8. Range [0, 1]. Convert image to uint8 prior to saving to suppress this warning.\n"
     ]
    },
    {
     "name": "stdout",
     "output_type": "stream",
     "text": [
      "epoch 3, step 50000/55000, batch loss = 0.16\n",
      "Train accuracy = 98.59\n",
      "epoch 3, step 50250/55000, batch loss = 0.18\n",
      "epoch 3, step 50500/55000, batch loss = 0.20\n",
      "epoch 3, step 50750/55000, batch loss = 0.16\n",
      "epoch 3, step 51000/55000, batch loss = 0.16\n",
      "epoch 3, step 51250/55000, batch loss = 0.21\n",
      "epoch 3, step 51500/55000, batch loss = 0.18\n",
      "epoch 3, step 51750/55000, batch loss = 0.15\n",
      "epoch 3, step 52000/55000, batch loss = 0.23\n",
      "epoch 3, step 52250/55000, batch loss = 0.19\n",
      "epoch 3, step 52500/55000, batch loss = 0.17\n",
      "Train accuracy = 98.57\n",
      "epoch 3, step 52750/55000, batch loss = 0.18\n",
      "epoch 3, step 53000/55000, batch loss = 0.16\n",
      "epoch 3, step 53250/55000, batch loss = 0.20\n",
      "epoch 3, step 53500/55000, batch loss = 0.16\n",
      "epoch 3, step 53750/55000, batch loss = 0.21\n",
      "epoch 3, step 54000/55000, batch loss = 0.17\n",
      "epoch 3, step 54250/55000, batch loss = 0.20\n",
      "epoch 3, step 54500/55000, batch loss = 0.20\n",
      "epoch 3, step 54750/55000, batch loss = 0.15\n",
      "Train accuracy = 98.56\n",
      "\n",
      "Running evaluation:  Validation\n",
      "Validation accuracy = 98.76\n",
      "Validation avg loss = 0.19\n",
      "\n"
     ]
    },
    {
     "name": "stderr",
     "output_type": "stream",
     "text": [
      "WARNING:root:Lossy conversion from float64 to uint8. Range [0, 1]. Convert image to uint8 prior to saving to suppress this warning.\n"
     ]
    },
    {
     "name": "stdout",
     "output_type": "stream",
     "text": [
      "epoch 4, step 0/55000, batch loss = 0.18\n",
      "epoch 4, step 250/55000, batch loss = 0.23\n",
      "epoch 4, step 500/55000, batch loss = 0.19\n",
      "epoch 4, step 750/55000, batch loss = 0.21\n",
      "epoch 4, step 1000/55000, batch loss = 0.17\n",
      "epoch 4, step 1250/55000, batch loss = 0.15\n",
      "epoch 4, step 1500/55000, batch loss = 0.16\n",
      "epoch 4, step 1750/55000, batch loss = 0.18\n",
      "epoch 4, step 2000/55000, batch loss = 0.17\n",
      "epoch 4, step 2250/55000, batch loss = 0.18\n",
      "epoch 4, step 2500/55000, batch loss = 0.14\n",
      "Train accuracy = 98.67\n",
      "epoch 4, step 2750/55000, batch loss = 0.29\n",
      "epoch 4, step 3000/55000, batch loss = 0.18\n",
      "epoch 4, step 3250/55000, batch loss = 0.15\n",
      "epoch 4, step 3500/55000, batch loss = 0.15\n",
      "epoch 4, step 3750/55000, batch loss = 0.33\n",
      "epoch 4, step 4000/55000, batch loss = 0.16\n",
      "epoch 4, step 4250/55000, batch loss = 0.14\n",
      "epoch 4, step 4500/55000, batch loss = 0.14\n",
      "epoch 4, step 4750/55000, batch loss = 0.22\n"
     ]
    },
    {
     "name": "stderr",
     "output_type": "stream",
     "text": [
      "WARNING:root:Lossy conversion from float64 to uint8. Range [0, 1]. Convert image to uint8 prior to saving to suppress this warning.\n"
     ]
    },
    {
     "name": "stdout",
     "output_type": "stream",
     "text": [
      "epoch 4, step 5000/55000, batch loss = 0.22\n",
      "Train accuracy = 98.59\n",
      "epoch 4, step 5250/55000, batch loss = 0.17\n",
      "epoch 4, step 5500/55000, batch loss = 0.22\n",
      "epoch 4, step 5750/55000, batch loss = 0.15\n",
      "epoch 4, step 6000/55000, batch loss = 0.19\n",
      "epoch 4, step 6250/55000, batch loss = 0.19\n",
      "epoch 4, step 6500/55000, batch loss = 0.15\n",
      "epoch 4, step 6750/55000, batch loss = 0.18\n",
      "epoch 4, step 7000/55000, batch loss = 0.26\n",
      "epoch 4, step 7250/55000, batch loss = 0.16\n",
      "epoch 4, step 7500/55000, batch loss = 0.15\n",
      "Train accuracy = 98.68\n",
      "epoch 4, step 7750/55000, batch loss = 0.18\n",
      "epoch 4, step 8000/55000, batch loss = 0.15\n",
      "epoch 4, step 8250/55000, batch loss = 0.15\n",
      "epoch 4, step 8500/55000, batch loss = 0.17\n",
      "epoch 4, step 8750/55000, batch loss = 0.16\n",
      "epoch 4, step 9000/55000, batch loss = 0.22\n",
      "epoch 4, step 9250/55000, batch loss = 0.17\n",
      "epoch 4, step 9500/55000, batch loss = 0.24\n",
      "epoch 4, step 9750/55000, batch loss = 0.15\n"
     ]
    },
    {
     "name": "stderr",
     "output_type": "stream",
     "text": [
      "WARNING:root:Lossy conversion from float64 to uint8. Range [0, 1]. Convert image to uint8 prior to saving to suppress this warning.\n"
     ]
    },
    {
     "name": "stdout",
     "output_type": "stream",
     "text": [
      "epoch 4, step 10000/55000, batch loss = 0.19\n",
      "Train accuracy = 98.66\n",
      "epoch 4, step 10250/55000, batch loss = 0.16\n",
      "epoch 4, step 10500/55000, batch loss = 0.15\n",
      "epoch 4, step 10750/55000, batch loss = 0.20\n",
      "epoch 4, step 11000/55000, batch loss = 0.18\n",
      "epoch 4, step 11250/55000, batch loss = 0.16\n",
      "epoch 4, step 11500/55000, batch loss = 0.18\n",
      "epoch 4, step 11750/55000, batch loss = 0.17\n",
      "epoch 4, step 12000/55000, batch loss = 0.16\n",
      "epoch 4, step 12250/55000, batch loss = 0.20\n",
      "epoch 4, step 12500/55000, batch loss = 0.22\n",
      "Train accuracy = 98.63\n",
      "epoch 4, step 12750/55000, batch loss = 0.17\n",
      "epoch 4, step 13000/55000, batch loss = 0.21\n",
      "epoch 4, step 13250/55000, batch loss = 0.29\n",
      "epoch 4, step 13500/55000, batch loss = 0.18\n",
      "epoch 4, step 13750/55000, batch loss = 0.16\n",
      "epoch 4, step 14000/55000, batch loss = 0.15\n",
      "epoch 4, step 14250/55000, batch loss = 0.17\n",
      "epoch 4, step 14500/55000, batch loss = 0.16\n",
      "epoch 4, step 14750/55000, batch loss = 0.16\n"
     ]
    },
    {
     "name": "stderr",
     "output_type": "stream",
     "text": [
      "WARNING:root:Lossy conversion from float64 to uint8. Range [0, 1]. Convert image to uint8 prior to saving to suppress this warning.\n"
     ]
    },
    {
     "name": "stdout",
     "output_type": "stream",
     "text": [
      "epoch 4, step 15000/55000, batch loss = 0.19\n",
      "Train accuracy = 98.62\n",
      "epoch 4, step 15250/55000, batch loss = 0.18\n",
      "epoch 4, step 15500/55000, batch loss = 0.18\n",
      "epoch 4, step 15750/55000, batch loss = 0.31\n",
      "epoch 4, step 16000/55000, batch loss = 0.19\n",
      "epoch 4, step 16250/55000, batch loss = 0.18\n",
      "epoch 4, step 16500/55000, batch loss = 0.15\n",
      "epoch 4, step 16750/55000, batch loss = 0.14\n",
      "epoch 4, step 17000/55000, batch loss = 0.17\n",
      "epoch 4, step 17250/55000, batch loss = 0.18\n",
      "epoch 4, step 17500/55000, batch loss = 0.18\n",
      "Train accuracy = 98.57\n",
      "epoch 4, step 17750/55000, batch loss = 0.16\n",
      "epoch 4, step 18000/55000, batch loss = 0.15\n",
      "epoch 4, step 18250/55000, batch loss = 0.16\n",
      "epoch 4, step 18500/55000, batch loss = 0.17\n",
      "epoch 4, step 18750/55000, batch loss = 0.17\n",
      "epoch 4, step 19000/55000, batch loss = 0.16\n",
      "epoch 4, step 19250/55000, batch loss = 0.19\n",
      "epoch 4, step 19500/55000, batch loss = 0.17\n",
      "epoch 4, step 19750/55000, batch loss = 0.17\n"
     ]
    },
    {
     "name": "stderr",
     "output_type": "stream",
     "text": [
      "WARNING:root:Lossy conversion from float64 to uint8. Range [0, 1]. Convert image to uint8 prior to saving to suppress this warning.\n"
     ]
    },
    {
     "name": "stdout",
     "output_type": "stream",
     "text": [
      "epoch 4, step 20000/55000, batch loss = 0.24\n",
      "Train accuracy = 98.62\n",
      "epoch 4, step 20250/55000, batch loss = 0.18\n",
      "epoch 4, step 20500/55000, batch loss = 0.22\n",
      "epoch 4, step 20750/55000, batch loss = 0.16\n",
      "epoch 4, step 21000/55000, batch loss = 0.15\n",
      "epoch 4, step 21250/55000, batch loss = 0.15\n",
      "epoch 4, step 21500/55000, batch loss = 0.22\n",
      "epoch 4, step 21750/55000, batch loss = 0.15\n",
      "epoch 4, step 22000/55000, batch loss = 0.17\n",
      "epoch 4, step 22250/55000, batch loss = 0.17\n",
      "epoch 4, step 22500/55000, batch loss = 0.16\n",
      "Train accuracy = 98.66\n",
      "epoch 4, step 22750/55000, batch loss = 0.14\n",
      "epoch 4, step 23000/55000, batch loss = 0.21\n",
      "epoch 4, step 23250/55000, batch loss = 0.15\n",
      "epoch 4, step 23500/55000, batch loss = 0.16\n",
      "epoch 4, step 23750/55000, batch loss = 0.15\n",
      "epoch 4, step 24000/55000, batch loss = 0.16\n",
      "epoch 4, step 24250/55000, batch loss = 0.17\n",
      "epoch 4, step 24500/55000, batch loss = 0.17\n",
      "epoch 4, step 24750/55000, batch loss = 0.16\n"
     ]
    },
    {
     "name": "stderr",
     "output_type": "stream",
     "text": [
      "WARNING:root:Lossy conversion from float64 to uint8. Range [0, 1]. Convert image to uint8 prior to saving to suppress this warning.\n"
     ]
    },
    {
     "name": "stdout",
     "output_type": "stream",
     "text": [
      "epoch 4, step 25000/55000, batch loss = 0.16\n",
      "Train accuracy = 98.64\n",
      "epoch 4, step 25250/55000, batch loss = 0.16\n",
      "epoch 4, step 25500/55000, batch loss = 0.17\n",
      "epoch 4, step 25750/55000, batch loss = 0.16\n",
      "epoch 4, step 26000/55000, batch loss = 0.17\n",
      "epoch 4, step 26250/55000, batch loss = 0.17\n",
      "epoch 4, step 26500/55000, batch loss = 0.17\n",
      "epoch 4, step 26750/55000, batch loss = 0.17\n",
      "epoch 4, step 27000/55000, batch loss = 0.18\n",
      "epoch 4, step 27250/55000, batch loss = 0.20\n",
      "epoch 4, step 27500/55000, batch loss = 0.15\n",
      "Train accuracy = 98.65\n",
      "epoch 4, step 27750/55000, batch loss = 0.25\n",
      "epoch 4, step 28000/55000, batch loss = 0.17\n",
      "epoch 4, step 28250/55000, batch loss = 0.18\n",
      "epoch 4, step 28500/55000, batch loss = 0.25\n",
      "epoch 4, step 28750/55000, batch loss = 0.15\n",
      "epoch 4, step 29000/55000, batch loss = 0.14\n",
      "epoch 4, step 29250/55000, batch loss = 0.16\n",
      "epoch 4, step 29500/55000, batch loss = 0.20\n",
      "epoch 4, step 29750/55000, batch loss = 0.17\n"
     ]
    },
    {
     "name": "stderr",
     "output_type": "stream",
     "text": [
      "WARNING:root:Lossy conversion from float64 to uint8. Range [0, 1]. Convert image to uint8 prior to saving to suppress this warning.\n"
     ]
    },
    {
     "name": "stdout",
     "output_type": "stream",
     "text": [
      "epoch 4, step 30000/55000, batch loss = 0.17\n",
      "Train accuracy = 98.63\n",
      "epoch 4, step 30250/55000, batch loss = 0.21\n",
      "epoch 4, step 30500/55000, batch loss = 0.16\n",
      "epoch 4, step 30750/55000, batch loss = 0.18\n",
      "epoch 4, step 31000/55000, batch loss = 0.19\n",
      "epoch 4, step 31250/55000, batch loss = 0.16\n",
      "epoch 4, step 31500/55000, batch loss = 0.18\n",
      "epoch 4, step 31750/55000, batch loss = 0.15\n",
      "epoch 4, step 32000/55000, batch loss = 0.14\n",
      "epoch 4, step 32250/55000, batch loss = 0.17\n",
      "epoch 4, step 32500/55000, batch loss = 0.24\n",
      "Train accuracy = 98.61\n",
      "epoch 4, step 32750/55000, batch loss = 0.24\n",
      "epoch 4, step 33000/55000, batch loss = 0.16\n",
      "epoch 4, step 33250/55000, batch loss = 0.14\n",
      "epoch 4, step 33500/55000, batch loss = 0.21\n",
      "epoch 4, step 33750/55000, batch loss = 0.20\n",
      "epoch 4, step 34000/55000, batch loss = 0.15\n",
      "epoch 4, step 34250/55000, batch loss = 0.18\n",
      "epoch 4, step 34500/55000, batch loss = 0.13\n",
      "epoch 4, step 34750/55000, batch loss = 0.15\n"
     ]
    },
    {
     "name": "stderr",
     "output_type": "stream",
     "text": [
      "WARNING:root:Lossy conversion from float64 to uint8. Range [0, 1]. Convert image to uint8 prior to saving to suppress this warning.\n"
     ]
    },
    {
     "name": "stdout",
     "output_type": "stream",
     "text": [
      "epoch 4, step 35000/55000, batch loss = 0.18\n",
      "Train accuracy = 98.61\n",
      "epoch 4, step 35250/55000, batch loss = 0.17\n",
      "epoch 4, step 35500/55000, batch loss = 0.16\n",
      "epoch 4, step 35750/55000, batch loss = 0.15\n",
      "epoch 4, step 36000/55000, batch loss = 0.16\n",
      "epoch 4, step 36250/55000, batch loss = 0.19\n",
      "epoch 4, step 36500/55000, batch loss = 0.18\n",
      "epoch 4, step 36750/55000, batch loss = 0.18\n",
      "epoch 4, step 37000/55000, batch loss = 0.15\n",
      "epoch 4, step 37250/55000, batch loss = 0.24\n",
      "epoch 4, step 37500/55000, batch loss = 0.17\n",
      "Train accuracy = 98.59\n",
      "epoch 4, step 37750/55000, batch loss = 0.20\n",
      "epoch 4, step 38000/55000, batch loss = 0.15\n",
      "epoch 4, step 38250/55000, batch loss = 0.18\n",
      "epoch 4, step 38500/55000, batch loss = 0.21\n",
      "epoch 4, step 38750/55000, batch loss = 0.17\n",
      "epoch 4, step 39000/55000, batch loss = 0.16\n",
      "epoch 4, step 39250/55000, batch loss = 0.17\n",
      "epoch 4, step 39500/55000, batch loss = 0.18\n",
      "epoch 4, step 39750/55000, batch loss = 0.15\n"
     ]
    },
    {
     "name": "stderr",
     "output_type": "stream",
     "text": [
      "WARNING:root:Lossy conversion from float64 to uint8. Range [0, 1]. Convert image to uint8 prior to saving to suppress this warning.\n"
     ]
    },
    {
     "name": "stdout",
     "output_type": "stream",
     "text": [
      "epoch 4, step 40000/55000, batch loss = 0.15\n",
      "Train accuracy = 98.61\n",
      "epoch 4, step 40250/55000, batch loss = 0.17\n",
      "epoch 4, step 40500/55000, batch loss = 0.21\n",
      "epoch 4, step 40750/55000, batch loss = 0.14\n",
      "epoch 4, step 41000/55000, batch loss = 0.17\n",
      "epoch 4, step 41250/55000, batch loss = 0.19\n",
      "epoch 4, step 41500/55000, batch loss = 0.22\n",
      "epoch 4, step 41750/55000, batch loss = 0.23\n",
      "epoch 4, step 42000/55000, batch loss = 0.19\n",
      "epoch 4, step 42250/55000, batch loss = 0.17\n",
      "epoch 4, step 42500/55000, batch loss = 0.17\n",
      "Train accuracy = 98.59\n",
      "epoch 4, step 42750/55000, batch loss = 0.14\n",
      "epoch 4, step 43000/55000, batch loss = 0.14\n",
      "epoch 4, step 43250/55000, batch loss = 0.15\n",
      "epoch 4, step 43500/55000, batch loss = 0.15\n",
      "epoch 4, step 43750/55000, batch loss = 0.14\n",
      "epoch 4, step 44000/55000, batch loss = 0.14\n",
      "epoch 4, step 44250/55000, batch loss = 0.17\n",
      "epoch 4, step 44500/55000, batch loss = 0.18\n",
      "epoch 4, step 44750/55000, batch loss = 0.15\n"
     ]
    },
    {
     "name": "stderr",
     "output_type": "stream",
     "text": [
      "WARNING:root:Lossy conversion from float64 to uint8. Range [0, 1]. Convert image to uint8 prior to saving to suppress this warning.\n"
     ]
    },
    {
     "name": "stdout",
     "output_type": "stream",
     "text": [
      "epoch 4, step 45000/55000, batch loss = 0.16\n",
      "Train accuracy = 98.60\n",
      "epoch 4, step 45250/55000, batch loss = 0.15\n",
      "epoch 4, step 45500/55000, batch loss = 0.25\n",
      "epoch 4, step 45750/55000, batch loss = 0.17\n",
      "epoch 4, step 46000/55000, batch loss = 0.23\n",
      "epoch 4, step 46250/55000, batch loss = 0.20\n",
      "epoch 4, step 46500/55000, batch loss = 0.16\n",
      "epoch 4, step 46750/55000, batch loss = 0.16\n",
      "epoch 4, step 47000/55000, batch loss = 0.14\n",
      "epoch 4, step 47250/55000, batch loss = 0.14\n",
      "epoch 4, step 47500/55000, batch loss = 0.15\n",
      "Train accuracy = 98.61\n",
      "epoch 4, step 47750/55000, batch loss = 0.17\n",
      "epoch 4, step 48000/55000, batch loss = 0.15\n",
      "epoch 4, step 48250/55000, batch loss = 0.15\n",
      "epoch 4, step 48500/55000, batch loss = 0.24\n",
      "epoch 4, step 48750/55000, batch loss = 0.18\n",
      "epoch 4, step 49000/55000, batch loss = 0.14\n",
      "epoch 4, step 49250/55000, batch loss = 0.14\n",
      "epoch 4, step 49500/55000, batch loss = 0.20\n",
      "epoch 4, step 49750/55000, batch loss = 0.17\n"
     ]
    },
    {
     "name": "stderr",
     "output_type": "stream",
     "text": [
      "WARNING:root:Lossy conversion from float64 to uint8. Range [0, 1]. Convert image to uint8 prior to saving to suppress this warning.\n"
     ]
    },
    {
     "name": "stdout",
     "output_type": "stream",
     "text": [
      "epoch 4, step 50000/55000, batch loss = 0.18\n",
      "Train accuracy = 98.63\n",
      "epoch 4, step 50250/55000, batch loss = 0.17\n",
      "epoch 4, step 50500/55000, batch loss = 0.18\n",
      "epoch 4, step 50750/55000, batch loss = 0.15\n",
      "epoch 4, step 51000/55000, batch loss = 0.16\n",
      "epoch 4, step 51250/55000, batch loss = 0.15\n",
      "epoch 4, step 51500/55000, batch loss = 0.18\n",
      "epoch 4, step 51750/55000, batch loss = 0.27\n",
      "epoch 4, step 52000/55000, batch loss = 0.19\n",
      "epoch 4, step 52250/55000, batch loss = 0.17\n",
      "epoch 4, step 52500/55000, batch loss = 0.15\n",
      "Train accuracy = 98.64\n",
      "epoch 4, step 52750/55000, batch loss = 0.16\n",
      "epoch 4, step 53000/55000, batch loss = 0.19\n",
      "epoch 4, step 53250/55000, batch loss = 0.17\n",
      "epoch 4, step 53500/55000, batch loss = 0.19\n",
      "epoch 4, step 53750/55000, batch loss = 0.31\n",
      "epoch 4, step 54000/55000, batch loss = 0.15\n",
      "epoch 4, step 54250/55000, batch loss = 0.16\n",
      "epoch 4, step 54500/55000, batch loss = 0.35\n",
      "epoch 4, step 54750/55000, batch loss = 0.15\n",
      "Train accuracy = 98.62\n",
      "\n",
      "Running evaluation:  Validation\n",
      "Validation accuracy = 98.74\n",
      "Validation avg loss = 0.17\n",
      "\n",
      "\n",
      "Running evaluation:  Test\n",
      "Test accuracy = 98.77\n",
      "Test avg loss = 0.17\n",
      "\n",
      "Treniram model sa lambda = 1e-1\n"
     ]
    },
    {
     "name": "stderr",
     "output_type": "stream",
     "text": [
      "WARNING:root:Lossy conversion from float64 to uint8. Range [0, 1]. Convert image to uint8 prior to saving to suppress this warning.\n"
     ]
    },
    {
     "name": "stdout",
     "output_type": "stream",
     "text": [
      "epoch 1, step 0/55000, batch loss = 45.49\n",
      "epoch 1, step 250/55000, batch loss = 40.90\n",
      "epoch 1, step 500/55000, batch loss = 37.04\n",
      "epoch 1, step 750/55000, batch loss = 33.22\n",
      "epoch 1, step 1000/55000, batch loss = 30.24\n",
      "epoch 1, step 1250/55000, batch loss = 27.07\n",
      "epoch 1, step 1500/55000, batch loss = 24.47\n",
      "epoch 1, step 1750/55000, batch loss = 22.30\n",
      "epoch 1, step 2000/55000, batch loss = 20.50\n",
      "epoch 1, step 2250/55000, batch loss = 18.26\n",
      "epoch 1, step 2500/55000, batch loss = 16.79\n",
      "Train accuracy = 65.10\n",
      "epoch 1, step 2750/55000, batch loss = 15.17\n",
      "epoch 1, step 3000/55000, batch loss = 13.69\n",
      "epoch 1, step 3250/55000, batch loss = 12.57\n",
      "epoch 1, step 3500/55000, batch loss = 11.87\n",
      "epoch 1, step 3750/55000, batch loss = 10.54\n",
      "epoch 1, step 4000/55000, batch loss = 9.80\n",
      "epoch 1, step 4250/55000, batch loss = 8.86\n",
      "epoch 1, step 4500/55000, batch loss = 8.06\n",
      "epoch 1, step 4750/55000, batch loss = 7.24\n"
     ]
    },
    {
     "name": "stderr",
     "output_type": "stream",
     "text": [
      "WARNING:root:Lossy conversion from float64 to uint8. Range [0, 1]. Convert image to uint8 prior to saving to suppress this warning.\n"
     ]
    },
    {
     "name": "stdout",
     "output_type": "stream",
     "text": [
      "epoch 1, step 5000/55000, batch loss = 6.63\n",
      "Train accuracy = 75.01\n",
      "epoch 1, step 5250/55000, batch loss = 5.98\n",
      "epoch 1, step 5500/55000, batch loss = 5.44\n",
      "epoch 1, step 5750/55000, batch loss = 5.09\n",
      "epoch 1, step 6000/55000, batch loss = 4.76\n",
      "epoch 1, step 6250/55000, batch loss = 4.21\n",
      "epoch 1, step 6500/55000, batch loss = 4.17\n",
      "epoch 1, step 6750/55000, batch loss = 3.63\n",
      "epoch 1, step 7000/55000, batch loss = 3.64\n",
      "epoch 1, step 7250/55000, batch loss = 3.26\n",
      "epoch 1, step 7500/55000, batch loss = 2.88\n",
      "Train accuracy = 79.01\n",
      "epoch 1, step 7750/55000, batch loss = 2.71\n",
      "epoch 1, step 8000/55000, batch loss = 2.42\n",
      "epoch 1, step 8250/55000, batch loss = 2.55\n",
      "epoch 1, step 8500/55000, batch loss = 2.27\n",
      "epoch 1, step 8750/55000, batch loss = 1.99\n",
      "epoch 1, step 9000/55000, batch loss = 2.36\n",
      "epoch 1, step 9250/55000, batch loss = 1.81\n",
      "epoch 1, step 9500/55000, batch loss = 1.93\n",
      "epoch 1, step 9750/55000, batch loss = 1.57\n"
     ]
    },
    {
     "name": "stderr",
     "output_type": "stream",
     "text": [
      "WARNING:root:Lossy conversion from float64 to uint8. Range [0, 1]. Convert image to uint8 prior to saving to suppress this warning.\n"
     ]
    },
    {
     "name": "stdout",
     "output_type": "stream",
     "text": [
      "epoch 1, step 10000/55000, batch loss = 1.49\n",
      "Train accuracy = 81.57\n",
      "epoch 1, step 10250/55000, batch loss = 1.42\n",
      "epoch 1, step 10500/55000, batch loss = 1.36\n",
      "epoch 1, step 10750/55000, batch loss = 1.28\n",
      "epoch 1, step 11000/55000, batch loss = 2.07\n",
      "epoch 1, step 11250/55000, batch loss = 1.60\n",
      "epoch 1, step 11500/55000, batch loss = 1.52\n",
      "epoch 1, step 11750/55000, batch loss = 1.29\n",
      "epoch 1, step 12000/55000, batch loss = 1.21\n",
      "epoch 1, step 12250/55000, batch loss = 1.26\n",
      "epoch 1, step 12500/55000, batch loss = 1.05\n",
      "Train accuracy = 82.37\n",
      "epoch 1, step 12750/55000, batch loss = 1.34\n",
      "epoch 1, step 13000/55000, batch loss = 1.13\n",
      "epoch 1, step 13250/55000, batch loss = 0.92\n",
      "epoch 1, step 13500/55000, batch loss = 0.97\n",
      "epoch 1, step 13750/55000, batch loss = 0.95\n",
      "epoch 1, step 14000/55000, batch loss = 0.93\n",
      "epoch 1, step 14250/55000, batch loss = 1.00\n",
      "epoch 1, step 14500/55000, batch loss = 0.82\n",
      "epoch 1, step 14750/55000, batch loss = 0.85\n"
     ]
    },
    {
     "name": "stderr",
     "output_type": "stream",
     "text": [
      "WARNING:root:Lossy conversion from float64 to uint8. Range [0, 1]. Convert image to uint8 prior to saving to suppress this warning.\n"
     ]
    },
    {
     "name": "stdout",
     "output_type": "stream",
     "text": [
      "epoch 1, step 15000/55000, batch loss = 0.93\n",
      "Train accuracy = 83.53\n",
      "epoch 1, step 15250/55000, batch loss = 1.00\n",
      "epoch 1, step 15500/55000, batch loss = 0.78\n",
      "epoch 1, step 15750/55000, batch loss = 1.02\n",
      "epoch 1, step 16000/55000, batch loss = 0.86\n",
      "epoch 1, step 16250/55000, batch loss = 0.76\n",
      "epoch 1, step 16500/55000, batch loss = 1.31\n",
      "epoch 1, step 16750/55000, batch loss = 0.73\n",
      "epoch 1, step 17000/55000, batch loss = 0.69\n",
      "epoch 1, step 17250/55000, batch loss = 1.02\n",
      "epoch 1, step 17500/55000, batch loss = 0.64\n",
      "Train accuracy = 84.27\n",
      "epoch 1, step 17750/55000, batch loss = 0.70\n",
      "epoch 1, step 18000/55000, batch loss = 0.71\n",
      "epoch 1, step 18250/55000, batch loss = 0.63\n",
      "epoch 1, step 18500/55000, batch loss = 0.76\n",
      "epoch 1, step 18750/55000, batch loss = 0.78\n",
      "epoch 1, step 19000/55000, batch loss = 1.08\n",
      "epoch 1, step 19250/55000, batch loss = 0.69\n",
      "epoch 1, step 19500/55000, batch loss = 0.91\n",
      "epoch 1, step 19750/55000, batch loss = 0.95\n"
     ]
    },
    {
     "name": "stderr",
     "output_type": "stream",
     "text": [
      "WARNING:root:Lossy conversion from float64 to uint8. Range [0, 1]. Convert image to uint8 prior to saving to suppress this warning.\n"
     ]
    },
    {
     "name": "stdout",
     "output_type": "stream",
     "text": [
      "epoch 1, step 20000/55000, batch loss = 0.97\n",
      "Train accuracy = 84.91\n",
      "epoch 1, step 20250/55000, batch loss = 0.71\n",
      "epoch 1, step 20500/55000, batch loss = 0.69\n",
      "epoch 1, step 20750/55000, batch loss = 0.81\n",
      "epoch 1, step 21000/55000, batch loss = 0.81\n",
      "epoch 1, step 21250/55000, batch loss = 0.62\n",
      "epoch 1, step 21500/55000, batch loss = 0.87\n",
      "epoch 1, step 21750/55000, batch loss = 0.84\n",
      "epoch 1, step 22000/55000, batch loss = 0.71\n",
      "epoch 1, step 22250/55000, batch loss = 0.76\n",
      "epoch 1, step 22500/55000, batch loss = 0.88\n",
      "Train accuracy = 85.48\n",
      "epoch 1, step 22750/55000, batch loss = 0.73\n",
      "epoch 1, step 23000/55000, batch loss = 0.66\n",
      "epoch 1, step 23250/55000, batch loss = 0.79\n",
      "epoch 1, step 23500/55000, batch loss = 0.77\n",
      "epoch 1, step 23750/55000, batch loss = 0.81\n",
      "epoch 1, step 24000/55000, batch loss = 0.63\n",
      "epoch 1, step 24250/55000, batch loss = 0.72\n",
      "epoch 1, step 24500/55000, batch loss = 0.92\n",
      "epoch 1, step 24750/55000, batch loss = 0.61\n"
     ]
    },
    {
     "name": "stderr",
     "output_type": "stream",
     "text": [
      "WARNING:root:Lossy conversion from float64 to uint8. Range [0, 1]. Convert image to uint8 prior to saving to suppress this warning.\n"
     ]
    },
    {
     "name": "stdout",
     "output_type": "stream",
     "text": [
      "epoch 1, step 25000/55000, batch loss = 1.25\n",
      "Train accuracy = 85.93\n",
      "epoch 1, step 25250/55000, batch loss = 0.65\n",
      "epoch 1, step 25500/55000, batch loss = 0.87\n",
      "epoch 1, step 25750/55000, batch loss = 0.75\n",
      "epoch 1, step 26000/55000, batch loss = 0.90\n",
      "epoch 1, step 26250/55000, batch loss = 0.63\n",
      "epoch 1, step 26500/55000, batch loss = 0.53\n",
      "epoch 1, step 26750/55000, batch loss = 0.67\n",
      "epoch 1, step 27000/55000, batch loss = 0.78\n",
      "epoch 1, step 27250/55000, batch loss = 1.05\n",
      "epoch 1, step 27500/55000, batch loss = 0.81\n",
      "Train accuracy = 86.40\n",
      "epoch 1, step 27750/55000, batch loss = 0.64\n",
      "epoch 1, step 28000/55000, batch loss = 0.65\n",
      "epoch 1, step 28250/55000, batch loss = 0.57\n",
      "epoch 1, step 28500/55000, batch loss = 1.01\n",
      "epoch 1, step 28750/55000, batch loss = 0.70\n",
      "epoch 1, step 29000/55000, batch loss = 0.66\n",
      "epoch 1, step 29250/55000, batch loss = 0.83\n",
      "epoch 1, step 29500/55000, batch loss = 0.70\n",
      "epoch 1, step 29750/55000, batch loss = 0.72\n"
     ]
    },
    {
     "name": "stderr",
     "output_type": "stream",
     "text": [
      "WARNING:root:Lossy conversion from float64 to uint8. Range [0, 1]. Convert image to uint8 prior to saving to suppress this warning.\n"
     ]
    },
    {
     "name": "stdout",
     "output_type": "stream",
     "text": [
      "epoch 1, step 30000/55000, batch loss = 0.59\n",
      "Train accuracy = 86.70\n",
      "epoch 1, step 30250/55000, batch loss = 0.67\n",
      "epoch 1, step 30500/55000, batch loss = 0.73\n",
      "epoch 1, step 30750/55000, batch loss = 0.61\n",
      "epoch 1, step 31000/55000, batch loss = 0.63\n",
      "epoch 1, step 31250/55000, batch loss = 0.96\n",
      "epoch 1, step 31500/55000, batch loss = 0.75\n",
      "epoch 1, step 31750/55000, batch loss = 0.59\n",
      "epoch 1, step 32000/55000, batch loss = 0.67\n",
      "epoch 1, step 32250/55000, batch loss = 0.74\n",
      "epoch 1, step 32500/55000, batch loss = 0.68\n",
      "Train accuracy = 87.08\n",
      "epoch 1, step 32750/55000, batch loss = 0.71\n",
      "epoch 1, step 33000/55000, batch loss = 0.65\n",
      "epoch 1, step 33250/55000, batch loss = 0.83\n",
      "epoch 1, step 33500/55000, batch loss = 0.74\n",
      "epoch 1, step 33750/55000, batch loss = 0.55\n",
      "epoch 1, step 34000/55000, batch loss = 0.59\n",
      "epoch 1, step 34250/55000, batch loss = 0.74\n",
      "epoch 1, step 34500/55000, batch loss = 0.79\n",
      "epoch 1, step 34750/55000, batch loss = 0.56\n"
     ]
    },
    {
     "name": "stderr",
     "output_type": "stream",
     "text": [
      "WARNING:root:Lossy conversion from float64 to uint8. Range [0, 1]. Convert image to uint8 prior to saving to suppress this warning.\n"
     ]
    },
    {
     "name": "stdout",
     "output_type": "stream",
     "text": [
      "epoch 1, step 35000/55000, batch loss = 0.73\n",
      "Train accuracy = 87.39\n",
      "epoch 1, step 35250/55000, batch loss = 0.70\n",
      "epoch 1, step 35500/55000, batch loss = 0.62\n",
      "epoch 1, step 35750/55000, batch loss = 0.67\n",
      "epoch 1, step 36000/55000, batch loss = 1.06\n",
      "epoch 1, step 36250/55000, batch loss = 0.69\n",
      "epoch 1, step 36500/55000, batch loss = 0.74\n",
      "epoch 1, step 36750/55000, batch loss = 0.75\n",
      "epoch 1, step 37000/55000, batch loss = 0.76\n",
      "epoch 1, step 37250/55000, batch loss = 0.88\n",
      "epoch 1, step 37500/55000, batch loss = 0.69\n",
      "Train accuracy = 87.61\n",
      "epoch 1, step 37750/55000, batch loss = 0.78\n",
      "epoch 1, step 38000/55000, batch loss = 0.74\n",
      "epoch 1, step 38250/55000, batch loss = 0.59\n",
      "epoch 1, step 38500/55000, batch loss = 0.59\n",
      "epoch 1, step 38750/55000, batch loss = 0.97\n",
      "epoch 1, step 39000/55000, batch loss = 0.67\n",
      "epoch 1, step 39250/55000, batch loss = 0.72\n",
      "epoch 1, step 39500/55000, batch loss = 0.70\n",
      "epoch 1, step 39750/55000, batch loss = 0.62\n"
     ]
    },
    {
     "name": "stderr",
     "output_type": "stream",
     "text": [
      "WARNING:root:Lossy conversion from float64 to uint8. Range [0, 1]. Convert image to uint8 prior to saving to suppress this warning.\n"
     ]
    },
    {
     "name": "stdout",
     "output_type": "stream",
     "text": [
      "epoch 1, step 40000/55000, batch loss = 0.57\n",
      "Train accuracy = 87.84\n",
      "epoch 1, step 40250/55000, batch loss = 0.65\n",
      "epoch 1, step 40500/55000, batch loss = 0.73\n",
      "epoch 1, step 40750/55000, batch loss = 0.70\n",
      "epoch 1, step 41000/55000, batch loss = 0.53\n",
      "epoch 1, step 41250/55000, batch loss = 0.65\n",
      "epoch 1, step 41500/55000, batch loss = 0.53\n",
      "epoch 1, step 41750/55000, batch loss = 0.66\n",
      "epoch 1, step 42000/55000, batch loss = 0.61\n",
      "epoch 1, step 42250/55000, batch loss = 0.71\n",
      "epoch 1, step 42500/55000, batch loss = 0.62\n",
      "Train accuracy = 88.12\n",
      "epoch 1, step 42750/55000, batch loss = 0.61\n",
      "epoch 1, step 43000/55000, batch loss = 0.66\n",
      "epoch 1, step 43250/55000, batch loss = 0.69\n",
      "epoch 1, step 43500/55000, batch loss = 0.79\n",
      "epoch 1, step 43750/55000, batch loss = 0.60\n",
      "epoch 1, step 44000/55000, batch loss = 0.72\n",
      "epoch 1, step 44250/55000, batch loss = 0.79\n",
      "epoch 1, step 44500/55000, batch loss = 0.66\n",
      "epoch 1, step 44750/55000, batch loss = 0.82\n"
     ]
    },
    {
     "name": "stderr",
     "output_type": "stream",
     "text": [
      "WARNING:root:Lossy conversion from float64 to uint8. Range [0, 1]. Convert image to uint8 prior to saving to suppress this warning.\n"
     ]
    },
    {
     "name": "stdout",
     "output_type": "stream",
     "text": [
      "epoch 1, step 45000/55000, batch loss = 0.56\n",
      "Train accuracy = 88.22\n",
      "epoch 1, step 45250/55000, batch loss = 0.65\n",
      "epoch 1, step 45500/55000, batch loss = 0.83\n",
      "epoch 1, step 45750/55000, batch loss = 0.63\n",
      "epoch 1, step 46000/55000, batch loss = 0.70\n",
      "epoch 1, step 46250/55000, batch loss = 0.62\n",
      "epoch 1, step 46500/55000, batch loss = 0.75\n",
      "epoch 1, step 46750/55000, batch loss = 1.53\n",
      "epoch 1, step 47000/55000, batch loss = 0.80\n",
      "epoch 1, step 47250/55000, batch loss = 0.73\n",
      "epoch 1, step 47500/55000, batch loss = 0.70\n",
      "Train accuracy = 88.32\n",
      "epoch 1, step 47750/55000, batch loss = 0.58\n",
      "epoch 1, step 48000/55000, batch loss = 0.59\n",
      "epoch 1, step 48250/55000, batch loss = 0.88\n",
      "epoch 1, step 48500/55000, batch loss = 0.59\n",
      "epoch 1, step 48750/55000, batch loss = 0.54\n",
      "epoch 1, step 49000/55000, batch loss = 0.65\n",
      "epoch 1, step 49250/55000, batch loss = 0.68\n",
      "epoch 1, step 49500/55000, batch loss = 0.58\n",
      "epoch 1, step 49750/55000, batch loss = 0.81\n"
     ]
    },
    {
     "name": "stderr",
     "output_type": "stream",
     "text": [
      "WARNING:root:Lossy conversion from float64 to uint8. Range [0, 1]. Convert image to uint8 prior to saving to suppress this warning.\n"
     ]
    },
    {
     "name": "stdout",
     "output_type": "stream",
     "text": [
      "epoch 1, step 50000/55000, batch loss = 0.61\n",
      "Train accuracy = 88.53\n",
      "epoch 1, step 50250/55000, batch loss = 0.57\n",
      "epoch 1, step 50500/55000, batch loss = 0.63\n",
      "epoch 1, step 50750/55000, batch loss = 0.68\n",
      "epoch 1, step 51000/55000, batch loss = 0.60\n",
      "epoch 1, step 51250/55000, batch loss = 0.59\n",
      "epoch 1, step 51500/55000, batch loss = 0.48\n",
      "epoch 1, step 51750/55000, batch loss = 1.20\n",
      "epoch 1, step 52000/55000, batch loss = 0.72\n",
      "epoch 1, step 52250/55000, batch loss = 0.90\n",
      "epoch 1, step 52500/55000, batch loss = 0.61\n",
      "Train accuracy = 88.68\n",
      "epoch 1, step 52750/55000, batch loss = 0.69\n",
      "epoch 1, step 53000/55000, batch loss = 0.57\n",
      "epoch 1, step 53250/55000, batch loss = 0.58\n",
      "epoch 1, step 53500/55000, batch loss = 0.56\n",
      "epoch 1, step 53750/55000, batch loss = 0.73\n",
      "epoch 1, step 54000/55000, batch loss = 0.62\n",
      "epoch 1, step 54250/55000, batch loss = 0.61\n",
      "epoch 1, step 54500/55000, batch loss = 0.88\n",
      "epoch 1, step 54750/55000, batch loss = 0.81\n",
      "Train accuracy = 88.87\n",
      "\n",
      "Running evaluation:  Validation\n",
      "Validation accuracy = 95.20\n",
      "Validation avg loss = 0.56\n",
      "\n"
     ]
    },
    {
     "name": "stderr",
     "output_type": "stream",
     "text": [
      "WARNING:root:Lossy conversion from float64 to uint8. Range [0, 1]. Convert image to uint8 prior to saving to suppress this warning.\n"
     ]
    },
    {
     "name": "stdout",
     "output_type": "stream",
     "text": [
      "epoch 2, step 0/55000, batch loss = 0.69\n",
      "epoch 2, step 250/55000, batch loss = 0.68\n",
      "epoch 2, step 500/55000, batch loss = 0.69\n",
      "epoch 2, step 750/55000, batch loss = 0.66\n",
      "epoch 2, step 1000/55000, batch loss = 1.56\n",
      "epoch 2, step 1250/55000, batch loss = 0.67\n",
      "epoch 2, step 1500/55000, batch loss = 0.72\n",
      "epoch 2, step 1750/55000, batch loss = 1.02\n",
      "epoch 2, step 2000/55000, batch loss = 0.67\n",
      "epoch 2, step 2250/55000, batch loss = 0.52\n",
      "epoch 2, step 2500/55000, batch loss = 0.62\n",
      "Train accuracy = 90.16\n",
      "epoch 2, step 2750/55000, batch loss = 0.59\n",
      "epoch 2, step 3000/55000, batch loss = 0.50\n",
      "epoch 2, step 3250/55000, batch loss = 1.47\n",
      "epoch 2, step 3500/55000, batch loss = 0.74\n",
      "epoch 2, step 3750/55000, batch loss = 0.53\n",
      "epoch 2, step 4000/55000, batch loss = 0.72\n",
      "epoch 2, step 4250/55000, batch loss = 0.78\n",
      "epoch 2, step 4500/55000, batch loss = 0.67\n",
      "epoch 2, step 4750/55000, batch loss = 0.55\n"
     ]
    },
    {
     "name": "stderr",
     "output_type": "stream",
     "text": [
      "WARNING:root:Lossy conversion from float64 to uint8. Range [0, 1]. Convert image to uint8 prior to saving to suppress this warning.\n"
     ]
    },
    {
     "name": "stdout",
     "output_type": "stream",
     "text": [
      "epoch 2, step 5000/55000, batch loss = 0.76\n",
      "Train accuracy = 90.55\n",
      "epoch 2, step 5250/55000, batch loss = 0.81\n",
      "epoch 2, step 5500/55000, batch loss = 0.64\n",
      "epoch 2, step 5750/55000, batch loss = 0.64\n",
      "epoch 2, step 6000/55000, batch loss = 0.64\n",
      "epoch 2, step 6250/55000, batch loss = 0.73\n",
      "epoch 2, step 6500/55000, batch loss = 0.54\n",
      "epoch 2, step 6750/55000, batch loss = 0.72\n",
      "epoch 2, step 7000/55000, batch loss = 0.70\n",
      "epoch 2, step 7250/55000, batch loss = 0.72\n",
      "epoch 2, step 7500/55000, batch loss = 0.64\n",
      "Train accuracy = 90.91\n",
      "epoch 2, step 7750/55000, batch loss = 0.56\n",
      "epoch 2, step 8000/55000, batch loss = 0.69\n",
      "epoch 2, step 8250/55000, batch loss = 0.60\n",
      "epoch 2, step 8500/55000, batch loss = 0.88\n",
      "epoch 2, step 8750/55000, batch loss = 0.92\n",
      "epoch 2, step 9000/55000, batch loss = 0.54\n",
      "epoch 2, step 9250/55000, batch loss = 1.87\n",
      "epoch 2, step 9500/55000, batch loss = 0.75\n",
      "epoch 2, step 9750/55000, batch loss = 0.77\n"
     ]
    },
    {
     "name": "stderr",
     "output_type": "stream",
     "text": [
      "WARNING:root:Lossy conversion from float64 to uint8. Range [0, 1]. Convert image to uint8 prior to saving to suppress this warning.\n"
     ]
    },
    {
     "name": "stdout",
     "output_type": "stream",
     "text": [
      "epoch 2, step 10000/55000, batch loss = 0.69\n",
      "Train accuracy = 90.70\n",
      "epoch 2, step 10250/55000, batch loss = 0.77\n",
      "epoch 2, step 10500/55000, batch loss = 0.85\n",
      "epoch 2, step 10750/55000, batch loss = 0.53\n",
      "epoch 2, step 11000/55000, batch loss = 0.56\n",
      "epoch 2, step 11250/55000, batch loss = 0.79\n",
      "epoch 2, step 11500/55000, batch loss = 0.57\n",
      "epoch 2, step 11750/55000, batch loss = 0.60\n",
      "epoch 2, step 12000/55000, batch loss = 0.65\n",
      "epoch 2, step 12250/55000, batch loss = 0.64\n",
      "epoch 2, step 12500/55000, batch loss = 0.71\n",
      "Train accuracy = 91.00\n",
      "epoch 2, step 12750/55000, batch loss = 0.77\n",
      "epoch 2, step 13000/55000, batch loss = 0.57\n",
      "epoch 2, step 13250/55000, batch loss = 0.59\n",
      "epoch 2, step 13500/55000, batch loss = 0.75\n",
      "epoch 2, step 13750/55000, batch loss = 0.71\n",
      "epoch 2, step 14000/55000, batch loss = 0.85\n",
      "epoch 2, step 14250/55000, batch loss = 0.47\n",
      "epoch 2, step 14500/55000, batch loss = 0.78\n",
      "epoch 2, step 14750/55000, batch loss = 0.67\n"
     ]
    },
    {
     "name": "stderr",
     "output_type": "stream",
     "text": [
      "WARNING:root:Lossy conversion from float64 to uint8. Range [0, 1]. Convert image to uint8 prior to saving to suppress this warning.\n"
     ]
    },
    {
     "name": "stdout",
     "output_type": "stream",
     "text": [
      "epoch 2, step 15000/55000, batch loss = 0.47\n",
      "Train accuracy = 91.17\n",
      "epoch 2, step 15250/55000, batch loss = 0.78\n",
      "epoch 2, step 15500/55000, batch loss = 0.56\n",
      "epoch 2, step 15750/55000, batch loss = 0.97\n",
      "epoch 2, step 16000/55000, batch loss = 0.70\n",
      "epoch 2, step 16250/55000, batch loss = 0.83\n",
      "epoch 2, step 16500/55000, batch loss = 0.54\n",
      "epoch 2, step 16750/55000, batch loss = 0.55\n",
      "epoch 2, step 17000/55000, batch loss = 0.98\n",
      "epoch 2, step 17250/55000, batch loss = 0.60\n",
      "epoch 2, step 17500/55000, batch loss = 0.67\n",
      "Train accuracy = 91.05\n",
      "epoch 2, step 17750/55000, batch loss = 0.62\n",
      "epoch 2, step 18000/55000, batch loss = 0.58\n",
      "epoch 2, step 18250/55000, batch loss = 0.63\n",
      "epoch 2, step 18500/55000, batch loss = 0.53\n",
      "epoch 2, step 18750/55000, batch loss = 0.67\n",
      "epoch 2, step 19000/55000, batch loss = 0.78\n",
      "epoch 2, step 19250/55000, batch loss = 0.51\n",
      "epoch 2, step 19500/55000, batch loss = 0.61\n",
      "epoch 2, step 19750/55000, batch loss = 0.53\n"
     ]
    },
    {
     "name": "stderr",
     "output_type": "stream",
     "text": [
      "WARNING:root:Lossy conversion from float64 to uint8. Range [0, 1]. Convert image to uint8 prior to saving to suppress this warning.\n"
     ]
    },
    {
     "name": "stdout",
     "output_type": "stream",
     "text": [
      "epoch 2, step 20000/55000, batch loss = 0.63\n",
      "Train accuracy = 91.20\n",
      "epoch 2, step 20250/55000, batch loss = 0.62\n",
      "epoch 2, step 20500/55000, batch loss = 0.51\n",
      "epoch 2, step 20750/55000, batch loss = 1.23\n",
      "epoch 2, step 21000/55000, batch loss = 0.71\n",
      "epoch 2, step 21250/55000, batch loss = 2.08\n",
      "epoch 2, step 21500/55000, batch loss = 1.07\n",
      "epoch 2, step 21750/55000, batch loss = 1.81\n",
      "epoch 2, step 22000/55000, batch loss = 0.92\n",
      "epoch 2, step 22250/55000, batch loss = 0.84\n",
      "epoch 2, step 22500/55000, batch loss = 0.88\n",
      "Train accuracy = 90.44\n",
      "epoch 2, step 22750/55000, batch loss = 0.71\n",
      "epoch 2, step 23000/55000, batch loss = 0.73\n",
      "epoch 2, step 23250/55000, batch loss = 0.75\n",
      "epoch 2, step 23500/55000, batch loss = 0.69\n",
      "epoch 2, step 23750/55000, batch loss = 0.66\n",
      "epoch 2, step 24000/55000, batch loss = 0.80\n",
      "epoch 2, step 24250/55000, batch loss = 0.56\n",
      "epoch 2, step 24500/55000, batch loss = 0.73\n",
      "epoch 2, step 24750/55000, batch loss = 0.67\n"
     ]
    },
    {
     "name": "stderr",
     "output_type": "stream",
     "text": [
      "WARNING:root:Lossy conversion from float64 to uint8. Range [0, 1]. Convert image to uint8 prior to saving to suppress this warning.\n"
     ]
    },
    {
     "name": "stdout",
     "output_type": "stream",
     "text": [
      "epoch 2, step 25000/55000, batch loss = 0.62\n",
      "Train accuracy = 90.68\n",
      "epoch 2, step 25250/55000, batch loss = 0.99\n",
      "epoch 2, step 25500/55000, batch loss = 0.64\n",
      "epoch 2, step 25750/55000, batch loss = 0.73\n",
      "epoch 2, step 26000/55000, batch loss = 0.62\n",
      "epoch 2, step 26250/55000, batch loss = 0.61\n",
      "epoch 2, step 26500/55000, batch loss = 0.60\n",
      "epoch 2, step 26750/55000, batch loss = 1.03\n",
      "epoch 2, step 27000/55000, batch loss = 0.74\n",
      "epoch 2, step 27250/55000, batch loss = 0.58\n",
      "epoch 2, step 27500/55000, batch loss = 0.77\n",
      "Train accuracy = 90.73\n",
      "epoch 2, step 27750/55000, batch loss = 0.59\n",
      "epoch 2, step 28000/55000, batch loss = 0.67\n",
      "epoch 2, step 28250/55000, batch loss = 0.66\n",
      "epoch 2, step 28500/55000, batch loss = 0.73\n",
      "epoch 2, step 28750/55000, batch loss = 0.65\n",
      "epoch 2, step 29000/55000, batch loss = 0.55\n",
      "epoch 2, step 29250/55000, batch loss = 0.52\n",
      "epoch 2, step 29500/55000, batch loss = 0.53\n",
      "epoch 2, step 29750/55000, batch loss = 0.70\n"
     ]
    },
    {
     "name": "stderr",
     "output_type": "stream",
     "text": [
      "WARNING:root:Lossy conversion from float64 to uint8. Range [0, 1]. Convert image to uint8 prior to saving to suppress this warning.\n"
     ]
    },
    {
     "name": "stdout",
     "output_type": "stream",
     "text": [
      "epoch 2, step 30000/55000, batch loss = 0.70\n",
      "Train accuracy = 90.84\n",
      "epoch 2, step 30250/55000, batch loss = 0.52\n",
      "epoch 2, step 30500/55000, batch loss = 1.83\n",
      "epoch 2, step 30750/55000, batch loss = 1.16\n",
      "epoch 2, step 31000/55000, batch loss = 1.01\n",
      "epoch 2, step 31250/55000, batch loss = 0.79\n",
      "epoch 2, step 31500/55000, batch loss = 0.74\n",
      "epoch 2, step 31750/55000, batch loss = 0.82\n",
      "epoch 2, step 32000/55000, batch loss = 0.81\n",
      "epoch 2, step 32250/55000, batch loss = 1.10\n",
      "epoch 2, step 32500/55000, batch loss = 0.77\n",
      "Train accuracy = 90.37\n",
      "epoch 2, step 32750/55000, batch loss = 0.74\n",
      "epoch 2, step 33000/55000, batch loss = 0.58\n",
      "epoch 2, step 33250/55000, batch loss = 0.85\n",
      "epoch 2, step 33500/55000, batch loss = 0.74\n",
      "epoch 2, step 33750/55000, batch loss = 0.77\n",
      "epoch 2, step 34000/55000, batch loss = 0.50\n",
      "epoch 2, step 34250/55000, batch loss = 0.82\n",
      "epoch 2, step 34500/55000, batch loss = 0.73\n",
      "epoch 2, step 34750/55000, batch loss = 0.79\n"
     ]
    },
    {
     "name": "stderr",
     "output_type": "stream",
     "text": [
      "WARNING:root:Lossy conversion from float64 to uint8. Range [0, 1]. Convert image to uint8 prior to saving to suppress this warning.\n"
     ]
    },
    {
     "name": "stdout",
     "output_type": "stream",
     "text": [
      "epoch 2, step 35000/55000, batch loss = 0.59\n",
      "Train accuracy = 90.45\n",
      "epoch 2, step 35250/55000, batch loss = 0.67\n",
      "epoch 2, step 35500/55000, batch loss = 0.65\n",
      "epoch 2, step 35750/55000, batch loss = 0.59\n",
      "epoch 2, step 36000/55000, batch loss = 0.62\n",
      "epoch 2, step 36250/55000, batch loss = 0.96\n",
      "epoch 2, step 36500/55000, batch loss = 0.56\n",
      "epoch 2, step 36750/55000, batch loss = 0.70\n",
      "epoch 2, step 37000/55000, batch loss = 0.69\n",
      "epoch 2, step 37250/55000, batch loss = 1.15\n",
      "epoch 2, step 37500/55000, batch loss = 0.81\n",
      "Train accuracy = 90.42\n",
      "epoch 2, step 37750/55000, batch loss = 0.66\n",
      "epoch 2, step 38000/55000, batch loss = 0.46\n",
      "epoch 2, step 38250/55000, batch loss = 0.50\n",
      "epoch 2, step 38500/55000, batch loss = 0.72\n",
      "epoch 2, step 38750/55000, batch loss = 0.59\n",
      "epoch 2, step 39000/55000, batch loss = 0.48\n",
      "epoch 2, step 39250/55000, batch loss = 0.61\n",
      "epoch 2, step 39500/55000, batch loss = 1.08\n",
      "epoch 2, step 39750/55000, batch loss = 0.62\n"
     ]
    },
    {
     "name": "stderr",
     "output_type": "stream",
     "text": [
      "WARNING:root:Lossy conversion from float64 to uint8. Range [0, 1]. Convert image to uint8 prior to saving to suppress this warning.\n"
     ]
    },
    {
     "name": "stdout",
     "output_type": "stream",
     "text": [
      "epoch 2, step 40000/55000, batch loss = 0.61\n",
      "Train accuracy = 90.48\n",
      "epoch 2, step 40250/55000, batch loss = 0.63\n",
      "epoch 2, step 40500/55000, batch loss = 0.83\n",
      "epoch 2, step 40750/55000, batch loss = 0.65\n",
      "epoch 2, step 41000/55000, batch loss = 0.52\n",
      "epoch 2, step 41250/55000, batch loss = 0.54\n",
      "epoch 2, step 41500/55000, batch loss = 0.62\n",
      "epoch 2, step 41750/55000, batch loss = 0.71\n",
      "epoch 2, step 42000/55000, batch loss = 0.59\n",
      "epoch 2, step 42250/55000, batch loss = 0.61\n",
      "epoch 2, step 42500/55000, batch loss = 0.67\n",
      "Train accuracy = 90.52\n",
      "epoch 2, step 42750/55000, batch loss = 0.84\n",
      "epoch 2, step 43000/55000, batch loss = 0.57\n",
      "epoch 2, step 43250/55000, batch loss = 0.55\n",
      "epoch 2, step 43500/55000, batch loss = 0.56\n",
      "epoch 2, step 43750/55000, batch loss = 0.71\n",
      "epoch 2, step 44000/55000, batch loss = 0.53\n",
      "epoch 2, step 44250/55000, batch loss = 0.74\n",
      "epoch 2, step 44500/55000, batch loss = 0.50\n",
      "epoch 2, step 44750/55000, batch loss = 0.54\n"
     ]
    },
    {
     "name": "stderr",
     "output_type": "stream",
     "text": [
      "WARNING:root:Lossy conversion from float64 to uint8. Range [0, 1]. Convert image to uint8 prior to saving to suppress this warning.\n"
     ]
    },
    {
     "name": "stdout",
     "output_type": "stream",
     "text": [
      "epoch 2, step 45000/55000, batch loss = 0.57\n",
      "Train accuracy = 90.64\n",
      "epoch 2, step 45250/55000, batch loss = 0.54\n",
      "epoch 2, step 45500/55000, batch loss = 0.55\n",
      "epoch 2, step 45750/55000, batch loss = 0.60\n",
      "epoch 2, step 46000/55000, batch loss = 0.60\n",
      "epoch 2, step 46250/55000, batch loss = 0.78\n",
      "epoch 2, step 46500/55000, batch loss = 0.76\n",
      "epoch 2, step 46750/55000, batch loss = 0.60\n",
      "epoch 2, step 47000/55000, batch loss = 0.58\n",
      "epoch 2, step 47250/55000, batch loss = 0.48\n",
      "epoch 2, step 47500/55000, batch loss = 0.76\n",
      "Train accuracy = 90.70\n",
      "epoch 2, step 47750/55000, batch loss = 0.54\n",
      "epoch 2, step 48000/55000, batch loss = 1.11\n",
      "epoch 2, step 48250/55000, batch loss = 0.58\n",
      "epoch 2, step 48500/55000, batch loss = 0.62\n",
      "epoch 2, step 48750/55000, batch loss = 0.59\n",
      "epoch 2, step 49000/55000, batch loss = 0.66\n",
      "epoch 2, step 49250/55000, batch loss = 0.70\n",
      "epoch 2, step 49500/55000, batch loss = 0.55\n",
      "epoch 2, step 49750/55000, batch loss = 0.70\n"
     ]
    },
    {
     "name": "stderr",
     "output_type": "stream",
     "text": [
      "WARNING:root:Lossy conversion from float64 to uint8. Range [0, 1]. Convert image to uint8 prior to saving to suppress this warning.\n"
     ]
    },
    {
     "name": "stdout",
     "output_type": "stream",
     "text": [
      "epoch 2, step 50000/55000, batch loss = 0.56\n",
      "Train accuracy = 90.78\n",
      "epoch 2, step 50250/55000, batch loss = 0.56\n",
      "epoch 2, step 50500/55000, batch loss = 0.48\n",
      "epoch 2, step 50750/55000, batch loss = 0.69\n",
      "epoch 2, step 51000/55000, batch loss = 0.57\n",
      "epoch 2, step 51250/55000, batch loss = 0.78\n",
      "epoch 2, step 51500/55000, batch loss = 0.59\n",
      "epoch 2, step 51750/55000, batch loss = 0.71\n",
      "epoch 2, step 52000/55000, batch loss = 0.56\n",
      "epoch 2, step 52250/55000, batch loss = 0.65\n",
      "epoch 2, step 52500/55000, batch loss = 0.52\n",
      "Train accuracy = 90.83\n",
      "epoch 2, step 52750/55000, batch loss = 0.93\n",
      "epoch 2, step 53000/55000, batch loss = 0.59\n",
      "epoch 2, step 53250/55000, batch loss = 0.74\n",
      "epoch 2, step 53500/55000, batch loss = 0.51\n",
      "epoch 2, step 53750/55000, batch loss = 0.59\n",
      "epoch 2, step 54000/55000, batch loss = 0.51\n",
      "epoch 2, step 54250/55000, batch loss = 0.70\n",
      "epoch 2, step 54500/55000, batch loss = 0.57\n",
      "epoch 2, step 54750/55000, batch loss = 1.12\n",
      "Train accuracy = 90.84\n",
      "\n",
      "Running evaluation:  Validation\n",
      "Validation accuracy = 96.18\n",
      "Validation avg loss = 0.52\n",
      "\n"
     ]
    },
    {
     "name": "stderr",
     "output_type": "stream",
     "text": [
      "WARNING:root:Lossy conversion from float64 to uint8. Range [0, 1]. Convert image to uint8 prior to saving to suppress this warning.\n"
     ]
    },
    {
     "name": "stdout",
     "output_type": "stream",
     "text": [
      "epoch 3, step 0/55000, batch loss = 0.56\n",
      "epoch 3, step 250/55000, batch loss = 0.69\n",
      "epoch 3, step 500/55000, batch loss = 0.63\n",
      "epoch 3, step 750/55000, batch loss = 0.50\n",
      "epoch 3, step 1000/55000, batch loss = 0.69\n",
      "epoch 3, step 1250/55000, batch loss = 0.50\n",
      "epoch 3, step 1500/55000, batch loss = 0.51\n",
      "epoch 3, step 1750/55000, batch loss = 0.58\n",
      "epoch 3, step 2000/55000, batch loss = 0.48\n",
      "epoch 3, step 2250/55000, batch loss = 0.46\n",
      "epoch 3, step 2500/55000, batch loss = 0.61\n",
      "Train accuracy = 95.45\n",
      "epoch 3, step 2750/55000, batch loss = 0.58\n",
      "epoch 3, step 3000/55000, batch loss = 0.45\n",
      "epoch 3, step 3250/55000, batch loss = 0.51\n",
      "epoch 3, step 3500/55000, batch loss = 0.51\n",
      "epoch 3, step 3750/55000, batch loss = 0.46\n",
      "epoch 3, step 4000/55000, batch loss = 0.40\n",
      "epoch 3, step 4250/55000, batch loss = 0.62\n",
      "epoch 3, step 4500/55000, batch loss = 0.46\n",
      "epoch 3, step 4750/55000, batch loss = 0.56\n"
     ]
    },
    {
     "name": "stderr",
     "output_type": "stream",
     "text": [
      "WARNING:root:Lossy conversion from float64 to uint8. Range [0, 1]. Convert image to uint8 prior to saving to suppress this warning.\n"
     ]
    },
    {
     "name": "stdout",
     "output_type": "stream",
     "text": [
      "epoch 3, step 5000/55000, batch loss = 0.47\n",
      "Train accuracy = 95.41\n",
      "epoch 3, step 5250/55000, batch loss = 0.58\n",
      "epoch 3, step 5500/55000, batch loss = 0.55\n",
      "epoch 3, step 5750/55000, batch loss = 0.68\n",
      "epoch 3, step 6000/55000, batch loss = 0.64\n",
      "epoch 3, step 6250/55000, batch loss = 0.50\n",
      "epoch 3, step 6500/55000, batch loss = 0.48\n",
      "epoch 3, step 6750/55000, batch loss = 0.49\n",
      "epoch 3, step 7000/55000, batch loss = 0.40\n",
      "epoch 3, step 7250/55000, batch loss = 0.49\n",
      "epoch 3, step 7500/55000, batch loss = 0.52\n",
      "Train accuracy = 95.55\n",
      "epoch 3, step 7750/55000, batch loss = 0.50\n",
      "epoch 3, step 8000/55000, batch loss = 0.45\n",
      "epoch 3, step 8250/55000, batch loss = 0.54\n",
      "epoch 3, step 8500/55000, batch loss = 0.54\n",
      "epoch 3, step 8750/55000, batch loss = 0.43\n",
      "epoch 3, step 9000/55000, batch loss = 0.48\n",
      "epoch 3, step 9250/55000, batch loss = 0.42\n",
      "epoch 3, step 9500/55000, batch loss = 0.49\n",
      "epoch 3, step 9750/55000, batch loss = 0.46\n"
     ]
    },
    {
     "name": "stderr",
     "output_type": "stream",
     "text": [
      "WARNING:root:Lossy conversion from float64 to uint8. Range [0, 1]. Convert image to uint8 prior to saving to suppress this warning.\n"
     ]
    },
    {
     "name": "stdout",
     "output_type": "stream",
     "text": [
      "epoch 3, step 10000/55000, batch loss = 0.57\n",
      "Train accuracy = 95.63\n",
      "epoch 3, step 10250/55000, batch loss = 0.55\n",
      "epoch 3, step 10500/55000, batch loss = 0.51\n",
      "epoch 3, step 10750/55000, batch loss = 0.56\n",
      "epoch 3, step 11000/55000, batch loss = 0.59\n",
      "epoch 3, step 11250/55000, batch loss = 0.41\n",
      "epoch 3, step 11500/55000, batch loss = 0.50\n",
      "epoch 3, step 11750/55000, batch loss = 0.46\n",
      "epoch 3, step 12000/55000, batch loss = 0.50\n",
      "epoch 3, step 12250/55000, batch loss = 0.43\n",
      "epoch 3, step 12500/55000, batch loss = 0.45\n",
      "Train accuracy = 95.52\n",
      "epoch 3, step 12750/55000, batch loss = 0.58\n",
      "epoch 3, step 13000/55000, batch loss = 0.38\n",
      "epoch 3, step 13250/55000, batch loss = 0.47\n",
      "epoch 3, step 13500/55000, batch loss = 0.58\n",
      "epoch 3, step 13750/55000, batch loss = 0.59\n",
      "epoch 3, step 14000/55000, batch loss = 0.49\n",
      "epoch 3, step 14250/55000, batch loss = 0.42\n",
      "epoch 3, step 14500/55000, batch loss = 0.50\n",
      "epoch 3, step 14750/55000, batch loss = 0.49\n"
     ]
    },
    {
     "name": "stderr",
     "output_type": "stream",
     "text": [
      "WARNING:root:Lossy conversion from float64 to uint8. Range [0, 1]. Convert image to uint8 prior to saving to suppress this warning.\n"
     ]
    },
    {
     "name": "stdout",
     "output_type": "stream",
     "text": [
      "epoch 3, step 15000/55000, batch loss = 0.41\n",
      "Train accuracy = 95.51\n",
      "epoch 3, step 15250/55000, batch loss = 0.43\n",
      "epoch 3, step 15500/55000, batch loss = 0.45\n",
      "epoch 3, step 15750/55000, batch loss = 0.44\n",
      "epoch 3, step 16000/55000, batch loss = 0.52\n",
      "epoch 3, step 16250/55000, batch loss = 0.45\n",
      "epoch 3, step 16500/55000, batch loss = 0.50\n",
      "epoch 3, step 16750/55000, batch loss = 0.42\n",
      "epoch 3, step 17000/55000, batch loss = 0.63\n",
      "epoch 3, step 17250/55000, batch loss = 0.43\n",
      "epoch 3, step 17500/55000, batch loss = 0.42\n",
      "Train accuracy = 95.53\n",
      "epoch 3, step 17750/55000, batch loss = 0.44\n",
      "epoch 3, step 18000/55000, batch loss = 0.41\n",
      "epoch 3, step 18250/55000, batch loss = 0.36\n",
      "epoch 3, step 18500/55000, batch loss = 0.46\n",
      "epoch 3, step 18750/55000, batch loss = 0.38\n",
      "epoch 3, step 19000/55000, batch loss = 0.48\n",
      "epoch 3, step 19250/55000, batch loss = 0.53\n",
      "epoch 3, step 19500/55000, batch loss = 0.48\n",
      "epoch 3, step 19750/55000, batch loss = 0.49\n"
     ]
    },
    {
     "name": "stderr",
     "output_type": "stream",
     "text": [
      "WARNING:root:Lossy conversion from float64 to uint8. Range [0, 1]. Convert image to uint8 prior to saving to suppress this warning.\n"
     ]
    },
    {
     "name": "stdout",
     "output_type": "stream",
     "text": [
      "epoch 3, step 20000/55000, batch loss = 0.53\n",
      "Train accuracy = 95.59\n",
      "epoch 3, step 20250/55000, batch loss = 0.49\n",
      "epoch 3, step 20500/55000, batch loss = 0.60\n",
      "epoch 3, step 20750/55000, batch loss = 0.45\n",
      "epoch 3, step 21000/55000, batch loss = 0.44\n",
      "epoch 3, step 21250/55000, batch loss = 0.48\n",
      "epoch 3, step 21500/55000, batch loss = 0.44\n",
      "epoch 3, step 21750/55000, batch loss = 0.49\n",
      "epoch 3, step 22000/55000, batch loss = 0.43\n",
      "epoch 3, step 22250/55000, batch loss = 0.57\n",
      "epoch 3, step 22500/55000, batch loss = 0.49\n",
      "Train accuracy = 95.57\n",
      "epoch 3, step 22750/55000, batch loss = 0.41\n",
      "epoch 3, step 23000/55000, batch loss = 0.45\n",
      "epoch 3, step 23250/55000, batch loss = 0.43\n",
      "epoch 3, step 23500/55000, batch loss = 0.42\n",
      "epoch 3, step 23750/55000, batch loss = 0.44\n",
      "epoch 3, step 24000/55000, batch loss = 0.41\n",
      "epoch 3, step 24250/55000, batch loss = 0.51\n",
      "epoch 3, step 24500/55000, batch loss = 0.48\n",
      "epoch 3, step 24750/55000, batch loss = 0.40\n"
     ]
    },
    {
     "name": "stderr",
     "output_type": "stream",
     "text": [
      "WARNING:root:Lossy conversion from float64 to uint8. Range [0, 1]. Convert image to uint8 prior to saving to suppress this warning.\n"
     ]
    },
    {
     "name": "stdout",
     "output_type": "stream",
     "text": [
      "epoch 3, step 25000/55000, batch loss = 0.39\n",
      "Train accuracy = 95.62\n",
      "epoch 3, step 25250/55000, batch loss = 0.46\n",
      "epoch 3, step 25500/55000, batch loss = 0.41\n",
      "epoch 3, step 25750/55000, batch loss = 0.52\n",
      "epoch 3, step 26000/55000, batch loss = 0.49\n",
      "epoch 3, step 26250/55000, batch loss = 0.49\n",
      "epoch 3, step 26500/55000, batch loss = 0.55\n",
      "epoch 3, step 26750/55000, batch loss = 0.35\n",
      "epoch 3, step 27000/55000, batch loss = 0.43\n",
      "epoch 3, step 27250/55000, batch loss = 0.49\n",
      "epoch 3, step 27500/55000, batch loss = 0.46\n",
      "Train accuracy = 95.65\n",
      "epoch 3, step 27750/55000, batch loss = 0.46\n",
      "epoch 3, step 28000/55000, batch loss = 0.48\n",
      "epoch 3, step 28250/55000, batch loss = 0.50\n",
      "epoch 3, step 28500/55000, batch loss = 0.41\n",
      "epoch 3, step 28750/55000, batch loss = 0.48\n",
      "epoch 3, step 29000/55000, batch loss = 0.37\n",
      "epoch 3, step 29250/55000, batch loss = 0.46\n",
      "epoch 3, step 29500/55000, batch loss = 0.53\n",
      "epoch 3, step 29750/55000, batch loss = 0.43\n"
     ]
    },
    {
     "name": "stderr",
     "output_type": "stream",
     "text": [
      "WARNING:root:Lossy conversion from float64 to uint8. Range [0, 1]. Convert image to uint8 prior to saving to suppress this warning.\n"
     ]
    },
    {
     "name": "stdout",
     "output_type": "stream",
     "text": [
      "epoch 3, step 30000/55000, batch loss = 0.47\n",
      "Train accuracy = 95.64\n",
      "epoch 3, step 30250/55000, batch loss = 0.47\n",
      "epoch 3, step 30500/55000, batch loss = 0.60\n",
      "epoch 3, step 30750/55000, batch loss = 0.43\n",
      "epoch 3, step 31000/55000, batch loss = 0.45\n",
      "epoch 3, step 31250/55000, batch loss = 0.43\n",
      "epoch 3, step 31500/55000, batch loss = 0.57\n",
      "epoch 3, step 31750/55000, batch loss = 0.43\n",
      "epoch 3, step 32000/55000, batch loss = 0.39\n",
      "epoch 3, step 32250/55000, batch loss = 0.48\n",
      "epoch 3, step 32500/55000, batch loss = 0.38\n",
      "Train accuracy = 95.64\n",
      "epoch 3, step 32750/55000, batch loss = 0.40\n",
      "epoch 3, step 33000/55000, batch loss = 0.37\n",
      "epoch 3, step 33250/55000, batch loss = 0.42\n",
      "epoch 3, step 33500/55000, batch loss = 0.51\n",
      "epoch 3, step 33750/55000, batch loss = 0.51\n",
      "epoch 3, step 34000/55000, batch loss = 0.45\n",
      "epoch 3, step 34250/55000, batch loss = 0.49\n",
      "epoch 3, step 34500/55000, batch loss = 0.36\n",
      "epoch 3, step 34750/55000, batch loss = 0.41\n"
     ]
    },
    {
     "name": "stderr",
     "output_type": "stream",
     "text": [
      "WARNING:root:Lossy conversion from float64 to uint8. Range [0, 1]. Convert image to uint8 prior to saving to suppress this warning.\n"
     ]
    },
    {
     "name": "stdout",
     "output_type": "stream",
     "text": [
      "epoch 3, step 35000/55000, batch loss = 0.45\n",
      "Train accuracy = 95.62\n",
      "epoch 3, step 35250/55000, batch loss = 0.42\n",
      "epoch 3, step 35500/55000, batch loss = 0.42\n",
      "epoch 3, step 35750/55000, batch loss = 0.68\n",
      "epoch 3, step 36000/55000, batch loss = 0.35\n",
      "epoch 3, step 36250/55000, batch loss = 0.44\n",
      "epoch 3, step 36500/55000, batch loss = 0.41\n",
      "epoch 3, step 36750/55000, batch loss = 0.44\n",
      "epoch 3, step 37000/55000, batch loss = 0.40\n",
      "epoch 3, step 37250/55000, batch loss = 0.47\n",
      "epoch 3, step 37500/55000, batch loss = 0.40\n",
      "Train accuracy = 95.63\n",
      "epoch 3, step 37750/55000, batch loss = 0.36\n",
      "epoch 3, step 38000/55000, batch loss = 0.51\n",
      "epoch 3, step 38250/55000, batch loss = 0.46\n",
      "epoch 3, step 38500/55000, batch loss = 0.42\n",
      "epoch 3, step 38750/55000, batch loss = 0.48\n",
      "epoch 3, step 39000/55000, batch loss = 0.62\n",
      "epoch 3, step 39250/55000, batch loss = 0.41\n",
      "epoch 3, step 39500/55000, batch loss = 0.41\n",
      "epoch 3, step 39750/55000, batch loss = 0.49\n"
     ]
    },
    {
     "name": "stderr",
     "output_type": "stream",
     "text": [
      "WARNING:root:Lossy conversion from float64 to uint8. Range [0, 1]. Convert image to uint8 prior to saving to suppress this warning.\n"
     ]
    },
    {
     "name": "stdout",
     "output_type": "stream",
     "text": [
      "epoch 3, step 40000/55000, batch loss = 0.41\n",
      "Train accuracy = 95.62\n",
      "epoch 3, step 40250/55000, batch loss = 0.42\n",
      "epoch 3, step 40500/55000, batch loss = 0.50\n",
      "epoch 3, step 40750/55000, batch loss = 0.53\n",
      "epoch 3, step 41000/55000, batch loss = 0.42\n",
      "epoch 3, step 41250/55000, batch loss = 0.47\n",
      "epoch 3, step 41500/55000, batch loss = 0.40\n",
      "epoch 3, step 41750/55000, batch loss = 0.53\n",
      "epoch 3, step 42000/55000, batch loss = 0.40\n",
      "epoch 3, step 42250/55000, batch loss = 0.43\n",
      "epoch 3, step 42500/55000, batch loss = 0.61\n",
      "Train accuracy = 95.63\n",
      "epoch 3, step 42750/55000, batch loss = 0.34\n",
      "epoch 3, step 43000/55000, batch loss = 0.38\n",
      "epoch 3, step 43250/55000, batch loss = 0.41\n",
      "epoch 3, step 43500/55000, batch loss = 0.51\n",
      "epoch 3, step 43750/55000, batch loss = 0.41\n",
      "epoch 3, step 44000/55000, batch loss = 0.40\n",
      "epoch 3, step 44250/55000, batch loss = 0.60\n",
      "epoch 3, step 44500/55000, batch loss = 0.41\n",
      "epoch 3, step 44750/55000, batch loss = 0.41\n"
     ]
    },
    {
     "name": "stderr",
     "output_type": "stream",
     "text": [
      "WARNING:root:Lossy conversion from float64 to uint8. Range [0, 1]. Convert image to uint8 prior to saving to suppress this warning.\n"
     ]
    },
    {
     "name": "stdout",
     "output_type": "stream",
     "text": [
      "epoch 3, step 45000/55000, batch loss = 0.42\n",
      "Train accuracy = 95.66\n",
      "epoch 3, step 45250/55000, batch loss = 0.51\n",
      "epoch 3, step 45500/55000, batch loss = 0.38\n",
      "epoch 3, step 45750/55000, batch loss = 0.41\n",
      "epoch 3, step 46000/55000, batch loss = 0.52\n",
      "epoch 3, step 46250/55000, batch loss = 0.46\n",
      "epoch 3, step 46500/55000, batch loss = 0.39\n",
      "epoch 3, step 46750/55000, batch loss = 0.43\n",
      "epoch 3, step 47000/55000, batch loss = 0.51\n",
      "epoch 3, step 47250/55000, batch loss = 0.42\n",
      "epoch 3, step 47500/55000, batch loss = 0.43\n",
      "Train accuracy = 95.68\n",
      "epoch 3, step 47750/55000, batch loss = 0.40\n",
      "epoch 3, step 48000/55000, batch loss = 0.39\n",
      "epoch 3, step 48250/55000, batch loss = 0.45\n",
      "epoch 3, step 48500/55000, batch loss = 0.45\n",
      "epoch 3, step 48750/55000, batch loss = 0.42\n",
      "epoch 3, step 49000/55000, batch loss = 0.39\n",
      "epoch 3, step 49250/55000, batch loss = 0.41\n",
      "epoch 3, step 49500/55000, batch loss = 0.43\n",
      "epoch 3, step 49750/55000, batch loss = 0.49\n"
     ]
    },
    {
     "name": "stderr",
     "output_type": "stream",
     "text": [
      "WARNING:root:Lossy conversion from float64 to uint8. Range [0, 1]. Convert image to uint8 prior to saving to suppress this warning.\n"
     ]
    },
    {
     "name": "stdout",
     "output_type": "stream",
     "text": [
      "epoch 3, step 50000/55000, batch loss = 0.39\n",
      "Train accuracy = 95.70\n",
      "epoch 3, step 50250/55000, batch loss = 0.44\n",
      "epoch 3, step 50500/55000, batch loss = 0.61\n",
      "epoch 3, step 50750/55000, batch loss = 0.37\n",
      "epoch 3, step 51000/55000, batch loss = 0.54\n",
      "epoch 3, step 51250/55000, batch loss = 0.47\n",
      "epoch 3, step 51500/55000, batch loss = 0.39\n",
      "epoch 3, step 51750/55000, batch loss = 0.35\n",
      "epoch 3, step 52000/55000, batch loss = 0.54\n",
      "epoch 3, step 52250/55000, batch loss = 0.43\n",
      "epoch 3, step 52500/55000, batch loss = 0.41\n",
      "Train accuracy = 95.68\n",
      "epoch 3, step 52750/55000, batch loss = 0.56\n",
      "epoch 3, step 53000/55000, batch loss = 0.36\n",
      "epoch 3, step 53250/55000, batch loss = 0.52\n",
      "epoch 3, step 53500/55000, batch loss = 0.41\n",
      "epoch 3, step 53750/55000, batch loss = 0.41\n",
      "epoch 3, step 54000/55000, batch loss = 0.39\n",
      "epoch 3, step 54250/55000, batch loss = 0.41\n",
      "epoch 3, step 54500/55000, batch loss = 0.50\n",
      "epoch 3, step 54750/55000, batch loss = 0.47\n",
      "Train accuracy = 95.63\n",
      "\n",
      "Running evaluation:  Validation\n",
      "Validation accuracy = 96.62\n",
      "Validation avg loss = 0.41\n",
      "\n"
     ]
    },
    {
     "name": "stderr",
     "output_type": "stream",
     "text": [
      "WARNING:root:Lossy conversion from float64 to uint8. Range [0, 1]. Convert image to uint8 prior to saving to suppress this warning.\n"
     ]
    },
    {
     "name": "stdout",
     "output_type": "stream",
     "text": [
      "epoch 4, step 0/55000, batch loss = 0.44\n",
      "epoch 4, step 250/55000, batch loss = 0.36\n",
      "epoch 4, step 500/55000, batch loss = 0.40\n",
      "epoch 4, step 750/55000, batch loss = 0.48\n",
      "epoch 4, step 1000/55000, batch loss = 0.55\n",
      "epoch 4, step 1250/55000, batch loss = 0.44\n",
      "epoch 4, step 1500/55000, batch loss = 0.51\n",
      "epoch 4, step 1750/55000, batch loss = 0.45\n",
      "epoch 4, step 2000/55000, batch loss = 0.50\n",
      "epoch 4, step 2250/55000, batch loss = 0.43\n",
      "epoch 4, step 2500/55000, batch loss = 0.58\n",
      "Train accuracy = 95.73\n",
      "epoch 4, step 2750/55000, batch loss = 0.36\n",
      "epoch 4, step 3000/55000, batch loss = 0.42\n",
      "epoch 4, step 3250/55000, batch loss = 0.59\n",
      "epoch 4, step 3500/55000, batch loss = 0.49\n",
      "epoch 4, step 3750/55000, batch loss = 0.49\n",
      "epoch 4, step 4000/55000, batch loss = 0.50\n",
      "epoch 4, step 4250/55000, batch loss = 0.48\n",
      "epoch 4, step 4500/55000, batch loss = 0.38\n",
      "epoch 4, step 4750/55000, batch loss = 0.40\n"
     ]
    },
    {
     "name": "stderr",
     "output_type": "stream",
     "text": [
      "WARNING:root:Lossy conversion from float64 to uint8. Range [0, 1]. Convert image to uint8 prior to saving to suppress this warning.\n"
     ]
    },
    {
     "name": "stdout",
     "output_type": "stream",
     "text": [
      "epoch 4, step 5000/55000, batch loss = 0.44\n",
      "Train accuracy = 95.80\n",
      "epoch 4, step 5250/55000, batch loss = 0.50\n",
      "epoch 4, step 5500/55000, batch loss = 0.52\n",
      "epoch 4, step 5750/55000, batch loss = 0.46\n",
      "epoch 4, step 6000/55000, batch loss = 0.40\n",
      "epoch 4, step 6250/55000, batch loss = 0.46\n",
      "epoch 4, step 6500/55000, batch loss = 0.46\n",
      "epoch 4, step 6750/55000, batch loss = 0.36\n",
      "epoch 4, step 7000/55000, batch loss = 0.42\n",
      "epoch 4, step 7250/55000, batch loss = 0.37\n",
      "epoch 4, step 7500/55000, batch loss = 0.54\n",
      "Train accuracy = 95.75\n",
      "epoch 4, step 7750/55000, batch loss = 0.43\n",
      "epoch 4, step 8000/55000, batch loss = 0.48\n",
      "epoch 4, step 8250/55000, batch loss = 0.48\n",
      "epoch 4, step 8500/55000, batch loss = 0.38\n",
      "epoch 4, step 8750/55000, batch loss = 0.37\n",
      "epoch 4, step 9000/55000, batch loss = 0.43\n",
      "epoch 4, step 9250/55000, batch loss = 0.41\n",
      "epoch 4, step 9500/55000, batch loss = 0.43\n",
      "epoch 4, step 9750/55000, batch loss = 0.44\n"
     ]
    },
    {
     "name": "stderr",
     "output_type": "stream",
     "text": [
      "WARNING:root:Lossy conversion from float64 to uint8. Range [0, 1]. Convert image to uint8 prior to saving to suppress this warning.\n"
     ]
    },
    {
     "name": "stdout",
     "output_type": "stream",
     "text": [
      "epoch 4, step 10000/55000, batch loss = 0.41\n",
      "Train accuracy = 95.69\n",
      "epoch 4, step 10250/55000, batch loss = 0.48\n",
      "epoch 4, step 10500/55000, batch loss = 0.45\n",
      "epoch 4, step 10750/55000, batch loss = 0.38\n",
      "epoch 4, step 11000/55000, batch loss = 0.44\n",
      "epoch 4, step 11250/55000, batch loss = 0.47\n",
      "epoch 4, step 11500/55000, batch loss = 0.40\n",
      "epoch 4, step 11750/55000, batch loss = 0.40\n",
      "epoch 4, step 12000/55000, batch loss = 0.47\n",
      "epoch 4, step 12250/55000, batch loss = 0.44\n",
      "epoch 4, step 12500/55000, batch loss = 0.38\n",
      "Train accuracy = 95.78\n",
      "epoch 4, step 12750/55000, batch loss = 0.46\n",
      "epoch 4, step 13000/55000, batch loss = 0.38\n",
      "epoch 4, step 13250/55000, batch loss = 0.50\n",
      "epoch 4, step 13500/55000, batch loss = 0.53\n",
      "epoch 4, step 13750/55000, batch loss = 0.35\n",
      "epoch 4, step 14000/55000, batch loss = 0.44\n",
      "epoch 4, step 14250/55000, batch loss = 0.37\n",
      "epoch 4, step 14500/55000, batch loss = 0.40\n",
      "epoch 4, step 14750/55000, batch loss = 0.62\n"
     ]
    },
    {
     "name": "stderr",
     "output_type": "stream",
     "text": [
      "WARNING:root:Lossy conversion from float64 to uint8. Range [0, 1]. Convert image to uint8 prior to saving to suppress this warning.\n"
     ]
    },
    {
     "name": "stdout",
     "output_type": "stream",
     "text": [
      "epoch 4, step 15000/55000, batch loss = 0.41\n",
      "Train accuracy = 95.77\n",
      "epoch 4, step 15250/55000, batch loss = 0.38\n",
      "epoch 4, step 15500/55000, batch loss = 0.38\n",
      "epoch 4, step 15750/55000, batch loss = 0.44\n",
      "epoch 4, step 16000/55000, batch loss = 0.39\n",
      "epoch 4, step 16250/55000, batch loss = 0.37\n",
      "epoch 4, step 16500/55000, batch loss = 0.55\n",
      "epoch 4, step 16750/55000, batch loss = 0.42\n",
      "epoch 4, step 17000/55000, batch loss = 0.41\n",
      "epoch 4, step 17250/55000, batch loss = 0.48\n",
      "epoch 4, step 17500/55000, batch loss = 0.47\n",
      "Train accuracy = 95.66\n",
      "epoch 4, step 17750/55000, batch loss = 0.35\n",
      "epoch 4, step 18000/55000, batch loss = 0.41\n",
      "epoch 4, step 18250/55000, batch loss = 0.43\n",
      "epoch 4, step 18500/55000, batch loss = 0.41\n",
      "epoch 4, step 18750/55000, batch loss = 0.37\n",
      "epoch 4, step 19000/55000, batch loss = 0.47\n",
      "epoch 4, step 19250/55000, batch loss = 0.53\n",
      "epoch 4, step 19500/55000, batch loss = 0.43\n",
      "epoch 4, step 19750/55000, batch loss = 0.42\n"
     ]
    },
    {
     "name": "stderr",
     "output_type": "stream",
     "text": [
      "WARNING:root:Lossy conversion from float64 to uint8. Range [0, 1]. Convert image to uint8 prior to saving to suppress this warning.\n"
     ]
    },
    {
     "name": "stdout",
     "output_type": "stream",
     "text": [
      "epoch 4, step 20000/55000, batch loss = 0.44\n",
      "Train accuracy = 95.69\n",
      "epoch 4, step 20250/55000, batch loss = 0.36\n",
      "epoch 4, step 20500/55000, batch loss = 0.45\n",
      "epoch 4, step 20750/55000, batch loss = 0.40\n",
      "epoch 4, step 21000/55000, batch loss = 0.60\n",
      "epoch 4, step 21250/55000, batch loss = 0.41\n",
      "epoch 4, step 21500/55000, batch loss = 0.44\n",
      "epoch 4, step 21750/55000, batch loss = 0.43\n",
      "epoch 4, step 22000/55000, batch loss = 0.44\n",
      "epoch 4, step 22250/55000, batch loss = 0.53\n",
      "epoch 4, step 22500/55000, batch loss = 0.43\n",
      "Train accuracy = 95.68\n",
      "epoch 4, step 22750/55000, batch loss = 0.38\n",
      "epoch 4, step 23000/55000, batch loss = 0.47\n",
      "epoch 4, step 23250/55000, batch loss = 0.38\n",
      "epoch 4, step 23500/55000, batch loss = 0.51\n",
      "epoch 4, step 23750/55000, batch loss = 0.48\n",
      "epoch 4, step 24000/55000, batch loss = 0.40\n",
      "epoch 4, step 24250/55000, batch loss = 0.47\n",
      "epoch 4, step 24500/55000, batch loss = 0.40\n",
      "epoch 4, step 24750/55000, batch loss = 0.53\n"
     ]
    },
    {
     "name": "stderr",
     "output_type": "stream",
     "text": [
      "WARNING:root:Lossy conversion from float64 to uint8. Range [0, 1]. Convert image to uint8 prior to saving to suppress this warning.\n"
     ]
    },
    {
     "name": "stdout",
     "output_type": "stream",
     "text": [
      "epoch 4, step 25000/55000, batch loss = 0.39\n",
      "Train accuracy = 95.70\n",
      "epoch 4, step 25250/55000, batch loss = 0.52\n",
      "epoch 4, step 25500/55000, batch loss = 0.53\n",
      "epoch 4, step 25750/55000, batch loss = 0.38\n",
      "epoch 4, step 26000/55000, batch loss = 0.47\n",
      "epoch 4, step 26250/55000, batch loss = 0.39\n",
      "epoch 4, step 26500/55000, batch loss = 0.44\n",
      "epoch 4, step 26750/55000, batch loss = 0.57\n",
      "epoch 4, step 27000/55000, batch loss = 0.52\n",
      "epoch 4, step 27250/55000, batch loss = 0.42\n",
      "epoch 4, step 27500/55000, batch loss = 0.40\n",
      "Train accuracy = 95.75\n",
      "epoch 4, step 27750/55000, batch loss = 0.51\n",
      "epoch 4, step 28000/55000, batch loss = 0.48\n",
      "epoch 4, step 28250/55000, batch loss = 0.40\n",
      "epoch 4, step 28500/55000, batch loss = 0.42\n",
      "epoch 4, step 28750/55000, batch loss = 0.49\n",
      "epoch 4, step 29000/55000, batch loss = 0.41\n",
      "epoch 4, step 29250/55000, batch loss = 0.45\n",
      "epoch 4, step 29500/55000, batch loss = 0.46\n",
      "epoch 4, step 29750/55000, batch loss = 0.45\n"
     ]
    },
    {
     "name": "stderr",
     "output_type": "stream",
     "text": [
      "WARNING:root:Lossy conversion from float64 to uint8. Range [0, 1]. Convert image to uint8 prior to saving to suppress this warning.\n"
     ]
    },
    {
     "name": "stdout",
     "output_type": "stream",
     "text": [
      "epoch 4, step 30000/55000, batch loss = 0.39\n",
      "Train accuracy = 95.73\n",
      "epoch 4, step 30250/55000, batch loss = 0.38\n",
      "epoch 4, step 30500/55000, batch loss = 0.40\n",
      "epoch 4, step 30750/55000, batch loss = 0.35\n",
      "epoch 4, step 31000/55000, batch loss = 0.53\n",
      "epoch 4, step 31250/55000, batch loss = 0.37\n",
      "epoch 4, step 31500/55000, batch loss = 0.53\n",
      "epoch 4, step 31750/55000, batch loss = 0.38\n",
      "epoch 4, step 32000/55000, batch loss = 0.48\n",
      "epoch 4, step 32250/55000, batch loss = 0.48\n",
      "epoch 4, step 32500/55000, batch loss = 0.48\n",
      "Train accuracy = 95.73\n",
      "epoch 4, step 32750/55000, batch loss = 0.34\n",
      "epoch 4, step 33000/55000, batch loss = 0.39\n",
      "epoch 4, step 33250/55000, batch loss = 0.40\n",
      "epoch 4, step 33500/55000, batch loss = 0.41\n",
      "epoch 4, step 33750/55000, batch loss = 0.51\n",
      "epoch 4, step 34000/55000, batch loss = 0.40\n",
      "epoch 4, step 34250/55000, batch loss = 0.50\n",
      "epoch 4, step 34500/55000, batch loss = 0.45\n",
      "epoch 4, step 34750/55000, batch loss = 0.42\n"
     ]
    },
    {
     "name": "stderr",
     "output_type": "stream",
     "text": [
      "WARNING:root:Lossy conversion from float64 to uint8. Range [0, 1]. Convert image to uint8 prior to saving to suppress this warning.\n"
     ]
    },
    {
     "name": "stdout",
     "output_type": "stream",
     "text": [
      "epoch 4, step 35000/55000, batch loss = 0.45\n",
      "Train accuracy = 95.76\n",
      "epoch 4, step 35250/55000, batch loss = 0.43\n",
      "epoch 4, step 35500/55000, batch loss = 0.37\n",
      "epoch 4, step 35750/55000, batch loss = 0.40\n",
      "epoch 4, step 36000/55000, batch loss = 0.49\n",
      "epoch 4, step 36250/55000, batch loss = 0.51\n",
      "epoch 4, step 36500/55000, batch loss = 0.43\n",
      "epoch 4, step 36750/55000, batch loss = 0.41\n",
      "epoch 4, step 37000/55000, batch loss = 0.41\n",
      "epoch 4, step 37250/55000, batch loss = 0.38\n",
      "epoch 4, step 37500/55000, batch loss = 0.47\n",
      "Train accuracy = 95.74\n",
      "epoch 4, step 37750/55000, batch loss = 0.37\n",
      "epoch 4, step 38000/55000, batch loss = 0.40\n",
      "epoch 4, step 38250/55000, batch loss = 0.40\n",
      "epoch 4, step 38500/55000, batch loss = 0.49\n",
      "epoch 4, step 38750/55000, batch loss = 0.39\n",
      "epoch 4, step 39000/55000, batch loss = 0.46\n",
      "epoch 4, step 39250/55000, batch loss = 0.44\n",
      "epoch 4, step 39500/55000, batch loss = 0.57\n",
      "epoch 4, step 39750/55000, batch loss = 0.35\n"
     ]
    },
    {
     "name": "stderr",
     "output_type": "stream",
     "text": [
      "WARNING:root:Lossy conversion from float64 to uint8. Range [0, 1]. Convert image to uint8 prior to saving to suppress this warning.\n"
     ]
    },
    {
     "name": "stdout",
     "output_type": "stream",
     "text": [
      "epoch 4, step 40000/55000, batch loss = 0.53\n",
      "Train accuracy = 95.77\n",
      "epoch 4, step 40250/55000, batch loss = 0.38\n",
      "epoch 4, step 40500/55000, batch loss = 0.39\n",
      "epoch 4, step 40750/55000, batch loss = 0.46\n",
      "epoch 4, step 41000/55000, batch loss = 0.44\n",
      "epoch 4, step 41250/55000, batch loss = 0.47\n",
      "epoch 4, step 41500/55000, batch loss = 0.40\n",
      "epoch 4, step 41750/55000, batch loss = 0.47\n",
      "epoch 4, step 42000/55000, batch loss = 0.40\n",
      "epoch 4, step 42250/55000, batch loss = 0.36\n",
      "epoch 4, step 42500/55000, batch loss = 0.61\n",
      "Train accuracy = 95.71\n",
      "epoch 4, step 42750/55000, batch loss = 0.49\n",
      "epoch 4, step 43000/55000, batch loss = 0.46\n",
      "epoch 4, step 43250/55000, batch loss = 0.54\n",
      "epoch 4, step 43500/55000, batch loss = 0.40\n",
      "epoch 4, step 43750/55000, batch loss = 0.42\n",
      "epoch 4, step 44000/55000, batch loss = 0.53\n",
      "epoch 4, step 44250/55000, batch loss = 0.38\n",
      "epoch 4, step 44500/55000, batch loss = 0.44\n",
      "epoch 4, step 44750/55000, batch loss = 0.41\n"
     ]
    },
    {
     "name": "stderr",
     "output_type": "stream",
     "text": [
      "WARNING:root:Lossy conversion from float64 to uint8. Range [0, 1]. Convert image to uint8 prior to saving to suppress this warning.\n"
     ]
    },
    {
     "name": "stdout",
     "output_type": "stream",
     "text": [
      "epoch 4, step 45000/55000, batch loss = 0.39\n",
      "Train accuracy = 95.70\n",
      "epoch 4, step 45250/55000, batch loss = 0.45\n",
      "epoch 4, step 45500/55000, batch loss = 0.56\n",
      "epoch 4, step 45750/55000, batch loss = 0.41\n",
      "epoch 4, step 46000/55000, batch loss = 0.45\n",
      "epoch 4, step 46250/55000, batch loss = 0.52\n",
      "epoch 4, step 46500/55000, batch loss = 0.44\n",
      "epoch 4, step 46750/55000, batch loss = 0.43\n",
      "epoch 4, step 47000/55000, batch loss = 0.45\n",
      "epoch 4, step 47250/55000, batch loss = 0.42\n",
      "epoch 4, step 47500/55000, batch loss = 0.44\n",
      "Train accuracy = 95.73\n",
      "epoch 4, step 47750/55000, batch loss = 0.58\n",
      "epoch 4, step 48000/55000, batch loss = 0.44\n",
      "epoch 4, step 48250/55000, batch loss = 0.45\n",
      "epoch 4, step 48500/55000, batch loss = 0.43\n",
      "epoch 4, step 48750/55000, batch loss = 0.53\n",
      "epoch 4, step 49000/55000, batch loss = 0.45\n",
      "epoch 4, step 49250/55000, batch loss = 0.50\n",
      "epoch 4, step 49500/55000, batch loss = 0.51\n",
      "epoch 4, step 49750/55000, batch loss = 0.38\n"
     ]
    },
    {
     "name": "stderr",
     "output_type": "stream",
     "text": [
      "WARNING:root:Lossy conversion from float64 to uint8. Range [0, 1]. Convert image to uint8 prior to saving to suppress this warning.\n"
     ]
    },
    {
     "name": "stdout",
     "output_type": "stream",
     "text": [
      "epoch 4, step 50000/55000, batch loss = 0.46\n",
      "Train accuracy = 95.66\n",
      "epoch 4, step 50250/55000, batch loss = 0.38\n",
      "epoch 4, step 50500/55000, batch loss = 0.43\n",
      "epoch 4, step 50750/55000, batch loss = 0.44\n",
      "epoch 4, step 51000/55000, batch loss = 0.47\n",
      "epoch 4, step 51250/55000, batch loss = 0.52\n",
      "epoch 4, step 51500/55000, batch loss = 0.33\n",
      "epoch 4, step 51750/55000, batch loss = 0.49\n",
      "epoch 4, step 52000/55000, batch loss = 0.50\n",
      "epoch 4, step 52250/55000, batch loss = 0.43\n",
      "epoch 4, step 52500/55000, batch loss = 0.53\n",
      "Train accuracy = 95.65\n",
      "epoch 4, step 52750/55000, batch loss = 0.45\n",
      "epoch 4, step 53000/55000, batch loss = 0.46\n",
      "epoch 4, step 53250/55000, batch loss = 0.52\n",
      "epoch 4, step 53500/55000, batch loss = 0.56\n",
      "epoch 4, step 53750/55000, batch loss = 0.54\n",
      "epoch 4, step 54000/55000, batch loss = 0.47\n",
      "epoch 4, step 54250/55000, batch loss = 0.43\n",
      "epoch 4, step 54500/55000, batch loss = 0.37\n",
      "epoch 4, step 54750/55000, batch loss = 0.48\n",
      "Train accuracy = 95.65\n",
      "\n",
      "Running evaluation:  Validation\n",
      "Validation accuracy = 96.98\n",
      "Validation avg loss = 0.40\n",
      "\n",
      "\n",
      "Running evaluation:  Test\n",
      "Test accuracy = 96.47\n",
      "Test avg loss = 0.42\n",
      "\n"
     ]
    }
   ],
   "source": [
    "from train_l2reg import l2_train\n",
    "# model sa lambda = 1e-3\n",
    "lambdas = [\"1e-3\", \"1e-2\", \"1e-1\"]\n",
    "\n",
    "for l in lambdas:\n",
    "  print(\"Treniram model sa lambda =\", l)\n",
    "  l2_train(l)\n"
   ]
  },
  {
   "cell_type": "markdown",
   "metadata": {
    "id": "Bymw9A1TRg14"
   },
   "source": [
    "**Lambda = 0.001**\n",
    "\n",
    "Validation accuracy = 99.12\\\n",
    "Validation avg loss = 0.32\n",
    "\n",
    "Test accuracy = 99.14\\\n",
    "Test avg loss = 0.31\n",
    "\n",
    "**Lambda = 0.01**\n",
    "\n",
    "Validation accuracy = 98.74 \\\n",
    "Validation avg loss = 0.17\n",
    "\n",
    "Test accuracy = 98.77\\\n",
    "Test avg loss = 0.17\n",
    "\n",
    "**Lambda = 0.1**\n",
    "\n",
    "Validation accuracy = 96.98\\\n",
    "Validation avg loss = 0.40\n",
    "\n",
    "Test accuracy = 96.47\\\n",
    "Test avg loss = 0.42\n"
   ]
  },
  {
   "cell_type": "code",
   "execution_count": null,
   "metadata": {
    "colab": {
     "base_uri": "https://localhost:8080/",
     "height": 1000
    },
    "id": "LI-A2k6FN8H1",
    "outputId": "98cfbac6-1cf3-4f0f-f8e1-6b696a70be05"
   },
   "outputs": [
    {
     "data": {
      "image/png": "[encoded data removed]",
      "text/plain": [
       "<Figure size 2400x1200 with 3 Axes>"
      ]
     },
     "metadata": {
      "needs_background": "light"
     },
     "output_type": "display_data"
    }
   ],
   "source": [
    "import matplotlib.pyplot as plt\n",
    "import matplotlib.image as mpimg\n",
    "from matplotlib.pyplot import figure\n",
    "\n",
    "epochs = [\"01\",\"02\",\"03\",\"04\"]\n",
    "lambdas = [\"1e-3\", \"1e-2\", \"1e-1\"]\n",
    "\n",
    "figure(figsize=(20, 10), dpi=120)\n",
    "\n",
    "i = 1\n",
    "\n",
    "for l in lambdas:\n",
    "  plt.subplot(3,1,i)\n",
    "  plt.title(\"Lambda = \" + l + \", Epoch: \" + epoch)\n",
    "  img = mpimg.imread('./l2/out/' +  l + '/conv1_epoch_04_step_050000_input_000.png')\n",
    "  imgplot = plt.imshow(img)\n",
    "  i += 1\n"
   ]
  },
  {
   "cell_type": "markdown",
   "metadata": {
    "id": "u41AvpaRNBX9"
   },
   "source": []
  },
  {
   "cell_type": "code",
   "execution_count": null,
   "metadata": {
    "id": "PeHV42PhSX6u"
   },
   "outputs": [],
   "source": [
    "!zip -r /content/filters_task_2.zip /content/l2/"
   ]
  },
  {
   "cell_type": "markdown",
   "metadata": {
    "id": "pE9DQmast5Ka"
   },
   "source": [
    "# 3. zadatak - usporedba s PyTorchem"
   ]
  },
  {
   "cell_type": "code",
   "execution_count": null,
   "metadata": {
    "colab": {
     "base_uri": "https://localhost:8080/"
    },
    "id": "hTxz8R3twB8K",
    "outputId": "15d4d00f-232b-463c-b7ce-7d410f88f1df"
   },
   "outputs": [
    {
     "name": "stdout",
     "output_type": "stream",
     "text": [
      "--------------------------------------------\n",
      "Treniram model sa lambda = 1e-3\n",
      "Epoch: 0 , loss: 0.2610734833231739\n",
      "\n",
      "Test set: Avg. loss: 0.1172, Accuracy: 9596/10000 (96%)\n",
      "\n",
      "Epoch: 1 , loss: 0.05241112561047582\n",
      "\n",
      "Test set: Avg. loss: 0.0396, Accuracy: 9864/10000 (99%)\n",
      "\n",
      "Epoch: 2 , loss: 0.038365568963830206\n",
      "\n",
      "Test set: Avg. loss: 0.0343, Accuracy: 9891/10000 (99%)\n",
      "\n",
      "Epoch: 3 , loss: 0.03008601140943938\n",
      "\n",
      "Test set: Avg. loss: 0.0338, Accuracy: 9882/10000 (99%)\n",
      "\n",
      "Epoch: 4 , loss: 0.026809302754481904\n",
      "\n",
      "Test set: Avg. loss: 0.0280, Accuracy: 9905/10000 (99%)\n",
      "\n"
     ]
    },
    {
     "name": "stderr",
     "output_type": "stream",
     "text": [
      "WARNING:root:Lossy conversion from float64 to uint8. Range [0, 1]. Convert image to uint8 prior to saving to suppress this warning.\n"
     ]
    },
    {
     "name": "stdout",
     "output_type": "stream",
     "text": [
      "Epoch: 5 , loss: 0.02381848760249947\n",
      "\n",
      "Test set: Avg. loss: 0.0268, Accuracy: 9908/10000 (99%)\n",
      "\n",
      "--------------------------------------------\n",
      "Treniram model sa lambda = 1e-2\n",
      "Epoch: 0 , loss: 0.24395106436141456\n",
      "\n",
      "Test set: Avg. loss: 0.0727, Accuracy: 9781/10000 (98%)\n",
      "\n",
      "Epoch: 1 , loss: 0.08856496856858333\n",
      "\n",
      "Test set: Avg. loss: 0.0635, Accuracy: 9809/10000 (98%)\n",
      "\n",
      "Epoch: 2 , loss: 0.08300225314955847\n",
      "\n",
      "Test set: Avg. loss: 0.0699, Accuracy: 9784/10000 (98%)\n",
      "\n",
      "Epoch: 3 , loss: 0.0780360460789719\n",
      "\n",
      "Test set: Avg. loss: 0.0603, Accuracy: 9823/10000 (98%)\n",
      "\n",
      "Epoch: 4 , loss: 0.07701570544644104\n",
      "\n",
      "Test set: Avg. loss: 0.0847, Accuracy: 9728/10000 (97%)\n",
      "\n"
     ]
    },
    {
     "name": "stderr",
     "output_type": "stream",
     "text": [
      "WARNING:root:Lossy conversion from float64 to uint8. Range [0, 1]. Convert image to uint8 prior to saving to suppress this warning.\n"
     ]
    },
    {
     "name": "stdout",
     "output_type": "stream",
     "text": [
      "Epoch: 5 , loss: 0.07610743765796846\n",
      "\n",
      "Test set: Avg. loss: 0.0733, Accuracy: 9780/10000 (98%)\n",
      "\n",
      "--------------------------------------------\n",
      "Treniram model sa lambda = 1e-1\n",
      "Epoch: 0 , loss: 0.4559150775273641\n",
      "\n",
      "Test set: Avg. loss: 0.2831, Accuracy: 9206/10000 (92%)\n",
      "\n",
      "Epoch: 1 , loss: 0.36919354495281975\n",
      "\n",
      "Test set: Avg. loss: 0.2842, Accuracy: 9240/10000 (92%)\n",
      "\n",
      "Epoch: 2 , loss: 0.35415199196587005\n",
      "\n",
      "Test set: Avg. loss: 0.2778, Accuracy: 9306/10000 (93%)\n",
      "\n",
      "Epoch: 3 , loss: 0.3693959539259474\n",
      "\n",
      "Test set: Avg. loss: 0.2788, Accuracy: 9204/10000 (92%)\n",
      "\n",
      "Epoch: 4 , loss: 0.3887043011188507\n",
      "\n",
      "Test set: Avg. loss: 0.2882, Accuracy: 9448/10000 (94%)\n",
      "\n"
     ]
    },
    {
     "name": "stderr",
     "output_type": "stream",
     "text": [
      "WARNING:root:Lossy conversion from float64 to uint8. Range [0, 1]. Convert image to uint8 prior to saving to suppress this warning.\n"
     ]
    },
    {
     "name": "stdout",
     "output_type": "stream",
     "text": [
      "Epoch: 5 , loss: 0.3829851982618372\n",
      "\n",
      "Test set: Avg. loss: 0.3256, Accuracy: 8919/10000 (89%)\n",
      "\n"
     ]
    }
   ],
   "source": [
    "import torch\n",
    "import torchvision\n",
    "from pathlib import Path\n",
    "from torchvision.datasets import MNIST\n",
    "from ConvolutionalModel import CNN\n",
    "\n",
    "\n",
    "DATA_DIR = 'datasets/MNIST'\n",
    "\n",
    "train_dataset = MNIST(DATA_DIR, train=True, download=True,\n",
    "                             transform=torchvision.transforms.Compose([\n",
    "                               torchvision.transforms.ToTensor(),\n",
    "                               torchvision.transforms.Normalize(\n",
    "                                 (0.1307,), (0.3081,))\n",
    "                             ]))\n",
    "\n",
    "test_dataset = MNIST(DATA_DIR, train=False, download=True,\n",
    "                             transform=torchvision.transforms.Compose([\n",
    "                               torchvision.transforms.ToTensor(),\n",
    "                               torchvision.transforms.Normalize(\n",
    "                                 (0.1307,), (0.3081,))\n",
    "                             ]))\n",
    "\n",
    "\n",
    "lambdas = [\"1e-3\", \"1e-2\", \"1e-1\"]\n",
    "no_epochs = 6\n",
    "\n",
    "losses_lists = []\n",
    "\n",
    "for l in lambdas:\n",
    "    model = CNN()\n",
    "    print(\"--------------------------------------------\")\n",
    "    print(\"Treniram model sa lambda =\", l)\n",
    "    losses_lists.append(model.train(train_dataset, test_dataset, weight_decay = float(l), no_epochs = 6, batch_size = 50, lr = 0.1))\n",
    "\n",
    "\n"
   ]
  },
  {
   "cell_type": "code",
   "execution_count": null,
   "metadata": {
    "colab": {
     "base_uri": "https://localhost:8080/",
     "height": 351
    },
    "id": "uzZKb741rcwf",
    "outputId": "11e94b5a-dff4-4d4d-f666-c1e36e7b011c"
   },
   "outputs": [
    {
     "data": {
      "text/plain": [
       "<matplotlib.legend.Legend at 0x7f4ed1f9c290>"
      ]
     },
     "execution_count": 2,
     "metadata": {},
     "output_type": "execute_result"
    },
    {
     "data": {
      "image/png": "[encoded data removed]",
      "text/plain": [
       "<Figure size 1600x800 with 1 Axes>"
      ]
     },
     "metadata": {
      "needs_background": "light"
     },
     "output_type": "display_data"
    }
   ],
   "source": [
    "from matplotlib.pyplot import figure\n",
    "import matplotlib.pyplot as plt\n",
    "\n",
    "figure(figsize=(20, 10), dpi=80)\n",
    "\n",
    "plt.xlabel(\"Epoch\")\n",
    "plt.ylabel(\"CE loss - train set\")\n",
    "\n",
    "for i in range(len(losses_lists)):\n",
    "  plt.plot(range(no_epochs), losses_lists[i])\n",
    "\n",
    "plt.legend(['[1e-3]', '[1e-2]', '[1e-1]'], loc='upper left')\n",
    "\n"
   ]
  },
  {
   "cell_type": "markdown",
   "metadata": {
    "id": "r-ZMg3y72_cL"
   },
   "source": [
    "Kao što vidimo, model sa najmanjim regularizacijskim faktorom je postigao najmanji gubitak na testu za treniranje, što je i očekivano. Međutim, ako pogledamo ispis tijekom treniranja, vidimo da taj model također postiže i najbolje performanse na testu za ispitivanje, što je zanimljivo. "
   ]
  },
  {
   "cell_type": "code",
   "execution_count": null,
   "metadata": {
    "colab": {
     "base_uri": "https://localhost:8080/",
     "height": 533
    },
    "id": "H56W967NzMA3",
    "outputId": "4fffaeba-d23f-4d8b-9f8f-dcb35c8f6be3"
   },
   "outputs": [
    {
     "data": {
      "image/png": "[encoded data removed]",
      "text/plain": [
       "<Figure size 1600x800 with 3 Axes>"
      ]
     },
     "metadata": {
      "needs_background": "light"
     },
     "output_type": "display_data"
    }
   ],
   "source": [
    "import matplotlib.image as mpimg\n",
    "i = 1\n",
    "\n",
    "lambdas_str = [\"0.001\", \"0.010\", \"0.100\"]\n",
    "figure(figsize=(20, 10), dpi=80)\n",
    "\n",
    "for l in lambdas_str:\n",
    "  plt.subplot(3,1,i)\n",
    "  plt.title(\"Lambda = \" + l)\n",
    "  img = mpimg.imread('./task3/conv1_lambda_' + l + '.png')\n",
    "  imgplot = plt.imshow(img)\n",
    "  i += 1"
   ]
  },
  {
   "cell_type": "code",
   "execution_count": null,
   "metadata": {
    "id": "Y6dTfrwn7flR"
   },
   "outputs": [],
   "source": [
    "!zip -r /content/filters_task_3.zip /content/task3/"
   ]
  },
  {
   "cell_type": "markdown",
   "metadata": {
    "id": "oQSPxZZfDw05"
   },
   "source": [
    "# 4. zadatak - Klasifikacija na skupu CIFAR-10"
   ]
  },
  {
   "cell_type": "code",
   "execution_count": 1,
   "metadata": {
    "colab": {
     "base_uri": "https://localhost:8080/"
    },
    "id": "pm1hLL92D3cw",
    "outputId": "d0bdeebb-da5f-4eab-d9f1-dc7d5eeafec5"
   },
   "outputs": [
    {
     "name": "stdout",
     "output_type": "stream",
     "text": [
      "Files already downloaded and verified\n",
      "Files already downloaded and verified\n",
      "Slike su oblika torch.Size([3, 32, 32])\n"
     ]
    }
   ],
   "source": [
    "from torchvision.datasets import CIFAR10\n",
    "import torch\n",
    "import torchvision\n",
    "import os\n",
    "import pickle\n",
    "import numpy as np\n",
    "\n",
    "DATA_DIR = 'datasets/CIFAR10/'\n",
    "\n",
    "# ovo koristim samo da lakše preuzmem datasetove\n",
    "train_dataset = CIFAR10(DATA_DIR, train=True, download=True,\n",
    "                             transform=torchvision.transforms.Compose([\n",
    "                               torchvision.transforms.ToTensor(),\n",
    "                               torchvision.transforms.Normalize(\n",
    "                                 (0.1307,), (0.3081,))\n",
    "                             ]))\n",
    "\n",
    "test_dataset = CIFAR10(DATA_DIR, train=False, download=True,\n",
    "                             transform=torchvision.transforms.Compose([\n",
    "                               torchvision.transforms.ToTensor(),\n",
    "                               torchvision.transforms.Normalize(\n",
    "                                 (0.1307,), (0.3081,))\n",
    "                             ]))\n",
    "\n",
    "DATA_DIR = 'datasets/CIFAR10/cifar-10-batches-py'\n",
    "\n",
    "def shuffle_data(data_x, data_y):\n",
    "  indices = np.arange(data_x.shape[0])\n",
    "  np.random.shuffle(indices)\n",
    "  shuffled_data_x = np.ascontiguousarray(data_x[indices])\n",
    "  shuffled_data_y = np.ascontiguousarray(data_y[indices])\n",
    "  return shuffled_data_x, shuffled_data_y\n",
    "\n",
    "def unpickle(file):\n",
    "  fo = open(file, 'rb')\n",
    "  dict = pickle.load(fo, encoding='latin1')\n",
    "  fo.close()\n",
    "  return dict\n",
    "\n",
    "img_height = 32\n",
    "img_width = 32\n",
    "num_channels = 3\n",
    "num_classes = 10\n",
    "\n",
    "train_x = np.ndarray((0, img_height * img_width * num_channels), dtype=np.float32)\n",
    "train_y = []\n",
    "for i in range(1, 6):\n",
    "  subset = unpickle(os.path.join(DATA_DIR, 'data_batch_%d' % i))\n",
    "  train_x = np.vstack((train_x, subset['data']))\n",
    "  train_y += subset['labels']\n",
    "train_x = train_x.reshape((-1, num_channels, img_height, img_width)).transpose(0, 2, 3, 1)\n",
    "train_y = np.array(train_y, dtype=np.int32)\n",
    "\n",
    "subset = unpickle(os.path.join(DATA_DIR, 'test_batch'))\n",
    "test_x = subset['data'].reshape((-1, num_channels, img_height, img_width)).transpose(0, 2, 3, 1).astype(np.float32)\n",
    "test_y = np.array(subset['labels'], dtype=np.int32)\n",
    "\n",
    "valid_size = 5000\n",
    "train_x, train_y = shuffle_data(train_x, train_y)\n",
    "valid_x = train_x[:valid_size, ...]\n",
    "valid_y = train_y[:valid_size, ...]\n",
    "train_x = train_x[valid_size:, ...]\n",
    "train_y = train_y[valid_size:, ...]\n",
    "data_mean = train_x.mean((0, 1, 2))\n",
    "data_std = train_x.std((0, 1, 2))\n",
    "\n",
    "train_x = (train_x - data_mean) / data_std\n",
    "valid_x = (valid_x - data_mean) / data_std\n",
    "test_x = (test_x - data_mean) / data_std\n",
    "\n",
    "train_x = train_x.transpose(0, 3, 1, 2)\n",
    "valid_x = valid_x.transpose(0, 3, 1, 2)\n",
    "test_x = test_x.transpose(0, 3, 1, 2)\n",
    "\n",
    "train_x = torch.tensor(train_x, dtype=torch.float, device=\"cuda\")\n",
    "train_y = torch.tensor(train_y, dtype=torch.int64, device=\"cuda\")\n",
    "\n",
    "valid_x = torch.tensor(valid_x, dtype=torch.float, device=\"cuda\")\n",
    "valid_y = torch.tensor(valid_y, dtype=torch.int64, device=\"cuda\")\n",
    "\n",
    "test_x = torch.tensor(test_x, dtype=torch.float, device=\"cuda\")\n",
    "test_y = torch.tensor(test_y, dtype=torch.int64, device=\"cuda\")\n",
    "\n",
    "# RGB slike -> ulaz u mrežu je 3-kanalan\n",
    "print(\"Slike su oblika\", train_x[0].shape)"
   ]
  },
  {
   "cell_type": "code",
   "execution_count": null,
   "metadata": {
    "colab": {
     "base_uri": "https://localhost:8080/"
    },
    "id": "p8GdHiqZP7oM",
    "outputId": "dfae9156-e0a3-4f7a-e002-53dc174e48d7"
   },
   "outputs": [
    {
     "data": {
      "text/plain": [
       "torch.Size([45000, 3, 32, 32])"
      ]
     },
     "execution_count": 2,
     "metadata": {},
     "output_type": "execute_result"
    }
   ],
   "source": [
    "train_x.shape"
   ]
  },
  {
   "cell_type": "code",
   "execution_count": 2,
   "metadata": {
    "colab": {
     "base_uri": "https://localhost:8080/",
     "height": 1000
    },
    "id": "ToacRODiPEZP",
    "outputId": "f124eb32-0ac1-4f38-c5df-2e51127c1f7f"
   },
   "outputs": [
    {
     "name": "stdout",
     "output_type": "stream",
     "text": [
      "Epoch: 0 , loss: 1.4917663932508893\n",
      "Eval set: Avg. loss: 1.2771, Accuracy: 0.5480, Precision: 0.5896, Recall: 0.5478 \n",
      "\n",
      "Epoch: 1 , loss: 1.1446967276268536\n",
      "Eval set: Avg. loss: 1.2173, Accuracy: 0.5738, Precision: 0.6222, Recall: 0.5753 \n",
      "\n",
      "Epoch: 2 , loss: 0.9791907823582491\n",
      "Eval set: Avg. loss: 1.0929, Accuracy: 0.6320, Precision: 0.6585, Recall: 0.6326 \n",
      "\n",
      "Epoch: 3 , loss: 0.8432490800735023\n",
      "Eval set: Avg. loss: 1.0648, Accuracy: 0.6524, Precision: 0.6707, Recall: 0.6525 \n",
      "\n",
      "Epoch: 4 , loss: 0.7310010155704286\n",
      "Eval set: Avg. loss: 1.0934, Accuracy: 0.6546, Precision: 0.6796, Recall: 0.6555 \n",
      "\n",
      "Epoch: 5 , loss: 0.629603393835326\n",
      "Eval set: Avg. loss: 1.1800, Accuracy: 0.6474, Precision: 0.6761, Recall: 0.6490 \n",
      "\n",
      "Epoch: 6 , loss: 0.5466607811136378\n",
      "Eval set: Avg. loss: 1.2154, Accuracy: 0.6662, Precision: 0.6835, Recall: 0.6675 \n",
      "\n",
      "Epoch: 7 , loss: 0.4587434104043576\n",
      "Eval set: Avg. loss: 1.2717, Accuracy: 0.6626, Precision: 0.6695, Recall: 0.6633 \n",
      "\n",
      "Epoch: 8 , loss: 0.3852663732558075\n",
      "Eval set: Avg. loss: 1.3439, Accuracy: 0.6656, Precision: 0.6629, Recall: 0.6655 \n",
      "\n",
      "Epoch: 9 , loss: 0.32175190147840316\n",
      "Eval set: Avg. loss: 1.4439, Accuracy: 0.6698, Precision: 0.6686, Recall: 0.6699 \n",
      "\n",
      "Epoch: 10 , loss: 0.2522320908944433\n",
      "Eval set: Avg. loss: 1.5846, Accuracy: 0.6770, Precision: 0.6794, Recall: 0.6782 \n",
      "\n",
      "Epoch: 11 , loss: 0.20820807416302461\n",
      "Eval set: Avg. loss: 1.7089, Accuracy: 0.6758, Precision: 0.6763, Recall: 0.6752 \n",
      "\n",
      "Epoch: 12 , loss: 0.16467992989540411\n",
      "Eval set: Avg. loss: 1.8118, Accuracy: 0.6778, Precision: 0.6819, Recall: 0.6773 \n",
      "\n",
      "Epoch: 13 , loss: 0.12346023021650682\n",
      "Eval set: Avg. loss: 1.9373, Accuracy: 0.6838, Precision: 0.6850, Recall: 0.6833 \n",
      "\n",
      "Epoch: 14 , loss: 0.09264472743625649\n",
      "Eval set: Avg. loss: 2.0232, Accuracy: 0.6884, Precision: 0.6923, Recall: 0.6886 \n",
      "\n",
      "Epoch: 15 , loss: 0.06562337389810839\n",
      "Eval set: Avg. loss: 2.1317, Accuracy: 0.6942, Precision: 0.7001, Recall: 0.6946 \n",
      "\n",
      "Epoch: 16 , loss: 0.04611063819643783\n",
      "Eval set: Avg. loss: 2.2169, Accuracy: 0.6928, Precision: 0.6921, Recall: 0.6931 \n",
      "\n",
      "Epoch: 17 , loss: 0.029552458818773934\n",
      "Eval set: Avg. loss: 2.3919, Accuracy: 0.6942, Precision: 0.6978, Recall: 0.6949 \n",
      "\n",
      "Epoch: 18 , loss: 0.019259492516592015\n",
      "Eval set: Avg. loss: 2.4415, Accuracy: 0.6994, Precision: 0.6999, Recall: 0.6999 \n",
      "\n",
      "Epoch: 19 , loss: 0.01199475279014425\n",
      "Eval set: Avg. loss: 2.5816, Accuracy: 0.7010, Precision: 0.7029, Recall: 0.7013 \n",
      "\n",
      "Epoch: 20 , loss: 0.006916082998227971\n",
      "Eval set: Avg. loss: 2.6489, Accuracy: 0.6990, Precision: 0.7007, Recall: 0.6991 \n",
      "\n",
      "Epoch: 21 , loss: 0.004216878789629845\n",
      "Eval set: Avg. loss: 2.7255, Accuracy: 0.7022, Precision: 0.7030, Recall: 0.7021 \n",
      "\n",
      "Epoch: 22 , loss: 0.002926508415460679\n",
      "Eval set: Avg. loss: 2.7852, Accuracy: 0.7040, Precision: 0.7046, Recall: 0.7040 \n",
      "\n",
      "Epoch: 23 , loss: 0.0023110338610427385\n",
      "Eval set: Avg. loss: 2.8294, Accuracy: 0.7048, Precision: 0.7056, Recall: 0.7048 \n",
      "\n",
      "Epoch: 24 , loss: 0.001961292286741809\n",
      "Eval set: Avg. loss: 2.8623, Accuracy: 0.7068, Precision: 0.7077, Recall: 0.7068 \n",
      "\n",
      "Epoch: 25 , loss: 0.001741982816728422\n",
      "Eval set: Avg. loss: 2.8908, Accuracy: 0.7068, Precision: 0.7077, Recall: 0.7068 \n",
      "\n",
      "Epoch: 26 , loss: 0.0015822875347683092\n",
      "Eval set: Avg. loss: 2.9131, Accuracy: 0.7074, Precision: 0.7083, Recall: 0.7074 \n",
      "\n",
      "Epoch: 27 , loss: 0.001462347067358678\n",
      "Eval set: Avg. loss: 2.9314, Accuracy: 0.7080, Precision: 0.7089, Recall: 0.7080 \n",
      "\n",
      "Epoch: 28 , loss: 0.0013718107347886466\n",
      "Eval set: Avg. loss: 2.9472, Accuracy: 0.7084, Precision: 0.7094, Recall: 0.7084 \n",
      "\n",
      "Epoch: 29 , loss: 0.0012966525241113736\n",
      "Eval set: Avg. loss: 2.9612, Accuracy: 0.7096, Precision: 0.7106, Recall: 0.7096 \n",
      "\n",
      "Epoch: 30 , loss: 0.001235454706351599\n",
      "Eval set: Avg. loss: 2.9733, Accuracy: 0.7102, Precision: 0.7112, Recall: 0.7102 \n",
      "\n",
      "Epoch: 31 , loss: 0.0011863457101746158\n",
      "Eval set: Avg. loss: 2.9838, Accuracy: 0.7102, Precision: 0.7110, Recall: 0.7101 \n",
      "\n",
      "Epoch: 32 , loss: 0.0011450383972416804\n",
      "Eval set: Avg. loss: 2.9926, Accuracy: 0.7104, Precision: 0.7113, Recall: 0.7103 \n",
      "\n",
      "Epoch: 33 , loss: 0.0011094418403164734\n",
      "Eval set: Avg. loss: 3.0006, Accuracy: 0.7104, Precision: 0.7111, Recall: 0.7103 \n",
      "\n",
      "Epoch: 34 , loss: 0.0010798337352947683\n",
      "Eval set: Avg. loss: 3.0073, Accuracy: 0.7102, Precision: 0.7109, Recall: 0.7101 \n",
      "\n",
      "Epoch: 35 , loss: 0.0010539413264804252\n",
      "Eval set: Avg. loss: 3.0134, Accuracy: 0.7106, Precision: 0.7114, Recall: 0.7105 \n",
      "\n",
      "Epoch: 36 , loss: 0.0010317897447175205\n",
      "Eval set: Avg. loss: 3.0189, Accuracy: 0.7106, Precision: 0.7114, Recall: 0.7105 \n",
      "\n",
      "Epoch: 37 , loss: 0.0010122973474527598\n",
      "Eval set: Avg. loss: 3.0239, Accuracy: 0.7108, Precision: 0.7116, Recall: 0.7107 \n",
      "\n",
      "Epoch: 38 , loss: 0.0009960100272524465\n",
      "Eval set: Avg. loss: 3.0280, Accuracy: 0.7108, Precision: 0.7116, Recall: 0.7107 \n",
      "\n",
      "Epoch: 39 , loss: 0.000981261336948541\n",
      "Eval set: Avg. loss: 3.0321, Accuracy: 0.7106, Precision: 0.7114, Recall: 0.7105 \n",
      "\n",
      "Epoch: 40 , loss: 0.0009686943131873704\n",
      "Eval set: Avg. loss: 3.0353, Accuracy: 0.7106, Precision: 0.7114, Recall: 0.7105 \n",
      "\n",
      "Epoch: 41 , loss: 0.0009574236754401177\n",
      "Eval set: Avg. loss: 3.0384, Accuracy: 0.7104, Precision: 0.7112, Recall: 0.7102 \n",
      "\n",
      "Epoch: 42 , loss: 0.0009476416857440502\n",
      "Eval set: Avg. loss: 3.0411, Accuracy: 0.7102, Precision: 0.7110, Recall: 0.7101 \n",
      "\n",
      "Epoch: 43 , loss: 0.0009389016638634631\n",
      "Eval set: Avg. loss: 3.0434, Accuracy: 0.7102, Precision: 0.7110, Recall: 0.7101 \n",
      "\n",
      "Epoch: 44 , loss: 0.0009311316473258558\n",
      "Eval set: Avg. loss: 3.0456, Accuracy: 0.7102, Precision: 0.7110, Recall: 0.7101 \n",
      "\n",
      "Epoch: 45 , loss: 0.000924328077334293\n",
      "Eval set: Avg. loss: 3.0475, Accuracy: 0.7102, Precision: 0.7110, Recall: 0.7101 \n",
      "\n",
      "Epoch: 46 , loss: 0.0009183157519719821\n",
      "Eval set: Avg. loss: 3.0492, Accuracy: 0.7102, Precision: 0.7110, Recall: 0.7101 \n",
      "\n",
      "Epoch: 47 , loss: 0.0009129768007253208\n",
      "Eval set: Avg. loss: 3.0507, Accuracy: 0.7102, Precision: 0.7110, Recall: 0.7101 \n",
      "\n",
      "Epoch: 48 , loss: 0.0009081259706519833\n",
      "Eval set: Avg. loss: 3.0521, Accuracy: 0.7104, Precision: 0.7112, Recall: 0.7103 \n",
      "\n",
      "Epoch: 49 , loss: 0.0009038590192418875\n",
      "Eval set: Avg. loss: 3.0534, Accuracy: 0.7104, Precision: 0.7112, Recall: 0.7103 \n",
      "\n",
      "Epoch: 50 , loss: 0.0009000648155961244\n",
      "Eval set: Avg. loss: 3.0545, Accuracy: 0.7104, Precision: 0.7112, Recall: 0.7103 \n",
      "\n",
      "Epoch: 51 , loss: 0.0008967048404143599\n",
      "Eval set: Avg. loss: 3.0555, Accuracy: 0.7104, Precision: 0.7112, Recall: 0.7103 \n",
      "\n",
      "Epoch: 52 , loss: 0.0008936373008666326\n",
      "Eval set: Avg. loss: 3.0563, Accuracy: 0.7104, Precision: 0.7112, Recall: 0.7103 \n",
      "\n",
      "Epoch: 53 , loss: 0.0008909602123405117\n",
      "Eval set: Avg. loss: 3.0571, Accuracy: 0.7104, Precision: 0.7112, Recall: 0.7103 \n",
      "\n",
      "Epoch: 54 , loss: 0.0008885383137701158\n",
      "Eval set: Avg. loss: 3.0578, Accuracy: 0.7104, Precision: 0.7112, Recall: 0.7103 \n",
      "\n",
      "Epoch: 55 , loss: 0.0008863741613284522\n",
      "Eval set: Avg. loss: 3.0584, Accuracy: 0.7104, Precision: 0.7112, Recall: 0.7103 \n",
      "\n",
      "Epoch: 56 , loss: 0.0008844484017297166\n",
      "Eval set: Avg. loss: 3.0590, Accuracy: 0.7102, Precision: 0.7110, Recall: 0.7100 \n",
      "\n",
      "Epoch: 57 , loss: 0.0008827295783511444\n",
      "Eval set: Avg. loss: 3.0595, Accuracy: 0.7102, Precision: 0.7110, Recall: 0.7100 \n",
      "\n",
      "Epoch: 58 , loss: 0.000881170004883087\n",
      "Eval set: Avg. loss: 3.0599, Accuracy: 0.7102, Precision: 0.7110, Recall: 0.7100 \n",
      "\n",
      "Epoch: 59 , loss: 0.0008798171697440517\n",
      "Eval set: Avg. loss: 3.0603, Accuracy: 0.7102, Precision: 0.7110, Recall: 0.7100 \n",
      "\n",
      "Epoch: 60 , loss: 0.0008785690044704905\n",
      "Eval set: Avg. loss: 3.0607, Accuracy: 0.7102, Precision: 0.7110, Recall: 0.7100 \n",
      "\n",
      "Epoch: 61 , loss: 0.0008774783237893442\n",
      "Eval set: Avg. loss: 3.0610, Accuracy: 0.7102, Precision: 0.7110, Recall: 0.7100 \n",
      "\n",
      "Epoch: 62 , loss: 0.0008765035941971493\n",
      "Eval set: Avg. loss: 3.0612, Accuracy: 0.7102, Precision: 0.7110, Recall: 0.7100 \n",
      "\n"
     ]
    },
    {
     "name": "stderr",
     "output_type": "stream",
     "text": [
      "WARNING:root:Lossy conversion from float64 to uint8. Range [0, 1]. Convert image to uint8 prior to saving to suppress this warning.\n"
     ]
    },
    {
     "name": "stdout",
     "output_type": "stream",
     "text": [
      "Epoch: 63 , loss: 0.000875635311552085\n",
      "Eval set: Avg. loss: 3.0615, Accuracy: 0.7102, Precision: 0.7110, Recall: 0.7100 \n",
      "\n",
      "Best epoch:  37\n",
      "Plotting in:  /content/task4/training_plot.png\n"
     ]
    },
    {
     "data": {
      "image/png": "[encoded data removed]",
      "text/plain": [
       "<Figure size 1152x576 with 4 Axes>"
      ]
     },
     "metadata": {
      "needs_background": "light"
     },
     "output_type": "display_data"
    }
   ],
   "source": [
    "from CNN_Task4 import CNNCifar\n",
    "# 0.43\n",
    "# ja bi dodao još LR scheduler, te early stopping obavezno!\n",
    "# ako dodas early stopping, onda mozes slobodno \"pretrjerati\" sa brojem epoha\n",
    "# TODO: zamijeni trenutni kod za crtanje filter (u util.py) sa kodom koji su ti oni dali (al ofc prvo provjeri jel radi i ostavi negdje i stari)\n",
    "# https://stackoverflow.com/questions/53351963/mnist-get-confusion-matrix --> za jako jako jako jednostavno generiranje confusion-matrixa\n",
    "\n",
    "model = CNNCifar()\n",
    "# vrati na 64 epohe! dodaj eventualno i usporedbu modela sa regularizacijom\n",
    "model.train(train_x, train_y, valid_x, valid_y, weight_decay = 0, no_epochs = 64, batch_size = 25, lr = 0.01)\n",
    "\n",
    "# objasnjenje situacije da u jednom trenutku validation loss počne rasti, ali accuracy donkele i dalje pada\n",
    "# https://stats.stackexchange.com/questions/282160/how-is-it-possible-that-validation-loss-is-increasing-while-validation-accuracy"
   ]
  },
  {
   "cell_type": "code",
   "execution_count": 3,
   "metadata": {
    "colab": {
     "base_uri": "https://localhost:8080/"
    },
    "id": "LzZjNlk8k1cO",
    "outputId": "c0cd7f79-51a7-4637-cf6c-a787ff6cfb9e"
   },
   "outputs": [
    {
     "name": "stdout",
     "output_type": "stream",
     "text": [
      "Test set: Avg. loss: 3.2595, Accuracy: 0.7059, Precision: 0.7061, Recall: 0.7059 \n",
      "\n"
     ]
    }
   ],
   "source": [
    "eval_loss, avg_accuracy, avg_precision, avg_recall = model.eval(test_x, test_y)\n",
    "print('Test set: Avg. loss: {:.4f}, Accuracy: {:.4f}, Precision: {:.4f}, Recall: {:.4f} \\n'.format(eval_loss, avg_accuracy, avg_precision, avg_recall))\n"
   ]
  },
  {
   "cell_type": "code",
   "execution_count": 6,
   "metadata": {
    "colab": {
     "base_uri": "https://localhost:8080/",
     "height": 567
    },
    "id": "af1syZ7C51ZM",
    "outputId": "0d4a2211-f894-4e82-b8fb-66c01a72917c"
   },
   "outputs": [
    {
     "name": "stderr",
     "output_type": "stream",
     "text": [
      "WARNING:root:Lossy conversion from float64 to uint8. Range [0, 1]. Convert image to uint8 prior to saving to suppress this warning.\n"
     ]
    },
    {
     "data": {
      "image/png": "[encoded data removed]",
      "text/plain": [
       "<Figure size 1280x640 with 2 Axes>"
      ]
     },
     "metadata": {
      "needs_background": "light"
     },
     "output_type": "display_data"
    }
   ],
   "source": [
    "import matplotlib.image as mpimg\n",
    "from util import draw_conv_filters_pytorch\n",
    "import matplotlib.pyplot as plt\n",
    "from matplotlib.pyplot import figure\n",
    "\n",
    "figure(figsize=(16, 8), dpi=80)\n",
    "\n",
    "plt.subplot(2,1,1)\n",
    "filter_img_trained = mpimg.imread('./task4/conv1_lambda_0.000.png')\n",
    "plt.title(\"Trained network filters\")\n",
    "imgplot = plt.imshow(filter_img_trained)\n",
    "\n",
    "dummy_net = CNNCifar()\n",
    "\n",
    "draw_conv_filters_pytorch(dummy_net.conv1.weight.detach().numpy(), 0, './task4/dummy')\n",
    "plt.subplot(2,1,2)\n",
    "plt.title(\"Dummy network filters\")\n",
    "filter_img_dummy = mpimg.imread('./task4/dummy/conv1_lambda_0.000.png')\n",
    "imgplot = plt.imshow(filter_img_dummy)\n",
    "\n"
   ]
  },
  {
   "cell_type": "code",
   "execution_count": 4,
   "metadata": {
    "colab": {
     "base_uri": "https://localhost:8080/",
     "height": 1000
    },
    "id": "4WsJZTC5mcdt",
    "outputId": "ce337e82-c07b-4a29-c14d-83b30006318c"
   },
   "outputs": [
    {
     "name": "stdout",
     "output_type": "stream",
     "text": [
      "Actual:airplane, Predicted: cat\n"
     ]
    },
    {
     "data": {
      "image/png": "[encoded data removed]",
      "text/plain": [
       "<Figure size 432x288 with 1 Axes>"
      ]
     },
     "metadata": {
      "needs_background": "light"
     },
     "output_type": "display_data"
    },
    {
     "name": "stdout",
     "output_type": "stream",
     "text": [
      "Actual:truck, Predicted: automobile\n"
     ]
    },
    {
     "data": {
      "image/png": "[encoded data removed]",
      "text/plain": [
       "<Figure size 432x288 with 1 Axes>"
      ]
     },
     "metadata": {
      "needs_background": "light"
     },
     "output_type": "display_data"
    },
    {
     "name": "stdout",
     "output_type": "stream",
     "text": [
      "Actual:bird, Predicted: automobile\n"
     ]
    },
    {
     "data": {
      "image/png": "[encoded data removed]",
      "text/plain": [
       "<Figure size 432x288 with 1 Axes>"
      ]
     },
     "metadata": {
      "needs_background": "light"
     },
     "output_type": "display_data"
    },
    {
     "name": "stdout",
     "output_type": "stream",
     "text": [
      "Actual:bird, Predicted: airplane\n"
     ]
    },
    {
     "data": {
      "image/png": "[encoded data removed]",
      "text/plain": [
       "<Figure size 432x288 with 1 Axes>"
      ]
     },
     "metadata": {
      "needs_background": "light"
     },
     "output_type": "display_data"
    },
    {
     "name": "stdout",
     "output_type": "stream",
     "text": [
      "Actual:dog, Predicted: horse\n"
     ]
    },
    {
     "data": {
      "image/png": "[encoded data removed]",
      "text/plain": [
       "<Figure size 432x288 with 1 Axes>"
      ]
     },
     "metadata": {
      "needs_background": "light"
     },
     "output_type": "display_data"
    },
    {
     "name": "stdout",
     "output_type": "stream",
     "text": [
      "Actual:deer, Predicted: cat\n"
     ]
    },
    {
     "data": {
      "image/png": "[encoded data removed]",
      "text/plain": [
       "<Figure size 432x288 with 1 Axes>"
      ]
     },
     "metadata": {
      "needs_background": "light"
     },
     "output_type": "display_data"
    },
    {
     "name": "stdout",
     "output_type": "stream",
     "text": [
      "Actual:bird, Predicted: dog\n"
     ]
    },
    {
     "data": {
      "image/png": "[encoded data removed]",
      "text/plain": [
       "<Figure size 432x288 with 1 Axes>"
      ]
     },
     "metadata": {
      "needs_background": "light"
     },
     "output_type": "display_data"
    },
    {
     "name": "stdout",
     "output_type": "stream",
     "text": [
      "Actual:truck, Predicted: dog\n"
     ]
    },
    {
     "data": {
      "image/png": "[encoded data removed]",
      "text/plain": [
       "<Figure size 432x288 with 1 Axes>"
      ]
     },
     "metadata": {
      "needs_background": "light"
     },
     "output_type": "display_data"
    },
    {
     "name": "stdout",
     "output_type": "stream",
     "text": [
      "Actual:bird, Predicted: cat\n"
     ]
    },
    {
     "data": {
      "image/png": "[encoded data removed]",
      "text/plain": [
       "<Figure size 432x288 with 1 Axes>"
      ]
     },
     "metadata": {
      "needs_background": "light"
     },
     "output_type": "display_data"
    },
    {
     "name": "stdout",
     "output_type": "stream",
     "text": [
      "Actual:cat, Predicted: ship\n"
     ]
    },
    {
     "data": {
      "image/png": "[encoded data removed]",
      "text/plain": [
       "<Figure size 432x288 with 1 Axes>"
      ]
     },
     "metadata": {
      "needs_background": "light"
     },
     "output_type": "display_data"
    },
    {
     "name": "stdout",
     "output_type": "stream",
     "text": [
      "Actual:airplane, Predicted: horse\n"
     ]
    },
    {
     "data": {
      "image/png": "[encoded data removed]",
      "text/plain": [
       "<Figure size 432x288 with 1 Axes>"
      ]
     },
     "metadata": {
      "needs_background": "light"
     },
     "output_type": "display_data"
    },
    {
     "name": "stdout",
     "output_type": "stream",
     "text": [
      "Actual:horse, Predicted: dog\n"
     ]
    },
    {
     "data": {
      "image/png": "[encoded data removed]",
      "text/plain": [
       "<Figure size 432x288 with 1 Axes>"
      ]
     },
     "metadata": {
      "needs_background": "light"
     },
     "output_type": "display_data"
    },
    {
     "name": "stdout",
     "output_type": "stream",
     "text": [
      "Actual:frog, Predicted: cat\n"
     ]
    },
    {
     "data": {
      "image/png": "[encoded data removed]",
      "text/plain": [
       "<Figure size 432x288 with 1 Axes>"
      ]
     },
     "metadata": {
      "needs_background": "light"
     },
     "output_type": "display_data"
    },
    {
     "name": "stdout",
     "output_type": "stream",
     "text": [
      "Actual:deer, Predicted: dog\n"
     ]
    },
    {
     "data": {
      "image/png": "[encoded data removed]",
      "text/plain": [
       "<Figure size 432x288 with 1 Axes>"
      ]
     },
     "metadata": {
      "needs_background": "light"
     },
     "output_type": "display_data"
    },
    {
     "name": "stdout",
     "output_type": "stream",
     "text": [
      "Actual:cat, Predicted: bird\n"
     ]
    },
    {
     "data": {
      "image/png": "[encoded data removed]",
      "text/plain": [
       "<Figure size 432x288 with 1 Axes>"
      ]
     },
     "metadata": {
      "needs_background": "light"
     },
     "output_type": "display_data"
    },
    {
     "name": "stdout",
     "output_type": "stream",
     "text": [
      "Actual:bird, Predicted: horse\n"
     ]
    },
    {
     "data": {
      "image/png": "[encoded data removed]",
      "text/plain": [
       "<Figure size 432x288 with 1 Axes>"
      ]
     },
     "metadata": {
      "needs_background": "light"
     },
     "output_type": "display_data"
    },
    {
     "name": "stdout",
     "output_type": "stream",
     "text": [
      "Actual:horse, Predicted: cat\n"
     ]
    },
    {
     "data": {
      "image/png": "[encoded data removed]",
      "text/plain": [
       "<Figure size 432x288 with 1 Axes>"
      ]
     },
     "metadata": {
      "needs_background": "light"
     },
     "output_type": "display_data"
    },
    {
     "name": "stdout",
     "output_type": "stream",
     "text": [
      "Actual:automobile, Predicted: truck\n"
     ]
    },
    {
     "data": {
      "image/png": "[encoded data removed]",
      "text/plain": [
       "<Figure size 432x288 with 1 Axes>"
      ]
     },
     "metadata": {
      "needs_background": "light"
     },
     "output_type": "display_data"
    },
    {
     "name": "stdout",
     "output_type": "stream",
     "text": [
      "Actual:deer, Predicted: bird\n"
     ]
    },
    {
     "data": {
      "image/png": "[encoded data removed]",
      "text/plain": [
       "<Figure size 432x288 with 1 Axes>"
      ]
     },
     "metadata": {
      "needs_background": "light"
     },
     "output_type": "display_data"
    }
   ],
   "source": [
    "from util import find_max_loss_images, draw_image\n",
    "import pdb\n",
    "\n",
    "max_loss_images = find_max_loss_images(model, test_x, test_y)\n",
    "for key in max_loss_images.keys():\n",
    "  img = max_loss_images[key].squeeze(dim = 0).detach().cpu().numpy()\n",
    "  title = key\n",
    "  print(title)\n",
    "  draw_image(img, data_mean, data_std, title)\n"
   ]
  }
 ],
 "metadata": {
  "accelerator": "GPU",
  "colab": {
   "collapsed_sections": [],
   "name": "DU lab 2.ipynb",
   "provenance": []
  },
  "kernelspec": {
   "display_name": "Python 3",
   "language": "python",
   "name": "python3"
  },
  "language_info": {
   "codemirror_mode": {
    "name": "ipython",
    "version": 3
   },
   "file_extension": ".py",
   "mimetype": "text/x-python",
   "name": "python",
   "nbconvert_exporter": "python",
   "pygments_lexer": "ipython3",
   "version": "3.8.5"
  }
 },
 "nbformat": 4,
 "nbformat_minor": 4
}
